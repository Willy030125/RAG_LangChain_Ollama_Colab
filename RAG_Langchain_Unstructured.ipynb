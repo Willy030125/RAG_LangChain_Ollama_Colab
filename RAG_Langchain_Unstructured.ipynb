{
 "cells": [
  {
   "cell_type": "markdown",
   "id": "873532fc-d6ad-4da6-b351-1c30543e836b",
   "metadata": {
    "id": "873532fc-d6ad-4da6-b351-1c30543e836b"
   },
   "source": [
    "# RAG Langchain with Unstructured PDF\n",
    "Name      : Willy Santoso<br>\n",
    "Subject   : RAG Langchain with Unstructured PDF\n",
    "<br><br>\n",
    "This code is can be run on Google Colab since this is a Jupyter Notebook file (upload this ipynb to Colab).<br>\n",
    "If using Google Colab, run this code below to verify Nvidia GPU Driver and install the libraries:"
   ]
  },
  {
   "cell_type": "code",
   "execution_count": null,
   "id": "gQORtWUXS9-5",
   "metadata": {
    "colab": {
     "base_uri": "https://localhost:8080/"
    },
    "id": "gQORtWUXS9-5",
    "outputId": "9c5f47b6-5b80-44fa-f294-13ba1f68fb4f"
   },
   "outputs": [
    {
     "name": "stdout",
     "output_type": "stream",
     "text": [
      "Wed Aug 28 14:25:27 2024       \n",
      "+---------------------------------------------------------------------------------------+\n",
      "| NVIDIA-SMI 535.104.05             Driver Version: 535.104.05   CUDA Version: 12.2     |\n",
      "|-----------------------------------------+----------------------+----------------------+\n",
      "| GPU  Name                 Persistence-M | Bus-Id        Disp.A | Volatile Uncorr. ECC |\n",
      "| Fan  Temp   Perf          Pwr:Usage/Cap |         Memory-Usage | GPU-Util  Compute M. |\n",
      "|                                         |                      |               MIG M. |\n",
      "|=========================================+======================+======================|\n",
      "|   0  Tesla T4                       Off | 00000000:00:04.0 Off |                    0 |\n",
      "| N/A   56C    P8              10W /  70W |      0MiB / 15360MiB |      0%      Default |\n",
      "|                                         |                      |                  N/A |\n",
      "+-----------------------------------------+----------------------+----------------------+\n",
      "                                                                                         \n",
      "+---------------------------------------------------------------------------------------+\n",
      "| Processes:                                                                            |\n",
      "|  GPU   GI   CI        PID   Type   Process name                            GPU Memory |\n",
      "|        ID   ID                                                             Usage      |\n",
      "|=======================================================================================|\n",
      "|  No running processes found                                                           |\n",
      "+---------------------------------------------------------------------------------------+\n"
     ]
    }
   ],
   "source": [
    "!nvidia-smi"
   ]
  },
  {
   "cell_type": "markdown",
   "id": "CA7AYc5XInRK",
   "metadata": {
    "id": "CA7AYc5XInRK"
   },
   "source": [
    "#### Install PCI utils for Ollama GPU support, libs for Poppler PDF and Tesseract-ocr for image PDF reader"
   ]
  },
  {
   "cell_type": "code",
   "execution_count": null,
   "id": "NoLh1bBjTAbO",
   "metadata": {
    "colab": {
     "base_uri": "https://localhost:8080/"
    },
    "id": "NoLh1bBjTAbO",
    "outputId": "c74b564f-f828-4583-ee31-47e6b0726988"
   },
   "outputs": [
    {
     "name": "stdout",
     "output_type": "stream",
     "text": [
      "Get:1 https://cloud.r-project.org/bin/linux/ubuntu jammy-cran40/ InRelease [3,626 B]\n",
      "Hit:2 https://developer.download.nvidia.com/compute/cuda/repos/ubuntu2204/x86_64  InRelease\n",
      "Hit:3 http://archive.ubuntu.com/ubuntu jammy InRelease\n",
      "Get:4 http://security.ubuntu.com/ubuntu jammy-security InRelease [129 kB]\n",
      "Ign:5 https://r2u.stat.illinois.edu/ubuntu jammy InRelease\n",
      "Get:6 https://r2u.stat.illinois.edu/ubuntu jammy Release [5,713 B]\n",
      "Get:7 https://r2u.stat.illinois.edu/ubuntu jammy Release.gpg [793 B]\n",
      "Get:8 http://archive.ubuntu.com/ubuntu jammy-updates InRelease [128 kB]\n",
      "Hit:9 http://archive.ubuntu.com/ubuntu jammy-backports InRelease\n",
      "Get:10 https://r2u.stat.illinois.edu/ubuntu jammy/main all Packages [8,256 kB]\n",
      "Get:11 http://archive.ubuntu.com/ubuntu jammy-updates/main amd64 Packages [2,498 kB]\n",
      "Get:12 https://r2u.stat.illinois.edu/ubuntu jammy/main amd64 Packages [2,562 kB]\n",
      "Hit:13 https://ppa.launchpadcontent.net/deadsnakes/ppa/ubuntu jammy InRelease\n",
      "Hit:14 https://ppa.launchpadcontent.net/graphics-drivers/ppa/ubuntu jammy InRelease\n",
      "Hit:15 https://ppa.launchpadcontent.net/ubuntugis/ppa/ubuntu jammy InRelease\n",
      "Fetched 13.6 MB in 4s (3,450 kB/s)\n",
      "Reading package lists... Done\n",
      "W: Skipping acquire of configured file 'main/source/Sources' as repository 'https://r2u.stat.illinois.edu/ubuntu jammy InRelease' does not seem to provide it (sources.list entry misspelt?)\n",
      "debconf: unable to initialize frontend: Dialog\n",
      "debconf: (No usable dialog-like program is installed, so the dialog based frontend cannot be used. at /usr/share/perl5/Debconf/FrontEnd/Dialog.pm line 78, <> line 3.)\n",
      "debconf: falling back to frontend: Readline\n",
      "debconf: unable to initialize frontend: Readline\n",
      "debconf: (This frontend requires a controlling tty.)\n",
      "debconf: falling back to frontend: Teletype\n",
      "dpkg-preconfigure: unable to re-open stdin: \n",
      "Selecting previously unselected package pci.ids.\n",
      "(Reading database ... 123595 files and directories currently installed.)\n",
      "Preparing to unpack .../pci.ids_0.0~2022.01.22-1_all.deb ...\n",
      "Unpacking pci.ids (0.0~2022.01.22-1) ...\n",
      "Selecting previously unselected package libpci3:amd64.\n",
      "Preparing to unpack .../libpci3_1%3a3.7.0-6_amd64.deb ...\n",
      "Unpacking libpci3:amd64 (1:3.7.0-6) ...\n",
      "Selecting previously unselected package pciutils.\n",
      "Preparing to unpack .../pciutils_1%3a3.7.0-6_amd64.deb ...\n",
      "Unpacking pciutils (1:3.7.0-6) ...\n",
      "Setting up pci.ids (0.0~2022.01.22-1) ...\n",
      "Setting up libpci3:amd64 (1:3.7.0-6) ...\n",
      "Setting up pciutils (1:3.7.0-6) ...\n",
      "Processing triggers for man-db (2.10.2-1) ...\n",
      "Processing triggers for libc-bin (2.35-0ubuntu3.4) ...\n",
      "/sbin/ldconfig.real: /usr/local/lib/libtbb.so.12 is not a symbolic link\n",
      "\n",
      "/sbin/ldconfig.real: /usr/local/lib/libtbbmalloc.so.2 is not a symbolic link\n",
      "\n",
      "/sbin/ldconfig.real: /usr/local/lib/libtbbbind_2_0.so.3 is not a symbolic link\n",
      "\n",
      "/sbin/ldconfig.real: /usr/local/lib/libtbbmalloc_proxy.so.2 is not a symbolic link\n",
      "\n",
      "/sbin/ldconfig.real: /usr/local/lib/libur_adapter_opencl.so.0 is not a symbolic link\n",
      "\n",
      "/sbin/ldconfig.real: /usr/local/lib/libtbbbind_2_5.so.3 is not a symbolic link\n",
      "\n",
      "/sbin/ldconfig.real: /usr/local/lib/libur_adapter_level_zero.so.0 is not a symbolic link\n",
      "\n",
      "/sbin/ldconfig.real: /usr/local/lib/libur_loader.so.0 is not a symbolic link\n",
      "\n",
      "/sbin/ldconfig.real: /usr/local/lib/libtbbbind.so.3 is not a symbolic link\n",
      "\n",
      "debconf: unable to initialize frontend: Dialog\n",
      "debconf: (No usable dialog-like program is installed, so the dialog based frontend cannot be used. at /usr/share/perl5/Debconf/FrontEnd/Dialog.pm line 78, <> line 2.)\n",
      "debconf: falling back to frontend: Readline\n",
      "debconf: unable to initialize frontend: Readline\n",
      "debconf: (This frontend requires a controlling tty.)\n",
      "debconf: falling back to frontend: Teletype\n",
      "dpkg-preconfigure: unable to re-open stdin: \n",
      "Selecting previously unselected package libmagic-dev:amd64.\n",
      "(Reading database ... 123617 files and directories currently installed.)\n",
      "Preparing to unpack .../libmagic-dev_1%3a5.41-3ubuntu0.1_amd64.deb ...\n",
      "Unpacking libmagic-dev:amd64 (1:5.41-3ubuntu0.1) ...\n",
      "Selecting previously unselected package libxslt1-dev:amd64.\n",
      "Preparing to unpack .../libxslt1-dev_1.1.34-4ubuntu0.22.04.1_amd64.deb ...\n",
      "Unpacking libxslt1-dev:amd64 (1.1.34-4ubuntu0.22.04.1) ...\n",
      "Setting up libxslt1-dev:amd64 (1.1.34-4ubuntu0.22.04.1) ...\n",
      "Setting up libmagic-dev:amd64 (1:5.41-3ubuntu0.1) ...\n",
      "Processing triggers for man-db (2.10.2-1) ...\n",
      "debconf: unable to initialize frontend: Dialog\n",
      "debconf: (No usable dialog-like program is installed, so the dialog based frontend cannot be used. at /usr/share/perl5/Debconf/FrontEnd/Dialog.pm line 78, <> line 2.)\n",
      "debconf: falling back to frontend: Readline\n",
      "debconf: unable to initialize frontend: Readline\n",
      "debconf: (This frontend requires a controlling tty.)\n",
      "debconf: falling back to frontend: Teletype\n",
      "dpkg-preconfigure: unable to re-open stdin: \n",
      "Selecting previously unselected package libnspr4-dev.\n",
      "(Reading database ... 123767 files and directories currently installed.)\n",
      "Preparing to unpack .../libnspr4-dev_2%3a4.35-0ubuntu0.22.04.1_amd64.deb ...\n",
      "Unpacking libnspr4-dev (2:4.35-0ubuntu0.22.04.1) ...\n",
      "Selecting previously unselected package libnss3-dev:amd64.\n",
      "Preparing to unpack .../libnss3-dev_2%3a3.98-0ubuntu0.22.04.2_amd64.deb ...\n",
      "Unpacking libnss3-dev:amd64 (2:3.98-0ubuntu0.22.04.2) ...\n",
      "Setting up libnspr4-dev (2:4.35-0ubuntu0.22.04.1) ...\n",
      "Setting up libnss3-dev:amd64 (2:3.98-0ubuntu0.22.04.2) ...\n",
      "debconf: unable to initialize frontend: Dialog\n",
      "debconf: (No usable dialog-like program is installed, so the dialog based frontend cannot be used. at /usr/share/perl5/Debconf/FrontEnd/Dialog.pm line 78, <> line 17.)\n",
      "debconf: falling back to frontend: Readline\n",
      "debconf: unable to initialize frontend: Readline\n",
      "debconf: (This frontend requires a controlling tty.)\n",
      "debconf: falling back to frontend: Teletype\n",
      "dpkg-preconfigure: unable to re-open stdin: \n",
      "(Reading database ... 123967 files and directories currently installed.)\n",
      "Preparing to unpack .../libblkid1_2.37.2-4ubuntu3.4_amd64.deb ...\n",
      "Unpacking libblkid1:amd64 (2.37.2-4ubuntu3.4) over (2.37.2-4ubuntu3) ...\n",
      "Setting up libblkid1:amd64 (2.37.2-4ubuntu3.4) ...\n",
      "(Reading database ... 123967 files and directories currently installed.)\n",
      "Preparing to unpack .../libmount1_2.37.2-4ubuntu3.4_amd64.deb ...\n",
      "Unpacking libmount1:amd64 (2.37.2-4ubuntu3.4) over (2.37.2-4ubuntu3) ...\n",
      "Setting up libmount1:amd64 (2.37.2-4ubuntu3.4) ...\n",
      "Selecting previously unselected package liblzo2-2:amd64.\n",
      "(Reading database ... 123967 files and directories currently installed.)\n",
      "Preparing to unpack .../00-liblzo2-2_2.10-2build3_amd64.deb ...\n",
      "Unpacking liblzo2-2:amd64 (2.10-2build3) ...\n",
      "Selecting previously unselected package libcairo-script-interpreter2:amd64.\n",
      "Preparing to unpack .../01-libcairo-script-interpreter2_1.16.0-5ubuntu2_amd64.deb ...\n",
      "Unpacking libcairo-script-interpreter2:amd64 (1.16.0-5ubuntu2) ...\n",
      "Selecting previously unselected package libice-dev:amd64.\n",
      "Preparing to unpack .../02-libice-dev_2%3a1.0.10-1build2_amd64.deb ...\n",
      "Unpacking libice-dev:amd64 (2:1.0.10-1build2) ...\n",
      "Selecting previously unselected package libsm-dev:amd64.\n",
      "Preparing to unpack .../03-libsm-dev_2%3a1.2.3-1build2_amd64.deb ...\n",
      "Unpacking libsm-dev:amd64 (2:1.2.3-1build2) ...\n",
      "Selecting previously unselected package libpixman-1-dev:amd64.\n",
      "Preparing to unpack .../04-libpixman-1-dev_0.40.0-1ubuntu0.22.04.1_amd64.deb ...\n",
      "Unpacking libpixman-1-dev:amd64 (0.40.0-1ubuntu0.22.04.1) ...\n",
      "Selecting previously unselected package libxcb-render0-dev:amd64.\n",
      "Preparing to unpack .../05-libxcb-render0-dev_1.14-3ubuntu3_amd64.deb ...\n",
      "Unpacking libxcb-render0-dev:amd64 (1.14-3ubuntu3) ...\n",
      "Selecting previously unselected package libxcb-shm0-dev:amd64.\n",
      "Preparing to unpack .../06-libxcb-shm0-dev_1.14-3ubuntu3_amd64.deb ...\n",
      "Unpacking libxcb-shm0-dev:amd64 (1.14-3ubuntu3) ...\n",
      "Selecting previously unselected package libffi-dev:amd64.\n",
      "Preparing to unpack .../07-libffi-dev_3.4.2-4_amd64.deb ...\n",
      "Unpacking libffi-dev:amd64 (3.4.2-4) ...\n",
      "Selecting previously unselected package libglib2.0-dev-bin.\n",
      "Preparing to unpack .../08-libglib2.0-dev-bin_2.72.4-0ubuntu2.3_amd64.deb ...\n",
      "Unpacking libglib2.0-dev-bin (2.72.4-0ubuntu2.3) ...\n",
      "Selecting previously unselected package libblkid-dev:amd64.\n",
      "Preparing to unpack .../09-libblkid-dev_2.37.2-4ubuntu3.4_amd64.deb ...\n",
      "Unpacking libblkid-dev:amd64 (2.37.2-4ubuntu3.4) ...\n",
      "Selecting previously unselected package libsepol-dev:amd64.\n",
      "Preparing to unpack .../10-libsepol-dev_3.3-1build1_amd64.deb ...\n",
      "Unpacking libsepol-dev:amd64 (3.3-1build1) ...\n",
      "Selecting previously unselected package libselinux1-dev:amd64.\n",
      "Preparing to unpack .../11-libselinux1-dev_3.3-1build2_amd64.deb ...\n",
      "Unpacking libselinux1-dev:amd64 (3.3-1build2) ...\n",
      "Selecting previously unselected package libmount-dev:amd64.\n",
      "Preparing to unpack .../12-libmount-dev_2.37.2-4ubuntu3.4_amd64.deb ...\n",
      "Unpacking libmount-dev:amd64 (2.37.2-4ubuntu3.4) ...\n",
      "Selecting previously unselected package libglib2.0-dev:amd64.\n",
      "Preparing to unpack .../13-libglib2.0-dev_2.72.4-0ubuntu2.3_amd64.deb ...\n",
      "Unpacking libglib2.0-dev:amd64 (2.72.4-0ubuntu2.3) ...\n",
      "Selecting previously unselected package libcairo2-dev:amd64.\n",
      "Preparing to unpack .../14-libcairo2-dev_1.16.0-5ubuntu2_amd64.deb ...\n",
      "Unpacking libcairo2-dev:amd64 (1.16.0-5ubuntu2) ...\n",
      "Setting up libglib2.0-dev-bin (2.72.4-0ubuntu2.3) ...\n",
      "Setting up libblkid-dev:amd64 (2.37.2-4ubuntu3.4) ...\n",
      "Setting up libpixman-1-dev:amd64 (0.40.0-1ubuntu0.22.04.1) ...\n",
      "Setting up libice-dev:amd64 (2:1.0.10-1build2) ...\n",
      "Setting up libsm-dev:amd64 (2:1.2.3-1build2) ...\n",
      "Setting up liblzo2-2:amd64 (2.10-2build3) ...\n",
      "Setting up libffi-dev:amd64 (3.4.2-4) ...\n",
      "Setting up libxcb-shm0-dev:amd64 (1.14-3ubuntu3) ...\n",
      "Setting up libsepol-dev:amd64 (3.3-1build1) ...\n",
      "Setting up libxcb-render0-dev:amd64 (1.14-3ubuntu3) ...\n",
      "Setting up libcairo-script-interpreter2:amd64 (1.16.0-5ubuntu2) ...\n",
      "Setting up libselinux1-dev:amd64 (3.3-1build2) ...\n",
      "Setting up libmount-dev:amd64 (2.37.2-4ubuntu3.4) ...\n",
      "Setting up libglib2.0-dev:amd64 (2.72.4-0ubuntu2.3) ...\n",
      "Processing triggers for libglib2.0-0:amd64 (2.72.4-0ubuntu2.3) ...\n",
      "Processing triggers for libc-bin (2.35-0ubuntu3.4) ...\n",
      "/sbin/ldconfig.real: /usr/local/lib/libtbb.so.12 is not a symbolic link\n",
      "\n",
      "/sbin/ldconfig.real: /usr/local/lib/libtbbmalloc.so.2 is not a symbolic link\n",
      "\n",
      "/sbin/ldconfig.real: /usr/local/lib/libtbbbind_2_0.so.3 is not a symbolic link\n",
      "\n",
      "/sbin/ldconfig.real: /usr/local/lib/libtbbmalloc_proxy.so.2 is not a symbolic link\n",
      "\n",
      "/sbin/ldconfig.real: /usr/local/lib/libur_adapter_opencl.so.0 is not a symbolic link\n",
      "\n",
      "/sbin/ldconfig.real: /usr/local/lib/libtbbbind_2_5.so.3 is not a symbolic link\n",
      "\n",
      "/sbin/ldconfig.real: /usr/local/lib/libur_adapter_level_zero.so.0 is not a symbolic link\n",
      "\n",
      "/sbin/ldconfig.real: /usr/local/lib/libur_loader.so.0 is not a symbolic link\n",
      "\n",
      "/sbin/ldconfig.real: /usr/local/lib/libtbbbind.so.3 is not a symbolic link\n",
      "\n",
      "Processing triggers for man-db (2.10.2-1) ...\n",
      "Setting up libcairo2-dev:amd64 (1.16.0-5ubuntu2) ...\n",
      "debconf: unable to initialize frontend: Dialog\n",
      "debconf: (No usable dialog-like program is installed, so the dialog based frontend cannot be used. at /usr/share/perl5/Debconf/FrontEnd/Dialog.pm line 78, <> line 5.)\n",
      "debconf: falling back to frontend: Readline\n",
      "debconf: unable to initialize frontend: Readline\n",
      "debconf: (This frontend requires a controlling tty.)\n",
      "debconf: falling back to frontend: Teletype\n",
      "dpkg-preconfigure: unable to re-open stdin: \n",
      "(Reading database ... 124740 files and directories currently installed.)\n",
      "Preparing to unpack .../libext2fs2_1.46.5-2ubuntu1.2_amd64.deb ...\n",
      "Unpacking libext2fs2:amd64 (1.46.5-2ubuntu1.2) over (1.46.5-2ubuntu1.1) ...\n",
      "Setting up libext2fs2:amd64 (1.46.5-2ubuntu1.2) ...\n",
      "(Reading database ... 124740 files and directories currently installed.)\n",
      "Preparing to unpack .../e2fsprogs_1.46.5-2ubuntu1.2_amd64.deb ...\n",
      "Unpacking e2fsprogs (1.46.5-2ubuntu1.2) over (1.46.5-2ubuntu1.1) ...\n",
      "Selecting previously unselected package libcap-ng-dev.\n",
      "Preparing to unpack .../libcap-ng-dev_0.7.9-2.2build3_amd64.deb ...\n",
      "Unpacking libcap-ng-dev (0.7.9-2.2build3) ...\n",
      "Selecting previously unselected package libext2fs-dev.\n",
      "Preparing to unpack .../libext2fs-dev_1.46.5-2ubuntu1.2_amd64.deb ...\n",
      "Unpacking libext2fs-dev (1.46.5-2ubuntu1.2) ...\n",
      "Selecting previously unselected package libaudit-dev:amd64.\n",
      "Preparing to unpack .../libaudit-dev_1%3a3.0.7-1build1_amd64.deb ...\n",
      "Unpacking libaudit-dev:amd64 (1:3.0.7-1build1) ...\n",
      "Setting up e2fsprogs (1.46.5-2ubuntu1.2) ...\n",
      "Setting up libcap-ng-dev (0.7.9-2.2build3) ...\n",
      "Setting up libext2fs-dev (1.46.5-2ubuntu1.2) ...\n",
      "Setting up libaudit-dev:amd64 (1:3.0.7-1build1) ...\n",
      "Processing triggers for man-db (2.10.2-1) ...\n",
      "Processing triggers for libc-bin (2.35-0ubuntu3.4) ...\n",
      "/sbin/ldconfig.real: /usr/local/lib/libtbb.so.12 is not a symbolic link\n",
      "\n",
      "/sbin/ldconfig.real: /usr/local/lib/libtbbmalloc.so.2 is not a symbolic link\n",
      "\n",
      "/sbin/ldconfig.real: /usr/local/lib/libtbbbind_2_0.so.3 is not a symbolic link\n",
      "\n",
      "/sbin/ldconfig.real: /usr/local/lib/libtbbmalloc_proxy.so.2 is not a symbolic link\n",
      "\n",
      "/sbin/ldconfig.real: /usr/local/lib/libur_adapter_opencl.so.0 is not a symbolic link\n",
      "\n",
      "/sbin/ldconfig.real: /usr/local/lib/libtbbbind_2_5.so.3 is not a symbolic link\n",
      "\n",
      "/sbin/ldconfig.real: /usr/local/lib/libur_adapter_level_zero.so.0 is not a symbolic link\n",
      "\n",
      "/sbin/ldconfig.real: /usr/local/lib/libur_loader.so.0 is not a symbolic link\n",
      "\n",
      "/sbin/ldconfig.real: /usr/local/lib/libtbbbind.so.3 is not a symbolic link\n",
      "\n",
      "debconf: unable to initialize frontend: Dialog\n",
      "debconf: (No usable dialog-like program is installed, so the dialog based frontend cannot be used. at /usr/share/perl5/Debconf/FrontEnd/Dialog.pm line 78, <> line 3.)\n",
      "debconf: falling back to frontend: Readline\n",
      "debconf: unable to initialize frontend: Readline\n",
      "debconf: (This frontend requires a controlling tty.)\n",
      "debconf: falling back to frontend: Teletype\n",
      "dpkg-preconfigure: unable to re-open stdin: \n",
      "Selecting previously unselected package tesseract-ocr-eng.\n",
      "(Reading database ... 124842 files and directories currently installed.)\n",
      "Preparing to unpack .../tesseract-ocr-eng_1%3a4.00~git30-7274cfa-1.1_all.deb ...\n",
      "Unpacking tesseract-ocr-eng (1:4.00~git30-7274cfa-1.1) ...\n",
      "Selecting previously unselected package tesseract-ocr-osd.\n",
      "Preparing to unpack .../tesseract-ocr-osd_1%3a4.00~git30-7274cfa-1.1_all.deb ...\n",
      "Unpacking tesseract-ocr-osd (1:4.00~git30-7274cfa-1.1) ...\n",
      "Selecting previously unselected package tesseract-ocr.\n",
      "Preparing to unpack .../tesseract-ocr_4.1.1-2.1build1_amd64.deb ...\n",
      "Unpacking tesseract-ocr (4.1.1-2.1build1) ...\n",
      "Setting up tesseract-ocr-eng (1:4.00~git30-7274cfa-1.1) ...\n",
      "Setting up tesseract-ocr-osd (1:4.00~git30-7274cfa-1.1) ...\n",
      "Setting up tesseract-ocr (4.1.1-2.1build1) ...\n",
      "Processing triggers for man-db (2.10.2-1) ...\n",
      "debconf: unable to initialize frontend: Dialog\n",
      "debconf: (No usable dialog-like program is installed, so the dialog based frontend cannot be used. at /usr/share/perl5/Debconf/FrontEnd/Dialog.pm line 78, <> line 1.)\n",
      "debconf: falling back to frontend: Readline\n",
      "debconf: unable to initialize frontend: Readline\n",
      "debconf: (This frontend requires a controlling tty.)\n",
      "debconf: falling back to frontend: Teletype\n",
      "dpkg-preconfigure: unable to re-open stdin: \n",
      "Selecting previously unselected package poppler-utils.\n",
      "(Reading database ... 124889 files and directories currently installed.)\n",
      "Preparing to unpack .../poppler-utils_22.02.0-2ubuntu0.5_amd64.deb ...\n",
      "Unpacking poppler-utils (22.02.0-2ubuntu0.5) ...\n",
      "Setting up poppler-utils (22.02.0-2ubuntu0.5) ...\n",
      "Processing triggers for man-db (2.10.2-1) ...\n"
     ]
    }
   ],
   "source": [
    "!sudo apt-get update\n",
    "!sudo apt-get install -qq -y pciutils\n",
    "!sudo apt-get install -qq -y libxml2 libxslt1-dev libmagic-dev\n",
    "!sudo apt-get install -qq -y libnss3 libnss3-dev\n",
    "!sudo apt-get install -qq -y libcairo2-dev libjpeg-dev libgif-dev\n",
    "!sudo apt-get install -qq -y cmake libblkid-dev e2fslibs-dev libboost-all-dev libaudit-dev\n",
    "!sudo apt-get install -qq -y tesseract-ocr\n",
    "!sudo apt-get install -qq -y libpoppler-dev poppler-utils"
   ]
  },
  {
   "cell_type": "code",
   "execution_count": null,
   "id": "NQSxJKYUTEJu",
   "metadata": {
    "id": "NQSxJKYUTEJu"
   },
   "outputs": [],
   "source": [
    "!pip install -q pyngrok"
   ]
  },
  {
   "cell_type": "code",
   "execution_count": null,
   "id": "54930812-1982-4d88-9ff0-f8d4a93b2a2f",
   "metadata": {
    "colab": {
     "base_uri": "https://localhost:8080/"
    },
    "id": "54930812-1982-4d88-9ff0-f8d4a93b2a2f",
    "outputId": "e745138f-93f6-4651-82a5-a1fc4c05f359"
   },
   "outputs": [
    {
     "name": "stdout",
     "output_type": "stream",
     "text": [
      ">>> Installing ollama to /usr/local\n",
      ">>> Downloading Linux amd64 bundle\n",
      "############################################################################################# 100.0%\n",
      ">>> Creating ollama user...\n",
      ">>> Adding ollama user to video group...\n",
      ">>> Adding current user to ollama group...\n",
      ">>> Creating ollama systemd service...\n",
      ">>> NVIDIA GPU installed.\n",
      ">>> The Ollama API is now available at 127.0.0.1:11434.\n",
      ">>> Install complete. Run \"ollama\" from the command line.\n",
      "\u001b[?25lpulling manifest ⠋ \u001b[?25h\u001b[?25l\u001b[2K\u001b[1Gpulling manifest ⠙ \u001b[?25h\u001b[?25l\u001b[2K\u001b[1Gpulling manifest ⠹ \u001b[?25h\u001b[?25l\u001b[2K\u001b[1Gpulling manifest ⠸ \u001b[?25h\u001b[?25l\u001b[2K\u001b[1Gpulling manifest ⠼ \u001b[?25h\u001b[?25l\u001b[2K\u001b[1Gpulling manifest ⠴ \u001b[?25h\u001b[?25l\u001b[2K\u001b[1Gpulling manifest ⠦ \u001b[?25h\u001b[?25l\u001b[2K\u001b[1Gpulling manifest ⠧ \u001b[?25h\u001b[?25l\u001b[2K\u001b[1Gpulling manifest ⠇ \u001b[?25h\u001b[?25l\u001b[2K\u001b[1Gpulling manifest ⠏ \u001b[?25h\u001b[?25l\u001b[2K\u001b[1Gpulling manifest ⠋ \u001b[?25h\u001b[?25l\u001b[2K\u001b[1Gpulling manifest ⠙ \u001b[?25h\u001b[?25l\u001b[2K\u001b[1Gpulling manifest ⠹ \u001b[?25h\u001b[?25l\u001b[2K\u001b[1Gpulling manifest ⠸ \u001b[?25h\u001b[?25l\u001b[2K\u001b[1Gpulling manifest ⠼ \u001b[?25h\u001b[?25l\u001b[2K\u001b[1Gpulling manifest \n",
      "pulling 970aa74c0a90...   0% ▕▏    0 B/274 MB                  \u001b[?25h\u001b[?25l\u001b[2K\u001b[1G\u001b[A\u001b[2K\u001b[1Gpulling manifest \n",
      "pulling 970aa74c0a90...   0% ▕▏    0 B/274 MB                  \u001b[?25h\u001b[?25l\u001b[2K\u001b[1G\u001b[A\u001b[2K\u001b[1Gpulling manifest \n",
      "pulling 970aa74c0a90...   1% ▕▏ 2.0 MB/274 MB                  \u001b[?25h\u001b[?25l\u001b[2K\u001b[1G\u001b[A\u001b[2K\u001b[1Gpulling manifest \n",
      "pulling 970aa74c0a90...   9% ▕▏  25 MB/274 MB                  \u001b[?25h\u001b[?25l\u001b[2K\u001b[1G\u001b[A\u001b[2K\u001b[1Gpulling manifest \n",
      "pulling 970aa74c0a90...  13% ▕▏  36 MB/274 MB                  \u001b[?25h\u001b[?25l\u001b[2K\u001b[1G\u001b[A\u001b[2K\u001b[1Gpulling manifest \n",
      "pulling 970aa74c0a90...  21% ▕▏  58 MB/274 MB                  \u001b[?25h\u001b[?25l\u001b[2K\u001b[1G\u001b[A\u001b[2K\u001b[1Gpulling manifest \n",
      "pulling 970aa74c0a90...  30% ▕▏  82 MB/274 MB                  \u001b[?25h\u001b[?25l\u001b[2K\u001b[1G\u001b[A\u001b[2K\u001b[1Gpulling manifest \n",
      "pulling 970aa74c0a90...  37% ▕▏ 102 MB/274 MB                  \u001b[?25h\u001b[?25l\u001b[2K\u001b[1G\u001b[A\u001b[2K\u001b[1Gpulling manifest \n",
      "pulling 970aa74c0a90...  46% ▕▏ 125 MB/274 MB                  \u001b[?25h\u001b[?25l\u001b[2K\u001b[1G\u001b[A\u001b[2K\u001b[1Gpulling manifest \n",
      "pulling 970aa74c0a90...  53% ▕▏ 146 MB/274 MB                  \u001b[?25h\u001b[?25l\u001b[2K\u001b[1G\u001b[A\u001b[2K\u001b[1Gpulling manifest \n",
      "pulling 970aa74c0a90...  58% ▕▏ 158 MB/274 MB  158 MB/s      0s\u001b[?25h\u001b[?25l\u001b[2K\u001b[1G\u001b[A\u001b[2K\u001b[1Gpulling manifest \n",
      "pulling 970aa74c0a90...  66% ▕▏ 180 MB/274 MB  158 MB/s      0s\u001b[?25h\u001b[?25l\u001b[2K\u001b[1G\u001b[A\u001b[2K\u001b[1Gpulling manifest \n",
      "pulling 970aa74c0a90...  73% ▕▏ 201 MB/274 MB  158 MB/s      0s\u001b[?25h\u001b[?25l\u001b[2K\u001b[1G\u001b[A\u001b[2K\u001b[1Gpulling manifest \n",
      "pulling 970aa74c0a90...  77% ▕▏ 211 MB/274 MB  158 MB/s      0s\u001b[?25h\u001b[?25l\u001b[2K\u001b[1G\u001b[A\u001b[2K\u001b[1Gpulling manifest \n",
      "pulling 970aa74c0a90...  83% ▕▏ 227 MB/274 MB  158 MB/s      0s\u001b[?25h\u001b[?25l\u001b[2K\u001b[1G\u001b[A\u001b[2K\u001b[1Gpulling manifest \n",
      "pulling 970aa74c0a90...  87% ▕▏ 239 MB/274 MB  158 MB/s      0s\u001b[?25h\u001b[?25l\u001b[2K\u001b[1G\u001b[A\u001b[2K\u001b[1Gpulling manifest \n",
      "pulling 970aa74c0a90...  90% ▕▏ 246 MB/274 MB  158 MB/s      0s\u001b[?25h\u001b[?25l\u001b[2K\u001b[1G\u001b[A\u001b[2K\u001b[1Gpulling manifest \n",
      "pulling 970aa74c0a90...  93% ▕▏ 253 MB/274 MB  158 MB/s      0s\u001b[?25h\u001b[?25l\u001b[2K\u001b[1G\u001b[A\u001b[2K\u001b[1Gpulling manifest \n",
      "pulling 970aa74c0a90...  94% ▕▏ 259 MB/274 MB  158 MB/s      0s\u001b[?25h\u001b[?25l\u001b[2K\u001b[1G\u001b[A\u001b[2K\u001b[1Gpulling manifest \n",
      "pulling 970aa74c0a90...  95% ▕▏ 260 MB/274 MB  158 MB/s      0s\u001b[?25h\u001b[?25l\u001b[2K\u001b[1G\u001b[A\u001b[2K\u001b[1Gpulling manifest \n",
      "pulling 970aa74c0a90...  96% ▕▏ 263 MB/274 MB  131 MB/s      0s\u001b[?25h\u001b[?25l\u001b[2K\u001b[1G\u001b[A\u001b[2K\u001b[1Gpulling manifest \n",
      "pulling 970aa74c0a90...  97% ▕▏ 266 MB/274 MB  131 MB/s      0s\u001b[?25h\u001b[?25l\u001b[2K\u001b[1G\u001b[A\u001b[2K\u001b[1Gpulling manifest \n",
      "pulling 970aa74c0a90...  98% ▕▏ 268 MB/274 MB  131 MB/s      0s\u001b[?25h\u001b[?25l\u001b[2K\u001b[1G\u001b[A\u001b[2K\u001b[1Gpulling manifest \n",
      "pulling 970aa74c0a90... 100% ▕▏ 273 MB/274 MB  131 MB/s      0s\u001b[?25h\u001b[?25l\u001b[2K\u001b[1G\u001b[A\u001b[2K\u001b[1Gpulling manifest \n",
      "pulling 970aa74c0a90... 100% ▕▏ 274 MB                         \u001b[?25h\u001b[?25l\u001b[2K\u001b[1G\u001b[A\u001b[2K\u001b[1Gpulling manifest \n",
      "pulling 970aa74c0a90... 100% ▕▏ 274 MB                         \u001b[?25h\u001b[?25l\u001b[2K\u001b[1G\u001b[A\u001b[2K\u001b[1Gpulling manifest \n",
      "pulling 970aa74c0a90... 100% ▕▏ 274 MB                         \u001b[?25h\u001b[?25l\u001b[2K\u001b[1G\u001b[A\u001b[2K\u001b[1Gpulling manifest \n",
      "pulling 970aa74c0a90... 100% ▕▏ 274 MB                         \u001b[?25h\u001b[?25l\u001b[2K\u001b[1G\u001b[A\u001b[2K\u001b[1Gpulling manifest \n",
      "pulling 970aa74c0a90... 100% ▕▏ 274 MB                         \u001b[?25h\u001b[?25l\u001b[2K\u001b[1G\u001b[A\u001b[2K\u001b[1Gpulling manifest \n",
      "pulling 970aa74c0a90... 100% ▕▏ 274 MB                         \u001b[?25h\u001b[?25l\u001b[2K\u001b[1G\u001b[A\u001b[2K\u001b[1Gpulling manifest \n",
      "pulling 970aa74c0a90... 100% ▕▏ 274 MB                         \u001b[?25h\u001b[?25l\u001b[2K\u001b[1G\u001b[A\u001b[2K\u001b[1Gpulling manifest \n",
      "pulling 970aa74c0a90... 100% ▕▏ 274 MB                         \u001b[?25h\u001b[?25l\u001b[2K\u001b[1G\u001b[A\u001b[2K\u001b[1Gpulling manifest \n",
      "pulling 970aa74c0a90... 100% ▕▏ 274 MB                         \u001b[?25h\u001b[?25l\u001b[2K\u001b[1G\u001b[A\u001b[2K\u001b[1Gpulling manifest \n",
      "pulling 970aa74c0a90... 100% ▕▏ 274 MB                         \u001b[?25h\u001b[?25l\u001b[2K\u001b[1G\u001b[A\u001b[2K\u001b[1Gpulling manifest \n",
      "pulling 970aa74c0a90... 100% ▕▏ 274 MB                         \u001b[?25h\u001b[?25l\u001b[2K\u001b[1G\u001b[A\u001b[2K\u001b[1Gpulling manifest \n",
      "pulling 970aa74c0a90... 100% ▕▏ 274 MB                         \u001b[?25h\u001b[?25l\u001b[2K\u001b[1G\u001b[A\u001b[2K\u001b[1Gpulling manifest \n",
      "pulling 970aa74c0a90... 100% ▕▏ 274 MB                         \u001b[?25h\u001b[?25l\u001b[2K\u001b[1G\u001b[A\u001b[2K\u001b[1Gpulling manifest \n",
      "pulling 970aa74c0a90... 100% ▕▏ 274 MB                         \u001b[?25h\u001b[?25l\u001b[2K\u001b[1G\u001b[A\u001b[2K\u001b[1Gpulling manifest \n",
      "pulling 970aa74c0a90... 100% ▕▏ 274 MB                         \u001b[?25h\u001b[?25l\u001b[2K\u001b[1G\u001b[A\u001b[2K\u001b[1Gpulling manifest \n",
      "pulling 970aa74c0a90... 100% ▕▏ 274 MB                         \u001b[?25h\u001b[?25l\u001b[2K\u001b[1G\u001b[A\u001b[2K\u001b[1Gpulling manifest \n",
      "pulling 970aa74c0a90... 100% ▕▏ 274 MB                         \u001b[?25h\u001b[?25l\u001b[2K\u001b[1G\u001b[A\u001b[2K\u001b[1Gpulling manifest \n",
      "pulling 970aa74c0a90... 100% ▕▏ 274 MB                         \u001b[?25h\u001b[?25l\u001b[2K\u001b[1G\u001b[A\u001b[2K\u001b[1Gpulling manifest \n",
      "pulling 970aa74c0a90... 100% ▕▏ 274 MB                         \n",
      "pulling c71d239df917...   0% ▕▏    0 B/ 11 KB                  \u001b[?25h\u001b[?25l\u001b[2K\u001b[1G\u001b[A\u001b[2K\u001b[1G\u001b[A\u001b[2K\u001b[1Gpulling manifest \n",
      "pulling 970aa74c0a90... 100% ▕▏ 274 MB                         \n",
      "pulling c71d239df917...   0% ▕▏    0 B/ 11 KB                  \u001b[?25h\u001b[?25l\u001b[2K\u001b[1G\u001b[A\u001b[2K\u001b[1G\u001b[A\u001b[2K\u001b[1Gpulling manifest \n",
      "pulling 970aa74c0a90... 100% ▕▏ 274 MB                         \n",
      "pulling c71d239df917...   0% ▕▏    0 B/ 11 KB                  \u001b[?25h\u001b[?25l\u001b[2K\u001b[1G\u001b[A\u001b[2K\u001b[1G\u001b[A\u001b[2K\u001b[1Gpulling manifest \n",
      "pulling 970aa74c0a90... 100% ▕▏ 274 MB                         \n",
      "pulling c71d239df917... 100% ▕▏  11 KB                         \u001b[?25h\u001b[?25l\u001b[2K\u001b[1G\u001b[A\u001b[2K\u001b[1G\u001b[A\u001b[2K\u001b[1Gpulling manifest \n",
      "pulling 970aa74c0a90... 100% ▕▏ 274 MB                         \n",
      "pulling c71d239df917... 100% ▕▏  11 KB                         \u001b[?25h\u001b[?25l\u001b[2K\u001b[1G\u001b[A\u001b[2K\u001b[1G\u001b[A\u001b[2K\u001b[1Gpulling manifest \n",
      "pulling 970aa74c0a90... 100% ▕▏ 274 MB                         \n",
      "pulling c71d239df917... 100% ▕▏  11 KB                         \u001b[?25h\u001b[?25l\u001b[2K\u001b[1G\u001b[A\u001b[2K\u001b[1G\u001b[A\u001b[2K\u001b[1Gpulling manifest \n",
      "pulling 970aa74c0a90... 100% ▕▏ 274 MB                         \n",
      "pulling c71d239df917... 100% ▕▏  11 KB                         \u001b[?25h\u001b[?25l\u001b[2K\u001b[1G\u001b[A\u001b[2K\u001b[1G\u001b[A\u001b[2K\u001b[1Gpulling manifest \n",
      "pulling 970aa74c0a90... 100% ▕▏ 274 MB                         \n",
      "pulling c71d239df917... 100% ▕▏  11 KB                         \u001b[?25h\u001b[?25l\u001b[2K\u001b[1G\u001b[A\u001b[2K\u001b[1G\u001b[A\u001b[2K\u001b[1Gpulling manifest \n",
      "pulling 970aa74c0a90... 100% ▕▏ 274 MB                         \n",
      "pulling c71d239df917... 100% ▕▏  11 KB                         \u001b[?25h\u001b[?25l\u001b[2K\u001b[1G\u001b[A\u001b[2K\u001b[1G\u001b[A\u001b[2K\u001b[1Gpulling manifest \n",
      "pulling 970aa74c0a90... 100% ▕▏ 274 MB                         \n",
      "pulling c71d239df917... 100% ▕▏  11 KB                         \u001b[?25h\u001b[?25l\u001b[2K\u001b[1G\u001b[A\u001b[2K\u001b[1G\u001b[A\u001b[2K\u001b[1Gpulling manifest \n",
      "pulling 970aa74c0a90... 100% ▕▏ 274 MB                         \n",
      "pulling c71d239df917... 100% ▕▏  11 KB                         \u001b[?25h\u001b[?25l\u001b[2K\u001b[1G\u001b[A\u001b[2K\u001b[1G\u001b[A\u001b[2K\u001b[1Gpulling manifest \n",
      "pulling 970aa74c0a90... 100% ▕▏ 274 MB                         \n",
      "pulling c71d239df917... 100% ▕▏  11 KB                         \u001b[?25h\u001b[?25l\u001b[2K\u001b[1G\u001b[A\u001b[2K\u001b[1G\u001b[A\u001b[2K\u001b[1Gpulling manifest \n",
      "pulling 970aa74c0a90... 100% ▕▏ 274 MB                         \n",
      "pulling c71d239df917... 100% ▕▏  11 KB                         \u001b[?25h\u001b[?25l\u001b[2K\u001b[1G\u001b[A\u001b[2K\u001b[1G\u001b[A\u001b[2K\u001b[1Gpulling manifest \n",
      "pulling 970aa74c0a90... 100% ▕▏ 274 MB                         \n",
      "pulling c71d239df917... 100% ▕▏  11 KB                         \u001b[?25h\u001b[?25l\u001b[2K\u001b[1G\u001b[A\u001b[2K\u001b[1G\u001b[A\u001b[2K\u001b[1Gpulling manifest \n",
      "pulling 970aa74c0a90... 100% ▕▏ 274 MB                         \n",
      "pulling c71d239df917... 100% ▕▏  11 KB                         \u001b[?25h\u001b[?25l\u001b[2K\u001b[1G\u001b[A\u001b[2K\u001b[1G\u001b[A\u001b[2K\u001b[1Gpulling manifest \n",
      "pulling 970aa74c0a90... 100% ▕▏ 274 MB                         \n",
      "pulling c71d239df917... 100% ▕▏  11 KB                         \u001b[?25h\u001b[?25l\u001b[2K\u001b[1G\u001b[A\u001b[2K\u001b[1G\u001b[A\u001b[2K\u001b[1Gpulling manifest \n",
      "pulling 970aa74c0a90... 100% ▕▏ 274 MB                         \n",
      "pulling c71d239df917... 100% ▕▏  11 KB                         \u001b[?25h\u001b[?25l\u001b[2K\u001b[1G\u001b[A\u001b[2K\u001b[1G\u001b[A\u001b[2K\u001b[1Gpulling manifest \n",
      "pulling 970aa74c0a90... 100% ▕▏ 274 MB                         \n",
      "pulling c71d239df917... 100% ▕▏  11 KB                         \u001b[?25h\u001b[?25l\u001b[2K\u001b[1G\u001b[A\u001b[2K\u001b[1G\u001b[A\u001b[2K\u001b[1Gpulling manifest \n",
      "pulling 970aa74c0a90... 100% ▕▏ 274 MB                         \n",
      "pulling c71d239df917... 100% ▕▏  11 KB                         \u001b[?25h\u001b[?25l\u001b[2K\u001b[1G\u001b[A\u001b[2K\u001b[1G\u001b[A\u001b[2K\u001b[1Gpulling manifest \n",
      "pulling 970aa74c0a90... 100% ▕▏ 274 MB                         \n",
      "pulling c71d239df917... 100% ▕▏  11 KB                         \u001b[?25h\u001b[?25l\u001b[2K\u001b[1G\u001b[A\u001b[2K\u001b[1G\u001b[A\u001b[2K\u001b[1Gpulling manifest \n",
      "pulling 970aa74c0a90... 100% ▕▏ 274 MB                         \n",
      "pulling c71d239df917... 100% ▕▏  11 KB                         \n",
      "pulling ce4a164fc046...   0% ▕▏    0 B/  17 B                  \u001b[?25h\u001b[?25l\u001b[2K\u001b[1G\u001b[A\u001b[2K\u001b[1G\u001b[A\u001b[2K\u001b[1G\u001b[A\u001b[2K\u001b[1Gpulling manifest \n",
      "pulling 970aa74c0a90... 100% ▕▏ 274 MB                         \n",
      "pulling c71d239df917... 100% ▕▏  11 KB                         \n",
      "pulling ce4a164fc046...   0% ▕▏    0 B/  17 B                  \u001b[?25h\u001b[?25l\u001b[2K\u001b[1G\u001b[A\u001b[2K\u001b[1G\u001b[A\u001b[2K\u001b[1G\u001b[A\u001b[2K\u001b[1Gpulling manifest \n",
      "pulling 970aa74c0a90... 100% ▕▏ 274 MB                         \n",
      "pulling c71d239df917... 100% ▕▏  11 KB                         \n",
      "pulling ce4a164fc046... 100% ▕▏   17 B                         \u001b[?25h\u001b[?25l\u001b[2K\u001b[1G\u001b[A\u001b[2K\u001b[1G\u001b[A\u001b[2K\u001b[1G\u001b[A\u001b[2K\u001b[1Gpulling manifest \n",
      "pulling 970aa74c0a90... 100% ▕▏ 274 MB                         \n",
      "pulling c71d239df917... 100% ▕▏  11 KB                         \n",
      "pulling ce4a164fc046... 100% ▕▏   17 B                         \u001b[?25h\u001b[?25l\u001b[2K\u001b[1G\u001b[A\u001b[2K\u001b[1G\u001b[A\u001b[2K\u001b[1G\u001b[A\u001b[2K\u001b[1Gpulling manifest \n",
      "pulling 970aa74c0a90... 100% ▕▏ 274 MB                         \n",
      "pulling c71d239df917... 100% ▕▏  11 KB                         \n",
      "pulling ce4a164fc046... 100% ▕▏   17 B                         \u001b[?25h\u001b[?25l\u001b[2K\u001b[1G\u001b[A\u001b[2K\u001b[1G\u001b[A\u001b[2K\u001b[1G\u001b[A\u001b[2K\u001b[1Gpulling manifest \n",
      "pulling 970aa74c0a90... 100% ▕▏ 274 MB                         \n",
      "pulling c71d239df917... 100% ▕▏  11 KB                         \n",
      "pulling ce4a164fc046... 100% ▕▏   17 B                         \u001b[?25h\u001b[?25l\u001b[2K\u001b[1G\u001b[A\u001b[2K\u001b[1G\u001b[A\u001b[2K\u001b[1G\u001b[A\u001b[2K\u001b[1Gpulling manifest \n",
      "pulling 970aa74c0a90... 100% ▕▏ 274 MB                         \n",
      "pulling c71d239df917... 100% ▕▏  11 KB                         \n",
      "pulling ce4a164fc046... 100% ▕▏   17 B                         \u001b[?25h\u001b[?25l\u001b[2K\u001b[1G\u001b[A\u001b[2K\u001b[1G\u001b[A\u001b[2K\u001b[1G\u001b[A\u001b[2K\u001b[1Gpulling manifest \n",
      "pulling 970aa74c0a90... 100% ▕▏ 274 MB                         \n",
      "pulling c71d239df917... 100% ▕▏  11 KB                         \n",
      "pulling ce4a164fc046... 100% ▕▏   17 B                         \u001b[?25h\u001b[?25l\u001b[2K\u001b[1G\u001b[A\u001b[2K\u001b[1G\u001b[A\u001b[2K\u001b[1G\u001b[A\u001b[2K\u001b[1Gpulling manifest \n",
      "pulling 970aa74c0a90... 100% ▕▏ 274 MB                         \n",
      "pulling c71d239df917... 100% ▕▏  11 KB                         \n",
      "pulling ce4a164fc046... 100% ▕▏   17 B                         \u001b[?25h\u001b[?25l\u001b[2K\u001b[1G\u001b[A\u001b[2K\u001b[1G\u001b[A\u001b[2K\u001b[1G\u001b[A\u001b[2K\u001b[1Gpulling manifest \n",
      "pulling 970aa74c0a90... 100% ▕▏ 274 MB                         \n",
      "pulling c71d239df917... 100% ▕▏  11 KB                         \n",
      "pulling ce4a164fc046... 100% ▕▏   17 B                         \u001b[?25h\u001b[?25l\u001b[2K\u001b[1G\u001b[A\u001b[2K\u001b[1G\u001b[A\u001b[2K\u001b[1G\u001b[A\u001b[2K\u001b[1Gpulling manifest \n",
      "pulling 970aa74c0a90... 100% ▕▏ 274 MB                         \n",
      "pulling c71d239df917... 100% ▕▏  11 KB                         \n",
      "pulling ce4a164fc046... 100% ▕▏   17 B                         \u001b[?25h\u001b[?25l\u001b[2K\u001b[1G\u001b[A\u001b[2K\u001b[1G\u001b[A\u001b[2K\u001b[1G\u001b[A\u001b[2K\u001b[1Gpulling manifest \n",
      "pulling 970aa74c0a90... 100% ▕▏ 274 MB                         \n",
      "pulling c71d239df917... 100% ▕▏  11 KB                         \n",
      "pulling ce4a164fc046... 100% ▕▏   17 B                         \u001b[?25h\u001b[?25l\u001b[2K\u001b[1G\u001b[A\u001b[2K\u001b[1G\u001b[A\u001b[2K\u001b[1G\u001b[A\u001b[2K\u001b[1Gpulling manifest \n",
      "pulling 970aa74c0a90... 100% ▕▏ 274 MB                         \n",
      "pulling c71d239df917... 100% ▕▏  11 KB                         \n",
      "pulling ce4a164fc046... 100% ▕▏   17 B                         \u001b[?25h\u001b[?25l\u001b[2K\u001b[1G\u001b[A\u001b[2K\u001b[1G\u001b[A\u001b[2K\u001b[1G\u001b[A\u001b[2K\u001b[1Gpulling manifest \n",
      "pulling 970aa74c0a90... 100% ▕▏ 274 MB                         \n",
      "pulling c71d239df917... 100% ▕▏  11 KB                         \n",
      "pulling ce4a164fc046... 100% ▕▏   17 B                         \u001b[?25h\u001b[?25l\u001b[2K\u001b[1G\u001b[A\u001b[2K\u001b[1G\u001b[A\u001b[2K\u001b[1G\u001b[A\u001b[2K\u001b[1Gpulling manifest \n",
      "pulling 970aa74c0a90... 100% ▕▏ 274 MB                         \n",
      "pulling c71d239df917... 100% ▕▏  11 KB                         \n",
      "pulling ce4a164fc046... 100% ▕▏   17 B                         \u001b[?25h\u001b[?25l\u001b[2K\u001b[1G\u001b[A\u001b[2K\u001b[1G\u001b[A\u001b[2K\u001b[1G\u001b[A\u001b[2K\u001b[1Gpulling manifest \n",
      "pulling 970aa74c0a90... 100% ▕▏ 274 MB                         \n",
      "pulling c71d239df917... 100% ▕▏  11 KB                         \n",
      "pulling ce4a164fc046... 100% ▕▏   17 B                         \u001b[?25h\u001b[?25l\u001b[2K\u001b[1G\u001b[A\u001b[2K\u001b[1G\u001b[A\u001b[2K\u001b[1G\u001b[A\u001b[2K\u001b[1Gpulling manifest \n",
      "pulling 970aa74c0a90... 100% ▕▏ 274 MB                         \n",
      "pulling c71d239df917... 100% ▕▏  11 KB                         \n",
      "pulling ce4a164fc046... 100% ▕▏   17 B                         \u001b[?25h\u001b[?25l\u001b[2K\u001b[1G\u001b[A\u001b[2K\u001b[1G\u001b[A\u001b[2K\u001b[1G\u001b[A\u001b[2K\u001b[1Gpulling manifest \n",
      "pulling 970aa74c0a90... 100% ▕▏ 274 MB                         \n",
      "pulling c71d239df917... 100% ▕▏  11 KB                         \n",
      "pulling ce4a164fc046... 100% ▕▏   17 B                         \u001b[?25h\u001b[?25l\u001b[2K\u001b[1G\u001b[A\u001b[2K\u001b[1G\u001b[A\u001b[2K\u001b[1G\u001b[A\u001b[2K\u001b[1Gpulling manifest \n",
      "pulling 970aa74c0a90... 100% ▕▏ 274 MB                         \n",
      "pulling c71d239df917... 100% ▕▏  11 KB                         \n",
      "pulling ce4a164fc046... 100% ▕▏   17 B                         \u001b[?25h\u001b[?25l\u001b[2K\u001b[1G\u001b[A\u001b[2K\u001b[1G\u001b[A\u001b[2K\u001b[1G\u001b[A\u001b[2K\u001b[1Gpulling manifest \n",
      "pulling 970aa74c0a90... 100% ▕▏ 274 MB                         \n",
      "pulling c71d239df917... 100% ▕▏  11 KB                         \n",
      "pulling ce4a164fc046... 100% ▕▏   17 B                         \u001b[?25h\u001b[?25l\u001b[2K\u001b[1G\u001b[A\u001b[2K\u001b[1G\u001b[A\u001b[2K\u001b[1G\u001b[A\u001b[2K\u001b[1Gpulling manifest \n",
      "pulling 970aa74c0a90... 100% ▕▏ 274 MB                         \n",
      "pulling c71d239df917... 100% ▕▏  11 KB                         \n",
      "pulling ce4a164fc046... 100% ▕▏   17 B                         \u001b[?25h\u001b[?25l\u001b[2K\u001b[1G\u001b[A\u001b[2K\u001b[1G\u001b[A\u001b[2K\u001b[1G\u001b[A\u001b[2K\u001b[1Gpulling manifest \n",
      "pulling 970aa74c0a90... 100% ▕▏ 274 MB                         \n",
      "pulling c71d239df917... 100% ▕▏  11 KB                         \n",
      "pulling ce4a164fc046... 100% ▕▏   17 B                         \n",
      "pulling 31df23ea7daa...   0% ▕▏    0 B/ 420 B                  \u001b[?25h\u001b[?25l\u001b[2K\u001b[1G\u001b[A\u001b[2K\u001b[1G\u001b[A\u001b[2K\u001b[1G\u001b[A\u001b[2K\u001b[1G\u001b[A\u001b[2K\u001b[1Gpulling manifest \n",
      "pulling 970aa74c0a90... 100% ▕▏ 274 MB                         \n",
      "pulling c71d239df917... 100% ▕▏  11 KB                         \n",
      "pulling ce4a164fc046... 100% ▕▏   17 B                         \n",
      "pulling 31df23ea7daa...   0% ▕▏    0 B/ 420 B                  \u001b[?25h\u001b[?25l\u001b[2K\u001b[1G\u001b[A\u001b[2K\u001b[1G\u001b[A\u001b[2K\u001b[1G\u001b[A\u001b[2K\u001b[1G\u001b[A\u001b[2K\u001b[1Gpulling manifest \n",
      "pulling 970aa74c0a90... 100% ▕▏ 274 MB                         \n",
      "pulling c71d239df917... 100% ▕▏  11 KB                         \n",
      "pulling ce4a164fc046... 100% ▕▏   17 B                         \n",
      "pulling 31df23ea7daa... 100% ▕▏  420 B                         \u001b[?25h\u001b[?25l\u001b[2K\u001b[1G\u001b[A\u001b[2K\u001b[1G\u001b[A\u001b[2K\u001b[1G\u001b[A\u001b[2K\u001b[1G\u001b[A\u001b[2K\u001b[1Gpulling manifest \n",
      "pulling 970aa74c0a90... 100% ▕▏ 274 MB                         \n",
      "pulling c71d239df917... 100% ▕▏  11 KB                         \n",
      "pulling ce4a164fc046... 100% ▕▏   17 B                         \n",
      "pulling 31df23ea7daa... 100% ▕▏  420 B                         \u001b[?25h\u001b[?25l\u001b[2K\u001b[1G\u001b[A\u001b[2K\u001b[1G\u001b[A\u001b[2K\u001b[1G\u001b[A\u001b[2K\u001b[1G\u001b[A\u001b[2K\u001b[1Gpulling manifest \n",
      "pulling 970aa74c0a90... 100% ▕▏ 274 MB                         \n",
      "pulling c71d239df917... 100% ▕▏  11 KB                         \n",
      "pulling ce4a164fc046... 100% ▕▏   17 B                         \n",
      "pulling 31df23ea7daa... 100% ▕▏  420 B                         \u001b[?25h\u001b[?25l\u001b[2K\u001b[1G\u001b[A\u001b[2K\u001b[1G\u001b[A\u001b[2K\u001b[1G\u001b[A\u001b[2K\u001b[1G\u001b[A\u001b[2K\u001b[1Gpulling manifest \n",
      "pulling 970aa74c0a90... 100% ▕▏ 274 MB                         \n",
      "pulling c71d239df917... 100% ▕▏  11 KB                         \n",
      "pulling ce4a164fc046... 100% ▕▏   17 B                         \n",
      "pulling 31df23ea7daa... 100% ▕▏  420 B                         \u001b[?25h\u001b[?25l\u001b[2K\u001b[1G\u001b[A\u001b[2K\u001b[1G\u001b[A\u001b[2K\u001b[1G\u001b[A\u001b[2K\u001b[1G\u001b[A\u001b[2K\u001b[1Gpulling manifest \n",
      "pulling 970aa74c0a90... 100% ▕▏ 274 MB                         \n",
      "pulling c71d239df917... 100% ▕▏  11 KB                         \n",
      "pulling ce4a164fc046... 100% ▕▏   17 B                         \n",
      "pulling 31df23ea7daa... 100% ▕▏  420 B                         \u001b[?25h\u001b[?25l\u001b[2K\u001b[1G\u001b[A\u001b[2K\u001b[1G\u001b[A\u001b[2K\u001b[1G\u001b[A\u001b[2K\u001b[1G\u001b[A\u001b[2K\u001b[1Gpulling manifest \n",
      "pulling 970aa74c0a90... 100% ▕▏ 274 MB                         \n",
      "pulling c71d239df917... 100% ▕▏  11 KB                         \n",
      "pulling ce4a164fc046... 100% ▕▏   17 B                         \n",
      "pulling 31df23ea7daa... 100% ▕▏  420 B                         \u001b[?25h\u001b[?25l\u001b[2K\u001b[1G\u001b[A\u001b[2K\u001b[1G\u001b[A\u001b[2K\u001b[1G\u001b[A\u001b[2K\u001b[1G\u001b[A\u001b[2K\u001b[1Gpulling manifest \n",
      "pulling 970aa74c0a90... 100% ▕▏ 274 MB                         \n",
      "pulling c71d239df917... 100% ▕▏  11 KB                         \n",
      "pulling ce4a164fc046... 100% ▕▏   17 B                         \n",
      "pulling 31df23ea7daa... 100% ▕▏  420 B                         \u001b[?25h\u001b[?25l\u001b[2K\u001b[1G\u001b[A\u001b[2K\u001b[1G\u001b[A\u001b[2K\u001b[1G\u001b[A\u001b[2K\u001b[1G\u001b[A\u001b[2K\u001b[1Gpulling manifest \n",
      "pulling 970aa74c0a90... 100% ▕▏ 274 MB                         \n",
      "pulling c71d239df917... 100% ▕▏  11 KB                         \n",
      "pulling ce4a164fc046... 100% ▕▏   17 B                         \n",
      "pulling 31df23ea7daa... 100% ▕▏  420 B                         \u001b[?25h\u001b[?25l\u001b[2K\u001b[1G\u001b[A\u001b[2K\u001b[1G\u001b[A\u001b[2K\u001b[1G\u001b[A\u001b[2K\u001b[1G\u001b[A\u001b[2K\u001b[1Gpulling manifest \n",
      "pulling 970aa74c0a90... 100% ▕▏ 274 MB                         \n",
      "pulling c71d239df917... 100% ▕▏  11 KB                         \n",
      "pulling ce4a164fc046... 100% ▕▏   17 B                         \n",
      "pulling 31df23ea7daa... 100% ▕▏  420 B                         \u001b[?25h\u001b[?25l\u001b[2K\u001b[1G\u001b[A\u001b[2K\u001b[1G\u001b[A\u001b[2K\u001b[1G\u001b[A\u001b[2K\u001b[1G\u001b[A\u001b[2K\u001b[1Gpulling manifest \n",
      "pulling 970aa74c0a90... 100% ▕▏ 274 MB                         \n",
      "pulling c71d239df917... 100% ▕▏  11 KB                         \n",
      "pulling ce4a164fc046... 100% ▕▏   17 B                         \n",
      "pulling 31df23ea7daa... 100% ▕▏  420 B                         \n",
      "verifying sha256 digest ⠋ \u001b[?25h\u001b[?25l\u001b[2K\u001b[1G\u001b[A\u001b[2K\u001b[1G\u001b[A\u001b[2K\u001b[1G\u001b[A\u001b[2K\u001b[1G\u001b[A\u001b[2K\u001b[1G\u001b[A\u001b[2K\u001b[1Gpulling manifest \n",
      "pulling 970aa74c0a90... 100% ▕▏ 274 MB                         \n",
      "pulling c71d239df917... 100% ▕▏  11 KB                         \n",
      "pulling ce4a164fc046... 100% ▕▏   17 B                         \n",
      "pulling 31df23ea7daa... 100% ▕▏  420 B                         \n",
      "verifying sha256 digest ⠙ \u001b[?25h\u001b[?25l\u001b[2K\u001b[1G\u001b[A\u001b[2K\u001b[1G\u001b[A\u001b[2K\u001b[1G\u001b[A\u001b[2K\u001b[1G\u001b[A\u001b[2K\u001b[1G\u001b[A\u001b[2K\u001b[1Gpulling manifest \n",
      "pulling 970aa74c0a90... 100% ▕▏ 274 MB                         \n",
      "pulling c71d239df917... 100% ▕▏  11 KB                         \n",
      "pulling ce4a164fc046... 100% ▕▏   17 B                         \n",
      "pulling 31df23ea7daa... 100% ▕▏  420 B                         \n",
      "verifying sha256 digest ⠹ \u001b[?25h\u001b[?25l\u001b[2K\u001b[1G\u001b[A\u001b[2K\u001b[1G\u001b[A\u001b[2K\u001b[1G\u001b[A\u001b[2K\u001b[1G\u001b[A\u001b[2K\u001b[1G\u001b[A\u001b[2K\u001b[1Gpulling manifest \n",
      "pulling 970aa74c0a90... 100% ▕▏ 274 MB                         \n",
      "pulling c71d239df917... 100% ▕▏  11 KB                         \n",
      "pulling ce4a164fc046... 100% ▕▏   17 B                         \n",
      "pulling 31df23ea7daa... 100% ▕▏  420 B                         \n",
      "verifying sha256 digest ⠸ \u001b[?25h\u001b[?25l\u001b[2K\u001b[1G\u001b[A\u001b[2K\u001b[1G\u001b[A\u001b[2K\u001b[1G\u001b[A\u001b[2K\u001b[1G\u001b[A\u001b[2K\u001b[1G\u001b[A\u001b[2K\u001b[1Gpulling manifest \n",
      "pulling 970aa74c0a90... 100% ▕▏ 274 MB                         \n",
      "pulling c71d239df917... 100% ▕▏  11 KB                         \n",
      "pulling ce4a164fc046... 100% ▕▏   17 B                         \n",
      "pulling 31df23ea7daa... 100% ▕▏  420 B                         \n",
      "verifying sha256 digest ⠼ \u001b[?25h\u001b[?25l\u001b[2K\u001b[1G\u001b[A\u001b[2K\u001b[1G\u001b[A\u001b[2K\u001b[1G\u001b[A\u001b[2K\u001b[1G\u001b[A\u001b[2K\u001b[1G\u001b[A\u001b[2K\u001b[1Gpulling manifest \n",
      "pulling 970aa74c0a90... 100% ▕▏ 274 MB                         \n",
      "pulling c71d239df917... 100% ▕▏  11 KB                         \n",
      "pulling ce4a164fc046... 100% ▕▏   17 B                         \n",
      "pulling 31df23ea7daa... 100% ▕▏  420 B                         \n",
      "verifying sha256 digest ⠴ \u001b[?25h\u001b[?25l\u001b[2K\u001b[1G\u001b[A\u001b[2K\u001b[1G\u001b[A\u001b[2K\u001b[1G\u001b[A\u001b[2K\u001b[1G\u001b[A\u001b[2K\u001b[1G\u001b[A\u001b[2K\u001b[1Gpulling manifest \n",
      "pulling 970aa74c0a90... 100% ▕▏ 274 MB                         \n",
      "pulling c71d239df917... 100% ▕▏  11 KB                         \n",
      "pulling ce4a164fc046... 100% ▕▏   17 B                         \n",
      "pulling 31df23ea7daa... 100% ▕▏  420 B                         \n",
      "verifying sha256 digest ⠦ \u001b[?25h\u001b[?25l\u001b[2K\u001b[1G\u001b[A\u001b[2K\u001b[1G\u001b[A\u001b[2K\u001b[1G\u001b[A\u001b[2K\u001b[1G\u001b[A\u001b[2K\u001b[1G\u001b[A\u001b[2K\u001b[1Gpulling manifest \n",
      "pulling 970aa74c0a90... 100% ▕▏ 274 MB                         \n",
      "pulling c71d239df917... 100% ▕▏  11 KB                         \n",
      "pulling ce4a164fc046... 100% ▕▏   17 B                         \n",
      "pulling 31df23ea7daa... 100% ▕▏  420 B                         \n",
      "verifying sha256 digest ⠧ \u001b[?25h\u001b[?25l\u001b[2K\u001b[1G\u001b[A\u001b[2K\u001b[1G\u001b[A\u001b[2K\u001b[1G\u001b[A\u001b[2K\u001b[1G\u001b[A\u001b[2K\u001b[1G\u001b[A\u001b[2K\u001b[1Gpulling manifest \n",
      "pulling 970aa74c0a90... 100% ▕▏ 274 MB                         \n",
      "pulling c71d239df917... 100% ▕▏  11 KB                         \n",
      "pulling ce4a164fc046... 100% ▕▏   17 B                         \n",
      "pulling 31df23ea7daa... 100% ▕▏  420 B                         \n",
      "verifying sha256 digest \n",
      "writing manifest \n",
      "success \u001b[?25h\n",
      "\u001b[?25lpulling manifest ⠙ \u001b[?25h\u001b[?25l\u001b[2K\u001b[1Gpulling manifest ⠙ \u001b[?25h\u001b[?25l\u001b[2K\u001b[1Gpulling manifest ⠸ \u001b[?25h\u001b[?25l\u001b[2K\u001b[1Gpulling manifest ⠼ \u001b[?25h\u001b[?25l\u001b[2K\u001b[1Gpulling manifest ⠼ \u001b[?25h\u001b[?25l\u001b[2K\u001b[1Gpulling manifest ⠴ \u001b[?25h\u001b[?25l\u001b[2K\u001b[1Gpulling manifest ⠧ \u001b[?25h\u001b[?25l\u001b[2K\u001b[1Gpulling manifest ⠇ \u001b[?25h\u001b[?25l\u001b[2K\u001b[1Gpulling manifest ⠇ \u001b[?25h\u001b[?25l\u001b[2K\u001b[1Gpulling manifest ⠋ \u001b[?25h\u001b[?25l\u001b[2K\u001b[1Gpulling manifest ⠙ \u001b[?25h\u001b[?25l\u001b[2K\u001b[1Gpulling manifest ⠙ \u001b[?25h\u001b[?25l\u001b[2K\u001b[1Gpulling manifest ⠹ \u001b[?25h\u001b[?25l\u001b[2K\u001b[1Gpulling manifest \n",
      "pulling 8eeb52dfb3bb...   0% ▕▏    0 B/4.7 GB                  \u001b[?25h\u001b[?25l\u001b[2K\u001b[1G\u001b[A\u001b[2K\u001b[1Gpulling manifest \n",
      "pulling 8eeb52dfb3bb...   0% ▕▏    0 B/4.7 GB                  \u001b[?25h\u001b[?25l\u001b[2K\u001b[1G\u001b[A\u001b[2K\u001b[1Gpulling manifest \n",
      "pulling 8eeb52dfb3bb...   0% ▕▏    0 B/4.7 GB                  \u001b[?25h\u001b[?25l\u001b[2K\u001b[1G\u001b[A\u001b[2K\u001b[1Gpulling manifest \n",
      "pulling 8eeb52dfb3bb...   0% ▕▏ 4.0 MB/4.7 GB                  \u001b[?25h\u001b[?25l\u001b[2K\u001b[1G\u001b[A\u001b[2K\u001b[1Gpulling manifest \n",
      "pulling 8eeb52dfb3bb...   1% ▕▏  30 MB/4.7 GB                  \u001b[?25h\u001b[?25l\u001b[2K\u001b[1G\u001b[A\u001b[2K\u001b[1Gpulling manifest \n",
      "pulling 8eeb52dfb3bb...   2% ▕▏  75 MB/4.7 GB                  \u001b[?25h\u001b[?25l\u001b[2K\u001b[1G\u001b[A\u001b[2K\u001b[1Gpulling manifest \n",
      "pulling 8eeb52dfb3bb...   2% ▕▏  87 MB/4.7 GB                  \u001b[?25h\u001b[?25l\u001b[2K\u001b[1G\u001b[A\u001b[2K\u001b[1Gpulling manifest \n",
      "pulling 8eeb52dfb3bb...   2% ▕▏ 114 MB/4.7 GB                  \u001b[?25h\u001b[?25l\u001b[2K\u001b[1G\u001b[A\u001b[2K\u001b[1Gpulling manifest \n",
      "pulling 8eeb52dfb3bb...   3% ▕▏ 153 MB/4.7 GB                  \u001b[?25h\u001b[?25l\u001b[2K\u001b[1G\u001b[A\u001b[2K\u001b[1Gpulling manifest \n",
      "pulling 8eeb52dfb3bb...   4% ▕▏ 185 MB/4.7 GB                  \u001b[?25h\u001b[?25l\u001b[2K\u001b[1G\u001b[A\u001b[2K\u001b[1Gpulling manifest \n",
      "pulling 8eeb52dfb3bb...   4% ▕▏ 206 MB/4.7 GB                  \u001b[?25h\u001b[?25l\u001b[2K\u001b[1G\u001b[A\u001b[2K\u001b[1Gpulling manifest \n",
      "pulling 8eeb52dfb3bb...   5% ▕▏ 247 MB/4.7 GB  222 MB/s     19s\u001b[?25h\u001b[?25l\u001b[2K\u001b[1G\u001b[A\u001b[2K\u001b[1Gpulling manifest \n",
      "pulling 8eeb52dfb3bb...   6% ▕▏ 299 MB/4.7 GB  222 MB/s     19s\u001b[?25h\u001b[?25l\u001b[2K\u001b[1G\u001b[A\u001b[2K\u001b[1Gpulling manifest \n",
      "pulling 8eeb52dfb3bb...   7% ▕▏ 320 MB/4.7 GB  222 MB/s     19s\u001b[?25h\u001b[?25l\u001b[2K\u001b[1G\u001b[A\u001b[2K\u001b[1Gpulling manifest \n",
      "pulling 8eeb52dfb3bb...   8% ▕▏ 366 MB/4.7 GB  222 MB/s     19s\u001b[?25h\u001b[?25l\u001b[2K\u001b[1G\u001b[A\u001b[2K\u001b[1Gpulling manifest \n",
      "pulling 8eeb52dfb3bb...   9% ▕▏ 417 MB/4.7 GB  222 MB/s     19s\u001b[?25h\u001b[?25l\u001b[2K\u001b[1G\u001b[A\u001b[2K\u001b[1Gpulling manifest \n",
      "pulling 8eeb52dfb3bb...   9% ▕▏ 428 MB/4.7 GB  222 MB/s     19s\u001b[?25h\u001b[?25l\u001b[2K\u001b[1G\u001b[A\u001b[2K\u001b[1Gpulling manifest \n",
      "pulling 8eeb52dfb3bb...  10% ▕▏ 461 MB/4.7 GB  222 MB/s     18s\u001b[?25h\u001b[?25l\u001b[2K\u001b[1G\u001b[A\u001b[2K\u001b[1Gpulling manifest \n",
      "pulling 8eeb52dfb3bb...  10% ▕▏ 487 MB/4.7 GB  222 MB/s     18s\u001b[?25h\u001b[?25l\u001b[2K\u001b[1G\u001b[A\u001b[2K\u001b[1Gpulling manifest \n",
      "pulling 8eeb52dfb3bb...  11% ▕▏ 505 MB/4.7 GB  222 MB/s     18s\u001b[?25h\u001b[?25l\u001b[2K\u001b[1G\u001b[A\u001b[2K\u001b[1Gpulling manifest \n",
      "pulling 8eeb52dfb3bb...  12% ▕▏ 537 MB/4.7 GB  222 MB/s     18s\u001b[?25h\u001b[?25l\u001b[2K\u001b[1G\u001b[A\u001b[2K\u001b[1Gpulling manifest \n",
      "pulling 8eeb52dfb3bb...  12% ▕▏ 567 MB/4.7 GB  275 MB/s     14s\u001b[?25h\u001b[?25l\u001b[2K\u001b[1G\u001b[A\u001b[2K\u001b[1Gpulling manifest \n",
      "pulling 8eeb52dfb3bb...  12% ▕▏ 577 MB/4.7 GB  275 MB/s     14s\u001b[?25h\u001b[?25l\u001b[2K\u001b[1G\u001b[A\u001b[2K\u001b[1Gpulling manifest \n",
      "pulling 8eeb52dfb3bb...  13% ▕▏ 610 MB/4.7 GB  275 MB/s     14s\u001b[?25h\u001b[?25l\u001b[2K\u001b[1G\u001b[A\u001b[2K\u001b[1Gpulling manifest \n",
      "pulling 8eeb52dfb3bb...  14% ▕▏ 637 MB/4.7 GB  275 MB/s     14s\u001b[?25h\u001b[?25l\u001b[2K\u001b[1G\u001b[A\u001b[2K\u001b[1Gpulling manifest \n",
      "pulling 8eeb52dfb3bb...  14% ▕▏ 657 MB/4.7 GB  275 MB/s     14s\u001b[?25h\u001b[?25l\u001b[2K\u001b[1G\u001b[A\u001b[2K\u001b[1Gpulling manifest \n",
      "pulling 8eeb52dfb3bb...  15% ▕▏ 687 MB/4.7 GB  275 MB/s     14s\u001b[?25h\u001b[?25l\u001b[2K\u001b[1G\u001b[A\u001b[2K\u001b[1Gpulling manifest \n",
      "pulling 8eeb52dfb3bb...  15% ▕▏ 714 MB/4.7 GB  275 MB/s     14s\u001b[?25h\u001b[?25l\u001b[2K\u001b[1G\u001b[A\u001b[2K\u001b[1Gpulling manifest \n",
      "pulling 8eeb52dfb3bb...  16% ▕▏ 732 MB/4.7 GB  275 MB/s     14s\u001b[?25h\u001b[?25l\u001b[2K\u001b[1G\u001b[A\u001b[2K\u001b[1Gpulling manifest \n",
      "pulling 8eeb52dfb3bb...  16% ▕▏ 757 MB/4.7 GB  275 MB/s     14s\u001b[?25h\u001b[?25l\u001b[2K\u001b[1G\u001b[A\u001b[2K\u001b[1Gpulling manifest \n",
      "pulling 8eeb52dfb3bb...  17% ▕▏ 795 MB/4.7 GB  275 MB/s     14s\u001b[?25h\u001b[?25l\u001b[2K\u001b[1G\u001b[A\u001b[2K\u001b[1Gpulling manifest \n",
      "pulling 8eeb52dfb3bb...  17% ▕▏ 806 MB/4.7 GB  268 MB/s     14s\u001b[?25h\u001b[?25l\u001b[2K\u001b[1G\u001b[A\u001b[2K\u001b[1Gpulling manifest \n",
      "pulling 8eeb52dfb3bb...  18% ▕▏ 841 MB/4.7 GB  268 MB/s     14s\u001b[?25h\u001b[?25l\u001b[2K\u001b[1G\u001b[A\u001b[2K\u001b[1Gpulling manifest \n",
      "pulling 8eeb52dfb3bb...  18% ▕▏ 861 MB/4.7 GB  268 MB/s     14s\u001b[?25h\u001b[?25l\u001b[2K\u001b[1G\u001b[A\u001b[2K\u001b[1Gpulling manifest \n",
      "pulling 8eeb52dfb3bb...  19% ▕▏ 880 MB/4.7 GB  268 MB/s     14s\u001b[?25h\u001b[?25l\u001b[2K\u001b[1G\u001b[A\u001b[2K\u001b[1Gpulling manifest \n",
      "pulling 8eeb52dfb3bb...  20% ▕▏ 909 MB/4.7 GB  268 MB/s     13s\u001b[?25h\u001b[?25l\u001b[2K\u001b[1G\u001b[A\u001b[2K\u001b[1Gpulling manifest \n",
      "pulling 8eeb52dfb3bb...  20% ▕▏ 941 MB/4.7 GB  268 MB/s     13s\u001b[?25h\u001b[?25l\u001b[2K\u001b[1G\u001b[A\u001b[2K\u001b[1Gpulling manifest \n",
      "pulling 8eeb52dfb3bb...  20% ▕▏ 951 MB/4.7 GB  268 MB/s     13s\u001b[?25h\u001b[?25l\u001b[2K\u001b[1G\u001b[A\u001b[2K\u001b[1Gpulling manifest \n",
      "pulling 8eeb52dfb3bb...  21% ▕▏ 976 MB/4.7 GB  268 MB/s     13s\u001b[?25h\u001b[?25l\u001b[2K\u001b[1G\u001b[A\u001b[2K\u001b[1Gpulling manifest \n",
      "pulling 8eeb52dfb3bb...  22% ▕▏ 1.0 GB/4.7 GB  268 MB/s     13s\u001b[?25h\u001b[?25l\u001b[2K\u001b[1G\u001b[A\u001b[2K\u001b[1Gpulling manifest \n",
      "pulling 8eeb52dfb3bb...  22% ▕▏ 1.0 GB/4.7 GB  268 MB/s     13s\u001b[?25h\u001b[?25l\u001b[2K\u001b[1G\u001b[A\u001b[2K\u001b[1Gpulling manifest \n",
      "pulling 8eeb52dfb3bb...  23% ▕▏ 1.1 GB/4.7 GB  263 MB/s     13s\u001b[?25h\u001b[?25l\u001b[2K\u001b[1G\u001b[A\u001b[2K\u001b[1Gpulling manifest \n",
      "pulling 8eeb52dfb3bb...  23% ▕▏ 1.1 GB/4.7 GB  263 MB/s     13s\u001b[?25h\u001b[?25l\u001b[2K\u001b[1G\u001b[A\u001b[2K\u001b[1Gpulling manifest \n",
      "pulling 8eeb52dfb3bb...  23% ▕▏ 1.1 GB/4.7 GB  263 MB/s     13s\u001b[?25h\u001b[?25l\u001b[2K\u001b[1G\u001b[A\u001b[2K\u001b[1Gpulling manifest \n",
      "pulling 8eeb52dfb3bb...  24% ▕▏ 1.1 GB/4.7 GB  263 MB/s     13s\u001b[?25h\u001b[?25l\u001b[2K\u001b[1G\u001b[A\u001b[2K\u001b[1Gpulling manifest \n",
      "pulling 8eeb52dfb3bb...  25% ▕▏ 1.1 GB/4.7 GB  263 MB/s     13s\u001b[?25h\u001b[?25l\u001b[2K\u001b[1G\u001b[A\u001b[2K\u001b[1Gpulling manifest \n",
      "pulling 8eeb52dfb3bb...  25% ▕▏ 1.2 GB/4.7 GB  263 MB/s     13s\u001b[?25h\u001b[?25l\u001b[2K\u001b[1G\u001b[A\u001b[2K\u001b[1Gpulling manifest \n",
      "pulling 8eeb52dfb3bb...  25% ▕▏ 1.2 GB/4.7 GB  263 MB/s     13s\u001b[?25h\u001b[?25l\u001b[2K\u001b[1G\u001b[A\u001b[2K\u001b[1Gpulling manifest \n",
      "pulling 8eeb52dfb3bb...  26% ▕▏ 1.2 GB/4.7 GB  263 MB/s     13s\u001b[?25h\u001b[?25l\u001b[2K\u001b[1G\u001b[A\u001b[2K\u001b[1Gpulling manifest \n",
      "pulling 8eeb52dfb3bb...  26% ▕▏ 1.2 GB/4.7 GB  263 MB/s     13s\u001b[?25h\u001b[?25l\u001b[2K\u001b[1G\u001b[A\u001b[2K\u001b[1Gpulling manifest \n",
      "pulling 8eeb52dfb3bb...  27% ▕▏ 1.3 GB/4.7 GB  263 MB/s     12s\u001b[?25h\u001b[?25l\u001b[2K\u001b[1G\u001b[A\u001b[2K\u001b[1Gpulling manifest \n",
      "pulling 8eeb52dfb3bb...  27% ▕▏ 1.3 GB/4.7 GB  255 MB/s     13s\u001b[?25h\u001b[?25l\u001b[2K\u001b[1G\u001b[A\u001b[2K\u001b[1Gpulling manifest \n",
      "pulling 8eeb52dfb3bb...  28% ▕▏ 1.3 GB/4.7 GB  255 MB/s     13s\u001b[?25h\u001b[?25l\u001b[2K\u001b[1G\u001b[A\u001b[2K\u001b[1Gpulling manifest \n",
      "pulling 8eeb52dfb3bb...  29% ▕▏ 1.3 GB/4.7 GB  255 MB/s     13s\u001b[?25h\u001b[?25l\u001b[2K\u001b[1G\u001b[A\u001b[2K\u001b[1Gpulling manifest \n",
      "pulling 8eeb52dfb3bb...  29% ▕▏ 1.3 GB/4.7 GB  255 MB/s     12s\u001b[?25h\u001b[?25l\u001b[2K\u001b[1G\u001b[A\u001b[2K\u001b[1Gpulling manifest \n",
      "pulling 8eeb52dfb3bb...  29% ▕▏ 1.4 GB/4.7 GB  255 MB/s     12s\u001b[?25h\u001b[?25l\u001b[2K\u001b[1G\u001b[A\u001b[2K\u001b[1Gpulling manifest \n",
      "pulling 8eeb52dfb3bb...  30% ▕▏ 1.4 GB/4.7 GB  255 MB/s     12s\u001b[?25h\u001b[?25l\u001b[2K\u001b[1G\u001b[A\u001b[2K\u001b[1Gpulling manifest \n",
      "pulling 8eeb52dfb3bb...  30% ▕▏ 1.4 GB/4.7 GB  255 MB/s     12s\u001b[?25h\u001b[?25l\u001b[2K\u001b[1G\u001b[A\u001b[2K\u001b[1Gpulling manifest \n",
      "pulling 8eeb52dfb3bb...  31% ▕▏ 1.4 GB/4.7 GB  255 MB/s     12s\u001b[?25h\u001b[?25l\u001b[2K\u001b[1G\u001b[A\u001b[2K\u001b[1Gpulling manifest \n",
      "pulling 8eeb52dfb3bb...  31% ▕▏ 1.5 GB/4.7 GB  255 MB/s     12s\u001b[?25h\u001b[?25l\u001b[2K\u001b[1G\u001b[A\u001b[2K\u001b[1Gpulling manifest \n",
      "pulling 8eeb52dfb3bb...  32% ▕▏ 1.5 GB/4.7 GB  255 MB/s     12s\u001b[?25h\u001b[?25l\u001b[2K\u001b[1G\u001b[A\u001b[2K\u001b[1Gpulling manifest \n",
      "pulling 8eeb52dfb3bb...  32% ▕▏ 1.5 GB/4.7 GB  255 MB/s     12s\u001b[?25h\u001b[?25l\u001b[2K\u001b[1G\u001b[A\u001b[2K\u001b[1Gpulling manifest \n",
      "pulling 8eeb52dfb3bb...  33% ▕▏ 1.5 GB/4.7 GB  252 MB/s     12s\u001b[?25h\u001b[?25l\u001b[2K\u001b[1G\u001b[A\u001b[2K\u001b[1Gpulling manifest \n",
      "pulling 8eeb52dfb3bb...  33% ▕▏ 1.6 GB/4.7 GB  252 MB/s     12s\u001b[?25h\u001b[?25l\u001b[2K\u001b[1G\u001b[A\u001b[2K\u001b[1Gpulling manifest \n",
      "pulling 8eeb52dfb3bb...  34% ▕▏ 1.6 GB/4.7 GB  252 MB/s     12s\u001b[?25h\u001b[?25l\u001b[2K\u001b[1G\u001b[A\u001b[2K\u001b[1Gpulling manifest \n",
      "pulling 8eeb52dfb3bb...  35% ▕▏ 1.6 GB/4.7 GB  252 MB/s     12s\u001b[?25h\u001b[?25l\u001b[2K\u001b[1G\u001b[A\u001b[2K\u001b[1Gpulling manifest \n",
      "pulling 8eeb52dfb3bb...  35% ▕▏ 1.6 GB/4.7 GB  252 MB/s     11s\u001b[?25h\u001b[?25l\u001b[2K\u001b[1G\u001b[A\u001b[2K\u001b[1Gpulling manifest \n",
      "pulling 8eeb52dfb3bb...  35% ▕▏ 1.6 GB/4.7 GB  252 MB/s     11s\u001b[?25h\u001b[?25l\u001b[2K\u001b[1G\u001b[A\u001b[2K\u001b[1Gpulling manifest \n",
      "pulling 8eeb52dfb3bb...  36% ▕▏ 1.7 GB/4.7 GB  252 MB/s     11s\u001b[?25h\u001b[?25l\u001b[2K\u001b[1G\u001b[A\u001b[2K\u001b[1Gpulling manifest \n",
      "pulling 8eeb52dfb3bb...  36% ▕▏ 1.7 GB/4.7 GB  252 MB/s     11s\u001b[?25h\u001b[?25l\u001b[2K\u001b[1G\u001b[A\u001b[2K\u001b[1Gpulling manifest \n",
      "pulling 8eeb52dfb3bb...  37% ▕▏ 1.7 GB/4.7 GB  252 MB/s     11s\u001b[?25h\u001b[?25l\u001b[2K\u001b[1G\u001b[A\u001b[2K\u001b[1Gpulling manifest \n",
      "pulling 8eeb52dfb3bb...  37% ▕▏ 1.7 GB/4.7 GB  252 MB/s     11s\u001b[?25h\u001b[?25l\u001b[2K\u001b[1G\u001b[A\u001b[2K\u001b[1Gpulling manifest \n",
      "pulling 8eeb52dfb3bb...  38% ▕▏ 1.8 GB/4.7 GB  251 MB/s     11s\u001b[?25h\u001b[?25l\u001b[2K\u001b[1G\u001b[A\u001b[2K\u001b[1Gpulling manifest \n",
      "pulling 8eeb52dfb3bb...  38% ▕▏ 1.8 GB/4.7 GB  251 MB/s     11s\u001b[?25h\u001b[?25l\u001b[2K\u001b[1G\u001b[A\u001b[2K\u001b[1Gpulling manifest \n",
      "pulling 8eeb52dfb3bb...  39% ▕▏ 1.8 GB/4.7 GB  251 MB/s     11s\u001b[?25h\u001b[?25l\u001b[2K\u001b[1G\u001b[A\u001b[2K\u001b[1Gpulling manifest \n",
      "pulling 8eeb52dfb3bb...  40% ▕▏ 1.8 GB/4.7 GB  251 MB/s     11s\u001b[?25h\u001b[?25l\u001b[2K\u001b[1G\u001b[A\u001b[2K\u001b[1Gpulling manifest \n",
      "pulling 8eeb52dfb3bb...  40% ▕▏ 1.9 GB/4.7 GB  251 MB/s     11s\u001b[?25h\u001b[?25l\u001b[2K\u001b[1G\u001b[A\u001b[2K\u001b[1Gpulling manifest \n",
      "pulling 8eeb52dfb3bb...  41% ▕▏ 1.9 GB/4.7 GB  251 MB/s     10s\u001b[?25h\u001b[?25l\u001b[2K\u001b[1G\u001b[A\u001b[2K\u001b[1Gpulling manifest \n",
      "pulling 8eeb52dfb3bb...  41% ▕▏ 1.9 GB/4.7 GB  251 MB/s     10s\u001b[?25h\u001b[?25l\u001b[2K\u001b[1G\u001b[A\u001b[2K\u001b[1Gpulling manifest \n",
      "pulling 8eeb52dfb3bb...  42% ▕▏ 1.9 GB/4.7 GB  251 MB/s     10s\u001b[?25h\u001b[?25l\u001b[2K\u001b[1G\u001b[A\u001b[2K\u001b[1Gpulling manifest \n",
      "pulling 8eeb52dfb3bb...  42% ▕▏ 2.0 GB/4.7 GB  251 MB/s     10s\u001b[?25h\u001b[?25l\u001b[2K\u001b[1G\u001b[A\u001b[2K\u001b[1Gpulling manifest \n",
      "pulling 8eeb52dfb3bb...  43% ▕▏ 2.0 GB/4.7 GB  251 MB/s     10s\u001b[?25h\u001b[?25l\u001b[2K\u001b[1G\u001b[A\u001b[2K\u001b[1Gpulling manifest \n",
      "pulling 8eeb52dfb3bb...  43% ▕▏ 2.0 GB/4.7 GB  251 MB/s     10s\u001b[?25h\u001b[?25l\u001b[2K\u001b[1G\u001b[A\u001b[2K\u001b[1Gpulling manifest \n",
      "pulling 8eeb52dfb3bb...  44% ▕▏ 2.1 GB/4.7 GB  251 MB/s     10s\u001b[?25h\u001b[?25l\u001b[2K\u001b[1G\u001b[A\u001b[2K\u001b[1Gpulling manifest \n",
      "pulling 8eeb52dfb3bb...  44% ▕▏ 2.1 GB/4.7 GB  251 MB/s     10s\u001b[?25h\u001b[?25l\u001b[2K\u001b[1G\u001b[A\u001b[2K\u001b[1Gpulling manifest \n",
      "pulling 8eeb52dfb3bb...  45% ▕▏ 2.1 GB/4.7 GB  251 MB/s     10s\u001b[?25h\u001b[?25l\u001b[2K\u001b[1G\u001b[A\u001b[2K\u001b[1Gpulling manifest \n",
      "pulling 8eeb52dfb3bb...  45% ▕▏ 2.1 GB/4.7 GB  251 MB/s     10s\u001b[?25h\u001b[?25l\u001b[2K\u001b[1G\u001b[A\u001b[2K\u001b[1Gpulling manifest \n",
      "pulling 8eeb52dfb3bb...  46% ▕▏ 2.1 GB/4.7 GB  251 MB/s     10s\u001b[?25h\u001b[?25l\u001b[2K\u001b[1G\u001b[A\u001b[2K\u001b[1Gpulling manifest \n",
      "pulling 8eeb52dfb3bb...  46% ▕▏ 2.2 GB/4.7 GB  251 MB/s      9s\u001b[?25h\u001b[?25l\u001b[2K\u001b[1G\u001b[A\u001b[2K\u001b[1Gpulling manifest \n",
      "pulling 8eeb52dfb3bb...  47% ▕▏ 2.2 GB/4.7 GB  251 MB/s      9s\u001b[?25h\u001b[?25l\u001b[2K\u001b[1G\u001b[A\u001b[2K\u001b[1Gpulling manifest \n",
      "pulling 8eeb52dfb3bb...  47% ▕▏ 2.2 GB/4.7 GB  251 MB/s      9s\u001b[?25h\u001b[?25l\u001b[2K\u001b[1G\u001b[A\u001b[2K\u001b[1Gpulling manifest \n",
      "pulling 8eeb52dfb3bb...  48% ▕▏ 2.2 GB/4.7 GB  251 MB/s      9s\u001b[?25h\u001b[?25l\u001b[2K\u001b[1G\u001b[A\u001b[2K\u001b[1Gpulling manifest \n",
      "pulling 8eeb52dfb3bb...  48% ▕▏ 2.2 GB/4.7 GB  249 MB/s      9s\u001b[?25h\u001b[?25l\u001b[2K\u001b[1G\u001b[A\u001b[2K\u001b[1Gpulling manifest \n",
      "pulling 8eeb52dfb3bb...  49% ▕▏ 2.3 GB/4.7 GB  249 MB/s      9s\u001b[?25h\u001b[?25l\u001b[2K\u001b[1G\u001b[A\u001b[2K\u001b[1Gpulling manifest \n",
      "pulling 8eeb52dfb3bb...  49% ▕▏ 2.3 GB/4.7 GB  249 MB/s      9s\u001b[?25h\u001b[?25l\u001b[2K\u001b[1G\u001b[A\u001b[2K\u001b[1Gpulling manifest \n",
      "pulling 8eeb52dfb3bb...  50% ▕▏ 2.3 GB/4.7 GB  249 MB/s      9s\u001b[?25h\u001b[?25l\u001b[2K\u001b[1G\u001b[A\u001b[2K\u001b[1Gpulling manifest \n",
      "pulling 8eeb52dfb3bb...  50% ▕▏ 2.3 GB/4.7 GB  249 MB/s      9s\u001b[?25h\u001b[?25l\u001b[2K\u001b[1G\u001b[A\u001b[2K\u001b[1Gpulling manifest \n",
      "pulling 8eeb52dfb3bb...  51% ▕▏ 2.4 GB/4.7 GB  249 MB/s      9s\u001b[?25h\u001b[?25l\u001b[2K\u001b[1G\u001b[A\u001b[2K\u001b[1Gpulling manifest \n",
      "pulling 8eeb52dfb3bb...  51% ▕▏ 2.4 GB/4.7 GB  249 MB/s      9s\u001b[?25h\u001b[?25l\u001b[2K\u001b[1G\u001b[A\u001b[2K\u001b[1Gpulling manifest \n",
      "pulling 8eeb52dfb3bb...  52% ▕▏ 2.4 GB/4.7 GB  249 MB/s      8s\u001b[?25h\u001b[?25l\u001b[2K\u001b[1G\u001b[A\u001b[2K\u001b[1Gpulling manifest \n",
      "pulling 8eeb52dfb3bb...  52% ▕▏ 2.4 GB/4.7 GB  249 MB/s      8s\u001b[?25h\u001b[?25l\u001b[2K\u001b[1G\u001b[A\u001b[2K\u001b[1Gpulling manifest \n",
      "pulling 8eeb52dfb3bb...  53% ▕▏ 2.5 GB/4.7 GB  249 MB/s      8s\u001b[?25h\u001b[?25l\u001b[2K\u001b[1G\u001b[A\u001b[2K\u001b[1Gpulling manifest \n",
      "pulling 8eeb52dfb3bb...  53% ▕▏ 2.5 GB/4.7 GB  252 MB/s      8s\u001b[?25h\u001b[?25l\u001b[2K\u001b[1G\u001b[A\u001b[2K\u001b[1Gpulling manifest \n",
      "pulling 8eeb52dfb3bb...  54% ▕▏ 2.5 GB/4.7 GB  252 MB/s      8s\u001b[?25h\u001b[?25l\u001b[2K\u001b[1G\u001b[A\u001b[2K\u001b[1Gpulling manifest \n",
      "pulling 8eeb52dfb3bb...  54% ▕▏ 2.5 GB/4.7 GB  252 MB/s      8s\u001b[?25h\u001b[?25l\u001b[2K\u001b[1G\u001b[A\u001b[2K\u001b[1Gpulling manifest \n",
      "pulling 8eeb52dfb3bb...  55% ▕▏ 2.6 GB/4.7 GB  252 MB/s      8s\u001b[?25h\u001b[?25l\u001b[2K\u001b[1G\u001b[A\u001b[2K\u001b[1Gpulling manifest \n",
      "pulling 8eeb52dfb3bb...  55% ▕▏ 2.6 GB/4.7 GB  252 MB/s      8s\u001b[?25h\u001b[?25l\u001b[2K\u001b[1G\u001b[A\u001b[2K\u001b[1Gpulling manifest \n",
      "pulling 8eeb52dfb3bb...  56% ▕▏ 2.6 GB/4.7 GB  252 MB/s      8s\u001b[?25h\u001b[?25l\u001b[2K\u001b[1G\u001b[A\u001b[2K\u001b[1Gpulling manifest \n",
      "pulling 8eeb52dfb3bb...  57% ▕▏ 2.6 GB/4.7 GB  252 MB/s      7s\u001b[?25h\u001b[?25l\u001b[2K\u001b[1G\u001b[A\u001b[2K\u001b[1Gpulling manifest \n",
      "pulling 8eeb52dfb3bb...  57% ▕▏ 2.7 GB/4.7 GB  252 MB/s      7s\u001b[?25h\u001b[?25l\u001b[2K\u001b[1G\u001b[A\u001b[2K\u001b[1Gpulling manifest \n",
      "pulling 8eeb52dfb3bb...  58% ▕▏ 2.7 GB/4.7 GB  252 MB/s      7s\u001b[?25h\u001b[?25l\u001b[2K\u001b[1G\u001b[A\u001b[2K\u001b[1Gpulling manifest \n",
      "pulling 8eeb52dfb3bb...  59% ▕▏ 2.7 GB/4.7 GB  252 MB/s      7s\u001b[?25h\u001b[?25l\u001b[2K\u001b[1G\u001b[A\u001b[2K\u001b[1Gpulling manifest \n",
      "pulling 8eeb52dfb3bb...  59% ▕▏ 2.8 GB/4.7 GB  252 MB/s      7s\u001b[?25h\u001b[?25l\u001b[2K\u001b[1G\u001b[A\u001b[2K\u001b[1Gpulling manifest \n",
      "pulling 8eeb52dfb3bb...  60% ▕▏ 2.8 GB/4.7 GB  245 MB/s      7s\u001b[?25h\u001b[?25l\u001b[2K\u001b[1G\u001b[A\u001b[2K\u001b[1Gpulling manifest \n",
      "pulling 8eeb52dfb3bb...  60% ▕▏ 2.8 GB/4.7 GB  245 MB/s      7s\u001b[?25h\u001b[?25l\u001b[2K\u001b[1G\u001b[A\u001b[2K\u001b[1Gpulling manifest \n",
      "pulling 8eeb52dfb3bb...  61% ▕▏ 2.8 GB/4.7 GB  245 MB/s      7s\u001b[?25h\u001b[?25l\u001b[2K\u001b[1G\u001b[A\u001b[2K\u001b[1Gpulling manifest \n",
      "pulling 8eeb52dfb3bb...  61% ▕▏ 2.9 GB/4.7 GB  245 MB/s      7s\u001b[?25h\u001b[?25l\u001b[2K\u001b[1G\u001b[A\u001b[2K\u001b[1Gpulling manifest \n",
      "pulling 8eeb52dfb3bb...  62% ▕▏ 2.9 GB/4.7 GB  245 MB/s      7s\u001b[?25h\u001b[?25l\u001b[2K\u001b[1G\u001b[A\u001b[2K\u001b[1Gpulling manifest \n",
      "pulling 8eeb52dfb3bb...  62% ▕▏ 2.9 GB/4.7 GB  245 MB/s      7s\u001b[?25h\u001b[?25l\u001b[2K\u001b[1G\u001b[A\u001b[2K\u001b[1Gpulling manifest \n",
      "pulling 8eeb52dfb3bb...  63% ▕▏ 2.9 GB/4.7 GB  245 MB/s      7s\u001b[?25h\u001b[?25l\u001b[2K\u001b[1G\u001b[A\u001b[2K\u001b[1Gpulling manifest \n",
      "pulling 8eeb52dfb3bb...  64% ▕▏ 3.0 GB/4.7 GB  245 MB/s      6s\u001b[?25h\u001b[?25l\u001b[2K\u001b[1G\u001b[A\u001b[2K\u001b[1Gpulling manifest \n",
      "pulling 8eeb52dfb3bb...  64% ▕▏ 3.0 GB/4.7 GB  245 MB/s      6s\u001b[?25h\u001b[?25l\u001b[2K\u001b[1G\u001b[A\u001b[2K\u001b[1Gpulling manifest \n",
      "pulling 8eeb52dfb3bb...  65% ▕▏ 3.0 GB/4.7 GB  245 MB/s      6s\u001b[?25h\u001b[?25l\u001b[2K\u001b[1G\u001b[A\u001b[2K\u001b[1Gpulling manifest \n",
      "pulling 8eeb52dfb3bb...  65% ▕▏ 3.0 GB/4.7 GB  247 MB/s      6s\u001b[?25h\u001b[?25l\u001b[2K\u001b[1G\u001b[A\u001b[2K\u001b[1Gpulling manifest \n",
      "pulling 8eeb52dfb3bb...  66% ▕▏ 3.1 GB/4.7 GB  247 MB/s      6s\u001b[?25h\u001b[?25l\u001b[2K\u001b[1G\u001b[A\u001b[2K\u001b[1Gpulling manifest \n",
      "pulling 8eeb52dfb3bb...  66% ▕▏ 3.1 GB/4.7 GB  247 MB/s      6s\u001b[?25h\u001b[?25l\u001b[2K\u001b[1G\u001b[A\u001b[2K\u001b[1Gpulling manifest \n",
      "pulling 8eeb52dfb3bb...  67% ▕▏ 3.1 GB/4.7 GB  247 MB/s      6s\u001b[?25h\u001b[?25l\u001b[2K\u001b[1G\u001b[A\u001b[2K\u001b[1Gpulling manifest \n",
      "pulling 8eeb52dfb3bb...  67% ▕▏ 3.1 GB/4.7 GB  247 MB/s      6s\u001b[?25h\u001b[?25l\u001b[2K\u001b[1G\u001b[A\u001b[2K\u001b[1Gpulling manifest \n",
      "pulling 8eeb52dfb3bb...  68% ▕▏ 3.2 GB/4.7 GB  247 MB/s      6s\u001b[?25h\u001b[?25l\u001b[2K\u001b[1G\u001b[A\u001b[2K\u001b[1Gpulling manifest \n",
      "pulling 8eeb52dfb3bb...  68% ▕▏ 3.2 GB/4.7 GB  247 MB/s      5s\u001b[?25h\u001b[?25l\u001b[2K\u001b[1G\u001b[A\u001b[2K\u001b[1Gpulling manifest \n",
      "pulling 8eeb52dfb3bb...  69% ▕▏ 3.2 GB/4.7 GB  247 MB/s      5s\u001b[?25h\u001b[?25l\u001b[2K\u001b[1G\u001b[A\u001b[2K\u001b[1Gpulling manifest \n",
      "pulling 8eeb52dfb3bb...  69% ▕▏ 3.2 GB/4.7 GB  247 MB/s      5s\u001b[?25h\u001b[?25l\u001b[2K\u001b[1G\u001b[A\u001b[2K\u001b[1Gpulling manifest \n",
      "pulling 8eeb52dfb3bb...  70% ▕▏ 3.3 GB/4.7 GB  247 MB/s      5s\u001b[?25h\u001b[?25l\u001b[2K\u001b[1G\u001b[A\u001b[2K\u001b[1Gpulling manifest \n",
      "pulling 8eeb52dfb3bb...  70% ▕▏ 3.3 GB/4.7 GB  247 MB/s      5s\u001b[?25h\u001b[?25l\u001b[2K\u001b[1G\u001b[A\u001b[2K\u001b[1Gpulling manifest \n",
      "pulling 8eeb52dfb3bb...  71% ▕▏ 3.3 GB/4.7 GB  247 MB/s      5s\u001b[?25h\u001b[?25l\u001b[2K\u001b[1G\u001b[A\u001b[2K\u001b[1Gpulling manifest \n",
      "pulling 8eeb52dfb3bb...  72% ▕▏ 3.3 GB/4.7 GB  247 MB/s      5s\u001b[?25h\u001b[?25l\u001b[2K\u001b[1G\u001b[A\u001b[2K\u001b[1Gpulling manifest \n",
      "pulling 8eeb52dfb3bb...  72% ▕▏ 3.4 GB/4.7 GB  247 MB/s      5s\u001b[?25h\u001b[?25l\u001b[2K\u001b[1G\u001b[A\u001b[2K\u001b[1Gpulling manifest \n",
      "pulling 8eeb52dfb3bb...  73% ▕▏ 3.4 GB/4.7 GB  247 MB/s      5s\u001b[?25h\u001b[?25l\u001b[2K\u001b[1G\u001b[A\u001b[2K\u001b[1Gpulling manifest \n",
      "pulling 8eeb52dfb3bb...  73% ▕▏ 3.4 GB/4.7 GB  247 MB/s      5s\u001b[?25h\u001b[?25l\u001b[2K\u001b[1G\u001b[A\u001b[2K\u001b[1Gpulling manifest \n",
      "pulling 8eeb52dfb3bb...  74% ▕▏ 3.4 GB/4.7 GB  247 MB/s      4s\u001b[?25h\u001b[?25l\u001b[2K\u001b[1G\u001b[A\u001b[2K\u001b[1Gpulling manifest \n",
      "pulling 8eeb52dfb3bb...  75% ▕▏ 3.5 GB/4.7 GB  247 MB/s      4s\u001b[?25h\u001b[?25l\u001b[2K\u001b[1G\u001b[A\u001b[2K\u001b[1Gpulling manifest \n",
      "pulling 8eeb52dfb3bb...  76% ▕▏ 3.5 GB/4.7 GB  247 MB/s      4s\u001b[?25h\u001b[?25l\u001b[2K\u001b[1G\u001b[A\u001b[2K\u001b[1Gpulling manifest \n",
      "pulling 8eeb52dfb3bb...  76% ▕▏ 3.5 GB/4.7 GB  247 MB/s      4s\u001b[?25h\u001b[?25l\u001b[2K\u001b[1G\u001b[A\u001b[2K\u001b[1Gpulling manifest \n",
      "pulling 8eeb52dfb3bb...  77% ▕▏ 3.6 GB/4.7 GB  255 MB/s      4s\u001b[?25h\u001b[?25l\u001b[2K\u001b[1G\u001b[A\u001b[2K\u001b[1Gpulling manifest \n",
      "pulling 8eeb52dfb3bb...  77% ▕▏ 3.6 GB/4.7 GB  255 MB/s      4s\u001b[?25h\u001b[?25l\u001b[2K\u001b[1G\u001b[A\u001b[2K\u001b[1Gpulling manifest \n",
      "pulling 8eeb52dfb3bb...  78% ▕▏ 3.6 GB/4.7 GB  255 MB/s      4s\u001b[?25h\u001b[?25l\u001b[2K\u001b[1G\u001b[A\u001b[2K\u001b[1Gpulling manifest \n",
      "pulling 8eeb52dfb3bb...  78% ▕▏ 3.6 GB/4.7 GB  255 MB/s      3s\u001b[?25h\u001b[?25l\u001b[2K\u001b[1G\u001b[A\u001b[2K\u001b[1Gpulling manifest \n",
      "pulling 8eeb52dfb3bb...  79% ▕▏ 3.7 GB/4.7 GB  255 MB/s      3s\u001b[?25h\u001b[?25l\u001b[2K\u001b[1G\u001b[A\u001b[2K\u001b[1Gpulling manifest \n",
      "pulling 8eeb52dfb3bb...  79% ▕▏ 3.7 GB/4.7 GB  255 MB/s      3s\u001b[?25h\u001b[?25l\u001b[2K\u001b[1G\u001b[A\u001b[2K\u001b[1Gpulling manifest \n",
      "pulling 8eeb52dfb3bb...  80% ▕▏ 3.7 GB/4.7 GB  255 MB/s      3s\u001b[?25h\u001b[?25l\u001b[2K\u001b[1G\u001b[A\u001b[2K\u001b[1Gpulling manifest \n",
      "pulling 8eeb52dfb3bb...  80% ▕▏ 3.7 GB/4.7 GB  255 MB/s      3s\u001b[?25h\u001b[?25l\u001b[2K\u001b[1G\u001b[A\u001b[2K\u001b[1Gpulling manifest \n",
      "pulling 8eeb52dfb3bb...  80% ▕▏ 3.8 GB/4.7 GB  255 MB/s      3s\u001b[?25h\u001b[?25l\u001b[2K\u001b[1G\u001b[A\u001b[2K\u001b[1Gpulling manifest \n",
      "pulling 8eeb52dfb3bb...  81% ▕▏ 3.8 GB/4.7 GB  255 MB/s      3s\u001b[?25h\u001b[?25l\u001b[2K\u001b[1G\u001b[A\u001b[2K\u001b[1Gpulling manifest \n",
      "pulling 8eeb52dfb3bb...  82% ▕▏ 3.8 GB/4.7 GB  255 MB/s      3s\u001b[?25h\u001b[?25l\u001b[2K\u001b[1G\u001b[A\u001b[2K\u001b[1Gpulling manifest \n",
      "pulling 8eeb52dfb3bb...  82% ▕▏ 3.8 GB/4.7 GB  256 MB/s      3s\u001b[?25h\u001b[?25l\u001b[2K\u001b[1G\u001b[A\u001b[2K\u001b[1Gpulling manifest \n",
      "pulling 8eeb52dfb3bb...  83% ▕▏ 3.9 GB/4.7 GB  256 MB/s      3s\u001b[?25h\u001b[?25l\u001b[2K\u001b[1G\u001b[A\u001b[2K\u001b[1Gpulling manifest \n",
      "pulling 8eeb52dfb3bb...  84% ▕▏ 3.9 GB/4.7 GB  256 MB/s      2s\u001b[?25h\u001b[?25l\u001b[2K\u001b[1G\u001b[A\u001b[2K\u001b[1Gpulling manifest \n",
      "pulling 8eeb52dfb3bb...  84% ▕▏ 3.9 GB/4.7 GB  256 MB/s      2s\u001b[?25h\u001b[?25l\u001b[2K\u001b[1G\u001b[A\u001b[2K\u001b[1Gpulling manifest \n",
      "pulling 8eeb52dfb3bb...  85% ▕▏ 3.9 GB/4.7 GB  256 MB/s      2s\u001b[?25h\u001b[?25l\u001b[2K\u001b[1G\u001b[A\u001b[2K\u001b[1Gpulling manifest \n",
      "pulling 8eeb52dfb3bb...  85% ▕▏ 4.0 GB/4.7 GB  256 MB/s      2s\u001b[?25h\u001b[?25l\u001b[2K\u001b[1G\u001b[A\u001b[2K\u001b[1Gpulling manifest \n",
      "pulling 8eeb52dfb3bb...  86% ▕▏ 4.0 GB/4.7 GB  256 MB/s      2s\u001b[?25h\u001b[?25l\u001b[2K\u001b[1G\u001b[A\u001b[2K\u001b[1Gpulling manifest \n",
      "pulling 8eeb52dfb3bb...  86% ▕▏ 4.0 GB/4.7 GB  256 MB/s      2s\u001b[?25h\u001b[?25l\u001b[2K\u001b[1G\u001b[A\u001b[2K\u001b[1Gpulling manifest \n",
      "pulling 8eeb52dfb3bb...  87% ▕▏ 4.0 GB/4.7 GB  256 MB/s      2s\u001b[?25h\u001b[?25l\u001b[2K\u001b[1G\u001b[A\u001b[2K\u001b[1Gpulling manifest \n",
      "pulling 8eeb52dfb3bb...  87% ▕▏ 4.1 GB/4.7 GB  256 MB/s      2s\u001b[?25h\u001b[?25l\u001b[2K\u001b[1G\u001b[A\u001b[2K\u001b[1Gpulling manifest \n",
      "pulling 8eeb52dfb3bb...  88% ▕▏ 4.1 GB/4.7 GB  256 MB/s      2s\u001b[?25h\u001b[?25l\u001b[2K\u001b[1G\u001b[A\u001b[2K\u001b[1Gpulling manifest \n",
      "pulling 8eeb52dfb3bb...  88% ▕▏ 4.1 GB/4.7 GB  256 MB/s      2s\u001b[?25h\u001b[?25l\u001b[2K\u001b[1G\u001b[A\u001b[2K\u001b[1Gpulling manifest \n",
      "pulling 8eeb52dfb3bb...  88% ▕▏ 4.1 GB/4.7 GB  256 MB/s      2s\u001b[?25h\u001b[?25l\u001b[2K\u001b[1G\u001b[A\u001b[2K\u001b[1Gpulling manifest \n",
      "pulling 8eeb52dfb3bb...  89% ▕▏ 4.1 GB/4.7 GB  256 MB/s      2s\u001b[?25h\u001b[?25l\u001b[2K\u001b[1G\u001b[A\u001b[2K\u001b[1Gpulling manifest \n",
      "pulling 8eeb52dfb3bb...  90% ▕▏ 4.2 GB/4.7 GB  256 MB/s      1s\u001b[?25h\u001b[?25l\u001b[2K\u001b[1G\u001b[A\u001b[2K\u001b[1Gpulling manifest \n",
      "pulling 8eeb52dfb3bb...  90% ▕▏ 4.2 GB/4.7 GB  256 MB/s      1s\u001b[?25h\u001b[?25l\u001b[2K\u001b[1G\u001b[A\u001b[2K\u001b[1Gpulling manifest \n",
      "pulling 8eeb52dfb3bb...  90% ▕▏ 4.2 GB/4.7 GB  256 MB/s      1s\u001b[?25h\u001b[?25l\u001b[2K\u001b[1G\u001b[A\u001b[2K\u001b[1Gpulling manifest \n",
      "pulling 8eeb52dfb3bb...  91% ▕▏ 4.3 GB/4.7 GB  256 MB/s      1s\u001b[?25h\u001b[?25l\u001b[2K\u001b[1G\u001b[A\u001b[2K\u001b[1Gpulling manifest \n",
      "pulling 8eeb52dfb3bb...  91% ▕▏ 4.3 GB/4.7 GB  256 MB/s      1s\u001b[?25h\u001b[?25l\u001b[2K\u001b[1G\u001b[A\u001b[2K\u001b[1Gpulling manifest \n",
      "pulling 8eeb52dfb3bb...  92% ▕▏ 4.3 GB/4.7 GB  256 MB/s      1s\u001b[?25h\u001b[?25l\u001b[2K\u001b[1G\u001b[A\u001b[2K\u001b[1Gpulling manifest \n",
      "pulling 8eeb52dfb3bb...  93% ▕▏ 4.3 GB/4.7 GB  254 MB/s      1s\u001b[?25h\u001b[?25l\u001b[2K\u001b[1G\u001b[A\u001b[2K\u001b[1Gpulling manifest \n",
      "pulling 8eeb52dfb3bb...  93% ▕▏ 4.3 GB/4.7 GB  254 MB/s      1s\u001b[?25h\u001b[?25l\u001b[2K\u001b[1G\u001b[A\u001b[2K\u001b[1Gpulling manifest \n",
      "pulling 8eeb52dfb3bb...  94% ▕▏ 4.4 GB/4.7 GB  254 MB/s      1s\u001b[?25h\u001b[?25l\u001b[2K\u001b[1G\u001b[A\u001b[2K\u001b[1Gpulling manifest \n",
      "pulling 8eeb52dfb3bb...  94% ▕▏ 4.4 GB/4.7 GB  254 MB/s      1s\u001b[?25h\u001b[?25l\u001b[2K\u001b[1G\u001b[A\u001b[2K\u001b[1Gpulling manifest \n",
      "pulling 8eeb52dfb3bb...  95% ▕▏ 4.4 GB/4.7 GB  254 MB/s      0s\u001b[?25h\u001b[?25l\u001b[2K\u001b[1G\u001b[A\u001b[2K\u001b[1Gpulling manifest \n",
      "pulling 8eeb52dfb3bb...  95% ▕▏ 4.4 GB/4.7 GB  254 MB/s      0s\u001b[?25h\u001b[?25l\u001b[2K\u001b[1G\u001b[A\u001b[2K\u001b[1Gpulling manifest \n",
      "pulling 8eeb52dfb3bb...  96% ▕▏ 4.5 GB/4.7 GB  254 MB/s      0s\u001b[?25h\u001b[?25l\u001b[2K\u001b[1G\u001b[A\u001b[2K\u001b[1Gpulling manifest \n",
      "pulling 8eeb52dfb3bb...  96% ▕▏ 4.5 GB/4.7 GB  254 MB/s      0s\u001b[?25h\u001b[?25l\u001b[2K\u001b[1G\u001b[A\u001b[2K\u001b[1Gpulling manifest \n",
      "pulling 8eeb52dfb3bb...  97% ▕▏ 4.5 GB/4.7 GB  254 MB/s      0s\u001b[?25h\u001b[?25l\u001b[2K\u001b[1G\u001b[A\u001b[2K\u001b[1Gpulling manifest \n",
      "pulling 8eeb52dfb3bb...  98% ▕▏ 4.6 GB/4.7 GB  254 MB/s      0s\u001b[?25h\u001b[?25l\u001b[2K\u001b[1G\u001b[A\u001b[2K\u001b[1Gpulling manifest \n",
      "pulling 8eeb52dfb3bb...  98% ▕▏ 4.6 GB/4.7 GB  257 MB/s      0s\u001b[?25h\u001b[?25l\u001b[2K\u001b[1G\u001b[A\u001b[2K\u001b[1Gpulling manifest \n",
      "pulling 8eeb52dfb3bb...  99% ▕▏ 4.6 GB/4.7 GB  257 MB/s      0s\u001b[?25h\u001b[?25l\u001b[2K\u001b[1G\u001b[A\u001b[2K\u001b[1Gpulling manifest \n",
      "pulling 8eeb52dfb3bb...  99% ▕▏ 4.6 GB/4.7 GB  257 MB/s      0s\u001b[?25h\u001b[?25l\u001b[2K\u001b[1G\u001b[A\u001b[2K\u001b[1Gpulling manifest \n",
      "pulling 8eeb52dfb3bb... 100% ▕▏ 4.6 GB/4.7 GB  257 MB/s      0s\u001b[?25h\u001b[?25l\u001b[2K\u001b[1G\u001b[A\u001b[2K\u001b[1Gpulling manifest \n",
      "pulling 8eeb52dfb3bb... 100% ▕▏ 4.7 GB/4.7 GB  257 MB/s      0s\u001b[?25h\u001b[?25l\u001b[2K\u001b[1G\u001b[A\u001b[2K\u001b[1Gpulling manifest \n",
      "pulling 8eeb52dfb3bb... 100% ▕▏ 4.7 GB/4.7 GB  257 MB/s      0s\u001b[?25h\u001b[?25l\u001b[2K\u001b[1G\u001b[A\u001b[2K\u001b[1Gpulling manifest \n",
      "pulling 8eeb52dfb3bb... 100% ▕▏ 4.7 GB                         \u001b[?25h\u001b[?25l\u001b[2K\u001b[1G\u001b[A\u001b[2K\u001b[1Gpulling manifest \n",
      "pulling 8eeb52dfb3bb... 100% ▕▏ 4.7 GB                         \u001b[?25h\u001b[?25l\u001b[2K\u001b[1G\u001b[A\u001b[2K\u001b[1Gpulling manifest \n",
      "pulling 8eeb52dfb3bb... 100% ▕▏ 4.7 GB                         \u001b[?25h\u001b[?25l\u001b[2K\u001b[1G\u001b[A\u001b[2K\u001b[1Gpulling manifest \n",
      "pulling 8eeb52dfb3bb... 100% ▕▏ 4.7 GB                         \u001b[?25h\u001b[?25l\u001b[2K\u001b[1G\u001b[A\u001b[2K\u001b[1Gpulling manifest \n",
      "pulling 8eeb52dfb3bb... 100% ▕▏ 4.7 GB                         \u001b[?25h\u001b[?25l\u001b[2K\u001b[1G\u001b[A\u001b[2K\u001b[1Gpulling manifest \n",
      "pulling 8eeb52dfb3bb... 100% ▕▏ 4.7 GB                         \u001b[?25h\u001b[?25l\u001b[2K\u001b[1G\u001b[A\u001b[2K\u001b[1Gpulling manifest \n",
      "pulling 8eeb52dfb3bb... 100% ▕▏ 4.7 GB                         \u001b[?25h\u001b[?25l\u001b[2K\u001b[1G\u001b[A\u001b[2K\u001b[1Gpulling manifest \n",
      "pulling 8eeb52dfb3bb... 100% ▕▏ 4.7 GB                         \u001b[?25h\u001b[?25l\u001b[2K\u001b[1G\u001b[A\u001b[2K\u001b[1Gpulling manifest \n",
      "pulling 8eeb52dfb3bb... 100% ▕▏ 4.7 GB                         \u001b[?25h\u001b[?25l\u001b[2K\u001b[1G\u001b[A\u001b[2K\u001b[1Gpulling manifest \n",
      "pulling 8eeb52dfb3bb... 100% ▕▏ 4.7 GB                         \u001b[?25h\u001b[?25l\u001b[2K\u001b[1G\u001b[A\u001b[2K\u001b[1Gpulling manifest \n",
      "pulling 8eeb52dfb3bb... 100% ▕▏ 4.7 GB                         \n",
      "pulling 73b313b5552d...   0% ▕▏    0 B/1.4 KB                  \u001b[?25h\u001b[?25l\u001b[2K\u001b[1G\u001b[A\u001b[2K\u001b[1G\u001b[A\u001b[2K\u001b[1Gpulling manifest \n",
      "pulling 8eeb52dfb3bb... 100% ▕▏ 4.7 GB                         \n",
      "pulling 73b313b5552d...   0% ▕▏    0 B/1.4 KB                  \u001b[?25h\u001b[?25l\u001b[2K\u001b[1G\u001b[A\u001b[2K\u001b[1G\u001b[A\u001b[2K\u001b[1Gpulling manifest \n",
      "pulling 8eeb52dfb3bb... 100% ▕▏ 4.7 GB                         \n",
      "pulling 73b313b5552d... 100% ▕▏ 1.4 KB                         \u001b[?25h\u001b[?25l\u001b[2K\u001b[1G\u001b[A\u001b[2K\u001b[1G\u001b[A\u001b[2K\u001b[1Gpulling manifest \n",
      "pulling 8eeb52dfb3bb... 100% ▕▏ 4.7 GB                         \n",
      "pulling 73b313b5552d... 100% ▕▏ 1.4 KB                         \u001b[?25h\u001b[?25l\u001b[2K\u001b[1G\u001b[A\u001b[2K\u001b[1G\u001b[A\u001b[2K\u001b[1Gpulling manifest \n",
      "pulling 8eeb52dfb3bb... 100% ▕▏ 4.7 GB                         \n",
      "pulling 73b313b5552d... 100% ▕▏ 1.4 KB                         \u001b[?25h\u001b[?25l\u001b[2K\u001b[1G\u001b[A\u001b[2K\u001b[1G\u001b[A\u001b[2K\u001b[1Gpulling manifest \n",
      "pulling 8eeb52dfb3bb... 100% ▕▏ 4.7 GB                         \n",
      "pulling 73b313b5552d... 100% ▕▏ 1.4 KB                         \u001b[?25h\u001b[?25l\u001b[2K\u001b[1G\u001b[A\u001b[2K\u001b[1G\u001b[A\u001b[2K\u001b[1Gpulling manifest \n",
      "pulling 8eeb52dfb3bb... 100% ▕▏ 4.7 GB                         \n",
      "pulling 73b313b5552d... 100% ▕▏ 1.4 KB                         \u001b[?25h\u001b[?25l\u001b[2K\u001b[1G\u001b[A\u001b[2K\u001b[1G\u001b[A\u001b[2K\u001b[1Gpulling manifest \n",
      "pulling 8eeb52dfb3bb... 100% ▕▏ 4.7 GB                         \n",
      "pulling 73b313b5552d... 100% ▕▏ 1.4 KB                         \u001b[?25h\u001b[?25l\u001b[2K\u001b[1G\u001b[A\u001b[2K\u001b[1G\u001b[A\u001b[2K\u001b[1Gpulling manifest \n",
      "pulling 8eeb52dfb3bb... 100% ▕▏ 4.7 GB                         \n",
      "pulling 73b313b5552d... 100% ▕▏ 1.4 KB                         \u001b[?25h\u001b[?25l\u001b[2K\u001b[1G\u001b[A\u001b[2K\u001b[1G\u001b[A\u001b[2K\u001b[1Gpulling manifest \n",
      "pulling 8eeb52dfb3bb... 100% ▕▏ 4.7 GB                         \n",
      "pulling 73b313b5552d... 100% ▕▏ 1.4 KB                         \u001b[?25h\u001b[?25l\u001b[2K\u001b[1G\u001b[A\u001b[2K\u001b[1G\u001b[A\u001b[2K\u001b[1Gpulling manifest \n",
      "pulling 8eeb52dfb3bb... 100% ▕▏ 4.7 GB                         \n",
      "pulling 73b313b5552d... 100% ▕▏ 1.4 KB                         \u001b[?25h\u001b[?25l\u001b[2K\u001b[1G\u001b[A\u001b[2K\u001b[1G\u001b[A\u001b[2K\u001b[1Gpulling manifest \n",
      "pulling 8eeb52dfb3bb... 100% ▕▏ 4.7 GB                         \n",
      "pulling 73b313b5552d... 100% ▕▏ 1.4 KB                         \u001b[?25h\u001b[?25l\u001b[2K\u001b[1G\u001b[A\u001b[2K\u001b[1G\u001b[A\u001b[2K\u001b[1Gpulling manifest \n",
      "pulling 8eeb52dfb3bb... 100% ▕▏ 4.7 GB                         \n",
      "pulling 73b313b5552d... 100% ▕▏ 1.4 KB                         \u001b[?25h\u001b[?25l\u001b[2K\u001b[1G\u001b[A\u001b[2K\u001b[1G\u001b[A\u001b[2K\u001b[1Gpulling manifest \n",
      "pulling 8eeb52dfb3bb... 100% ▕▏ 4.7 GB                         \n",
      "pulling 73b313b5552d... 100% ▕▏ 1.4 KB                         \u001b[?25h\u001b[?25l\u001b[2K\u001b[1G\u001b[A\u001b[2K\u001b[1G\u001b[A\u001b[2K\u001b[1Gpulling manifest \n",
      "pulling 8eeb52dfb3bb... 100% ▕▏ 4.7 GB                         \n",
      "pulling 73b313b5552d... 100% ▕▏ 1.4 KB                         \u001b[?25h\u001b[?25l\u001b[2K\u001b[1G\u001b[A\u001b[2K\u001b[1G\u001b[A\u001b[2K\u001b[1Gpulling manifest \n",
      "pulling 8eeb52dfb3bb... 100% ▕▏ 4.7 GB                         \n",
      "pulling 73b313b5552d... 100% ▕▏ 1.4 KB                         \u001b[?25h\u001b[?25l\u001b[2K\u001b[1G\u001b[A\u001b[2K\u001b[1G\u001b[A\u001b[2K\u001b[1Gpulling manifest \n",
      "pulling 8eeb52dfb3bb... 100% ▕▏ 4.7 GB                         \n",
      "pulling 73b313b5552d... 100% ▕▏ 1.4 KB                         \u001b[?25h\u001b[?25l\u001b[2K\u001b[1G\u001b[A\u001b[2K\u001b[1G\u001b[A\u001b[2K\u001b[1Gpulling manifest \n",
      "pulling 8eeb52dfb3bb... 100% ▕▏ 4.7 GB                         \n",
      "pulling 73b313b5552d... 100% ▕▏ 1.4 KB                         \u001b[?25h\u001b[?25l\u001b[2K\u001b[1G\u001b[A\u001b[2K\u001b[1G\u001b[A\u001b[2K\u001b[1Gpulling manifest \n",
      "pulling 8eeb52dfb3bb... 100% ▕▏ 4.7 GB                         \n",
      "pulling 73b313b5552d... 100% ▕▏ 1.4 KB                         \u001b[?25h\u001b[?25l\u001b[2K\u001b[1G\u001b[A\u001b[2K\u001b[1G\u001b[A\u001b[2K\u001b[1Gpulling manifest \n",
      "pulling 8eeb52dfb3bb... 100% ▕▏ 4.7 GB                         \n",
      "pulling 73b313b5552d... 100% ▕▏ 1.4 KB                         \u001b[?25h\u001b[?25l\u001b[2K\u001b[1G\u001b[A\u001b[2K\u001b[1G\u001b[A\u001b[2K\u001b[1Gpulling manifest \n",
      "pulling 8eeb52dfb3bb... 100% ▕▏ 4.7 GB                         \n",
      "pulling 73b313b5552d... 100% ▕▏ 1.4 KB                         \n",
      "pulling 0ba8f0e314b4...   0% ▕▏    0 B/ 12 KB                  \u001b[?25h\u001b[?25l\u001b[2K\u001b[1G\u001b[A\u001b[2K\u001b[1G\u001b[A\u001b[2K\u001b[1G\u001b[A\u001b[2K\u001b[1Gpulling manifest \n",
      "pulling 8eeb52dfb3bb... 100% ▕▏ 4.7 GB                         \n",
      "pulling 73b313b5552d... 100% ▕▏ 1.4 KB                         \n",
      "pulling 0ba8f0e314b4...   0% ▕▏    0 B/ 12 KB                  \u001b[?25h\u001b[?25l\u001b[2K\u001b[1G\u001b[A\u001b[2K\u001b[1G\u001b[A\u001b[2K\u001b[1G\u001b[A\u001b[2K\u001b[1Gpulling manifest \n",
      "pulling 8eeb52dfb3bb... 100% ▕▏ 4.7 GB                         \n",
      "pulling 73b313b5552d... 100% ▕▏ 1.4 KB                         \n",
      "pulling 0ba8f0e314b4...   0% ▕▏    0 B/ 12 KB                  \u001b[?25h\u001b[?25l\u001b[2K\u001b[1G\u001b[A\u001b[2K\u001b[1G\u001b[A\u001b[2K\u001b[1G\u001b[A\u001b[2K\u001b[1Gpulling manifest \n",
      "pulling 8eeb52dfb3bb... 100% ▕▏ 4.7 GB                         \n",
      "pulling 73b313b5552d... 100% ▕▏ 1.4 KB                         \n",
      "pulling 0ba8f0e314b4... 100% ▕▏  12 KB                         \u001b[?25h\u001b[?25l\u001b[2K\u001b[1G\u001b[A\u001b[2K\u001b[1G\u001b[A\u001b[2K\u001b[1G\u001b[A\u001b[2K\u001b[1Gpulling manifest \n",
      "pulling 8eeb52dfb3bb... 100% ▕▏ 4.7 GB                         \n",
      "pulling 73b313b5552d... 100% ▕▏ 1.4 KB                         \n",
      "pulling 0ba8f0e314b4... 100% ▕▏  12 KB                         \u001b[?25h\u001b[?25l\u001b[2K\u001b[1G\u001b[A\u001b[2K\u001b[1G\u001b[A\u001b[2K\u001b[1G\u001b[A\u001b[2K\u001b[1Gpulling manifest \n",
      "pulling 8eeb52dfb3bb... 100% ▕▏ 4.7 GB                         \n",
      "pulling 73b313b5552d... 100% ▕▏ 1.4 KB                         \n",
      "pulling 0ba8f0e314b4... 100% ▕▏  12 KB                         \u001b[?25h\u001b[?25l\u001b[2K\u001b[1G\u001b[A\u001b[2K\u001b[1G\u001b[A\u001b[2K\u001b[1G\u001b[A\u001b[2K\u001b[1Gpulling manifest \n",
      "pulling 8eeb52dfb3bb... 100% ▕▏ 4.7 GB                         \n",
      "pulling 73b313b5552d... 100% ▕▏ 1.4 KB                         \n",
      "pulling 0ba8f0e314b4... 100% ▕▏  12 KB                         \u001b[?25h\u001b[?25l\u001b[2K\u001b[1G\u001b[A\u001b[2K\u001b[1G\u001b[A\u001b[2K\u001b[1G\u001b[A\u001b[2K\u001b[1Gpulling manifest \n",
      "pulling 8eeb52dfb3bb... 100% ▕▏ 4.7 GB                         \n",
      "pulling 73b313b5552d... 100% ▕▏ 1.4 KB                         \n",
      "pulling 0ba8f0e314b4... 100% ▕▏  12 KB                         \u001b[?25h\u001b[?25l\u001b[2K\u001b[1G\u001b[A\u001b[2K\u001b[1G\u001b[A\u001b[2K\u001b[1G\u001b[A\u001b[2K\u001b[1Gpulling manifest \n",
      "pulling 8eeb52dfb3bb... 100% ▕▏ 4.7 GB                         \n",
      "pulling 73b313b5552d... 100% ▕▏ 1.4 KB                         \n",
      "pulling 0ba8f0e314b4... 100% ▕▏  12 KB                         \u001b[?25h\u001b[?25l\u001b[2K\u001b[1G\u001b[A\u001b[2K\u001b[1G\u001b[A\u001b[2K\u001b[1G\u001b[A\u001b[2K\u001b[1Gpulling manifest \n",
      "pulling 8eeb52dfb3bb... 100% ▕▏ 4.7 GB                         \n",
      "pulling 73b313b5552d... 100% ▕▏ 1.4 KB                         \n",
      "pulling 0ba8f0e314b4... 100% ▕▏  12 KB                         \u001b[?25h\u001b[?25l\u001b[2K\u001b[1G\u001b[A\u001b[2K\u001b[1G\u001b[A\u001b[2K\u001b[1G\u001b[A\u001b[2K\u001b[1Gpulling manifest \n",
      "pulling 8eeb52dfb3bb... 100% ▕▏ 4.7 GB                         \n",
      "pulling 73b313b5552d... 100% ▕▏ 1.4 KB                         \n",
      "pulling 0ba8f0e314b4... 100% ▕▏  12 KB                         \u001b[?25h\u001b[?25l\u001b[2K\u001b[1G\u001b[A\u001b[2K\u001b[1G\u001b[A\u001b[2K\u001b[1G\u001b[A\u001b[2K\u001b[1Gpulling manifest \n",
      "pulling 8eeb52dfb3bb... 100% ▕▏ 4.7 GB                         \n",
      "pulling 73b313b5552d... 100% ▕▏ 1.4 KB                         \n",
      "pulling 0ba8f0e314b4... 100% ▕▏  12 KB                         \u001b[?25h\u001b[?25l\u001b[2K\u001b[1G\u001b[A\u001b[2K\u001b[1G\u001b[A\u001b[2K\u001b[1G\u001b[A\u001b[2K\u001b[1Gpulling manifest \n",
      "pulling 8eeb52dfb3bb... 100% ▕▏ 4.7 GB                         \n",
      "pulling 73b313b5552d... 100% ▕▏ 1.4 KB                         \n",
      "pulling 0ba8f0e314b4... 100% ▕▏  12 KB                         \u001b[?25h\u001b[?25l\u001b[2K\u001b[1G\u001b[A\u001b[2K\u001b[1G\u001b[A\u001b[2K\u001b[1G\u001b[A\u001b[2K\u001b[1Gpulling manifest \n",
      "pulling 8eeb52dfb3bb... 100% ▕▏ 4.7 GB                         \n",
      "pulling 73b313b5552d... 100% ▕▏ 1.4 KB                         \n",
      "pulling 0ba8f0e314b4... 100% ▕▏  12 KB                         \u001b[?25h\u001b[?25l\u001b[2K\u001b[1G\u001b[A\u001b[2K\u001b[1G\u001b[A\u001b[2K\u001b[1G\u001b[A\u001b[2K\u001b[1Gpulling manifest \n",
      "pulling 8eeb52dfb3bb... 100% ▕▏ 4.7 GB                         \n",
      "pulling 73b313b5552d... 100% ▕▏ 1.4 KB                         \n",
      "pulling 0ba8f0e314b4... 100% ▕▏  12 KB                         \u001b[?25h\u001b[?25l\u001b[2K\u001b[1G\u001b[A\u001b[2K\u001b[1G\u001b[A\u001b[2K\u001b[1G\u001b[A\u001b[2K\u001b[1Gpulling manifest \n",
      "pulling 8eeb52dfb3bb... 100% ▕▏ 4.7 GB                         \n",
      "pulling 73b313b5552d... 100% ▕▏ 1.4 KB                         \n",
      "pulling 0ba8f0e314b4... 100% ▕▏  12 KB                         \u001b[?25h\u001b[?25l\u001b[2K\u001b[1G\u001b[A\u001b[2K\u001b[1G\u001b[A\u001b[2K\u001b[1G\u001b[A\u001b[2K\u001b[1Gpulling manifest \n",
      "pulling 8eeb52dfb3bb... 100% ▕▏ 4.7 GB                         \n",
      "pulling 73b313b5552d... 100% ▕▏ 1.4 KB                         \n",
      "pulling 0ba8f0e314b4... 100% ▕▏  12 KB                         \u001b[?25h\u001b[?25l\u001b[2K\u001b[1G\u001b[A\u001b[2K\u001b[1G\u001b[A\u001b[2K\u001b[1G\u001b[A\u001b[2K\u001b[1Gpulling manifest \n",
      "pulling 8eeb52dfb3bb... 100% ▕▏ 4.7 GB                         \n",
      "pulling 73b313b5552d... 100% ▕▏ 1.4 KB                         \n",
      "pulling 0ba8f0e314b4... 100% ▕▏  12 KB                         \u001b[?25h\u001b[?25l\u001b[2K\u001b[1G\u001b[A\u001b[2K\u001b[1G\u001b[A\u001b[2K\u001b[1G\u001b[A\u001b[2K\u001b[1Gpulling manifest \n",
      "pulling 8eeb52dfb3bb... 100% ▕▏ 4.7 GB                         \n",
      "pulling 73b313b5552d... 100% ▕▏ 1.4 KB                         \n",
      "pulling 0ba8f0e314b4... 100% ▕▏  12 KB                         \u001b[?25h\u001b[?25l\u001b[2K\u001b[1G\u001b[A\u001b[2K\u001b[1G\u001b[A\u001b[2K\u001b[1G\u001b[A\u001b[2K\u001b[1Gpulling manifest \n",
      "pulling 8eeb52dfb3bb... 100% ▕▏ 4.7 GB                         \n",
      "pulling 73b313b5552d... 100% ▕▏ 1.4 KB                         \n",
      "pulling 0ba8f0e314b4... 100% ▕▏  12 KB                         \n",
      "pulling 56bb8bd477a5...   0% ▕▏    0 B/  96 B                  \u001b[?25h\u001b[?25l\u001b[2K\u001b[1G\u001b[A\u001b[2K\u001b[1G\u001b[A\u001b[2K\u001b[1G\u001b[A\u001b[2K\u001b[1G\u001b[A\u001b[2K\u001b[1Gpulling manifest \n",
      "pulling 8eeb52dfb3bb... 100% ▕▏ 4.7 GB                         \n",
      "pulling 73b313b5552d... 100% ▕▏ 1.4 KB                         \n",
      "pulling 0ba8f0e314b4... 100% ▕▏  12 KB                         \n",
      "pulling 56bb8bd477a5...   0% ▕▏    0 B/  96 B                  \u001b[?25h\u001b[?25l\u001b[2K\u001b[1G\u001b[A\u001b[2K\u001b[1G\u001b[A\u001b[2K\u001b[1G\u001b[A\u001b[2K\u001b[1G\u001b[A\u001b[2K\u001b[1Gpulling manifest \n",
      "pulling 8eeb52dfb3bb... 100% ▕▏ 4.7 GB                         \n",
      "pulling 73b313b5552d... 100% ▕▏ 1.4 KB                         \n",
      "pulling 0ba8f0e314b4... 100% ▕▏  12 KB                         \n",
      "pulling 56bb8bd477a5... 100% ▕▏   96 B                         \u001b[?25h\u001b[?25l\u001b[2K\u001b[1G\u001b[A\u001b[2K\u001b[1G\u001b[A\u001b[2K\u001b[1G\u001b[A\u001b[2K\u001b[1G\u001b[A\u001b[2K\u001b[1Gpulling manifest \n",
      "pulling 8eeb52dfb3bb... 100% ▕▏ 4.7 GB                         \n",
      "pulling 73b313b5552d... 100% ▕▏ 1.4 KB                         \n",
      "pulling 0ba8f0e314b4... 100% ▕▏  12 KB                         \n",
      "pulling 56bb8bd477a5... 100% ▕▏   96 B                         \u001b[?25h\u001b[?25l\u001b[2K\u001b[1G\u001b[A\u001b[2K\u001b[1G\u001b[A\u001b[2K\u001b[1G\u001b[A\u001b[2K\u001b[1G\u001b[A\u001b[2K\u001b[1Gpulling manifest \n",
      "pulling 8eeb52dfb3bb... 100% ▕▏ 4.7 GB                         \n",
      "pulling 73b313b5552d... 100% ▕▏ 1.4 KB                         \n",
      "pulling 0ba8f0e314b4... 100% ▕▏  12 KB                         \n",
      "pulling 56bb8bd477a5... 100% ▕▏   96 B                         \u001b[?25h\u001b[?25l\u001b[2K\u001b[1G\u001b[A\u001b[2K\u001b[1G\u001b[A\u001b[2K\u001b[1G\u001b[A\u001b[2K\u001b[1G\u001b[A\u001b[2K\u001b[1Gpulling manifest \n",
      "pulling 8eeb52dfb3bb... 100% ▕▏ 4.7 GB                         \n",
      "pulling 73b313b5552d... 100% ▕▏ 1.4 KB                         \n",
      "pulling 0ba8f0e314b4... 100% ▕▏  12 KB                         \n",
      "pulling 56bb8bd477a5... 100% ▕▏   96 B                         \u001b[?25h\u001b[?25l\u001b[2K\u001b[1G\u001b[A\u001b[2K\u001b[1G\u001b[A\u001b[2K\u001b[1G\u001b[A\u001b[2K\u001b[1G\u001b[A\u001b[2K\u001b[1Gpulling manifest \n",
      "pulling 8eeb52dfb3bb... 100% ▕▏ 4.7 GB                         \n",
      "pulling 73b313b5552d... 100% ▕▏ 1.4 KB                         \n",
      "pulling 0ba8f0e314b4... 100% ▕▏  12 KB                         \n",
      "pulling 56bb8bd477a5... 100% ▕▏   96 B                         \u001b[?25h\u001b[?25l\u001b[2K\u001b[1G\u001b[A\u001b[2K\u001b[1G\u001b[A\u001b[2K\u001b[1G\u001b[A\u001b[2K\u001b[1G\u001b[A\u001b[2K\u001b[1Gpulling manifest \n",
      "pulling 8eeb52dfb3bb... 100% ▕▏ 4.7 GB                         \n",
      "pulling 73b313b5552d... 100% ▕▏ 1.4 KB                         \n",
      "pulling 0ba8f0e314b4... 100% ▕▏  12 KB                         \n",
      "pulling 56bb8bd477a5... 100% ▕▏   96 B                         \u001b[?25h\u001b[?25l\u001b[2K\u001b[1G\u001b[A\u001b[2K\u001b[1G\u001b[A\u001b[2K\u001b[1G\u001b[A\u001b[2K\u001b[1G\u001b[A\u001b[2K\u001b[1Gpulling manifest \n",
      "pulling 8eeb52dfb3bb... 100% ▕▏ 4.7 GB                         \n",
      "pulling 73b313b5552d... 100% ▕▏ 1.4 KB                         \n",
      "pulling 0ba8f0e314b4... 100% ▕▏  12 KB                         \n",
      "pulling 56bb8bd477a5... 100% ▕▏   96 B                         \u001b[?25h\u001b[?25l\u001b[2K\u001b[1G\u001b[A\u001b[2K\u001b[1G\u001b[A\u001b[2K\u001b[1G\u001b[A\u001b[2K\u001b[1G\u001b[A\u001b[2K\u001b[1Gpulling manifest \n",
      "pulling 8eeb52dfb3bb... 100% ▕▏ 4.7 GB                         \n",
      "pulling 73b313b5552d... 100% ▕▏ 1.4 KB                         \n",
      "pulling 0ba8f0e314b4... 100% ▕▏  12 KB                         \n",
      "pulling 56bb8bd477a5... 100% ▕▏   96 B                         \u001b[?25h\u001b[?25l\u001b[2K\u001b[1G\u001b[A\u001b[2K\u001b[1G\u001b[A\u001b[2K\u001b[1G\u001b[A\u001b[2K\u001b[1G\u001b[A\u001b[2K\u001b[1Gpulling manifest \n",
      "pulling 8eeb52dfb3bb... 100% ▕▏ 4.7 GB                         \n",
      "pulling 73b313b5552d... 100% ▕▏ 1.4 KB                         \n",
      "pulling 0ba8f0e314b4... 100% ▕▏  12 KB                         \n",
      "pulling 56bb8bd477a5... 100% ▕▏   96 B                         \u001b[?25h\u001b[?25l\u001b[2K\u001b[1G\u001b[A\u001b[2K\u001b[1G\u001b[A\u001b[2K\u001b[1G\u001b[A\u001b[2K\u001b[1G\u001b[A\u001b[2K\u001b[1Gpulling manifest \n",
      "pulling 8eeb52dfb3bb... 100% ▕▏ 4.7 GB                         \n",
      "pulling 73b313b5552d... 100% ▕▏ 1.4 KB                         \n",
      "pulling 0ba8f0e314b4... 100% ▕▏  12 KB                         \n",
      "pulling 56bb8bd477a5... 100% ▕▏   96 B                         \u001b[?25h\u001b[?25l\u001b[2K\u001b[1G\u001b[A\u001b[2K\u001b[1G\u001b[A\u001b[2K\u001b[1G\u001b[A\u001b[2K\u001b[1G\u001b[A\u001b[2K\u001b[1Gpulling manifest \n",
      "pulling 8eeb52dfb3bb... 100% ▕▏ 4.7 GB                         \n",
      "pulling 73b313b5552d... 100% ▕▏ 1.4 KB                         \n",
      "pulling 0ba8f0e314b4... 100% ▕▏  12 KB                         \n",
      "pulling 56bb8bd477a5... 100% ▕▏   96 B                         \u001b[?25h\u001b[?25l\u001b[2K\u001b[1G\u001b[A\u001b[2K\u001b[1G\u001b[A\u001b[2K\u001b[1G\u001b[A\u001b[2K\u001b[1G\u001b[A\u001b[2K\u001b[1Gpulling manifest \n",
      "pulling 8eeb52dfb3bb... 100% ▕▏ 4.7 GB                         \n",
      "pulling 73b313b5552d... 100% ▕▏ 1.4 KB                         \n",
      "pulling 0ba8f0e314b4... 100% ▕▏  12 KB                         \n",
      "pulling 56bb8bd477a5... 100% ▕▏   96 B                         \u001b[?25h\u001b[?25l\u001b[2K\u001b[1G\u001b[A\u001b[2K\u001b[1G\u001b[A\u001b[2K\u001b[1G\u001b[A\u001b[2K\u001b[1G\u001b[A\u001b[2K\u001b[1Gpulling manifest \n",
      "pulling 8eeb52dfb3bb... 100% ▕▏ 4.7 GB                         \n",
      "pulling 73b313b5552d... 100% ▕▏ 1.4 KB                         \n",
      "pulling 0ba8f0e314b4... 100% ▕▏  12 KB                         \n",
      "pulling 56bb8bd477a5... 100% ▕▏   96 B                         \u001b[?25h\u001b[?25l\u001b[2K\u001b[1G\u001b[A\u001b[2K\u001b[1G\u001b[A\u001b[2K\u001b[1G\u001b[A\u001b[2K\u001b[1G\u001b[A\u001b[2K\u001b[1Gpulling manifest \n",
      "pulling 8eeb52dfb3bb... 100% ▕▏ 4.7 GB                         \n",
      "pulling 73b313b5552d... 100% ▕▏ 1.4 KB                         \n",
      "pulling 0ba8f0e314b4... 100% ▕▏  12 KB                         \n",
      "pulling 56bb8bd477a5... 100% ▕▏   96 B                         \u001b[?25h\u001b[?25l\u001b[2K\u001b[1G\u001b[A\u001b[2K\u001b[1G\u001b[A\u001b[2K\u001b[1G\u001b[A\u001b[2K\u001b[1G\u001b[A\u001b[2K\u001b[1Gpulling manifest \n",
      "pulling 8eeb52dfb3bb... 100% ▕▏ 4.7 GB                         \n",
      "pulling 73b313b5552d... 100% ▕▏ 1.4 KB                         \n",
      "pulling 0ba8f0e314b4... 100% ▕▏  12 KB                         \n",
      "pulling 56bb8bd477a5... 100% ▕▏   96 B                         \u001b[?25h\u001b[?25l\u001b[2K\u001b[1G\u001b[A\u001b[2K\u001b[1G\u001b[A\u001b[2K\u001b[1G\u001b[A\u001b[2K\u001b[1G\u001b[A\u001b[2K\u001b[1Gpulling manifest \n",
      "pulling 8eeb52dfb3bb... 100% ▕▏ 4.7 GB                         \n",
      "pulling 73b313b5552d... 100% ▕▏ 1.4 KB                         \n",
      "pulling 0ba8f0e314b4... 100% ▕▏  12 KB                         \n",
      "pulling 56bb8bd477a5... 100% ▕▏   96 B                         \u001b[?25h\u001b[?25l\u001b[2K\u001b[1G\u001b[A\u001b[2K\u001b[1G\u001b[A\u001b[2K\u001b[1G\u001b[A\u001b[2K\u001b[1G\u001b[A\u001b[2K\u001b[1Gpulling manifest \n",
      "pulling 8eeb52dfb3bb... 100% ▕▏ 4.7 GB                         \n",
      "pulling 73b313b5552d... 100% ▕▏ 1.4 KB                         \n",
      "pulling 0ba8f0e314b4... 100% ▕▏  12 KB                         \n",
      "pulling 56bb8bd477a5... 100% ▕▏   96 B                         \u001b[?25h\u001b[?25l\u001b[2K\u001b[1G\u001b[A\u001b[2K\u001b[1G\u001b[A\u001b[2K\u001b[1G\u001b[A\u001b[2K\u001b[1G\u001b[A\u001b[2K\u001b[1Gpulling manifest \n",
      "pulling 8eeb52dfb3bb... 100% ▕▏ 4.7 GB                         \n",
      "pulling 73b313b5552d... 100% ▕▏ 1.4 KB                         \n",
      "pulling 0ba8f0e314b4... 100% ▕▏  12 KB                         \n",
      "pulling 56bb8bd477a5... 100% ▕▏   96 B                         \u001b[?25h\u001b[?25l\u001b[2K\u001b[1G\u001b[A\u001b[2K\u001b[1G\u001b[A\u001b[2K\u001b[1G\u001b[A\u001b[2K\u001b[1G\u001b[A\u001b[2K\u001b[1Gpulling manifest \n",
      "pulling 8eeb52dfb3bb... 100% ▕▏ 4.7 GB                         \n",
      "pulling 73b313b5552d... 100% ▕▏ 1.4 KB                         \n",
      "pulling 0ba8f0e314b4... 100% ▕▏  12 KB                         \n",
      "pulling 56bb8bd477a5... 100% ▕▏   96 B                         \n",
      "pulling 1a4c3c319823...   0% ▕▏    0 B/ 485 B                  \u001b[?25h\u001b[?25l\u001b[2K\u001b[1G\u001b[A\u001b[2K\u001b[1G\u001b[A\u001b[2K\u001b[1G\u001b[A\u001b[2K\u001b[1G\u001b[A\u001b[2K\u001b[1G\u001b[A\u001b[2K\u001b[1Gpulling manifest \n",
      "pulling 8eeb52dfb3bb... 100% ▕▏ 4.7 GB                         \n",
      "pulling 73b313b5552d... 100% ▕▏ 1.4 KB                         \n",
      "pulling 0ba8f0e314b4... 100% ▕▏  12 KB                         \n",
      "pulling 56bb8bd477a5... 100% ▕▏   96 B                         \n",
      "pulling 1a4c3c319823...   0% ▕▏    0 B/ 485 B                  \u001b[?25h\u001b[?25l\u001b[2K\u001b[1G\u001b[A\u001b[2K\u001b[1G\u001b[A\u001b[2K\u001b[1G\u001b[A\u001b[2K\u001b[1G\u001b[A\u001b[2K\u001b[1G\u001b[A\u001b[2K\u001b[1Gpulling manifest \n",
      "pulling 8eeb52dfb3bb... 100% ▕▏ 4.7 GB                         \n",
      "pulling 73b313b5552d... 100% ▕▏ 1.4 KB                         \n",
      "pulling 0ba8f0e314b4... 100% ▕▏  12 KB                         \n",
      "pulling 56bb8bd477a5... 100% ▕▏   96 B                         \n",
      "pulling 1a4c3c319823... 100% ▕▏  485 B                         \u001b[?25h\u001b[?25l\u001b[2K\u001b[1G\u001b[A\u001b[2K\u001b[1G\u001b[A\u001b[2K\u001b[1G\u001b[A\u001b[2K\u001b[1G\u001b[A\u001b[2K\u001b[1G\u001b[A\u001b[2K\u001b[1Gpulling manifest \n",
      "pulling 8eeb52dfb3bb... 100% ▕▏ 4.7 GB                         \n",
      "pulling 73b313b5552d... 100% ▕▏ 1.4 KB                         \n",
      "pulling 0ba8f0e314b4... 100% ▕▏  12 KB                         \n",
      "pulling 56bb8bd477a5... 100% ▕▏   96 B                         \n",
      "pulling 1a4c3c319823... 100% ▕▏  485 B                         \u001b[?25h\u001b[?25l\u001b[2K\u001b[1G\u001b[A\u001b[2K\u001b[1G\u001b[A\u001b[2K\u001b[1G\u001b[A\u001b[2K\u001b[1G\u001b[A\u001b[2K\u001b[1G\u001b[A\u001b[2K\u001b[1Gpulling manifest \n",
      "pulling 8eeb52dfb3bb... 100% ▕▏ 4.7 GB                         \n",
      "pulling 73b313b5552d... 100% ▕▏ 1.4 KB                         \n",
      "pulling 0ba8f0e314b4... 100% ▕▏  12 KB                         \n",
      "pulling 56bb8bd477a5... 100% ▕▏   96 B                         \n",
      "pulling 1a4c3c319823... 100% ▕▏  485 B                         \u001b[?25h\u001b[?25l\u001b[2K\u001b[1G\u001b[A\u001b[2K\u001b[1G\u001b[A\u001b[2K\u001b[1G\u001b[A\u001b[2K\u001b[1G\u001b[A\u001b[2K\u001b[1G\u001b[A\u001b[2K\u001b[1Gpulling manifest \n",
      "pulling 8eeb52dfb3bb... 100% ▕▏ 4.7 GB                         \n",
      "pulling 73b313b5552d... 100% ▕▏ 1.4 KB                         \n",
      "pulling 0ba8f0e314b4... 100% ▕▏  12 KB                         \n",
      "pulling 56bb8bd477a5... 100% ▕▏   96 B                         \n",
      "pulling 1a4c3c319823... 100% ▕▏  485 B                         \u001b[?25h\u001b[?25l\u001b[2K\u001b[1G\u001b[A\u001b[2K\u001b[1G\u001b[A\u001b[2K\u001b[1G\u001b[A\u001b[2K\u001b[1G\u001b[A\u001b[2K\u001b[1G\u001b[A\u001b[2K\u001b[1Gpulling manifest \n",
      "pulling 8eeb52dfb3bb... 100% ▕▏ 4.7 GB                         \n",
      "pulling 73b313b5552d... 100% ▕▏ 1.4 KB                         \n",
      "pulling 0ba8f0e314b4... 100% ▕▏  12 KB                         \n",
      "pulling 56bb8bd477a5... 100% ▕▏   96 B                         \n",
      "pulling 1a4c3c319823... 100% ▕▏  485 B                         \u001b[?25h\u001b[?25l\u001b[2K\u001b[1G\u001b[A\u001b[2K\u001b[1G\u001b[A\u001b[2K\u001b[1G\u001b[A\u001b[2K\u001b[1G\u001b[A\u001b[2K\u001b[1G\u001b[A\u001b[2K\u001b[1Gpulling manifest \n",
      "pulling 8eeb52dfb3bb... 100% ▕▏ 4.7 GB                         \n",
      "pulling 73b313b5552d... 100% ▕▏ 1.4 KB                         \n",
      "pulling 0ba8f0e314b4... 100% ▕▏  12 KB                         \n",
      "pulling 56bb8bd477a5... 100% ▕▏   96 B                         \n",
      "pulling 1a4c3c319823... 100% ▕▏  485 B                         \u001b[?25h\u001b[?25l\u001b[2K\u001b[1G\u001b[A\u001b[2K\u001b[1G\u001b[A\u001b[2K\u001b[1G\u001b[A\u001b[2K\u001b[1G\u001b[A\u001b[2K\u001b[1G\u001b[A\u001b[2K\u001b[1Gpulling manifest \n",
      "pulling 8eeb52dfb3bb... 100% ▕▏ 4.7 GB                         \n",
      "pulling 73b313b5552d... 100% ▕▏ 1.4 KB                         \n",
      "pulling 0ba8f0e314b4... 100% ▕▏  12 KB                         \n",
      "pulling 56bb8bd477a5... 100% ▕▏   96 B                         \n",
      "pulling 1a4c3c319823... 100% ▕▏  485 B                         \u001b[?25h\u001b[?25l\u001b[2K\u001b[1G\u001b[A\u001b[2K\u001b[1G\u001b[A\u001b[2K\u001b[1G\u001b[A\u001b[2K\u001b[1G\u001b[A\u001b[2K\u001b[1G\u001b[A\u001b[2K\u001b[1Gpulling manifest \n",
      "pulling 8eeb52dfb3bb... 100% ▕▏ 4.7 GB                         \n",
      "pulling 73b313b5552d... 100% ▕▏ 1.4 KB                         \n",
      "pulling 0ba8f0e314b4... 100% ▕▏  12 KB                         \n",
      "pulling 56bb8bd477a5... 100% ▕▏   96 B                         \n",
      "pulling 1a4c3c319823... 100% ▕▏  485 B                         \u001b[?25h\u001b[?25l\u001b[2K\u001b[1G\u001b[A\u001b[2K\u001b[1G\u001b[A\u001b[2K\u001b[1G\u001b[A\u001b[2K\u001b[1G\u001b[A\u001b[2K\u001b[1G\u001b[A\u001b[2K\u001b[1Gpulling manifest \n",
      "pulling 8eeb52dfb3bb... 100% ▕▏ 4.7 GB                         \n",
      "pulling 73b313b5552d... 100% ▕▏ 1.4 KB                         \n",
      "pulling 0ba8f0e314b4... 100% ▕▏  12 KB                         \n",
      "pulling 56bb8bd477a5... 100% ▕▏   96 B                         \n",
      "pulling 1a4c3c319823... 100% ▕▏  485 B                         \n",
      "verifying sha256 digest ⠋ \u001b[?25h\u001b[?25l\u001b[2K\u001b[1G\u001b[A\u001b[2K\u001b[1G\u001b[A\u001b[2K\u001b[1G\u001b[A\u001b[2K\u001b[1G\u001b[A\u001b[2K\u001b[1G\u001b[A\u001b[2K\u001b[1G\u001b[A\u001b[2K\u001b[1Gpulling manifest \n",
      "pulling 8eeb52dfb3bb... 100% ▕▏ 4.7 GB                         \n",
      "pulling 73b313b5552d... 100% ▕▏ 1.4 KB                         \n",
      "pulling 0ba8f0e314b4... 100% ▕▏  12 KB                         \n",
      "pulling 56bb8bd477a5... 100% ▕▏   96 B                         \n",
      "pulling 1a4c3c319823... 100% ▕▏  485 B                         \n",
      "verifying sha256 digest ⠙ \u001b[?25h\u001b[?25l\u001b[2K\u001b[1G\u001b[A\u001b[2K\u001b[1G\u001b[A\u001b[2K\u001b[1G\u001b[A\u001b[2K\u001b[1G\u001b[A\u001b[2K\u001b[1G\u001b[A\u001b[2K\u001b[1G\u001b[A\u001b[2K\u001b[1Gpulling manifest \n",
      "pulling 8eeb52dfb3bb... 100% ▕▏ 4.7 GB                         \n",
      "pulling 73b313b5552d... 100% ▕▏ 1.4 KB                         \n",
      "pulling 0ba8f0e314b4... 100% ▕▏  12 KB                         \n",
      "pulling 56bb8bd477a5... 100% ▕▏   96 B                         \n",
      "pulling 1a4c3c319823... 100% ▕▏  485 B                         \n",
      "verifying sha256 digest ⠹ \u001b[?25h\u001b[?25l\u001b[2K\u001b[1G\u001b[A\u001b[2K\u001b[1G\u001b[A\u001b[2K\u001b[1G\u001b[A\u001b[2K\u001b[1G\u001b[A\u001b[2K\u001b[1G\u001b[A\u001b[2K\u001b[1G\u001b[A\u001b[2K\u001b[1Gpulling manifest \n",
      "pulling 8eeb52dfb3bb... 100% ▕▏ 4.7 GB                         \n",
      "pulling 73b313b5552d... 100% ▕▏ 1.4 KB                         \n",
      "pulling 0ba8f0e314b4... 100% ▕▏  12 KB                         \n",
      "pulling 56bb8bd477a5... 100% ▕▏   96 B                         \n",
      "pulling 1a4c3c319823... 100% ▕▏  485 B                         \n",
      "verifying sha256 digest ⠸ \u001b[?25h\u001b[?25l\u001b[2K\u001b[1G\u001b[A\u001b[2K\u001b[1G\u001b[A\u001b[2K\u001b[1G\u001b[A\u001b[2K\u001b[1G\u001b[A\u001b[2K\u001b[1G\u001b[A\u001b[2K\u001b[1G\u001b[A\u001b[2K\u001b[1Gpulling manifest \n",
      "pulling 8eeb52dfb3bb... 100% ▕▏ 4.7 GB                         \n",
      "pulling 73b313b5552d... 100% ▕▏ 1.4 KB                         \n",
      "pulling 0ba8f0e314b4... 100% ▕▏  12 KB                         \n",
      "pulling 56bb8bd477a5... 100% ▕▏   96 B                         \n",
      "pulling 1a4c3c319823... 100% ▕▏  485 B                         \n",
      "verifying sha256 digest ⠼ \u001b[?25h\u001b[?25l\u001b[2K\u001b[1G\u001b[A\u001b[2K\u001b[1G\u001b[A\u001b[2K\u001b[1G\u001b[A\u001b[2K\u001b[1G\u001b[A\u001b[2K\u001b[1G\u001b[A\u001b[2K\u001b[1G\u001b[A\u001b[2K\u001b[1Gpulling manifest \n",
      "pulling 8eeb52dfb3bb... 100% ▕▏ 4.7 GB                         \n",
      "pulling 73b313b5552d... 100% ▕▏ 1.4 KB                         \n",
      "pulling 0ba8f0e314b4... 100% ▕▏  12 KB                         \n",
      "pulling 56bb8bd477a5... 100% ▕▏   96 B                         \n",
      "pulling 1a4c3c319823... 100% ▕▏  485 B                         \n",
      "verifying sha256 digest ⠴ \u001b[?25h\u001b[?25l\u001b[2K\u001b[1G\u001b[A\u001b[2K\u001b[1G\u001b[A\u001b[2K\u001b[1G\u001b[A\u001b[2K\u001b[1G\u001b[A\u001b[2K\u001b[1G\u001b[A\u001b[2K\u001b[1G\u001b[A\u001b[2K\u001b[1Gpulling manifest \n",
      "pulling 8eeb52dfb3bb... 100% ▕▏ 4.7 GB                         \n",
      "pulling 73b313b5552d... 100% ▕▏ 1.4 KB                         \n",
      "pulling 0ba8f0e314b4... 100% ▕▏  12 KB                         \n",
      "pulling 56bb8bd477a5... 100% ▕▏   96 B                         \n",
      "pulling 1a4c3c319823... 100% ▕▏  485 B                         \n",
      "verifying sha256 digest ⠦ \u001b[?25h\u001b[?25l\u001b[2K\u001b[1G\u001b[A\u001b[2K\u001b[1G\u001b[A\u001b[2K\u001b[1G\u001b[A\u001b[2K\u001b[1G\u001b[A\u001b[2K\u001b[1G\u001b[A\u001b[2K\u001b[1G\u001b[A\u001b[2K\u001b[1Gpulling manifest \n",
      "pulling 8eeb52dfb3bb... 100% ▕▏ 4.7 GB                         \n",
      "pulling 73b313b5552d... 100% ▕▏ 1.4 KB                         \n",
      "pulling 0ba8f0e314b4... 100% ▕▏  12 KB                         \n",
      "pulling 56bb8bd477a5... 100% ▕▏   96 B                         \n",
      "pulling 1a4c3c319823... 100% ▕▏  485 B                         \n",
      "verifying sha256 digest ⠧ \u001b[?25h\u001b[?25l\u001b[2K\u001b[1G\u001b[A\u001b[2K\u001b[1G\u001b[A\u001b[2K\u001b[1G\u001b[A\u001b[2K\u001b[1G\u001b[A\u001b[2K\u001b[1G\u001b[A\u001b[2K\u001b[1G\u001b[A\u001b[2K\u001b[1Gpulling manifest \n",
      "pulling 8eeb52dfb3bb... 100% ▕▏ 4.7 GB                         \n",
      "pulling 73b313b5552d... 100% ▕▏ 1.4 KB                         \n",
      "pulling 0ba8f0e314b4... 100% ▕▏  12 KB                         \n",
      "pulling 56bb8bd477a5... 100% ▕▏   96 B                         \n",
      "pulling 1a4c3c319823... 100% ▕▏  485 B                         \n",
      "verifying sha256 digest ⠇ \u001b[?25h\u001b[?25l\u001b[2K\u001b[1G\u001b[A\u001b[2K\u001b[1G\u001b[A\u001b[2K\u001b[1G\u001b[A\u001b[2K\u001b[1G\u001b[A\u001b[2K\u001b[1G\u001b[A\u001b[2K\u001b[1G\u001b[A\u001b[2K\u001b[1Gpulling manifest \n",
      "pulling 8eeb52dfb3bb... 100% ▕▏ 4.7 GB                         \n",
      "pulling 73b313b5552d... 100% ▕▏ 1.4 KB                         \n",
      "pulling 0ba8f0e314b4... 100% ▕▏  12 KB                         \n",
      "pulling 56bb8bd477a5... 100% ▕▏   96 B                         \n",
      "pulling 1a4c3c319823... 100% ▕▏  485 B                         \n",
      "verifying sha256 digest ⠏ \u001b[?25h\u001b[?25l\u001b[2K\u001b[1G\u001b[A\u001b[2K\u001b[1G\u001b[A\u001b[2K\u001b[1G\u001b[A\u001b[2K\u001b[1G\u001b[A\u001b[2K\u001b[1G\u001b[A\u001b[2K\u001b[1G\u001b[A\u001b[2K\u001b[1Gpulling manifest \n",
      "pulling 8eeb52dfb3bb... 100% ▕▏ 4.7 GB                         \n",
      "pulling 73b313b5552d... 100% ▕▏ 1.4 KB                         \n",
      "pulling 0ba8f0e314b4... 100% ▕▏  12 KB                         \n",
      "pulling 56bb8bd477a5... 100% ▕▏   96 B                         \n",
      "pulling 1a4c3c319823... 100% ▕▏  485 B                         \n",
      "verifying sha256 digest ⠋ \u001b[?25h\u001b[?25l\u001b[2K\u001b[1G\u001b[A\u001b[2K\u001b[1G\u001b[A\u001b[2K\u001b[1G\u001b[A\u001b[2K\u001b[1G\u001b[A\u001b[2K\u001b[1G\u001b[A\u001b[2K\u001b[1G\u001b[A\u001b[2K\u001b[1Gpulling manifest \n",
      "pulling 8eeb52dfb3bb... 100% ▕▏ 4.7 GB                         \n",
      "pulling 73b313b5552d... 100% ▕▏ 1.4 KB                         \n",
      "pulling 0ba8f0e314b4... 100% ▕▏  12 KB                         \n",
      "pulling 56bb8bd477a5... 100% ▕▏   96 B                         \n",
      "pulling 1a4c3c319823... 100% ▕▏  485 B                         \n",
      "verifying sha256 digest ⠙ \u001b[?25h\u001b[?25l\u001b[2K\u001b[1G\u001b[A\u001b[2K\u001b[1G\u001b[A\u001b[2K\u001b[1G\u001b[A\u001b[2K\u001b[1G\u001b[A\u001b[2K\u001b[1G\u001b[A\u001b[2K\u001b[1G\u001b[A\u001b[2K\u001b[1Gpulling manifest \n",
      "pulling 8eeb52dfb3bb... 100% ▕▏ 4.7 GB                         \n",
      "pulling 73b313b5552d... 100% ▕▏ 1.4 KB                         \n",
      "pulling 0ba8f0e314b4... 100% ▕▏  12 KB                         \n",
      "pulling 56bb8bd477a5... 100% ▕▏   96 B                         \n",
      "pulling 1a4c3c319823... 100% ▕▏  485 B                         \n",
      "verifying sha256 digest ⠹ \u001b[?25h\u001b[?25l\u001b[2K\u001b[1G\u001b[A\u001b[2K\u001b[1G\u001b[A\u001b[2K\u001b[1G\u001b[A\u001b[2K\u001b[1G\u001b[A\u001b[2K\u001b[1G\u001b[A\u001b[2K\u001b[1G\u001b[A\u001b[2K\u001b[1Gpulling manifest \n",
      "pulling 8eeb52dfb3bb... 100% ▕▏ 4.7 GB                         \n",
      "pulling 73b313b5552d... 100% ▕▏ 1.4 KB                         \n",
      "pulling 0ba8f0e314b4... 100% ▕▏  12 KB                         \n",
      "pulling 56bb8bd477a5... 100% ▕▏   96 B                         \n",
      "pulling 1a4c3c319823... 100% ▕▏  485 B                         \n",
      "verifying sha256 digest ⠸ \u001b[?25h\u001b[?25l\u001b[2K\u001b[1G\u001b[A\u001b[2K\u001b[1G\u001b[A\u001b[2K\u001b[1G\u001b[A\u001b[2K\u001b[1G\u001b[A\u001b[2K\u001b[1G\u001b[A\u001b[2K\u001b[1G\u001b[A\u001b[2K\u001b[1Gpulling manifest \n",
      "pulling 8eeb52dfb3bb... 100% ▕▏ 4.7 GB                         \n",
      "pulling 73b313b5552d... 100% ▕▏ 1.4 KB                         \n",
      "pulling 0ba8f0e314b4... 100% ▕▏  12 KB                         \n",
      "pulling 56bb8bd477a5... 100% ▕▏   96 B                         \n",
      "pulling 1a4c3c319823... 100% ▕▏  485 B                         \n",
      "verifying sha256 digest ⠼ \u001b[?25h\u001b[?25l\u001b[2K\u001b[1G\u001b[A\u001b[2K\u001b[1G\u001b[A\u001b[2K\u001b[1G\u001b[A\u001b[2K\u001b[1G\u001b[A\u001b[2K\u001b[1G\u001b[A\u001b[2K\u001b[1G\u001b[A\u001b[2K\u001b[1Gpulling manifest \n",
      "pulling 8eeb52dfb3bb... 100% ▕▏ 4.7 GB                         \n",
      "pulling 73b313b5552d... 100% ▕▏ 1.4 KB                         \n",
      "pulling 0ba8f0e314b4... 100% ▕▏  12 KB                         \n",
      "pulling 56bb8bd477a5... 100% ▕▏   96 B                         \n",
      "pulling 1a4c3c319823... 100% ▕▏  485 B                         \n",
      "verifying sha256 digest ⠴ \u001b[?25h\u001b[?25l\u001b[2K\u001b[1G\u001b[A\u001b[2K\u001b[1G\u001b[A\u001b[2K\u001b[1G\u001b[A\u001b[2K\u001b[1G\u001b[A\u001b[2K\u001b[1G\u001b[A\u001b[2K\u001b[1G\u001b[A\u001b[2K\u001b[1Gpulling manifest \n",
      "pulling 8eeb52dfb3bb... 100% ▕▏ 4.7 GB                         \n",
      "pulling 73b313b5552d... 100% ▕▏ 1.4 KB                         \n",
      "pulling 0ba8f0e314b4... 100% ▕▏  12 KB                         \n",
      "pulling 56bb8bd477a5... 100% ▕▏   96 B                         \n",
      "pulling 1a4c3c319823... 100% ▕▏  485 B                         \n",
      "verifying sha256 digest ⠦ \u001b[?25h\u001b[?25l\u001b[2K\u001b[1G\u001b[A\u001b[2K\u001b[1G\u001b[A\u001b[2K\u001b[1G\u001b[A\u001b[2K\u001b[1G\u001b[A\u001b[2K\u001b[1G\u001b[A\u001b[2K\u001b[1G\u001b[A\u001b[2K\u001b[1Gpulling manifest \n",
      "pulling 8eeb52dfb3bb... 100% ▕▏ 4.7 GB                         \n",
      "pulling 73b313b5552d... 100% ▕▏ 1.4 KB                         \n",
      "pulling 0ba8f0e314b4... 100% ▕▏  12 KB                         \n",
      "pulling 56bb8bd477a5... 100% ▕▏   96 B                         \n",
      "pulling 1a4c3c319823... 100% ▕▏  485 B                         \n",
      "verifying sha256 digest ⠧ \u001b[?25h\u001b[?25l\u001b[2K\u001b[1G\u001b[A\u001b[2K\u001b[1G\u001b[A\u001b[2K\u001b[1G\u001b[A\u001b[2K\u001b[1G\u001b[A\u001b[2K\u001b[1G\u001b[A\u001b[2K\u001b[1G\u001b[A\u001b[2K\u001b[1Gpulling manifest \n",
      "pulling 8eeb52dfb3bb... 100% ▕▏ 4.7 GB                         \n",
      "pulling 73b313b5552d... 100% ▕▏ 1.4 KB                         \n",
      "pulling 0ba8f0e314b4... 100% ▕▏  12 KB                         \n",
      "pulling 56bb8bd477a5... 100% ▕▏   96 B                         \n",
      "pulling 1a4c3c319823... 100% ▕▏  485 B                         \n",
      "verifying sha256 digest ⠇ \u001b[?25h\u001b[?25l\u001b[2K\u001b[1G\u001b[A\u001b[2K\u001b[1G\u001b[A\u001b[2K\u001b[1G\u001b[A\u001b[2K\u001b[1G\u001b[A\u001b[2K\u001b[1G\u001b[A\u001b[2K\u001b[1G\u001b[A\u001b[2K\u001b[1Gpulling manifest \n",
      "pulling 8eeb52dfb3bb... 100% ▕▏ 4.7 GB                         \n",
      "pulling 73b313b5552d... 100% ▕▏ 1.4 KB                         \n",
      "pulling 0ba8f0e314b4... 100% ▕▏  12 KB                         \n",
      "pulling 56bb8bd477a5... 100% ▕▏   96 B                         \n",
      "pulling 1a4c3c319823... 100% ▕▏  485 B                         \n",
      "verifying sha256 digest ⠏ \u001b[?25h\u001b[?25l\u001b[2K\u001b[1G\u001b[A\u001b[2K\u001b[1G\u001b[A\u001b[2K\u001b[1G\u001b[A\u001b[2K\u001b[1G\u001b[A\u001b[2K\u001b[1G\u001b[A\u001b[2K\u001b[1G\u001b[A\u001b[2K\u001b[1Gpulling manifest \n",
      "pulling 8eeb52dfb3bb... 100% ▕▏ 4.7 GB                         \n",
      "pulling 73b313b5552d... 100% ▕▏ 1.4 KB                         \n",
      "pulling 0ba8f0e314b4... 100% ▕▏  12 KB                         \n",
      "pulling 56bb8bd477a5... 100% ▕▏   96 B                         \n",
      "pulling 1a4c3c319823... 100% ▕▏  485 B                         \n",
      "verifying sha256 digest ⠋ \u001b[?25h\u001b[?25l\u001b[2K\u001b[1G\u001b[A\u001b[2K\u001b[1G\u001b[A\u001b[2K\u001b[1G\u001b[A\u001b[2K\u001b[1G\u001b[A\u001b[2K\u001b[1G\u001b[A\u001b[2K\u001b[1G\u001b[A\u001b[2K\u001b[1Gpulling manifest \n",
      "pulling 8eeb52dfb3bb... 100% ▕▏ 4.7 GB                         \n",
      "pulling 73b313b5552d... 100% ▕▏ 1.4 KB                         \n",
      "pulling 0ba8f0e314b4... 100% ▕▏  12 KB                         \n",
      "pulling 56bb8bd477a5... 100% ▕▏   96 B                         \n",
      "pulling 1a4c3c319823... 100% ▕▏  485 B                         \n",
      "verifying sha256 digest ⠙ \u001b[?25h\u001b[?25l\u001b[2K\u001b[1G\u001b[A\u001b[2K\u001b[1G\u001b[A\u001b[2K\u001b[1G\u001b[A\u001b[2K\u001b[1G\u001b[A\u001b[2K\u001b[1G\u001b[A\u001b[2K\u001b[1G\u001b[A\u001b[2K\u001b[1Gpulling manifest \n",
      "pulling 8eeb52dfb3bb... 100% ▕▏ 4.7 GB                         \n",
      "pulling 73b313b5552d... 100% ▕▏ 1.4 KB                         \n",
      "pulling 0ba8f0e314b4... 100% ▕▏  12 KB                         \n",
      "pulling 56bb8bd477a5... 100% ▕▏   96 B                         \n",
      "pulling 1a4c3c319823... 100% ▕▏  485 B                         \n",
      "verifying sha256 digest ⠹ \u001b[?25h\u001b[?25l\u001b[2K\u001b[1G\u001b[A\u001b[2K\u001b[1G\u001b[A\u001b[2K\u001b[1G\u001b[A\u001b[2K\u001b[1G\u001b[A\u001b[2K\u001b[1G\u001b[A\u001b[2K\u001b[1G\u001b[A\u001b[2K\u001b[1Gpulling manifest \n",
      "pulling 8eeb52dfb3bb... 100% ▕▏ 4.7 GB                         \n",
      "pulling 73b313b5552d... 100% ▕▏ 1.4 KB                         \n",
      "pulling 0ba8f0e314b4... 100% ▕▏  12 KB                         \n",
      "pulling 56bb8bd477a5... 100% ▕▏   96 B                         \n",
      "pulling 1a4c3c319823... 100% ▕▏  485 B                         \n",
      "verifying sha256 digest ⠸ \u001b[?25h\u001b[?25l\u001b[2K\u001b[1G\u001b[A\u001b[2K\u001b[1G\u001b[A\u001b[2K\u001b[1G\u001b[A\u001b[2K\u001b[1G\u001b[A\u001b[2K\u001b[1G\u001b[A\u001b[2K\u001b[1G\u001b[A\u001b[2K\u001b[1Gpulling manifest \n",
      "pulling 8eeb52dfb3bb... 100% ▕▏ 4.7 GB                         \n",
      "pulling 73b313b5552d... 100% ▕▏ 1.4 KB                         \n",
      "pulling 0ba8f0e314b4... 100% ▕▏  12 KB                         \n",
      "pulling 56bb8bd477a5... 100% ▕▏   96 B                         \n",
      "pulling 1a4c3c319823... 100% ▕▏  485 B                         \n",
      "verifying sha256 digest ⠼ \u001b[?25h\u001b[?25l\u001b[2K\u001b[1G\u001b[A\u001b[2K\u001b[1G\u001b[A\u001b[2K\u001b[1G\u001b[A\u001b[2K\u001b[1G\u001b[A\u001b[2K\u001b[1G\u001b[A\u001b[2K\u001b[1G\u001b[A\u001b[2K\u001b[1Gpulling manifest \n",
      "pulling 8eeb52dfb3bb... 100% ▕▏ 4.7 GB                         \n",
      "pulling 73b313b5552d... 100% ▕▏ 1.4 KB                         \n",
      "pulling 0ba8f0e314b4... 100% ▕▏  12 KB                         \n",
      "pulling 56bb8bd477a5... 100% ▕▏   96 B                         \n",
      "pulling 1a4c3c319823... 100% ▕▏  485 B                         \n",
      "verifying sha256 digest ⠴ \u001b[?25h\u001b[?25l\u001b[2K\u001b[1G\u001b[A\u001b[2K\u001b[1G\u001b[A\u001b[2K\u001b[1G\u001b[A\u001b[2K\u001b[1G\u001b[A\u001b[2K\u001b[1G\u001b[A\u001b[2K\u001b[1G\u001b[A\u001b[2K\u001b[1Gpulling manifest \n",
      "pulling 8eeb52dfb3bb... 100% ▕▏ 4.7 GB                         \n",
      "pulling 73b313b5552d... 100% ▕▏ 1.4 KB                         \n",
      "pulling 0ba8f0e314b4... 100% ▕▏  12 KB                         \n",
      "pulling 56bb8bd477a5... 100% ▕▏   96 B                         \n",
      "pulling 1a4c3c319823... 100% ▕▏  485 B                         \n",
      "verifying sha256 digest ⠦ \u001b[?25h\u001b[?25l\u001b[2K\u001b[1G\u001b[A\u001b[2K\u001b[1G\u001b[A\u001b[2K\u001b[1G\u001b[A\u001b[2K\u001b[1G\u001b[A\u001b[2K\u001b[1G\u001b[A\u001b[2K\u001b[1G\u001b[A\u001b[2K\u001b[1Gpulling manifest \n",
      "pulling 8eeb52dfb3bb... 100% ▕▏ 4.7 GB                         \n",
      "pulling 73b313b5552d... 100% ▕▏ 1.4 KB                         \n",
      "pulling 0ba8f0e314b4... 100% ▕▏  12 KB                         \n",
      "pulling 56bb8bd477a5... 100% ▕▏   96 B                         \n",
      "pulling 1a4c3c319823... 100% ▕▏  485 B                         \n",
      "verifying sha256 digest ⠧ \u001b[?25h\u001b[?25l\u001b[2K\u001b[1G\u001b[A\u001b[2K\u001b[1G\u001b[A\u001b[2K\u001b[1G\u001b[A\u001b[2K\u001b[1G\u001b[A\u001b[2K\u001b[1G\u001b[A\u001b[2K\u001b[1G\u001b[A\u001b[2K\u001b[1Gpulling manifest \n",
      "pulling 8eeb52dfb3bb... 100% ▕▏ 4.7 GB                         \n",
      "pulling 73b313b5552d... 100% ▕▏ 1.4 KB                         \n",
      "pulling 0ba8f0e314b4... 100% ▕▏  12 KB                         \n",
      "pulling 56bb8bd477a5... 100% ▕▏   96 B                         \n",
      "pulling 1a4c3c319823... 100% ▕▏  485 B                         \n",
      "verifying sha256 digest ⠇ \u001b[?25h\u001b[?25l\u001b[2K\u001b[1G\u001b[A\u001b[2K\u001b[1G\u001b[A\u001b[2K\u001b[1G\u001b[A\u001b[2K\u001b[1G\u001b[A\u001b[2K\u001b[1G\u001b[A\u001b[2K\u001b[1G\u001b[A\u001b[2K\u001b[1Gpulling manifest \n",
      "pulling 8eeb52dfb3bb... 100% ▕▏ 4.7 GB                         \n",
      "pulling 73b313b5552d... 100% ▕▏ 1.4 KB                         \n",
      "pulling 0ba8f0e314b4... 100% ▕▏  12 KB                         \n",
      "pulling 56bb8bd477a5... 100% ▕▏   96 B                         \n",
      "pulling 1a4c3c319823... 100% ▕▏  485 B                         \n",
      "verifying sha256 digest ⠏ \u001b[?25h\u001b[?25l\u001b[2K\u001b[1G\u001b[A\u001b[2K\u001b[1G\u001b[A\u001b[2K\u001b[1G\u001b[A\u001b[2K\u001b[1G\u001b[A\u001b[2K\u001b[1G\u001b[A\u001b[2K\u001b[1G\u001b[A\u001b[2K\u001b[1Gpulling manifest \n",
      "pulling 8eeb52dfb3bb... 100% ▕▏ 4.7 GB                         \n",
      "pulling 73b313b5552d... 100% ▕▏ 1.4 KB                         \n",
      "pulling 0ba8f0e314b4... 100% ▕▏  12 KB                         \n",
      "pulling 56bb8bd477a5... 100% ▕▏   96 B                         \n",
      "pulling 1a4c3c319823... 100% ▕▏  485 B                         \n",
      "verifying sha256 digest ⠋ \u001b[?25h\u001b[?25l\u001b[2K\u001b[1G\u001b[A\u001b[2K\u001b[1G\u001b[A\u001b[2K\u001b[1G\u001b[A\u001b[2K\u001b[1G\u001b[A\u001b[2K\u001b[1G\u001b[A\u001b[2K\u001b[1G\u001b[A\u001b[2K\u001b[1Gpulling manifest \n",
      "pulling 8eeb52dfb3bb... 100% ▕▏ 4.7 GB                         \n",
      "pulling 73b313b5552d... 100% ▕▏ 1.4 KB                         \n",
      "pulling 0ba8f0e314b4... 100% ▕▏  12 KB                         \n",
      "pulling 56bb8bd477a5... 100% ▕▏   96 B                         \n",
      "pulling 1a4c3c319823... 100% ▕▏  485 B                         \n",
      "verifying sha256 digest ⠙ \u001b[?25h\u001b[?25l\u001b[2K\u001b[1G\u001b[A\u001b[2K\u001b[1G\u001b[A\u001b[2K\u001b[1G\u001b[A\u001b[2K\u001b[1G\u001b[A\u001b[2K\u001b[1G\u001b[A\u001b[2K\u001b[1G\u001b[A\u001b[2K\u001b[1Gpulling manifest \n",
      "pulling 8eeb52dfb3bb... 100% ▕▏ 4.7 GB                         \n",
      "pulling 73b313b5552d... 100% ▕▏ 1.4 KB                         \n",
      "pulling 0ba8f0e314b4... 100% ▕▏  12 KB                         \n",
      "pulling 56bb8bd477a5... 100% ▕▏   96 B                         \n",
      "pulling 1a4c3c319823... 100% ▕▏  485 B                         \n",
      "verifying sha256 digest ⠹ \u001b[?25h\u001b[?25l\u001b[2K\u001b[1G\u001b[A\u001b[2K\u001b[1G\u001b[A\u001b[2K\u001b[1G\u001b[A\u001b[2K\u001b[1G\u001b[A\u001b[2K\u001b[1G\u001b[A\u001b[2K\u001b[1G\u001b[A\u001b[2K\u001b[1Gpulling manifest \n",
      "pulling 8eeb52dfb3bb... 100% ▕▏ 4.7 GB                         \n",
      "pulling 73b313b5552d... 100% ▕▏ 1.4 KB                         \n",
      "pulling 0ba8f0e314b4... 100% ▕▏  12 KB                         \n",
      "pulling 56bb8bd477a5... 100% ▕▏   96 B                         \n",
      "pulling 1a4c3c319823... 100% ▕▏  485 B                         \n",
      "verifying sha256 digest ⠸ \u001b[?25h\u001b[?25l\u001b[2K\u001b[1G\u001b[A\u001b[2K\u001b[1G\u001b[A\u001b[2K\u001b[1G\u001b[A\u001b[2K\u001b[1G\u001b[A\u001b[2K\u001b[1G\u001b[A\u001b[2K\u001b[1G\u001b[A\u001b[2K\u001b[1Gpulling manifest \n",
      "pulling 8eeb52dfb3bb... 100% ▕▏ 4.7 GB                         \n",
      "pulling 73b313b5552d... 100% ▕▏ 1.4 KB                         \n",
      "pulling 0ba8f0e314b4... 100% ▕▏  12 KB                         \n",
      "pulling 56bb8bd477a5... 100% ▕▏   96 B                         \n",
      "pulling 1a4c3c319823... 100% ▕▏  485 B                         \n",
      "verifying sha256 digest ⠼ \u001b[?25h\u001b[?25l\u001b[2K\u001b[1G\u001b[A\u001b[2K\u001b[1G\u001b[A\u001b[2K\u001b[1G\u001b[A\u001b[2K\u001b[1G\u001b[A\u001b[2K\u001b[1G\u001b[A\u001b[2K\u001b[1G\u001b[A\u001b[2K\u001b[1Gpulling manifest \n",
      "pulling 8eeb52dfb3bb... 100% ▕▏ 4.7 GB                         \n",
      "pulling 73b313b5552d... 100% ▕▏ 1.4 KB                         \n",
      "pulling 0ba8f0e314b4... 100% ▕▏  12 KB                         \n",
      "pulling 56bb8bd477a5... 100% ▕▏   96 B                         \n",
      "pulling 1a4c3c319823... 100% ▕▏  485 B                         \n",
      "verifying sha256 digest ⠴ \u001b[?25h\u001b[?25l\u001b[2K\u001b[1G\u001b[A\u001b[2K\u001b[1G\u001b[A\u001b[2K\u001b[1G\u001b[A\u001b[2K\u001b[1G\u001b[A\u001b[2K\u001b[1G\u001b[A\u001b[2K\u001b[1G\u001b[A\u001b[2K\u001b[1Gpulling manifest \n",
      "pulling 8eeb52dfb3bb... 100% ▕▏ 4.7 GB                         \n",
      "pulling 73b313b5552d... 100% ▕▏ 1.4 KB                         \n",
      "pulling 0ba8f0e314b4... 100% ▕▏  12 KB                         \n",
      "pulling 56bb8bd477a5... 100% ▕▏   96 B                         \n",
      "pulling 1a4c3c319823... 100% ▕▏  485 B                         \n",
      "verifying sha256 digest ⠦ \u001b[?25h\u001b[?25l\u001b[2K\u001b[1G\u001b[A\u001b[2K\u001b[1G\u001b[A\u001b[2K\u001b[1G\u001b[A\u001b[2K\u001b[1G\u001b[A\u001b[2K\u001b[1G\u001b[A\u001b[2K\u001b[1G\u001b[A\u001b[2K\u001b[1Gpulling manifest \n",
      "pulling 8eeb52dfb3bb... 100% ▕▏ 4.7 GB                         \n",
      "pulling 73b313b5552d... 100% ▕▏ 1.4 KB                         \n",
      "pulling 0ba8f0e314b4... 100% ▕▏  12 KB                         \n",
      "pulling 56bb8bd477a5... 100% ▕▏   96 B                         \n",
      "pulling 1a4c3c319823... 100% ▕▏  485 B                         \n",
      "verifying sha256 digest ⠧ \u001b[?25h\u001b[?25l\u001b[2K\u001b[1G\u001b[A\u001b[2K\u001b[1G\u001b[A\u001b[2K\u001b[1G\u001b[A\u001b[2K\u001b[1G\u001b[A\u001b[2K\u001b[1G\u001b[A\u001b[2K\u001b[1G\u001b[A\u001b[2K\u001b[1Gpulling manifest \n",
      "pulling 8eeb52dfb3bb... 100% ▕▏ 4.7 GB                         \n",
      "pulling 73b313b5552d... 100% ▕▏ 1.4 KB                         \n",
      "pulling 0ba8f0e314b4... 100% ▕▏  12 KB                         \n",
      "pulling 56bb8bd477a5... 100% ▕▏   96 B                         \n",
      "pulling 1a4c3c319823... 100% ▕▏  485 B                         \n",
      "verifying sha256 digest ⠇ \u001b[?25h\u001b[?25l\u001b[2K\u001b[1G\u001b[A\u001b[2K\u001b[1G\u001b[A\u001b[2K\u001b[1G\u001b[A\u001b[2K\u001b[1G\u001b[A\u001b[2K\u001b[1G\u001b[A\u001b[2K\u001b[1G\u001b[A\u001b[2K\u001b[1Gpulling manifest \n",
      "pulling 8eeb52dfb3bb... 100% ▕▏ 4.7 GB                         \n",
      "pulling 73b313b5552d... 100% ▕▏ 1.4 KB                         \n",
      "pulling 0ba8f0e314b4... 100% ▕▏  12 KB                         \n",
      "pulling 56bb8bd477a5... 100% ▕▏   96 B                         \n",
      "pulling 1a4c3c319823... 100% ▕▏  485 B                         \n",
      "verifying sha256 digest ⠏ \u001b[?25h\u001b[?25l\u001b[2K\u001b[1G\u001b[A\u001b[2K\u001b[1G\u001b[A\u001b[2K\u001b[1G\u001b[A\u001b[2K\u001b[1G\u001b[A\u001b[2K\u001b[1G\u001b[A\u001b[2K\u001b[1G\u001b[A\u001b[2K\u001b[1Gpulling manifest \n",
      "pulling 8eeb52dfb3bb... 100% ▕▏ 4.7 GB                         \n",
      "pulling 73b313b5552d... 100% ▕▏ 1.4 KB                         \n",
      "pulling 0ba8f0e314b4... 100% ▕▏  12 KB                         \n",
      "pulling 56bb8bd477a5... 100% ▕▏   96 B                         \n",
      "pulling 1a4c3c319823... 100% ▕▏  485 B                         \n",
      "verifying sha256 digest ⠋ \u001b[?25h\u001b[?25l\u001b[2K\u001b[1G\u001b[A\u001b[2K\u001b[1G\u001b[A\u001b[2K\u001b[1G\u001b[A\u001b[2K\u001b[1G\u001b[A\u001b[2K\u001b[1G\u001b[A\u001b[2K\u001b[1G\u001b[A\u001b[2K\u001b[1Gpulling manifest \n",
      "pulling 8eeb52dfb3bb... 100% ▕▏ 4.7 GB                         \n",
      "pulling 73b313b5552d... 100% ▕▏ 1.4 KB                         \n",
      "pulling 0ba8f0e314b4... 100% ▕▏  12 KB                         \n",
      "pulling 56bb8bd477a5... 100% ▕▏   96 B                         \n",
      "pulling 1a4c3c319823... 100% ▕▏  485 B                         \n",
      "verifying sha256 digest ⠙ \u001b[?25h\u001b[?25l\u001b[2K\u001b[1G\u001b[A\u001b[2K\u001b[1G\u001b[A\u001b[2K\u001b[1G\u001b[A\u001b[2K\u001b[1G\u001b[A\u001b[2K\u001b[1G\u001b[A\u001b[2K\u001b[1G\u001b[A\u001b[2K\u001b[1Gpulling manifest \n",
      "pulling 8eeb52dfb3bb... 100% ▕▏ 4.7 GB                         \n",
      "pulling 73b313b5552d... 100% ▕▏ 1.4 KB                         \n",
      "pulling 0ba8f0e314b4... 100% ▕▏  12 KB                         \n",
      "pulling 56bb8bd477a5... 100% ▕▏   96 B                         \n",
      "pulling 1a4c3c319823... 100% ▕▏  485 B                         \n",
      "verifying sha256 digest ⠹ \u001b[?25h\u001b[?25l\u001b[2K\u001b[1G\u001b[A\u001b[2K\u001b[1G\u001b[A\u001b[2K\u001b[1G\u001b[A\u001b[2K\u001b[1G\u001b[A\u001b[2K\u001b[1G\u001b[A\u001b[2K\u001b[1G\u001b[A\u001b[2K\u001b[1Gpulling manifest \n",
      "pulling 8eeb52dfb3bb... 100% ▕▏ 4.7 GB                         \n",
      "pulling 73b313b5552d... 100% ▕▏ 1.4 KB                         \n",
      "pulling 0ba8f0e314b4... 100% ▕▏  12 KB                         \n",
      "pulling 56bb8bd477a5... 100% ▕▏   96 B                         \n",
      "pulling 1a4c3c319823... 100% ▕▏  485 B                         \n",
      "verifying sha256 digest ⠸ \u001b[?25h\u001b[?25l\u001b[2K\u001b[1G\u001b[A\u001b[2K\u001b[1G\u001b[A\u001b[2K\u001b[1G\u001b[A\u001b[2K\u001b[1G\u001b[A\u001b[2K\u001b[1G\u001b[A\u001b[2K\u001b[1G\u001b[A\u001b[2K\u001b[1Gpulling manifest \n",
      "pulling 8eeb52dfb3bb... 100% ▕▏ 4.7 GB                         \n",
      "pulling 73b313b5552d... 100% ▕▏ 1.4 KB                         \n",
      "pulling 0ba8f0e314b4... 100% ▕▏  12 KB                         \n",
      "pulling 56bb8bd477a5... 100% ▕▏   96 B                         \n",
      "pulling 1a4c3c319823... 100% ▕▏  485 B                         \n",
      "verifying sha256 digest ⠼ \u001b[?25h\u001b[?25l\u001b[2K\u001b[1G\u001b[A\u001b[2K\u001b[1G\u001b[A\u001b[2K\u001b[1G\u001b[A\u001b[2K\u001b[1G\u001b[A\u001b[2K\u001b[1G\u001b[A\u001b[2K\u001b[1G\u001b[A\u001b[2K\u001b[1Gpulling manifest \n",
      "pulling 8eeb52dfb3bb... 100% ▕▏ 4.7 GB                         \n",
      "pulling 73b313b5552d... 100% ▕▏ 1.4 KB                         \n",
      "pulling 0ba8f0e314b4... 100% ▕▏  12 KB                         \n",
      "pulling 56bb8bd477a5... 100% ▕▏   96 B                         \n",
      "pulling 1a4c3c319823... 100% ▕▏  485 B                         \n",
      "verifying sha256 digest ⠴ \u001b[?25h\u001b[?25l\u001b[2K\u001b[1G\u001b[A\u001b[2K\u001b[1G\u001b[A\u001b[2K\u001b[1G\u001b[A\u001b[2K\u001b[1G\u001b[A\u001b[2K\u001b[1G\u001b[A\u001b[2K\u001b[1G\u001b[A\u001b[2K\u001b[1Gpulling manifest \n",
      "pulling 8eeb52dfb3bb... 100% ▕▏ 4.7 GB                         \n",
      "pulling 73b313b5552d... 100% ▕▏ 1.4 KB                         \n",
      "pulling 0ba8f0e314b4... 100% ▕▏  12 KB                         \n",
      "pulling 56bb8bd477a5... 100% ▕▏   96 B                         \n",
      "pulling 1a4c3c319823... 100% ▕▏  485 B                         \n",
      "verifying sha256 digest ⠦ \u001b[?25h\u001b[?25l\u001b[2K\u001b[1G\u001b[A\u001b[2K\u001b[1G\u001b[A\u001b[2K\u001b[1G\u001b[A\u001b[2K\u001b[1G\u001b[A\u001b[2K\u001b[1G\u001b[A\u001b[2K\u001b[1G\u001b[A\u001b[2K\u001b[1Gpulling manifest \n",
      "pulling 8eeb52dfb3bb... 100% ▕▏ 4.7 GB                         \n",
      "pulling 73b313b5552d... 100% ▕▏ 1.4 KB                         \n",
      "pulling 0ba8f0e314b4... 100% ▕▏  12 KB                         \n",
      "pulling 56bb8bd477a5... 100% ▕▏   96 B                         \n",
      "pulling 1a4c3c319823... 100% ▕▏  485 B                         \n",
      "verifying sha256 digest ⠧ \u001b[?25h\u001b[?25l\u001b[2K\u001b[1G\u001b[A\u001b[2K\u001b[1G\u001b[A\u001b[2K\u001b[1G\u001b[A\u001b[2K\u001b[1G\u001b[A\u001b[2K\u001b[1G\u001b[A\u001b[2K\u001b[1G\u001b[A\u001b[2K\u001b[1Gpulling manifest \n",
      "pulling 8eeb52dfb3bb... 100% ▕▏ 4.7 GB                         \n",
      "pulling 73b313b5552d... 100% ▕▏ 1.4 KB                         \n",
      "pulling 0ba8f0e314b4... 100% ▕▏  12 KB                         \n",
      "pulling 56bb8bd477a5... 100% ▕▏   96 B                         \n",
      "pulling 1a4c3c319823... 100% ▕▏  485 B                         \n",
      "verifying sha256 digest ⠇ \u001b[?25h\u001b[?25l\u001b[2K\u001b[1G\u001b[A\u001b[2K\u001b[1G\u001b[A\u001b[2K\u001b[1G\u001b[A\u001b[2K\u001b[1G\u001b[A\u001b[2K\u001b[1G\u001b[A\u001b[2K\u001b[1G\u001b[A\u001b[2K\u001b[1Gpulling manifest \n",
      "pulling 8eeb52dfb3bb... 100% ▕▏ 4.7 GB                         \n",
      "pulling 73b313b5552d... 100% ▕▏ 1.4 KB                         \n",
      "pulling 0ba8f0e314b4... 100% ▕▏  12 KB                         \n",
      "pulling 56bb8bd477a5... 100% ▕▏   96 B                         \n",
      "pulling 1a4c3c319823... 100% ▕▏  485 B                         \n",
      "verifying sha256 digest ⠏ \u001b[?25h\u001b[?25l\u001b[2K\u001b[1G\u001b[A\u001b[2K\u001b[1G\u001b[A\u001b[2K\u001b[1G\u001b[A\u001b[2K\u001b[1G\u001b[A\u001b[2K\u001b[1G\u001b[A\u001b[2K\u001b[1G\u001b[A\u001b[2K\u001b[1Gpulling manifest \n",
      "pulling 8eeb52dfb3bb... 100% ▕▏ 4.7 GB                         \n",
      "pulling 73b313b5552d... 100% ▕▏ 1.4 KB                         \n",
      "pulling 0ba8f0e314b4... 100% ▕▏  12 KB                         \n",
      "pulling 56bb8bd477a5... 100% ▕▏   96 B                         \n",
      "pulling 1a4c3c319823... 100% ▕▏  485 B                         \n",
      "verifying sha256 digest ⠋ \u001b[?25h\u001b[?25l\u001b[2K\u001b[1G\u001b[A\u001b[2K\u001b[1G\u001b[A\u001b[2K\u001b[1G\u001b[A\u001b[2K\u001b[1G\u001b[A\u001b[2K\u001b[1G\u001b[A\u001b[2K\u001b[1G\u001b[A\u001b[2K\u001b[1Gpulling manifest \n",
      "pulling 8eeb52dfb3bb... 100% ▕▏ 4.7 GB                         \n",
      "pulling 73b313b5552d... 100% ▕▏ 1.4 KB                         \n",
      "pulling 0ba8f0e314b4... 100% ▕▏  12 KB                         \n",
      "pulling 56bb8bd477a5... 100% ▕▏   96 B                         \n",
      "pulling 1a4c3c319823... 100% ▕▏  485 B                         \n",
      "verifying sha256 digest ⠙ \u001b[?25h\u001b[?25l\u001b[2K\u001b[1G\u001b[A\u001b[2K\u001b[1G\u001b[A\u001b[2K\u001b[1G\u001b[A\u001b[2K\u001b[1G\u001b[A\u001b[2K\u001b[1G\u001b[A\u001b[2K\u001b[1G\u001b[A\u001b[2K\u001b[1Gpulling manifest \n",
      "pulling 8eeb52dfb3bb... 100% ▕▏ 4.7 GB                         \n",
      "pulling 73b313b5552d... 100% ▕▏ 1.4 KB                         \n",
      "pulling 0ba8f0e314b4... 100% ▕▏  12 KB                         \n",
      "pulling 56bb8bd477a5... 100% ▕▏   96 B                         \n",
      "pulling 1a4c3c319823... 100% ▕▏  485 B                         \n",
      "verifying sha256 digest ⠹ \u001b[?25h\u001b[?25l\u001b[2K\u001b[1G\u001b[A\u001b[2K\u001b[1G\u001b[A\u001b[2K\u001b[1G\u001b[A\u001b[2K\u001b[1G\u001b[A\u001b[2K\u001b[1G\u001b[A\u001b[2K\u001b[1G\u001b[A\u001b[2K\u001b[1Gpulling manifest \n",
      "pulling 8eeb52dfb3bb... 100% ▕▏ 4.7 GB                         \n",
      "pulling 73b313b5552d... 100% ▕▏ 1.4 KB                         \n",
      "pulling 0ba8f0e314b4... 100% ▕▏  12 KB                         \n",
      "pulling 56bb8bd477a5... 100% ▕▏   96 B                         \n",
      "pulling 1a4c3c319823... 100% ▕▏  485 B                         \n",
      "verifying sha256 digest ⠸ \u001b[?25h\u001b[?25l\u001b[2K\u001b[1G\u001b[A\u001b[2K\u001b[1G\u001b[A\u001b[2K\u001b[1G\u001b[A\u001b[2K\u001b[1G\u001b[A\u001b[2K\u001b[1G\u001b[A\u001b[2K\u001b[1G\u001b[A\u001b[2K\u001b[1Gpulling manifest \n",
      "pulling 8eeb52dfb3bb... 100% ▕▏ 4.7 GB                         \n",
      "pulling 73b313b5552d... 100% ▕▏ 1.4 KB                         \n",
      "pulling 0ba8f0e314b4... 100% ▕▏  12 KB                         \n",
      "pulling 56bb8bd477a5... 100% ▕▏   96 B                         \n",
      "pulling 1a4c3c319823... 100% ▕▏  485 B                         \n",
      "verifying sha256 digest ⠼ \u001b[?25h\u001b[?25l\u001b[2K\u001b[1G\u001b[A\u001b[2K\u001b[1G\u001b[A\u001b[2K\u001b[1G\u001b[A\u001b[2K\u001b[1G\u001b[A\u001b[2K\u001b[1G\u001b[A\u001b[2K\u001b[1G\u001b[A\u001b[2K\u001b[1Gpulling manifest \n",
      "pulling 8eeb52dfb3bb... 100% ▕▏ 4.7 GB                         \n",
      "pulling 73b313b5552d... 100% ▕▏ 1.4 KB                         \n",
      "pulling 0ba8f0e314b4... 100% ▕▏  12 KB                         \n",
      "pulling 56bb8bd477a5... 100% ▕▏   96 B                         \n",
      "pulling 1a4c3c319823... 100% ▕▏  485 B                         \n",
      "verifying sha256 digest ⠴ \u001b[?25h\u001b[?25l\u001b[2K\u001b[1G\u001b[A\u001b[2K\u001b[1G\u001b[A\u001b[2K\u001b[1G\u001b[A\u001b[2K\u001b[1G\u001b[A\u001b[2K\u001b[1G\u001b[A\u001b[2K\u001b[1G\u001b[A\u001b[2K\u001b[1Gpulling manifest \n",
      "pulling 8eeb52dfb3bb... 100% ▕▏ 4.7 GB                         \n",
      "pulling 73b313b5552d... 100% ▕▏ 1.4 KB                         \n",
      "pulling 0ba8f0e314b4... 100% ▕▏  12 KB                         \n",
      "pulling 56bb8bd477a5... 100% ▕▏   96 B                         \n",
      "pulling 1a4c3c319823... 100% ▕▏  485 B                         \n",
      "verifying sha256 digest ⠦ \u001b[?25h\u001b[?25l\u001b[2K\u001b[1G\u001b[A\u001b[2K\u001b[1G\u001b[A\u001b[2K\u001b[1G\u001b[A\u001b[2K\u001b[1G\u001b[A\u001b[2K\u001b[1G\u001b[A\u001b[2K\u001b[1G\u001b[A\u001b[2K\u001b[1Gpulling manifest \n",
      "pulling 8eeb52dfb3bb... 100% ▕▏ 4.7 GB                         \n",
      "pulling 73b313b5552d... 100% ▕▏ 1.4 KB                         \n",
      "pulling 0ba8f0e314b4... 100% ▕▏  12 KB                         \n",
      "pulling 56bb8bd477a5... 100% ▕▏   96 B                         \n",
      "pulling 1a4c3c319823... 100% ▕▏  485 B                         \n",
      "verifying sha256 digest ⠧ \u001b[?25h\u001b[?25l\u001b[2K\u001b[1G\u001b[A\u001b[2K\u001b[1G\u001b[A\u001b[2K\u001b[1G\u001b[A\u001b[2K\u001b[1G\u001b[A\u001b[2K\u001b[1G\u001b[A\u001b[2K\u001b[1G\u001b[A\u001b[2K\u001b[1Gpulling manifest \n",
      "pulling 8eeb52dfb3bb... 100% ▕▏ 4.7 GB                         \n",
      "pulling 73b313b5552d... 100% ▕▏ 1.4 KB                         \n",
      "pulling 0ba8f0e314b4... 100% ▕▏  12 KB                         \n",
      "pulling 56bb8bd477a5... 100% ▕▏   96 B                         \n",
      "pulling 1a4c3c319823... 100% ▕▏  485 B                         \n",
      "verifying sha256 digest ⠇ \u001b[?25h\u001b[?25l\u001b[2K\u001b[1G\u001b[A\u001b[2K\u001b[1G\u001b[A\u001b[2K\u001b[1G\u001b[A\u001b[2K\u001b[1G\u001b[A\u001b[2K\u001b[1G\u001b[A\u001b[2K\u001b[1G\u001b[A\u001b[2K\u001b[1Gpulling manifest \n",
      "pulling 8eeb52dfb3bb... 100% ▕▏ 4.7 GB                         \n",
      "pulling 73b313b5552d... 100% ▕▏ 1.4 KB                         \n",
      "pulling 0ba8f0e314b4... 100% ▕▏  12 KB                         \n",
      "pulling 56bb8bd477a5... 100% ▕▏   96 B                         \n",
      "pulling 1a4c3c319823... 100% ▕▏  485 B                         \n",
      "verifying sha256 digest ⠏ \u001b[?25h\u001b[?25l\u001b[2K\u001b[1G\u001b[A\u001b[2K\u001b[1G\u001b[A\u001b[2K\u001b[1G\u001b[A\u001b[2K\u001b[1G\u001b[A\u001b[2K\u001b[1G\u001b[A\u001b[2K\u001b[1G\u001b[A\u001b[2K\u001b[1Gpulling manifest \n",
      "pulling 8eeb52dfb3bb... 100% ▕▏ 4.7 GB                         \n",
      "pulling 73b313b5552d... 100% ▕▏ 1.4 KB                         \n",
      "pulling 0ba8f0e314b4... 100% ▕▏  12 KB                         \n",
      "pulling 56bb8bd477a5... 100% ▕▏   96 B                         \n",
      "pulling 1a4c3c319823... 100% ▕▏  485 B                         \n",
      "verifying sha256 digest ⠋ \u001b[?25h\u001b[?25l\u001b[2K\u001b[1G\u001b[A\u001b[2K\u001b[1G\u001b[A\u001b[2K\u001b[1G\u001b[A\u001b[2K\u001b[1G\u001b[A\u001b[2K\u001b[1G\u001b[A\u001b[2K\u001b[1G\u001b[A\u001b[2K\u001b[1Gpulling manifest \n",
      "pulling 8eeb52dfb3bb... 100% ▕▏ 4.7 GB                         \n",
      "pulling 73b313b5552d... 100% ▕▏ 1.4 KB                         \n",
      "pulling 0ba8f0e314b4... 100% ▕▏  12 KB                         \n",
      "pulling 56bb8bd477a5... 100% ▕▏   96 B                         \n",
      "pulling 1a4c3c319823... 100% ▕▏  485 B                         \n",
      "verifying sha256 digest ⠙ \u001b[?25h\u001b[?25l\u001b[2K\u001b[1G\u001b[A\u001b[2K\u001b[1G\u001b[A\u001b[2K\u001b[1G\u001b[A\u001b[2K\u001b[1G\u001b[A\u001b[2K\u001b[1G\u001b[A\u001b[2K\u001b[1G\u001b[A\u001b[2K\u001b[1Gpulling manifest \n",
      "pulling 8eeb52dfb3bb... 100% ▕▏ 4.7 GB                         \n",
      "pulling 73b313b5552d... 100% ▕▏ 1.4 KB                         \n",
      "pulling 0ba8f0e314b4... 100% ▕▏  12 KB                         \n",
      "pulling 56bb8bd477a5... 100% ▕▏   96 B                         \n",
      "pulling 1a4c3c319823... 100% ▕▏  485 B                         \n",
      "verifying sha256 digest ⠹ \u001b[?25h\u001b[?25l\u001b[2K\u001b[1G\u001b[A\u001b[2K\u001b[1G\u001b[A\u001b[2K\u001b[1G\u001b[A\u001b[2K\u001b[1G\u001b[A\u001b[2K\u001b[1G\u001b[A\u001b[2K\u001b[1G\u001b[A\u001b[2K\u001b[1Gpulling manifest \n",
      "pulling 8eeb52dfb3bb... 100% ▕▏ 4.7 GB                         \n",
      "pulling 73b313b5552d... 100% ▕▏ 1.4 KB                         \n",
      "pulling 0ba8f0e314b4... 100% ▕▏  12 KB                         \n",
      "pulling 56bb8bd477a5... 100% ▕▏   96 B                         \n",
      "pulling 1a4c3c319823... 100% ▕▏  485 B                         \n",
      "verifying sha256 digest ⠸ \u001b[?25h\u001b[?25l\u001b[2K\u001b[1G\u001b[A\u001b[2K\u001b[1G\u001b[A\u001b[2K\u001b[1G\u001b[A\u001b[2K\u001b[1G\u001b[A\u001b[2K\u001b[1G\u001b[A\u001b[2K\u001b[1G\u001b[A\u001b[2K\u001b[1Gpulling manifest \n",
      "pulling 8eeb52dfb3bb... 100% ▕▏ 4.7 GB                         \n",
      "pulling 73b313b5552d... 100% ▕▏ 1.4 KB                         \n",
      "pulling 0ba8f0e314b4... 100% ▕▏  12 KB                         \n",
      "pulling 56bb8bd477a5... 100% ▕▏   96 B                         \n",
      "pulling 1a4c3c319823... 100% ▕▏  485 B                         \n",
      "verifying sha256 digest ⠼ \u001b[?25h\u001b[?25l\u001b[2K\u001b[1G\u001b[A\u001b[2K\u001b[1G\u001b[A\u001b[2K\u001b[1G\u001b[A\u001b[2K\u001b[1G\u001b[A\u001b[2K\u001b[1G\u001b[A\u001b[2K\u001b[1G\u001b[A\u001b[2K\u001b[1Gpulling manifest \n",
      "pulling 8eeb52dfb3bb... 100% ▕▏ 4.7 GB                         \n",
      "pulling 73b313b5552d... 100% ▕▏ 1.4 KB                         \n",
      "pulling 0ba8f0e314b4... 100% ▕▏  12 KB                         \n",
      "pulling 56bb8bd477a5... 100% ▕▏   96 B                         \n",
      "pulling 1a4c3c319823... 100% ▕▏  485 B                         \n",
      "verifying sha256 digest ⠴ \u001b[?25h\u001b[?25l\u001b[2K\u001b[1G\u001b[A\u001b[2K\u001b[1G\u001b[A\u001b[2K\u001b[1G\u001b[A\u001b[2K\u001b[1G\u001b[A\u001b[2K\u001b[1G\u001b[A\u001b[2K\u001b[1G\u001b[A\u001b[2K\u001b[1Gpulling manifest \n",
      "pulling 8eeb52dfb3bb... 100% ▕▏ 4.7 GB                         \n",
      "pulling 73b313b5552d... 100% ▕▏ 1.4 KB                         \n",
      "pulling 0ba8f0e314b4... 100% ▕▏  12 KB                         \n",
      "pulling 56bb8bd477a5... 100% ▕▏   96 B                         \n",
      "pulling 1a4c3c319823... 100% ▕▏  485 B                         \n",
      "verifying sha256 digest ⠦ \u001b[?25h\u001b[?25l\u001b[2K\u001b[1G\u001b[A\u001b[2K\u001b[1G\u001b[A\u001b[2K\u001b[1G\u001b[A\u001b[2K\u001b[1G\u001b[A\u001b[2K\u001b[1G\u001b[A\u001b[2K\u001b[1G\u001b[A\u001b[2K\u001b[1Gpulling manifest \n",
      "pulling 8eeb52dfb3bb... 100% ▕▏ 4.7 GB                         \n",
      "pulling 73b313b5552d... 100% ▕▏ 1.4 KB                         \n",
      "pulling 0ba8f0e314b4... 100% ▕▏  12 KB                         \n",
      "pulling 56bb8bd477a5... 100% ▕▏   96 B                         \n",
      "pulling 1a4c3c319823... 100% ▕▏  485 B                         \n",
      "verifying sha256 digest ⠧ \u001b[?25h\u001b[?25l\u001b[2K\u001b[1G\u001b[A\u001b[2K\u001b[1G\u001b[A\u001b[2K\u001b[1G\u001b[A\u001b[2K\u001b[1G\u001b[A\u001b[2K\u001b[1G\u001b[A\u001b[2K\u001b[1G\u001b[A\u001b[2K\u001b[1Gpulling manifest \n",
      "pulling 8eeb52dfb3bb... 100% ▕▏ 4.7 GB                         \n",
      "pulling 73b313b5552d... 100% ▕▏ 1.4 KB                         \n",
      "pulling 0ba8f0e314b4... 100% ▕▏  12 KB                         \n",
      "pulling 56bb8bd477a5... 100% ▕▏   96 B                         \n",
      "pulling 1a4c3c319823... 100% ▕▏  485 B                         \n",
      "verifying sha256 digest ⠇ \u001b[?25h\u001b[?25l\u001b[2K\u001b[1G\u001b[A\u001b[2K\u001b[1G\u001b[A\u001b[2K\u001b[1G\u001b[A\u001b[2K\u001b[1G\u001b[A\u001b[2K\u001b[1G\u001b[A\u001b[2K\u001b[1G\u001b[A\u001b[2K\u001b[1Gpulling manifest \n",
      "pulling 8eeb52dfb3bb... 100% ▕▏ 4.7 GB                         \n",
      "pulling 73b313b5552d... 100% ▕▏ 1.4 KB                         \n",
      "pulling 0ba8f0e314b4... 100% ▕▏  12 KB                         \n",
      "pulling 56bb8bd477a5... 100% ▕▏   96 B                         \n",
      "pulling 1a4c3c319823... 100% ▕▏  485 B                         \n",
      "verifying sha256 digest ⠏ \u001b[?25h\u001b[?25l\u001b[2K\u001b[1G\u001b[A\u001b[2K\u001b[1G\u001b[A\u001b[2K\u001b[1G\u001b[A\u001b[2K\u001b[1G\u001b[A\u001b[2K\u001b[1G\u001b[A\u001b[2K\u001b[1G\u001b[A\u001b[2K\u001b[1Gpulling manifest \n",
      "pulling 8eeb52dfb3bb... 100% ▕▏ 4.7 GB                         \n",
      "pulling 73b313b5552d... 100% ▕▏ 1.4 KB                         \n",
      "pulling 0ba8f0e314b4... 100% ▕▏  12 KB                         \n",
      "pulling 56bb8bd477a5... 100% ▕▏   96 B                         \n",
      "pulling 1a4c3c319823... 100% ▕▏  485 B                         \n",
      "verifying sha256 digest ⠋ \u001b[?25h\u001b[?25l\u001b[2K\u001b[1G\u001b[A\u001b[2K\u001b[1G\u001b[A\u001b[2K\u001b[1G\u001b[A\u001b[2K\u001b[1G\u001b[A\u001b[2K\u001b[1G\u001b[A\u001b[2K\u001b[1G\u001b[A\u001b[2K\u001b[1Gpulling manifest \n",
      "pulling 8eeb52dfb3bb... 100% ▕▏ 4.7 GB                         \n",
      "pulling 73b313b5552d... 100% ▕▏ 1.4 KB                         \n",
      "pulling 0ba8f0e314b4... 100% ▕▏  12 KB                         \n",
      "pulling 56bb8bd477a5... 100% ▕▏   96 B                         \n",
      "pulling 1a4c3c319823... 100% ▕▏  485 B                         \n",
      "verifying sha256 digest ⠙ \u001b[?25h\u001b[?25l\u001b[2K\u001b[1G\u001b[A\u001b[2K\u001b[1G\u001b[A\u001b[2K\u001b[1G\u001b[A\u001b[2K\u001b[1G\u001b[A\u001b[2K\u001b[1G\u001b[A\u001b[2K\u001b[1G\u001b[A\u001b[2K\u001b[1Gpulling manifest \n",
      "pulling 8eeb52dfb3bb... 100% ▕▏ 4.7 GB                         \n",
      "pulling 73b313b5552d... 100% ▕▏ 1.4 KB                         \n",
      "pulling 0ba8f0e314b4... 100% ▕▏  12 KB                         \n",
      "pulling 56bb8bd477a5... 100% ▕▏   96 B                         \n",
      "pulling 1a4c3c319823... 100% ▕▏  485 B                         \n",
      "verifying sha256 digest ⠹ \u001b[?25h\u001b[?25l\u001b[2K\u001b[1G\u001b[A\u001b[2K\u001b[1G\u001b[A\u001b[2K\u001b[1G\u001b[A\u001b[2K\u001b[1G\u001b[A\u001b[2K\u001b[1G\u001b[A\u001b[2K\u001b[1G\u001b[A\u001b[2K\u001b[1Gpulling manifest \n",
      "pulling 8eeb52dfb3bb... 100% ▕▏ 4.7 GB                         \n",
      "pulling 73b313b5552d... 100% ▕▏ 1.4 KB                         \n",
      "pulling 0ba8f0e314b4... 100% ▕▏  12 KB                         \n",
      "pulling 56bb8bd477a5... 100% ▕▏   96 B                         \n",
      "pulling 1a4c3c319823... 100% ▕▏  485 B                         \n",
      "verifying sha256 digest ⠸ \u001b[?25h\u001b[?25l\u001b[2K\u001b[1G\u001b[A\u001b[2K\u001b[1G\u001b[A\u001b[2K\u001b[1G\u001b[A\u001b[2K\u001b[1G\u001b[A\u001b[2K\u001b[1G\u001b[A\u001b[2K\u001b[1G\u001b[A\u001b[2K\u001b[1Gpulling manifest \n",
      "pulling 8eeb52dfb3bb... 100% ▕▏ 4.7 GB                         \n",
      "pulling 73b313b5552d... 100% ▕▏ 1.4 KB                         \n",
      "pulling 0ba8f0e314b4... 100% ▕▏  12 KB                         \n",
      "pulling 56bb8bd477a5... 100% ▕▏   96 B                         \n",
      "pulling 1a4c3c319823... 100% ▕▏  485 B                         \n",
      "verifying sha256 digest ⠼ \u001b[?25h\u001b[?25l\u001b[2K\u001b[1G\u001b[A\u001b[2K\u001b[1G\u001b[A\u001b[2K\u001b[1G\u001b[A\u001b[2K\u001b[1G\u001b[A\u001b[2K\u001b[1G\u001b[A\u001b[2K\u001b[1G\u001b[A\u001b[2K\u001b[1Gpulling manifest \n",
      "pulling 8eeb52dfb3bb... 100% ▕▏ 4.7 GB                         \n",
      "pulling 73b313b5552d... 100% ▕▏ 1.4 KB                         \n",
      "pulling 0ba8f0e314b4... 100% ▕▏  12 KB                         \n",
      "pulling 56bb8bd477a5... 100% ▕▏   96 B                         \n",
      "pulling 1a4c3c319823... 100% ▕▏  485 B                         \n",
      "verifying sha256 digest ⠴ \u001b[?25h\u001b[?25l\u001b[2K\u001b[1G\u001b[A\u001b[2K\u001b[1G\u001b[A\u001b[2K\u001b[1G\u001b[A\u001b[2K\u001b[1G\u001b[A\u001b[2K\u001b[1G\u001b[A\u001b[2K\u001b[1G\u001b[A\u001b[2K\u001b[1Gpulling manifest \n",
      "pulling 8eeb52dfb3bb... 100% ▕▏ 4.7 GB                         \n",
      "pulling 73b313b5552d... 100% ▕▏ 1.4 KB                         \n",
      "pulling 0ba8f0e314b4... 100% ▕▏  12 KB                         \n",
      "pulling 56bb8bd477a5... 100% ▕▏   96 B                         \n",
      "pulling 1a4c3c319823... 100% ▕▏  485 B                         \n",
      "verifying sha256 digest ⠦ \u001b[?25h\u001b[?25l\u001b[2K\u001b[1G\u001b[A\u001b[2K\u001b[1G\u001b[A\u001b[2K\u001b[1G\u001b[A\u001b[2K\u001b[1G\u001b[A\u001b[2K\u001b[1G\u001b[A\u001b[2K\u001b[1G\u001b[A\u001b[2K\u001b[1Gpulling manifest \n",
      "pulling 8eeb52dfb3bb... 100% ▕▏ 4.7 GB                         \n",
      "pulling 73b313b5552d... 100% ▕▏ 1.4 KB                         \n",
      "pulling 0ba8f0e314b4... 100% ▕▏  12 KB                         \n",
      "pulling 56bb8bd477a5... 100% ▕▏   96 B                         \n",
      "pulling 1a4c3c319823... 100% ▕▏  485 B                         \n",
      "verifying sha256 digest ⠧ \u001b[?25h\u001b[?25l\u001b[2K\u001b[1G\u001b[A\u001b[2K\u001b[1G\u001b[A\u001b[2K\u001b[1G\u001b[A\u001b[2K\u001b[1G\u001b[A\u001b[2K\u001b[1G\u001b[A\u001b[2K\u001b[1G\u001b[A\u001b[2K\u001b[1Gpulling manifest \n",
      "pulling 8eeb52dfb3bb... 100% ▕▏ 4.7 GB                         \n",
      "pulling 73b313b5552d... 100% ▕▏ 1.4 KB                         \n",
      "pulling 0ba8f0e314b4... 100% ▕▏  12 KB                         \n",
      "pulling 56bb8bd477a5... 100% ▕▏   96 B                         \n",
      "pulling 1a4c3c319823... 100% ▕▏  485 B                         \n",
      "verifying sha256 digest ⠇ \u001b[?25h\u001b[?25l\u001b[2K\u001b[1G\u001b[A\u001b[2K\u001b[1G\u001b[A\u001b[2K\u001b[1G\u001b[A\u001b[2K\u001b[1G\u001b[A\u001b[2K\u001b[1G\u001b[A\u001b[2K\u001b[1G\u001b[A\u001b[2K\u001b[1Gpulling manifest \n",
      "pulling 8eeb52dfb3bb... 100% ▕▏ 4.7 GB                         \n",
      "pulling 73b313b5552d... 100% ▕▏ 1.4 KB                         \n",
      "pulling 0ba8f0e314b4... 100% ▕▏  12 KB                         \n",
      "pulling 56bb8bd477a5... 100% ▕▏   96 B                         \n",
      "pulling 1a4c3c319823... 100% ▕▏  485 B                         \n",
      "verifying sha256 digest ⠏ \u001b[?25h\u001b[?25l\u001b[2K\u001b[1G\u001b[A\u001b[2K\u001b[1G\u001b[A\u001b[2K\u001b[1G\u001b[A\u001b[2K\u001b[1G\u001b[A\u001b[2K\u001b[1G\u001b[A\u001b[2K\u001b[1G\u001b[A\u001b[2K\u001b[1Gpulling manifest \n",
      "pulling 8eeb52dfb3bb... 100% ▕▏ 4.7 GB                         \n",
      "pulling 73b313b5552d... 100% ▕▏ 1.4 KB                         \n",
      "pulling 0ba8f0e314b4... 100% ▕▏  12 KB                         \n",
      "pulling 56bb8bd477a5... 100% ▕▏   96 B                         \n",
      "pulling 1a4c3c319823... 100% ▕▏  485 B                         \n",
      "verifying sha256 digest ⠋ \u001b[?25h\u001b[?25l\u001b[2K\u001b[1G\u001b[A\u001b[2K\u001b[1G\u001b[A\u001b[2K\u001b[1G\u001b[A\u001b[2K\u001b[1G\u001b[A\u001b[2K\u001b[1G\u001b[A\u001b[2K\u001b[1G\u001b[A\u001b[2K\u001b[1Gpulling manifest \n",
      "pulling 8eeb52dfb3bb... 100% ▕▏ 4.7 GB                         \n",
      "pulling 73b313b5552d... 100% ▕▏ 1.4 KB                         \n",
      "pulling 0ba8f0e314b4... 100% ▕▏  12 KB                         \n",
      "pulling 56bb8bd477a5... 100% ▕▏   96 B                         \n",
      "pulling 1a4c3c319823... 100% ▕▏  485 B                         \n",
      "verifying sha256 digest ⠙ \u001b[?25h\u001b[?25l\u001b[2K\u001b[1G\u001b[A\u001b[2K\u001b[1G\u001b[A\u001b[2K\u001b[1G\u001b[A\u001b[2K\u001b[1G\u001b[A\u001b[2K\u001b[1G\u001b[A\u001b[2K\u001b[1G\u001b[A\u001b[2K\u001b[1Gpulling manifest \n",
      "pulling 8eeb52dfb3bb... 100% ▕▏ 4.7 GB                         \n",
      "pulling 73b313b5552d... 100% ▕▏ 1.4 KB                         \n",
      "pulling 0ba8f0e314b4... 100% ▕▏  12 KB                         \n",
      "pulling 56bb8bd477a5... 100% ▕▏   96 B                         \n",
      "pulling 1a4c3c319823... 100% ▕▏  485 B                         \n",
      "verifying sha256 digest ⠹ \u001b[?25h\u001b[?25l\u001b[2K\u001b[1G\u001b[A\u001b[2K\u001b[1G\u001b[A\u001b[2K\u001b[1G\u001b[A\u001b[2K\u001b[1G\u001b[A\u001b[2K\u001b[1G\u001b[A\u001b[2K\u001b[1G\u001b[A\u001b[2K\u001b[1Gpulling manifest \n",
      "pulling 8eeb52dfb3bb... 100% ▕▏ 4.7 GB                         \n",
      "pulling 73b313b5552d... 100% ▕▏ 1.4 KB                         \n",
      "pulling 0ba8f0e314b4... 100% ▕▏  12 KB                         \n",
      "pulling 56bb8bd477a5... 100% ▕▏   96 B                         \n",
      "pulling 1a4c3c319823... 100% ▕▏  485 B                         \n",
      "verifying sha256 digest ⠸ \u001b[?25h\u001b[?25l\u001b[2K\u001b[1G\u001b[A\u001b[2K\u001b[1G\u001b[A\u001b[2K\u001b[1G\u001b[A\u001b[2K\u001b[1G\u001b[A\u001b[2K\u001b[1G\u001b[A\u001b[2K\u001b[1G\u001b[A\u001b[2K\u001b[1Gpulling manifest \n",
      "pulling 8eeb52dfb3bb... 100% ▕▏ 4.7 GB                         \n",
      "pulling 73b313b5552d... 100% ▕▏ 1.4 KB                         \n",
      "pulling 0ba8f0e314b4... 100% ▕▏  12 KB                         \n",
      "pulling 56bb8bd477a5... 100% ▕▏   96 B                         \n",
      "pulling 1a4c3c319823... 100% ▕▏  485 B                         \n",
      "verifying sha256 digest ⠼ \u001b[?25h\u001b[?25l\u001b[2K\u001b[1G\u001b[A\u001b[2K\u001b[1G\u001b[A\u001b[2K\u001b[1G\u001b[A\u001b[2K\u001b[1G\u001b[A\u001b[2K\u001b[1G\u001b[A\u001b[2K\u001b[1G\u001b[A\u001b[2K\u001b[1Gpulling manifest \n",
      "pulling 8eeb52dfb3bb... 100% ▕▏ 4.7 GB                         \n",
      "pulling 73b313b5552d... 100% ▕▏ 1.4 KB                         \n",
      "pulling 0ba8f0e314b4... 100% ▕▏  12 KB                         \n",
      "pulling 56bb8bd477a5... 100% ▕▏   96 B                         \n",
      "pulling 1a4c3c319823... 100% ▕▏  485 B                         \n",
      "verifying sha256 digest ⠴ \u001b[?25h\u001b[?25l\u001b[2K\u001b[1G\u001b[A\u001b[2K\u001b[1G\u001b[A\u001b[2K\u001b[1G\u001b[A\u001b[2K\u001b[1G\u001b[A\u001b[2K\u001b[1G\u001b[A\u001b[2K\u001b[1G\u001b[A\u001b[2K\u001b[1Gpulling manifest \n",
      "pulling 8eeb52dfb3bb... 100% ▕▏ 4.7 GB                         \n",
      "pulling 73b313b5552d... 100% ▕▏ 1.4 KB                         \n",
      "pulling 0ba8f0e314b4... 100% ▕▏  12 KB                         \n",
      "pulling 56bb8bd477a5... 100% ▕▏   96 B                         \n",
      "pulling 1a4c3c319823... 100% ▕▏  485 B                         \n",
      "verifying sha256 digest ⠦ \u001b[?25h\u001b[?25l\u001b[2K\u001b[1G\u001b[A\u001b[2K\u001b[1G\u001b[A\u001b[2K\u001b[1G\u001b[A\u001b[2K\u001b[1G\u001b[A\u001b[2K\u001b[1G\u001b[A\u001b[2K\u001b[1G\u001b[A\u001b[2K\u001b[1Gpulling manifest \n",
      "pulling 8eeb52dfb3bb... 100% ▕▏ 4.7 GB                         \n",
      "pulling 73b313b5552d... 100% ▕▏ 1.4 KB                         \n",
      "pulling 0ba8f0e314b4... 100% ▕▏  12 KB                         \n",
      "pulling 56bb8bd477a5... 100% ▕▏   96 B                         \n",
      "pulling 1a4c3c319823... 100% ▕▏  485 B                         \n",
      "verifying sha256 digest ⠧ \u001b[?25h\u001b[?25l\u001b[2K\u001b[1G\u001b[A\u001b[2K\u001b[1G\u001b[A\u001b[2K\u001b[1G\u001b[A\u001b[2K\u001b[1G\u001b[A\u001b[2K\u001b[1G\u001b[A\u001b[2K\u001b[1G\u001b[A\u001b[2K\u001b[1Gpulling manifest \n",
      "pulling 8eeb52dfb3bb... 100% ▕▏ 4.7 GB                         \n",
      "pulling 73b313b5552d... 100% ▕▏ 1.4 KB                         \n",
      "pulling 0ba8f0e314b4... 100% ▕▏  12 KB                         \n",
      "pulling 56bb8bd477a5... 100% ▕▏   96 B                         \n",
      "pulling 1a4c3c319823... 100% ▕▏  485 B                         \n",
      "verifying sha256 digest ⠇ \u001b[?25h\u001b[?25l\u001b[2K\u001b[1G\u001b[A\u001b[2K\u001b[1G\u001b[A\u001b[2K\u001b[1G\u001b[A\u001b[2K\u001b[1G\u001b[A\u001b[2K\u001b[1G\u001b[A\u001b[2K\u001b[1G\u001b[A\u001b[2K\u001b[1Gpulling manifest \n",
      "pulling 8eeb52dfb3bb... 100% ▕▏ 4.7 GB                         \n",
      "pulling 73b313b5552d... 100% ▕▏ 1.4 KB                         \n",
      "pulling 0ba8f0e314b4... 100% ▕▏  12 KB                         \n",
      "pulling 56bb8bd477a5... 100% ▕▏   96 B                         \n",
      "pulling 1a4c3c319823... 100% ▕▏  485 B                         \n",
      "verifying sha256 digest ⠏ \u001b[?25h\u001b[?25l\u001b[2K\u001b[1G\u001b[A\u001b[2K\u001b[1G\u001b[A\u001b[2K\u001b[1G\u001b[A\u001b[2K\u001b[1G\u001b[A\u001b[2K\u001b[1G\u001b[A\u001b[2K\u001b[1G\u001b[A\u001b[2K\u001b[1Gpulling manifest \n",
      "pulling 8eeb52dfb3bb... 100% ▕▏ 4.7 GB                         \n",
      "pulling 73b313b5552d... 100% ▕▏ 1.4 KB                         \n",
      "pulling 0ba8f0e314b4... 100% ▕▏  12 KB                         \n",
      "pulling 56bb8bd477a5... 100% ▕▏   96 B                         \n",
      "pulling 1a4c3c319823... 100% ▕▏  485 B                         \n",
      "verifying sha256 digest ⠋ \u001b[?25h\u001b[?25l\u001b[2K\u001b[1G\u001b[A\u001b[2K\u001b[1G\u001b[A\u001b[2K\u001b[1G\u001b[A\u001b[2K\u001b[1G\u001b[A\u001b[2K\u001b[1G\u001b[A\u001b[2K\u001b[1G\u001b[A\u001b[2K\u001b[1Gpulling manifest \n",
      "pulling 8eeb52dfb3bb... 100% ▕▏ 4.7 GB                         \n",
      "pulling 73b313b5552d... 100% ▕▏ 1.4 KB                         \n",
      "pulling 0ba8f0e314b4... 100% ▕▏  12 KB                         \n",
      "pulling 56bb8bd477a5... 100% ▕▏   96 B                         \n",
      "pulling 1a4c3c319823... 100% ▕▏  485 B                         \n",
      "verifying sha256 digest ⠙ \u001b[?25h\u001b[?25l\u001b[2K\u001b[1G\u001b[A\u001b[2K\u001b[1G\u001b[A\u001b[2K\u001b[1G\u001b[A\u001b[2K\u001b[1G\u001b[A\u001b[2K\u001b[1G\u001b[A\u001b[2K\u001b[1G\u001b[A\u001b[2K\u001b[1Gpulling manifest \n",
      "pulling 8eeb52dfb3bb... 100% ▕▏ 4.7 GB                         \n",
      "pulling 73b313b5552d... 100% ▕▏ 1.4 KB                         \n",
      "pulling 0ba8f0e314b4... 100% ▕▏  12 KB                         \n",
      "pulling 56bb8bd477a5... 100% ▕▏   96 B                         \n",
      "pulling 1a4c3c319823... 100% ▕▏  485 B                         \n",
      "verifying sha256 digest ⠹ \u001b[?25h\u001b[?25l\u001b[2K\u001b[1G\u001b[A\u001b[2K\u001b[1G\u001b[A\u001b[2K\u001b[1G\u001b[A\u001b[2K\u001b[1G\u001b[A\u001b[2K\u001b[1G\u001b[A\u001b[2K\u001b[1G\u001b[A\u001b[2K\u001b[1Gpulling manifest \n",
      "pulling 8eeb52dfb3bb... 100% ▕▏ 4.7 GB                         \n",
      "pulling 73b313b5552d... 100% ▕▏ 1.4 KB                         \n",
      "pulling 0ba8f0e314b4... 100% ▕▏  12 KB                         \n",
      "pulling 56bb8bd477a5... 100% ▕▏   96 B                         \n",
      "pulling 1a4c3c319823... 100% ▕▏  485 B                         \n",
      "verifying sha256 digest ⠸ \u001b[?25h\u001b[?25l\u001b[2K\u001b[1G\u001b[A\u001b[2K\u001b[1G\u001b[A\u001b[2K\u001b[1G\u001b[A\u001b[2K\u001b[1G\u001b[A\u001b[2K\u001b[1G\u001b[A\u001b[2K\u001b[1G\u001b[A\u001b[2K\u001b[1Gpulling manifest \n",
      "pulling 8eeb52dfb3bb... 100% ▕▏ 4.7 GB                         \n",
      "pulling 73b313b5552d... 100% ▕▏ 1.4 KB                         \n",
      "pulling 0ba8f0e314b4... 100% ▕▏  12 KB                         \n",
      "pulling 56bb8bd477a5... 100% ▕▏   96 B                         \n",
      "pulling 1a4c3c319823... 100% ▕▏  485 B                         \n",
      "verifying sha256 digest ⠼ \u001b[?25h\u001b[?25l\u001b[2K\u001b[1G\u001b[A\u001b[2K\u001b[1G\u001b[A\u001b[2K\u001b[1G\u001b[A\u001b[2K\u001b[1G\u001b[A\u001b[2K\u001b[1G\u001b[A\u001b[2K\u001b[1G\u001b[A\u001b[2K\u001b[1Gpulling manifest \n",
      "pulling 8eeb52dfb3bb... 100% ▕▏ 4.7 GB                         \n",
      "pulling 73b313b5552d... 100% ▕▏ 1.4 KB                         \n",
      "pulling 0ba8f0e314b4... 100% ▕▏  12 KB                         \n",
      "pulling 56bb8bd477a5... 100% ▕▏   96 B                         \n",
      "pulling 1a4c3c319823... 100% ▕▏  485 B                         \n",
      "verifying sha256 digest ⠴ \u001b[?25h\u001b[?25l\u001b[2K\u001b[1G\u001b[A\u001b[2K\u001b[1G\u001b[A\u001b[2K\u001b[1G\u001b[A\u001b[2K\u001b[1G\u001b[A\u001b[2K\u001b[1G\u001b[A\u001b[2K\u001b[1G\u001b[A\u001b[2K\u001b[1Gpulling manifest \n",
      "pulling 8eeb52dfb3bb... 100% ▕▏ 4.7 GB                         \n",
      "pulling 73b313b5552d... 100% ▕▏ 1.4 KB                         \n",
      "pulling 0ba8f0e314b4... 100% ▕▏  12 KB                         \n",
      "pulling 56bb8bd477a5... 100% ▕▏   96 B                         \n",
      "pulling 1a4c3c319823... 100% ▕▏  485 B                         \n",
      "verifying sha256 digest ⠴ \u001b[?25h\u001b[?25l\u001b[2K\u001b[1G\u001b[A\u001b[2K\u001b[1G\u001b[A\u001b[2K\u001b[1G\u001b[A\u001b[2K\u001b[1G\u001b[A\u001b[2K\u001b[1G\u001b[A\u001b[2K\u001b[1G\u001b[A\u001b[2K\u001b[1Gpulling manifest \n",
      "pulling 8eeb52dfb3bb... 100% ▕▏ 4.7 GB                         \n",
      "pulling 73b313b5552d... 100% ▕▏ 1.4 KB                         \n",
      "pulling 0ba8f0e314b4... 100% ▕▏  12 KB                         \n",
      "pulling 56bb8bd477a5... 100% ▕▏   96 B                         \n",
      "pulling 1a4c3c319823... 100% ▕▏  485 B                         \n",
      "verifying sha256 digest ⠧ \u001b[?25h\u001b[?25l\u001b[2K\u001b[1G\u001b[A\u001b[2K\u001b[1G\u001b[A\u001b[2K\u001b[1G\u001b[A\u001b[2K\u001b[1G\u001b[A\u001b[2K\u001b[1G\u001b[A\u001b[2K\u001b[1G\u001b[A\u001b[2K\u001b[1Gpulling manifest \n",
      "pulling 8eeb52dfb3bb... 100% ▕▏ 4.7 GB                         \n",
      "pulling 73b313b5552d... 100% ▕▏ 1.4 KB                         \n",
      "pulling 0ba8f0e314b4... 100% ▕▏  12 KB                         \n",
      "pulling 56bb8bd477a5... 100% ▕▏   96 B                         \n",
      "pulling 1a4c3c319823... 100% ▕▏  485 B                         \n",
      "verifying sha256 digest ⠇ \u001b[?25h\u001b[?25l\u001b[2K\u001b[1G\u001b[A\u001b[2K\u001b[1G\u001b[A\u001b[2K\u001b[1G\u001b[A\u001b[2K\u001b[1G\u001b[A\u001b[2K\u001b[1G\u001b[A\u001b[2K\u001b[1G\u001b[A\u001b[2K\u001b[1Gpulling manifest \n",
      "pulling 8eeb52dfb3bb... 100% ▕▏ 4.7 GB                         \n",
      "pulling 73b313b5552d... 100% ▕▏ 1.4 KB                         \n",
      "pulling 0ba8f0e314b4... 100% ▕▏  12 KB                         \n",
      "pulling 56bb8bd477a5... 100% ▕▏   96 B                         \n",
      "pulling 1a4c3c319823... 100% ▕▏  485 B                         \n",
      "verifying sha256 digest ⠏ \u001b[?25h\u001b[?25l\u001b[2K\u001b[1G\u001b[A\u001b[2K\u001b[1G\u001b[A\u001b[2K\u001b[1G\u001b[A\u001b[2K\u001b[1G\u001b[A\u001b[2K\u001b[1G\u001b[A\u001b[2K\u001b[1G\u001b[A\u001b[2K\u001b[1Gpulling manifest \n",
      "pulling 8eeb52dfb3bb... 100% ▕▏ 4.7 GB                         \n",
      "pulling 73b313b5552d... 100% ▕▏ 1.4 KB                         \n",
      "pulling 0ba8f0e314b4... 100% ▕▏  12 KB                         \n",
      "pulling 56bb8bd477a5... 100% ▕▏   96 B                         \n",
      "pulling 1a4c3c319823... 100% ▕▏  485 B                         \n",
      "verifying sha256 digest ⠋ \u001b[?25h\u001b[?25l\u001b[2K\u001b[1G\u001b[A\u001b[2K\u001b[1G\u001b[A\u001b[2K\u001b[1G\u001b[A\u001b[2K\u001b[1G\u001b[A\u001b[2K\u001b[1G\u001b[A\u001b[2K\u001b[1G\u001b[A\u001b[2K\u001b[1Gpulling manifest \n",
      "pulling 8eeb52dfb3bb... 100% ▕▏ 4.7 GB                         \n",
      "pulling 73b313b5552d... 100% ▕▏ 1.4 KB                         \n",
      "pulling 0ba8f0e314b4... 100% ▕▏  12 KB                         \n",
      "pulling 56bb8bd477a5... 100% ▕▏   96 B                         \n",
      "pulling 1a4c3c319823... 100% ▕▏  485 B                         \n",
      "verifying sha256 digest ⠙ \u001b[?25h\u001b[?25l\u001b[2K\u001b[1G\u001b[A\u001b[2K\u001b[1G\u001b[A\u001b[2K\u001b[1G\u001b[A\u001b[2K\u001b[1G\u001b[A\u001b[2K\u001b[1G\u001b[A\u001b[2K\u001b[1G\u001b[A\u001b[2K\u001b[1Gpulling manifest \n",
      "pulling 8eeb52dfb3bb... 100% ▕▏ 4.7 GB                         \n",
      "pulling 73b313b5552d... 100% ▕▏ 1.4 KB                         \n",
      "pulling 0ba8f0e314b4... 100% ▕▏  12 KB                         \n",
      "pulling 56bb8bd477a5... 100% ▕▏   96 B                         \n",
      "pulling 1a4c3c319823... 100% ▕▏  485 B                         \n",
      "verifying sha256 digest ⠹ \u001b[?25h\u001b[?25l\u001b[2K\u001b[1G\u001b[A\u001b[2K\u001b[1G\u001b[A\u001b[2K\u001b[1G\u001b[A\u001b[2K\u001b[1G\u001b[A\u001b[2K\u001b[1G\u001b[A\u001b[2K\u001b[1G\u001b[A\u001b[2K\u001b[1Gpulling manifest \n",
      "pulling 8eeb52dfb3bb... 100% ▕▏ 4.7 GB                         \n",
      "pulling 73b313b5552d... 100% ▕▏ 1.4 KB                         \n",
      "pulling 0ba8f0e314b4... 100% ▕▏  12 KB                         \n",
      "pulling 56bb8bd477a5... 100% ▕▏   96 B                         \n",
      "pulling 1a4c3c319823... 100% ▕▏  485 B                         \n",
      "verifying sha256 digest ⠸ \u001b[?25h\u001b[?25l\u001b[2K\u001b[1G\u001b[A\u001b[2K\u001b[1G\u001b[A\u001b[2K\u001b[1G\u001b[A\u001b[2K\u001b[1G\u001b[A\u001b[2K\u001b[1G\u001b[A\u001b[2K\u001b[1G\u001b[A\u001b[2K\u001b[1Gpulling manifest \n",
      "pulling 8eeb52dfb3bb... 100% ▕▏ 4.7 GB                         \n",
      "pulling 73b313b5552d... 100% ▕▏ 1.4 KB                         \n",
      "pulling 0ba8f0e314b4... 100% ▕▏  12 KB                         \n",
      "pulling 56bb8bd477a5... 100% ▕▏   96 B                         \n",
      "pulling 1a4c3c319823... 100% ▕▏  485 B                         \n",
      "verifying sha256 digest ⠼ \u001b[?25h\u001b[?25l\u001b[2K\u001b[1G\u001b[A\u001b[2K\u001b[1G\u001b[A\u001b[2K\u001b[1G\u001b[A\u001b[2K\u001b[1G\u001b[A\u001b[2K\u001b[1G\u001b[A\u001b[2K\u001b[1G\u001b[A\u001b[2K\u001b[1Gpulling manifest \n",
      "pulling 8eeb52dfb3bb... 100% ▕▏ 4.7 GB                         \n",
      "pulling 73b313b5552d... 100% ▕▏ 1.4 KB                         \n",
      "pulling 0ba8f0e314b4... 100% ▕▏  12 KB                         \n",
      "pulling 56bb8bd477a5... 100% ▕▏   96 B                         \n",
      "pulling 1a4c3c319823... 100% ▕▏  485 B                         \n",
      "verifying sha256 digest ⠴ \u001b[?25h\u001b[?25l\u001b[2K\u001b[1G\u001b[A\u001b[2K\u001b[1G\u001b[A\u001b[2K\u001b[1G\u001b[A\u001b[2K\u001b[1G\u001b[A\u001b[2K\u001b[1G\u001b[A\u001b[2K\u001b[1G\u001b[A\u001b[2K\u001b[1Gpulling manifest \n",
      "pulling 8eeb52dfb3bb... 100% ▕▏ 4.7 GB                         \n",
      "pulling 73b313b5552d... 100% ▕▏ 1.4 KB                         \n",
      "pulling 0ba8f0e314b4... 100% ▕▏  12 KB                         \n",
      "pulling 56bb8bd477a5... 100% ▕▏   96 B                         \n",
      "pulling 1a4c3c319823... 100% ▕▏  485 B                         \n",
      "verifying sha256 digest ⠦ \u001b[?25h\u001b[?25l\u001b[2K\u001b[1G\u001b[A\u001b[2K\u001b[1G\u001b[A\u001b[2K\u001b[1G\u001b[A\u001b[2K\u001b[1G\u001b[A\u001b[2K\u001b[1G\u001b[A\u001b[2K\u001b[1G\u001b[A\u001b[2K\u001b[1Gpulling manifest \n",
      "pulling 8eeb52dfb3bb... 100% ▕▏ 4.7 GB                         \n",
      "pulling 73b313b5552d... 100% ▕▏ 1.4 KB                         \n",
      "pulling 0ba8f0e314b4... 100% ▕▏  12 KB                         \n",
      "pulling 56bb8bd477a5... 100% ▕▏   96 B                         \n",
      "pulling 1a4c3c319823... 100% ▕▏  485 B                         \n",
      "verifying sha256 digest ⠧ \u001b[?25h\u001b[?25l\u001b[2K\u001b[1G\u001b[A\u001b[2K\u001b[1G\u001b[A\u001b[2K\u001b[1G\u001b[A\u001b[2K\u001b[1G\u001b[A\u001b[2K\u001b[1G\u001b[A\u001b[2K\u001b[1G\u001b[A\u001b[2K\u001b[1Gpulling manifest \n",
      "pulling 8eeb52dfb3bb... 100% ▕▏ 4.7 GB                         \n",
      "pulling 73b313b5552d... 100% ▕▏ 1.4 KB                         \n",
      "pulling 0ba8f0e314b4... 100% ▕▏  12 KB                         \n",
      "pulling 56bb8bd477a5... 100% ▕▏   96 B                         \n",
      "pulling 1a4c3c319823... 100% ▕▏  485 B                         \n",
      "verifying sha256 digest ⠇ \u001b[?25h\u001b[?25l\u001b[2K\u001b[1G\u001b[A\u001b[2K\u001b[1G\u001b[A\u001b[2K\u001b[1G\u001b[A\u001b[2K\u001b[1G\u001b[A\u001b[2K\u001b[1G\u001b[A\u001b[2K\u001b[1G\u001b[A\u001b[2K\u001b[1Gpulling manifest \n",
      "pulling 8eeb52dfb3bb... 100% ▕▏ 4.7 GB                         \n",
      "pulling 73b313b5552d... 100% ▕▏ 1.4 KB                         \n",
      "pulling 0ba8f0e314b4... 100% ▕▏  12 KB                         \n",
      "pulling 56bb8bd477a5... 100% ▕▏   96 B                         \n",
      "pulling 1a4c3c319823... 100% ▕▏  485 B                         \n",
      "verifying sha256 digest ⠏ \u001b[?25h\u001b[?25l\u001b[2K\u001b[1G\u001b[A\u001b[2K\u001b[1G\u001b[A\u001b[2K\u001b[1G\u001b[A\u001b[2K\u001b[1G\u001b[A\u001b[2K\u001b[1G\u001b[A\u001b[2K\u001b[1G\u001b[A\u001b[2K\u001b[1Gpulling manifest \n",
      "pulling 8eeb52dfb3bb... 100% ▕▏ 4.7 GB                         \n",
      "pulling 73b313b5552d... 100% ▕▏ 1.4 KB                         \n",
      "pulling 0ba8f0e314b4... 100% ▕▏  12 KB                         \n",
      "pulling 56bb8bd477a5... 100% ▕▏   96 B                         \n",
      "pulling 1a4c3c319823... 100% ▕▏  485 B                         \n",
      "verifying sha256 digest ⠋ \u001b[?25h\u001b[?25l\u001b[2K\u001b[1G\u001b[A\u001b[2K\u001b[1G\u001b[A\u001b[2K\u001b[1G\u001b[A\u001b[2K\u001b[1G\u001b[A\u001b[2K\u001b[1G\u001b[A\u001b[2K\u001b[1G\u001b[A\u001b[2K\u001b[1Gpulling manifest \n",
      "pulling 8eeb52dfb3bb... 100% ▕▏ 4.7 GB                         \n",
      "pulling 73b313b5552d... 100% ▕▏ 1.4 KB                         \n",
      "pulling 0ba8f0e314b4... 100% ▕▏  12 KB                         \n",
      "pulling 56bb8bd477a5... 100% ▕▏   96 B                         \n",
      "pulling 1a4c3c319823... 100% ▕▏  485 B                         \n",
      "verifying sha256 digest ⠙ \u001b[?25h\u001b[?25l\u001b[2K\u001b[1G\u001b[A\u001b[2K\u001b[1G\u001b[A\u001b[2K\u001b[1G\u001b[A\u001b[2K\u001b[1G\u001b[A\u001b[2K\u001b[1G\u001b[A\u001b[2K\u001b[1G\u001b[A\u001b[2K\u001b[1Gpulling manifest \n",
      "pulling 8eeb52dfb3bb... 100% ▕▏ 4.7 GB                         \n",
      "pulling 73b313b5552d... 100% ▕▏ 1.4 KB                         \n",
      "pulling 0ba8f0e314b4... 100% ▕▏  12 KB                         \n",
      "pulling 56bb8bd477a5... 100% ▕▏   96 B                         \n",
      "pulling 1a4c3c319823... 100% ▕▏  485 B                         \n",
      "verifying sha256 digest ⠹ \u001b[?25h\u001b[?25l\u001b[2K\u001b[1G\u001b[A\u001b[2K\u001b[1G\u001b[A\u001b[2K\u001b[1G\u001b[A\u001b[2K\u001b[1G\u001b[A\u001b[2K\u001b[1G\u001b[A\u001b[2K\u001b[1G\u001b[A\u001b[2K\u001b[1Gpulling manifest \n",
      "pulling 8eeb52dfb3bb... 100% ▕▏ 4.7 GB                         \n",
      "pulling 73b313b5552d... 100% ▕▏ 1.4 KB                         \n",
      "pulling 0ba8f0e314b4... 100% ▕▏  12 KB                         \n",
      "pulling 56bb8bd477a5... 100% ▕▏   96 B                         \n",
      "pulling 1a4c3c319823... 100% ▕▏  485 B                         \n",
      "verifying sha256 digest ⠸ \u001b[?25h\u001b[?25l\u001b[2K\u001b[1G\u001b[A\u001b[2K\u001b[1G\u001b[A\u001b[2K\u001b[1G\u001b[A\u001b[2K\u001b[1G\u001b[A\u001b[2K\u001b[1G\u001b[A\u001b[2K\u001b[1G\u001b[A\u001b[2K\u001b[1Gpulling manifest \n",
      "pulling 8eeb52dfb3bb... 100% ▕▏ 4.7 GB                         \n",
      "pulling 73b313b5552d... 100% ▕▏ 1.4 KB                         \n",
      "pulling 0ba8f0e314b4... 100% ▕▏  12 KB                         \n",
      "pulling 56bb8bd477a5... 100% ▕▏   96 B                         \n",
      "pulling 1a4c3c319823... 100% ▕▏  485 B                         \n",
      "verifying sha256 digest ⠼ \u001b[?25h\u001b[?25l\u001b[2K\u001b[1G\u001b[A\u001b[2K\u001b[1G\u001b[A\u001b[2K\u001b[1G\u001b[A\u001b[2K\u001b[1G\u001b[A\u001b[2K\u001b[1G\u001b[A\u001b[2K\u001b[1G\u001b[A\u001b[2K\u001b[1Gpulling manifest \n",
      "pulling 8eeb52dfb3bb... 100% ▕▏ 4.7 GB                         \n",
      "pulling 73b313b5552d... 100% ▕▏ 1.4 KB                         \n",
      "pulling 0ba8f0e314b4... 100% ▕▏  12 KB                         \n",
      "pulling 56bb8bd477a5... 100% ▕▏   96 B                         \n",
      "pulling 1a4c3c319823... 100% ▕▏  485 B                         \n",
      "verifying sha256 digest ⠴ \u001b[?25h\u001b[?25l\u001b[2K\u001b[1G\u001b[A\u001b[2K\u001b[1G\u001b[A\u001b[2K\u001b[1G\u001b[A\u001b[2K\u001b[1G\u001b[A\u001b[2K\u001b[1G\u001b[A\u001b[2K\u001b[1G\u001b[A\u001b[2K\u001b[1Gpulling manifest \n",
      "pulling 8eeb52dfb3bb... 100% ▕▏ 4.7 GB                         \n",
      "pulling 73b313b5552d... 100% ▕▏ 1.4 KB                         \n",
      "pulling 0ba8f0e314b4... 100% ▕▏  12 KB                         \n",
      "pulling 56bb8bd477a5... 100% ▕▏   96 B                         \n",
      "pulling 1a4c3c319823... 100% ▕▏  485 B                         \n",
      "verifying sha256 digest ⠦ \u001b[?25h\u001b[?25l\u001b[2K\u001b[1G\u001b[A\u001b[2K\u001b[1G\u001b[A\u001b[2K\u001b[1G\u001b[A\u001b[2K\u001b[1G\u001b[A\u001b[2K\u001b[1G\u001b[A\u001b[2K\u001b[1G\u001b[A\u001b[2K\u001b[1Gpulling manifest \n",
      "pulling 8eeb52dfb3bb... 100% ▕▏ 4.7 GB                         \n",
      "pulling 73b313b5552d... 100% ▕▏ 1.4 KB                         \n",
      "pulling 0ba8f0e314b4... 100% ▕▏  12 KB                         \n",
      "pulling 56bb8bd477a5... 100% ▕▏   96 B                         \n",
      "pulling 1a4c3c319823... 100% ▕▏  485 B                         \n",
      "verifying sha256 digest ⠧ \u001b[?25h\u001b[?25l\u001b[2K\u001b[1G\u001b[A\u001b[2K\u001b[1G\u001b[A\u001b[2K\u001b[1G\u001b[A\u001b[2K\u001b[1G\u001b[A\u001b[2K\u001b[1G\u001b[A\u001b[2K\u001b[1G\u001b[A\u001b[2K\u001b[1Gpulling manifest \n",
      "pulling 8eeb52dfb3bb... 100% ▕▏ 4.7 GB                         \n",
      "pulling 73b313b5552d... 100% ▕▏ 1.4 KB                         \n",
      "pulling 0ba8f0e314b4... 100% ▕▏  12 KB                         \n",
      "pulling 56bb8bd477a5... 100% ▕▏   96 B                         \n",
      "pulling 1a4c3c319823... 100% ▕▏  485 B                         \n",
      "verifying sha256 digest ⠇ \u001b[?25h\u001b[?25l\u001b[2K\u001b[1G\u001b[A\u001b[2K\u001b[1G\u001b[A\u001b[2K\u001b[1G\u001b[A\u001b[2K\u001b[1G\u001b[A\u001b[2K\u001b[1G\u001b[A\u001b[2K\u001b[1G\u001b[A\u001b[2K\u001b[1Gpulling manifest \n",
      "pulling 8eeb52dfb3bb... 100% ▕▏ 4.7 GB                         \n",
      "pulling 73b313b5552d... 100% ▕▏ 1.4 KB                         \n",
      "pulling 0ba8f0e314b4... 100% ▕▏  12 KB                         \n",
      "pulling 56bb8bd477a5... 100% ▕▏   96 B                         \n",
      "pulling 1a4c3c319823... 100% ▕▏  485 B                         \n",
      "verifying sha256 digest ⠏ \u001b[?25h\u001b[?25l\u001b[2K\u001b[1G\u001b[A\u001b[2K\u001b[1G\u001b[A\u001b[2K\u001b[1G\u001b[A\u001b[2K\u001b[1G\u001b[A\u001b[2K\u001b[1G\u001b[A\u001b[2K\u001b[1G\u001b[A\u001b[2K\u001b[1Gpulling manifest \n",
      "pulling 8eeb52dfb3bb... 100% ▕▏ 4.7 GB                         \n",
      "pulling 73b313b5552d... 100% ▕▏ 1.4 KB                         \n",
      "pulling 0ba8f0e314b4... 100% ▕▏  12 KB                         \n",
      "pulling 56bb8bd477a5... 100% ▕▏   96 B                         \n",
      "pulling 1a4c3c319823... 100% ▕▏  485 B                         \n",
      "verifying sha256 digest ⠋ \u001b[?25h\u001b[?25l\u001b[2K\u001b[1G\u001b[A\u001b[2K\u001b[1G\u001b[A\u001b[2K\u001b[1G\u001b[A\u001b[2K\u001b[1G\u001b[A\u001b[2K\u001b[1G\u001b[A\u001b[2K\u001b[1G\u001b[A\u001b[2K\u001b[1Gpulling manifest \n",
      "pulling 8eeb52dfb3bb... 100% ▕▏ 4.7 GB                         \n",
      "pulling 73b313b5552d... 100% ▕▏ 1.4 KB                         \n",
      "pulling 0ba8f0e314b4... 100% ▕▏  12 KB                         \n",
      "pulling 56bb8bd477a5... 100% ▕▏   96 B                         \n",
      "pulling 1a4c3c319823... 100% ▕▏  485 B                         \n",
      "verifying sha256 digest ⠙ \u001b[?25h\u001b[?25l\u001b[2K\u001b[1G\u001b[A\u001b[2K\u001b[1G\u001b[A\u001b[2K\u001b[1G\u001b[A\u001b[2K\u001b[1G\u001b[A\u001b[2K\u001b[1G\u001b[A\u001b[2K\u001b[1G\u001b[A\u001b[2K\u001b[1Gpulling manifest \n",
      "pulling 8eeb52dfb3bb... 100% ▕▏ 4.7 GB                         \n",
      "pulling 73b313b5552d... 100% ▕▏ 1.4 KB                         \n",
      "pulling 0ba8f0e314b4... 100% ▕▏  12 KB                         \n",
      "pulling 56bb8bd477a5... 100% ▕▏   96 B                         \n",
      "pulling 1a4c3c319823... 100% ▕▏  485 B                         \n",
      "verifying sha256 digest ⠹ \u001b[?25h\u001b[?25l\u001b[2K\u001b[1G\u001b[A\u001b[2K\u001b[1G\u001b[A\u001b[2K\u001b[1G\u001b[A\u001b[2K\u001b[1G\u001b[A\u001b[2K\u001b[1G\u001b[A\u001b[2K\u001b[1G\u001b[A\u001b[2K\u001b[1Gpulling manifest \n",
      "pulling 8eeb52dfb3bb... 100% ▕▏ 4.7 GB                         \n",
      "pulling 73b313b5552d... 100% ▕▏ 1.4 KB                         \n",
      "pulling 0ba8f0e314b4... 100% ▕▏  12 KB                         \n",
      "pulling 56bb8bd477a5... 100% ▕▏   96 B                         \n",
      "pulling 1a4c3c319823... 100% ▕▏  485 B                         \n",
      "verifying sha256 digest ⠸ \u001b[?25h\u001b[?25l\u001b[2K\u001b[1G\u001b[A\u001b[2K\u001b[1G\u001b[A\u001b[2K\u001b[1G\u001b[A\u001b[2K\u001b[1G\u001b[A\u001b[2K\u001b[1G\u001b[A\u001b[2K\u001b[1G\u001b[A\u001b[2K\u001b[1Gpulling manifest \n",
      "pulling 8eeb52dfb3bb... 100% ▕▏ 4.7 GB                         \n",
      "pulling 73b313b5552d... 100% ▕▏ 1.4 KB                         \n",
      "pulling 0ba8f0e314b4... 100% ▕▏  12 KB                         \n",
      "pulling 56bb8bd477a5... 100% ▕▏   96 B                         \n",
      "pulling 1a4c3c319823... 100% ▕▏  485 B                         \n",
      "verifying sha256 digest ⠼ \u001b[?25h\u001b[?25l\u001b[2K\u001b[1G\u001b[A\u001b[2K\u001b[1G\u001b[A\u001b[2K\u001b[1G\u001b[A\u001b[2K\u001b[1G\u001b[A\u001b[2K\u001b[1G\u001b[A\u001b[2K\u001b[1G\u001b[A\u001b[2K\u001b[1Gpulling manifest \n",
      "pulling 8eeb52dfb3bb... 100% ▕▏ 4.7 GB                         \n",
      "pulling 73b313b5552d... 100% ▕▏ 1.4 KB                         \n",
      "pulling 0ba8f0e314b4... 100% ▕▏  12 KB                         \n",
      "pulling 56bb8bd477a5... 100% ▕▏   96 B                         \n",
      "pulling 1a4c3c319823... 100% ▕▏  485 B                         \n",
      "verifying sha256 digest ⠴ \u001b[?25h\u001b[?25l\u001b[2K\u001b[1G\u001b[A\u001b[2K\u001b[1G\u001b[A\u001b[2K\u001b[1G\u001b[A\u001b[2K\u001b[1G\u001b[A\u001b[2K\u001b[1G\u001b[A\u001b[2K\u001b[1G\u001b[A\u001b[2K\u001b[1Gpulling manifest \n",
      "pulling 8eeb52dfb3bb... 100% ▕▏ 4.7 GB                         \n",
      "pulling 73b313b5552d... 100% ▕▏ 1.4 KB                         \n",
      "pulling 0ba8f0e314b4... 100% ▕▏  12 KB                         \n",
      "pulling 56bb8bd477a5... 100% ▕▏   96 B                         \n",
      "pulling 1a4c3c319823... 100% ▕▏  485 B                         \n",
      "verifying sha256 digest ⠦ \u001b[?25h\u001b[?25l\u001b[2K\u001b[1G\u001b[A\u001b[2K\u001b[1G\u001b[A\u001b[2K\u001b[1G\u001b[A\u001b[2K\u001b[1G\u001b[A\u001b[2K\u001b[1G\u001b[A\u001b[2K\u001b[1G\u001b[A\u001b[2K\u001b[1Gpulling manifest \n",
      "pulling 8eeb52dfb3bb... 100% ▕▏ 4.7 GB                         \n",
      "pulling 73b313b5552d... 100% ▕▏ 1.4 KB                         \n",
      "pulling 0ba8f0e314b4... 100% ▕▏  12 KB                         \n",
      "pulling 56bb8bd477a5... 100% ▕▏   96 B                         \n",
      "pulling 1a4c3c319823... 100% ▕▏  485 B                         \n",
      "verifying sha256 digest ⠧ \u001b[?25h\u001b[?25l\u001b[2K\u001b[1G\u001b[A\u001b[2K\u001b[1G\u001b[A\u001b[2K\u001b[1G\u001b[A\u001b[2K\u001b[1G\u001b[A\u001b[2K\u001b[1G\u001b[A\u001b[2K\u001b[1G\u001b[A\u001b[2K\u001b[1Gpulling manifest \n",
      "pulling 8eeb52dfb3bb... 100% ▕▏ 4.7 GB                         \n",
      "pulling 73b313b5552d... 100% ▕▏ 1.4 KB                         \n",
      "pulling 0ba8f0e314b4... 100% ▕▏  12 KB                         \n",
      "pulling 56bb8bd477a5... 100% ▕▏   96 B                         \n",
      "pulling 1a4c3c319823... 100% ▕▏  485 B                         \n",
      "verifying sha256 digest ⠇ \u001b[?25h\u001b[?25l\u001b[2K\u001b[1G\u001b[A\u001b[2K\u001b[1G\u001b[A\u001b[2K\u001b[1G\u001b[A\u001b[2K\u001b[1G\u001b[A\u001b[2K\u001b[1G\u001b[A\u001b[2K\u001b[1G\u001b[A\u001b[2K\u001b[1Gpulling manifest \n",
      "pulling 8eeb52dfb3bb... 100% ▕▏ 4.7 GB                         \n",
      "pulling 73b313b5552d... 100% ▕▏ 1.4 KB                         \n",
      "pulling 0ba8f0e314b4... 100% ▕▏  12 KB                         \n",
      "pulling 56bb8bd477a5... 100% ▕▏   96 B                         \n",
      "pulling 1a4c3c319823... 100% ▕▏  485 B                         \n",
      "verifying sha256 digest ⠏ \u001b[?25h\u001b[?25l\u001b[2K\u001b[1G\u001b[A\u001b[2K\u001b[1G\u001b[A\u001b[2K\u001b[1G\u001b[A\u001b[2K\u001b[1G\u001b[A\u001b[2K\u001b[1G\u001b[A\u001b[2K\u001b[1G\u001b[A\u001b[2K\u001b[1Gpulling manifest \n",
      "pulling 8eeb52dfb3bb... 100% ▕▏ 4.7 GB                         \n",
      "pulling 73b313b5552d... 100% ▕▏ 1.4 KB                         \n",
      "pulling 0ba8f0e314b4... 100% ▕▏  12 KB                         \n",
      "pulling 56bb8bd477a5... 100% ▕▏   96 B                         \n",
      "pulling 1a4c3c319823... 100% ▕▏  485 B                         \n",
      "verifying sha256 digest ⠋ \u001b[?25h\u001b[?25l\u001b[2K\u001b[1G\u001b[A\u001b[2K\u001b[1G\u001b[A\u001b[2K\u001b[1G\u001b[A\u001b[2K\u001b[1G\u001b[A\u001b[2K\u001b[1G\u001b[A\u001b[2K\u001b[1G\u001b[A\u001b[2K\u001b[1Gpulling manifest \n",
      "pulling 8eeb52dfb3bb... 100% ▕▏ 4.7 GB                         \n",
      "pulling 73b313b5552d... 100% ▕▏ 1.4 KB                         \n",
      "pulling 0ba8f0e314b4... 100% ▕▏  12 KB                         \n",
      "pulling 56bb8bd477a5... 100% ▕▏   96 B                         \n",
      "pulling 1a4c3c319823... 100% ▕▏  485 B                         \n",
      "verifying sha256 digest ⠙ \u001b[?25h\u001b[?25l\u001b[2K\u001b[1G\u001b[A\u001b[2K\u001b[1G\u001b[A\u001b[2K\u001b[1G\u001b[A\u001b[2K\u001b[1G\u001b[A\u001b[2K\u001b[1G\u001b[A\u001b[2K\u001b[1G\u001b[A\u001b[2K\u001b[1Gpulling manifest \n",
      "pulling 8eeb52dfb3bb... 100% ▕▏ 4.7 GB                         \n",
      "pulling 73b313b5552d... 100% ▕▏ 1.4 KB                         \n",
      "pulling 0ba8f0e314b4... 100% ▕▏  12 KB                         \n",
      "pulling 56bb8bd477a5... 100% ▕▏   96 B                         \n",
      "pulling 1a4c3c319823... 100% ▕▏  485 B                         \n",
      "verifying sha256 digest ⠹ \u001b[?25h\u001b[?25l\u001b[2K\u001b[1G\u001b[A\u001b[2K\u001b[1G\u001b[A\u001b[2K\u001b[1G\u001b[A\u001b[2K\u001b[1G\u001b[A\u001b[2K\u001b[1G\u001b[A\u001b[2K\u001b[1G\u001b[A\u001b[2K\u001b[1Gpulling manifest \n",
      "pulling 8eeb52dfb3bb... 100% ▕▏ 4.7 GB                         \n",
      "pulling 73b313b5552d... 100% ▕▏ 1.4 KB                         \n",
      "pulling 0ba8f0e314b4... 100% ▕▏  12 KB                         \n",
      "pulling 56bb8bd477a5... 100% ▕▏   96 B                         \n",
      "pulling 1a4c3c319823... 100% ▕▏  485 B                         \n",
      "verifying sha256 digest ⠸ \u001b[?25h\u001b[?25l\u001b[2K\u001b[1G\u001b[A\u001b[2K\u001b[1G\u001b[A\u001b[2K\u001b[1G\u001b[A\u001b[2K\u001b[1G\u001b[A\u001b[2K\u001b[1G\u001b[A\u001b[2K\u001b[1G\u001b[A\u001b[2K\u001b[1Gpulling manifest \n",
      "pulling 8eeb52dfb3bb... 100% ▕▏ 4.7 GB                         \n",
      "pulling 73b313b5552d... 100% ▕▏ 1.4 KB                         \n",
      "pulling 0ba8f0e314b4... 100% ▕▏  12 KB                         \n",
      "pulling 56bb8bd477a5... 100% ▕▏   96 B                         \n",
      "pulling 1a4c3c319823... 100% ▕▏  485 B                         \n",
      "verifying sha256 digest ⠼ \u001b[?25h\u001b[?25l\u001b[2K\u001b[1G\u001b[A\u001b[2K\u001b[1G\u001b[A\u001b[2K\u001b[1G\u001b[A\u001b[2K\u001b[1G\u001b[A\u001b[2K\u001b[1G\u001b[A\u001b[2K\u001b[1G\u001b[A\u001b[2K\u001b[1Gpulling manifest \n",
      "pulling 8eeb52dfb3bb... 100% ▕▏ 4.7 GB                         \n",
      "pulling 73b313b5552d... 100% ▕▏ 1.4 KB                         \n",
      "pulling 0ba8f0e314b4... 100% ▕▏  12 KB                         \n",
      "pulling 56bb8bd477a5... 100% ▕▏   96 B                         \n",
      "pulling 1a4c3c319823... 100% ▕▏  485 B                         \n",
      "verifying sha256 digest ⠴ \u001b[?25h\u001b[?25l\u001b[2K\u001b[1G\u001b[A\u001b[2K\u001b[1G\u001b[A\u001b[2K\u001b[1G\u001b[A\u001b[2K\u001b[1G\u001b[A\u001b[2K\u001b[1G\u001b[A\u001b[2K\u001b[1G\u001b[A\u001b[2K\u001b[1Gpulling manifest \n",
      "pulling 8eeb52dfb3bb... 100% ▕▏ 4.7 GB                         \n",
      "pulling 73b313b5552d... 100% ▕▏ 1.4 KB                         \n",
      "pulling 0ba8f0e314b4... 100% ▕▏  12 KB                         \n",
      "pulling 56bb8bd477a5... 100% ▕▏   96 B                         \n",
      "pulling 1a4c3c319823... 100% ▕▏  485 B                         \n",
      "verifying sha256 digest ⠦ \u001b[?25h\u001b[?25l\u001b[2K\u001b[1G\u001b[A\u001b[2K\u001b[1G\u001b[A\u001b[2K\u001b[1G\u001b[A\u001b[2K\u001b[1G\u001b[A\u001b[2K\u001b[1G\u001b[A\u001b[2K\u001b[1G\u001b[A\u001b[2K\u001b[1Gpulling manifest \n",
      "pulling 8eeb52dfb3bb... 100% ▕▏ 4.7 GB                         \n",
      "pulling 73b313b5552d... 100% ▕▏ 1.4 KB                         \n",
      "pulling 0ba8f0e314b4... 100% ▕▏  12 KB                         \n",
      "pulling 56bb8bd477a5... 100% ▕▏   96 B                         \n",
      "pulling 1a4c3c319823... 100% ▕▏  485 B                         \n",
      "verifying sha256 digest ⠧ \u001b[?25h\u001b[?25l\u001b[2K\u001b[1G\u001b[A\u001b[2K\u001b[1G\u001b[A\u001b[2K\u001b[1G\u001b[A\u001b[2K\u001b[1G\u001b[A\u001b[2K\u001b[1G\u001b[A\u001b[2K\u001b[1G\u001b[A\u001b[2K\u001b[1Gpulling manifest \n",
      "pulling 8eeb52dfb3bb... 100% ▕▏ 4.7 GB                         \n",
      "pulling 73b313b5552d... 100% ▕▏ 1.4 KB                         \n",
      "pulling 0ba8f0e314b4... 100% ▕▏  12 KB                         \n",
      "pulling 56bb8bd477a5... 100% ▕▏   96 B                         \n",
      "pulling 1a4c3c319823... 100% ▕▏  485 B                         \n",
      "verifying sha256 digest ⠇ \u001b[?25h\u001b[?25l\u001b[2K\u001b[1G\u001b[A\u001b[2K\u001b[1G\u001b[A\u001b[2K\u001b[1G\u001b[A\u001b[2K\u001b[1G\u001b[A\u001b[2K\u001b[1G\u001b[A\u001b[2K\u001b[1G\u001b[A\u001b[2K\u001b[1Gpulling manifest \n",
      "pulling 8eeb52dfb3bb... 100% ▕▏ 4.7 GB                         \n",
      "pulling 73b313b5552d... 100% ▕▏ 1.4 KB                         \n",
      "pulling 0ba8f0e314b4... 100% ▕▏  12 KB                         \n",
      "pulling 56bb8bd477a5... 100% ▕▏   96 B                         \n",
      "pulling 1a4c3c319823... 100% ▕▏  485 B                         \n",
      "verifying sha256 digest ⠏ \u001b[?25h\u001b[?25l\u001b[2K\u001b[1G\u001b[A\u001b[2K\u001b[1G\u001b[A\u001b[2K\u001b[1G\u001b[A\u001b[2K\u001b[1G\u001b[A\u001b[2K\u001b[1G\u001b[A\u001b[2K\u001b[1G\u001b[A\u001b[2K\u001b[1Gpulling manifest \n",
      "pulling 8eeb52dfb3bb... 100% ▕▏ 4.7 GB                         \n",
      "pulling 73b313b5552d... 100% ▕▏ 1.4 KB                         \n",
      "pulling 0ba8f0e314b4... 100% ▕▏  12 KB                         \n",
      "pulling 56bb8bd477a5... 100% ▕▏   96 B                         \n",
      "pulling 1a4c3c319823... 100% ▕▏  485 B                         \n",
      "verifying sha256 digest ⠋ \u001b[?25h\u001b[?25l\u001b[2K\u001b[1G\u001b[A\u001b[2K\u001b[1G\u001b[A\u001b[2K\u001b[1G\u001b[A\u001b[2K\u001b[1G\u001b[A\u001b[2K\u001b[1G\u001b[A\u001b[2K\u001b[1G\u001b[A\u001b[2K\u001b[1Gpulling manifest \n",
      "pulling 8eeb52dfb3bb... 100% ▕▏ 4.7 GB                         \n",
      "pulling 73b313b5552d... 100% ▕▏ 1.4 KB                         \n",
      "pulling 0ba8f0e314b4... 100% ▕▏  12 KB                         \n",
      "pulling 56bb8bd477a5... 100% ▕▏   96 B                         \n",
      "pulling 1a4c3c319823... 100% ▕▏  485 B                         \n",
      "verifying sha256 digest ⠙ \u001b[?25h\u001b[?25l\u001b[2K\u001b[1G\u001b[A\u001b[2K\u001b[1G\u001b[A\u001b[2K\u001b[1G\u001b[A\u001b[2K\u001b[1G\u001b[A\u001b[2K\u001b[1G\u001b[A\u001b[2K\u001b[1G\u001b[A\u001b[2K\u001b[1Gpulling manifest \n",
      "pulling 8eeb52dfb3bb... 100% ▕▏ 4.7 GB                         \n",
      "pulling 73b313b5552d... 100% ▕▏ 1.4 KB                         \n",
      "pulling 0ba8f0e314b4... 100% ▕▏  12 KB                         \n",
      "pulling 56bb8bd477a5... 100% ▕▏   96 B                         \n",
      "pulling 1a4c3c319823... 100% ▕▏  485 B                         \n",
      "verifying sha256 digest ⠹ \u001b[?25h\u001b[?25l\u001b[2K\u001b[1G\u001b[A\u001b[2K\u001b[1G\u001b[A\u001b[2K\u001b[1G\u001b[A\u001b[2K\u001b[1G\u001b[A\u001b[2K\u001b[1G\u001b[A\u001b[2K\u001b[1G\u001b[A\u001b[2K\u001b[1Gpulling manifest \n",
      "pulling 8eeb52dfb3bb... 100% ▕▏ 4.7 GB                         \n",
      "pulling 73b313b5552d... 100% ▕▏ 1.4 KB                         \n",
      "pulling 0ba8f0e314b4... 100% ▕▏  12 KB                         \n",
      "pulling 56bb8bd477a5... 100% ▕▏   96 B                         \n",
      "pulling 1a4c3c319823... 100% ▕▏  485 B                         \n",
      "verifying sha256 digest ⠸ \u001b[?25h\u001b[?25l\u001b[2K\u001b[1G\u001b[A\u001b[2K\u001b[1G\u001b[A\u001b[2K\u001b[1G\u001b[A\u001b[2K\u001b[1G\u001b[A\u001b[2K\u001b[1G\u001b[A\u001b[2K\u001b[1G\u001b[A\u001b[2K\u001b[1Gpulling manifest \n",
      "pulling 8eeb52dfb3bb... 100% ▕▏ 4.7 GB                         \n",
      "pulling 73b313b5552d... 100% ▕▏ 1.4 KB                         \n",
      "pulling 0ba8f0e314b4... 100% ▕▏  12 KB                         \n",
      "pulling 56bb8bd477a5... 100% ▕▏   96 B                         \n",
      "pulling 1a4c3c319823... 100% ▕▏  485 B                         \n",
      "verifying sha256 digest ⠼ \u001b[?25h\u001b[?25l\u001b[2K\u001b[1G\u001b[A\u001b[2K\u001b[1G\u001b[A\u001b[2K\u001b[1G\u001b[A\u001b[2K\u001b[1G\u001b[A\u001b[2K\u001b[1G\u001b[A\u001b[2K\u001b[1G\u001b[A\u001b[2K\u001b[1Gpulling manifest \n",
      "pulling 8eeb52dfb3bb... 100% ▕▏ 4.7 GB                         \n",
      "pulling 73b313b5552d... 100% ▕▏ 1.4 KB                         \n",
      "pulling 0ba8f0e314b4... 100% ▕▏  12 KB                         \n",
      "pulling 56bb8bd477a5... 100% ▕▏   96 B                         \n",
      "pulling 1a4c3c319823... 100% ▕▏  485 B                         \n",
      "verifying sha256 digest ⠴ \u001b[?25h\u001b[?25l\u001b[2K\u001b[1G\u001b[A\u001b[2K\u001b[1G\u001b[A\u001b[2K\u001b[1G\u001b[A\u001b[2K\u001b[1G\u001b[A\u001b[2K\u001b[1G\u001b[A\u001b[2K\u001b[1G\u001b[A\u001b[2K\u001b[1Gpulling manifest \n",
      "pulling 8eeb52dfb3bb... 100% ▕▏ 4.7 GB                         \n",
      "pulling 73b313b5552d... 100% ▕▏ 1.4 KB                         \n",
      "pulling 0ba8f0e314b4... 100% ▕▏  12 KB                         \n",
      "pulling 56bb8bd477a5... 100% ▕▏   96 B                         \n",
      "pulling 1a4c3c319823... 100% ▕▏  485 B                         \n",
      "verifying sha256 digest ⠦ \u001b[?25h\u001b[?25l\u001b[2K\u001b[1G\u001b[A\u001b[2K\u001b[1G\u001b[A\u001b[2K\u001b[1G\u001b[A\u001b[2K\u001b[1G\u001b[A\u001b[2K\u001b[1G\u001b[A\u001b[2K\u001b[1G\u001b[A\u001b[2K\u001b[1Gpulling manifest \n",
      "pulling 8eeb52dfb3bb... 100% ▕▏ 4.7 GB                         \n",
      "pulling 73b313b5552d... 100% ▕▏ 1.4 KB                         \n",
      "pulling 0ba8f0e314b4... 100% ▕▏  12 KB                         \n",
      "pulling 56bb8bd477a5... 100% ▕▏   96 B                         \n",
      "pulling 1a4c3c319823... 100% ▕▏  485 B                         \n",
      "verifying sha256 digest ⠧ \u001b[?25h\u001b[?25l\u001b[2K\u001b[1G\u001b[A\u001b[2K\u001b[1G\u001b[A\u001b[2K\u001b[1G\u001b[A\u001b[2K\u001b[1G\u001b[A\u001b[2K\u001b[1G\u001b[A\u001b[2K\u001b[1G\u001b[A\u001b[2K\u001b[1Gpulling manifest \n",
      "pulling 8eeb52dfb3bb... 100% ▕▏ 4.7 GB                         \n",
      "pulling 73b313b5552d... 100% ▕▏ 1.4 KB                         \n",
      "pulling 0ba8f0e314b4... 100% ▕▏  12 KB                         \n",
      "pulling 56bb8bd477a5... 100% ▕▏   96 B                         \n",
      "pulling 1a4c3c319823... 100% ▕▏  485 B                         \n",
      "verifying sha256 digest ⠇ \u001b[?25h\u001b[?25l\u001b[2K\u001b[1G\u001b[A\u001b[2K\u001b[1G\u001b[A\u001b[2K\u001b[1G\u001b[A\u001b[2K\u001b[1G\u001b[A\u001b[2K\u001b[1G\u001b[A\u001b[2K\u001b[1G\u001b[A\u001b[2K\u001b[1Gpulling manifest \n",
      "pulling 8eeb52dfb3bb... 100% ▕▏ 4.7 GB                         \n",
      "pulling 73b313b5552d... 100% ▕▏ 1.4 KB                         \n",
      "pulling 0ba8f0e314b4... 100% ▕▏  12 KB                         \n",
      "pulling 56bb8bd477a5... 100% ▕▏   96 B                         \n",
      "pulling 1a4c3c319823... 100% ▕▏  485 B                         \n",
      "verifying sha256 digest ⠏ \u001b[?25h\u001b[?25l\u001b[2K\u001b[1G\u001b[A\u001b[2K\u001b[1G\u001b[A\u001b[2K\u001b[1G\u001b[A\u001b[2K\u001b[1G\u001b[A\u001b[2K\u001b[1G\u001b[A\u001b[2K\u001b[1G\u001b[A\u001b[2K\u001b[1Gpulling manifest \n",
      "pulling 8eeb52dfb3bb... 100% ▕▏ 4.7 GB                         \n",
      "pulling 73b313b5552d... 100% ▕▏ 1.4 KB                         \n",
      "pulling 0ba8f0e314b4... 100% ▕▏  12 KB                         \n",
      "pulling 56bb8bd477a5... 100% ▕▏   96 B                         \n",
      "pulling 1a4c3c319823... 100% ▕▏  485 B                         \n",
      "verifying sha256 digest ⠋ \u001b[?25h\u001b[?25l\u001b[2K\u001b[1G\u001b[A\u001b[2K\u001b[1G\u001b[A\u001b[2K\u001b[1G\u001b[A\u001b[2K\u001b[1G\u001b[A\u001b[2K\u001b[1G\u001b[A\u001b[2K\u001b[1G\u001b[A\u001b[2K\u001b[1Gpulling manifest \n",
      "pulling 8eeb52dfb3bb... 100% ▕▏ 4.7 GB                         \n",
      "pulling 73b313b5552d... 100% ▕▏ 1.4 KB                         \n",
      "pulling 0ba8f0e314b4... 100% ▕▏  12 KB                         \n",
      "pulling 56bb8bd477a5... 100% ▕▏   96 B                         \n",
      "pulling 1a4c3c319823... 100% ▕▏  485 B                         \n",
      "verifying sha256 digest ⠙ \u001b[?25h\u001b[?25l\u001b[2K\u001b[1G\u001b[A\u001b[2K\u001b[1G\u001b[A\u001b[2K\u001b[1G\u001b[A\u001b[2K\u001b[1G\u001b[A\u001b[2K\u001b[1G\u001b[A\u001b[2K\u001b[1G\u001b[A\u001b[2K\u001b[1Gpulling manifest \n",
      "pulling 8eeb52dfb3bb... 100% ▕▏ 4.7 GB                         \n",
      "pulling 73b313b5552d... 100% ▕▏ 1.4 KB                         \n",
      "pulling 0ba8f0e314b4... 100% ▕▏  12 KB                         \n",
      "pulling 56bb8bd477a5... 100% ▕▏   96 B                         \n",
      "pulling 1a4c3c319823... 100% ▕▏  485 B                         \n",
      "verifying sha256 digest ⠹ \u001b[?25h\u001b[?25l\u001b[2K\u001b[1G\u001b[A\u001b[2K\u001b[1G\u001b[A\u001b[2K\u001b[1G\u001b[A\u001b[2K\u001b[1G\u001b[A\u001b[2K\u001b[1G\u001b[A\u001b[2K\u001b[1G\u001b[A\u001b[2K\u001b[1Gpulling manifest \n",
      "pulling 8eeb52dfb3bb... 100% ▕▏ 4.7 GB                         \n",
      "pulling 73b313b5552d... 100% ▕▏ 1.4 KB                         \n",
      "pulling 0ba8f0e314b4... 100% ▕▏  12 KB                         \n",
      "pulling 56bb8bd477a5... 100% ▕▏   96 B                         \n",
      "pulling 1a4c3c319823... 100% ▕▏  485 B                         \n",
      "verifying sha256 digest ⠸ \u001b[?25h\u001b[?25l\u001b[2K\u001b[1G\u001b[A\u001b[2K\u001b[1G\u001b[A\u001b[2K\u001b[1G\u001b[A\u001b[2K\u001b[1G\u001b[A\u001b[2K\u001b[1G\u001b[A\u001b[2K\u001b[1G\u001b[A\u001b[2K\u001b[1Gpulling manifest \n",
      "pulling 8eeb52dfb3bb... 100% ▕▏ 4.7 GB                         \n",
      "pulling 73b313b5552d... 100% ▕▏ 1.4 KB                         \n",
      "pulling 0ba8f0e314b4... 100% ▕▏  12 KB                         \n",
      "pulling 56bb8bd477a5... 100% ▕▏   96 B                         \n",
      "pulling 1a4c3c319823... 100% ▕▏  485 B                         \n",
      "verifying sha256 digest ⠼ \u001b[?25h\u001b[?25l\u001b[2K\u001b[1G\u001b[A\u001b[2K\u001b[1G\u001b[A\u001b[2K\u001b[1G\u001b[A\u001b[2K\u001b[1G\u001b[A\u001b[2K\u001b[1G\u001b[A\u001b[2K\u001b[1G\u001b[A\u001b[2K\u001b[1Gpulling manifest \n",
      "pulling 8eeb52dfb3bb... 100% ▕▏ 4.7 GB                         \n",
      "pulling 73b313b5552d... 100% ▕▏ 1.4 KB                         \n",
      "pulling 0ba8f0e314b4... 100% ▕▏  12 KB                         \n",
      "pulling 56bb8bd477a5... 100% ▕▏   96 B                         \n",
      "pulling 1a4c3c319823... 100% ▕▏  485 B                         \n",
      "verifying sha256 digest ⠴ \u001b[?25h\u001b[?25l\u001b[2K\u001b[1G\u001b[A\u001b[2K\u001b[1G\u001b[A\u001b[2K\u001b[1G\u001b[A\u001b[2K\u001b[1G\u001b[A\u001b[2K\u001b[1G\u001b[A\u001b[2K\u001b[1G\u001b[A\u001b[2K\u001b[1Gpulling manifest \n",
      "pulling 8eeb52dfb3bb... 100% ▕▏ 4.7 GB                         \n",
      "pulling 73b313b5552d... 100% ▕▏ 1.4 KB                         \n",
      "pulling 0ba8f0e314b4... 100% ▕▏  12 KB                         \n",
      "pulling 56bb8bd477a5... 100% ▕▏   96 B                         \n",
      "pulling 1a4c3c319823... 100% ▕▏  485 B                         \n",
      "verifying sha256 digest ⠦ \u001b[?25h\u001b[?25l\u001b[2K\u001b[1G\u001b[A\u001b[2K\u001b[1G\u001b[A\u001b[2K\u001b[1G\u001b[A\u001b[2K\u001b[1G\u001b[A\u001b[2K\u001b[1G\u001b[A\u001b[2K\u001b[1G\u001b[A\u001b[2K\u001b[1Gpulling manifest \n",
      "pulling 8eeb52dfb3bb... 100% ▕▏ 4.7 GB                         \n",
      "pulling 73b313b5552d... 100% ▕▏ 1.4 KB                         \n",
      "pulling 0ba8f0e314b4... 100% ▕▏  12 KB                         \n",
      "pulling 56bb8bd477a5... 100% ▕▏   96 B                         \n",
      "pulling 1a4c3c319823... 100% ▕▏  485 B                         \n",
      "verifying sha256 digest ⠧ \u001b[?25h\u001b[?25l\u001b[2K\u001b[1G\u001b[A\u001b[2K\u001b[1G\u001b[A\u001b[2K\u001b[1G\u001b[A\u001b[2K\u001b[1G\u001b[A\u001b[2K\u001b[1G\u001b[A\u001b[2K\u001b[1G\u001b[A\u001b[2K\u001b[1Gpulling manifest \n",
      "pulling 8eeb52dfb3bb... 100% ▕▏ 4.7 GB                         \n",
      "pulling 73b313b5552d... 100% ▕▏ 1.4 KB                         \n",
      "pulling 0ba8f0e314b4... 100% ▕▏  12 KB                         \n",
      "pulling 56bb8bd477a5... 100% ▕▏   96 B                         \n",
      "pulling 1a4c3c319823... 100% ▕▏  485 B                         \n",
      "verifying sha256 digest ⠇ \u001b[?25h\u001b[?25l\u001b[2K\u001b[1G\u001b[A\u001b[2K\u001b[1G\u001b[A\u001b[2K\u001b[1G\u001b[A\u001b[2K\u001b[1G\u001b[A\u001b[2K\u001b[1G\u001b[A\u001b[2K\u001b[1G\u001b[A\u001b[2K\u001b[1Gpulling manifest \n",
      "pulling 8eeb52dfb3bb... 100% ▕▏ 4.7 GB                         \n",
      "pulling 73b313b5552d... 100% ▕▏ 1.4 KB                         \n",
      "pulling 0ba8f0e314b4... 100% ▕▏  12 KB                         \n",
      "pulling 56bb8bd477a5... 100% ▕▏   96 B                         \n",
      "pulling 1a4c3c319823... 100% ▕▏  485 B                         \n",
      "verifying sha256 digest ⠏ \u001b[?25h\u001b[?25l\u001b[2K\u001b[1G\u001b[A\u001b[2K\u001b[1G\u001b[A\u001b[2K\u001b[1G\u001b[A\u001b[2K\u001b[1G\u001b[A\u001b[2K\u001b[1G\u001b[A\u001b[2K\u001b[1G\u001b[A\u001b[2K\u001b[1Gpulling manifest \n",
      "pulling 8eeb52dfb3bb... 100% ▕▏ 4.7 GB                         \n",
      "pulling 73b313b5552d... 100% ▕▏ 1.4 KB                         \n",
      "pulling 0ba8f0e314b4... 100% ▕▏  12 KB                         \n",
      "pulling 56bb8bd477a5... 100% ▕▏   96 B                         \n",
      "pulling 1a4c3c319823... 100% ▕▏  485 B                         \n",
      "verifying sha256 digest ⠋ \u001b[?25h\u001b[?25l\u001b[2K\u001b[1G\u001b[A\u001b[2K\u001b[1G\u001b[A\u001b[2K\u001b[1G\u001b[A\u001b[2K\u001b[1G\u001b[A\u001b[2K\u001b[1G\u001b[A\u001b[2K\u001b[1G\u001b[A\u001b[2K\u001b[1Gpulling manifest \n",
      "pulling 8eeb52dfb3bb... 100% ▕▏ 4.7 GB                         \n",
      "pulling 73b313b5552d... 100% ▕▏ 1.4 KB                         \n",
      "pulling 0ba8f0e314b4... 100% ▕▏  12 KB                         \n",
      "pulling 56bb8bd477a5... 100% ▕▏   96 B                         \n",
      "pulling 1a4c3c319823... 100% ▕▏  485 B                         \n",
      "verifying sha256 digest ⠙ \u001b[?25h\u001b[?25l\u001b[2K\u001b[1G\u001b[A\u001b[2K\u001b[1G\u001b[A\u001b[2K\u001b[1G\u001b[A\u001b[2K\u001b[1G\u001b[A\u001b[2K\u001b[1G\u001b[A\u001b[2K\u001b[1G\u001b[A\u001b[2K\u001b[1Gpulling manifest \n",
      "pulling 8eeb52dfb3bb... 100% ▕▏ 4.7 GB                         \n",
      "pulling 73b313b5552d... 100% ▕▏ 1.4 KB                         \n",
      "pulling 0ba8f0e314b4... 100% ▕▏  12 KB                         \n",
      "pulling 56bb8bd477a5... 100% ▕▏   96 B                         \n",
      "pulling 1a4c3c319823... 100% ▕▏  485 B                         \n",
      "verifying sha256 digest ⠹ \u001b[?25h\u001b[?25l\u001b[2K\u001b[1G\u001b[A\u001b[2K\u001b[1G\u001b[A\u001b[2K\u001b[1G\u001b[A\u001b[2K\u001b[1G\u001b[A\u001b[2K\u001b[1G\u001b[A\u001b[2K\u001b[1G\u001b[A\u001b[2K\u001b[1Gpulling manifest \n",
      "pulling 8eeb52dfb3bb... 100% ▕▏ 4.7 GB                         \n",
      "pulling 73b313b5552d... 100% ▕▏ 1.4 KB                         \n",
      "pulling 0ba8f0e314b4... 100% ▕▏  12 KB                         \n",
      "pulling 56bb8bd477a5... 100% ▕▏   96 B                         \n",
      "pulling 1a4c3c319823... 100% ▕▏  485 B                         \n",
      "verifying sha256 digest ⠸ \u001b[?25h\u001b[?25l\u001b[2K\u001b[1G\u001b[A\u001b[2K\u001b[1G\u001b[A\u001b[2K\u001b[1G\u001b[A\u001b[2K\u001b[1G\u001b[A\u001b[2K\u001b[1G\u001b[A\u001b[2K\u001b[1G\u001b[A\u001b[2K\u001b[1Gpulling manifest \n",
      "pulling 8eeb52dfb3bb... 100% ▕▏ 4.7 GB                         \n",
      "pulling 73b313b5552d... 100% ▕▏ 1.4 KB                         \n",
      "pulling 0ba8f0e314b4... 100% ▕▏  12 KB                         \n",
      "pulling 56bb8bd477a5... 100% ▕▏   96 B                         \n",
      "pulling 1a4c3c319823... 100% ▕▏  485 B                         \n",
      "verifying sha256 digest ⠼ \u001b[?25h\u001b[?25l\u001b[2K\u001b[1G\u001b[A\u001b[2K\u001b[1G\u001b[A\u001b[2K\u001b[1G\u001b[A\u001b[2K\u001b[1G\u001b[A\u001b[2K\u001b[1G\u001b[A\u001b[2K\u001b[1G\u001b[A\u001b[2K\u001b[1Gpulling manifest \n",
      "pulling 8eeb52dfb3bb... 100% ▕▏ 4.7 GB                         \n",
      "pulling 73b313b5552d... 100% ▕▏ 1.4 KB                         \n",
      "pulling 0ba8f0e314b4... 100% ▕▏  12 KB                         \n",
      "pulling 56bb8bd477a5... 100% ▕▏   96 B                         \n",
      "pulling 1a4c3c319823... 100% ▕▏  485 B                         \n",
      "verifying sha256 digest ⠴ \u001b[?25h\u001b[?25l\u001b[2K\u001b[1G\u001b[A\u001b[2K\u001b[1G\u001b[A\u001b[2K\u001b[1G\u001b[A\u001b[2K\u001b[1G\u001b[A\u001b[2K\u001b[1G\u001b[A\u001b[2K\u001b[1G\u001b[A\u001b[2K\u001b[1Gpulling manifest \n",
      "pulling 8eeb52dfb3bb... 100% ▕▏ 4.7 GB                         \n",
      "pulling 73b313b5552d... 100% ▕▏ 1.4 KB                         \n",
      "pulling 0ba8f0e314b4... 100% ▕▏  12 KB                         \n",
      "pulling 56bb8bd477a5... 100% ▕▏   96 B                         \n",
      "pulling 1a4c3c319823... 100% ▕▏  485 B                         \n",
      "verifying sha256 digest ⠦ \u001b[?25h\u001b[?25l\u001b[2K\u001b[1G\u001b[A\u001b[2K\u001b[1G\u001b[A\u001b[2K\u001b[1G\u001b[A\u001b[2K\u001b[1G\u001b[A\u001b[2K\u001b[1G\u001b[A\u001b[2K\u001b[1G\u001b[A\u001b[2K\u001b[1Gpulling manifest \n",
      "pulling 8eeb52dfb3bb... 100% ▕▏ 4.7 GB                         \n",
      "pulling 73b313b5552d... 100% ▕▏ 1.4 KB                         \n",
      "pulling 0ba8f0e314b4... 100% ▕▏  12 KB                         \n",
      "pulling 56bb8bd477a5... 100% ▕▏   96 B                         \n",
      "pulling 1a4c3c319823... 100% ▕▏  485 B                         \n",
      "verifying sha256 digest ⠧ \u001b[?25h\u001b[?25l\u001b[2K\u001b[1G\u001b[A\u001b[2K\u001b[1G\u001b[A\u001b[2K\u001b[1G\u001b[A\u001b[2K\u001b[1G\u001b[A\u001b[2K\u001b[1G\u001b[A\u001b[2K\u001b[1G\u001b[A\u001b[2K\u001b[1Gpulling manifest \n",
      "pulling 8eeb52dfb3bb... 100% ▕▏ 4.7 GB                         \n",
      "pulling 73b313b5552d... 100% ▕▏ 1.4 KB                         \n",
      "pulling 0ba8f0e314b4... 100% ▕▏  12 KB                         \n",
      "pulling 56bb8bd477a5... 100% ▕▏   96 B                         \n",
      "pulling 1a4c3c319823... 100% ▕▏  485 B                         \n",
      "verifying sha256 digest ⠇ \u001b[?25h\u001b[?25l\u001b[2K\u001b[1G\u001b[A\u001b[2K\u001b[1G\u001b[A\u001b[2K\u001b[1G\u001b[A\u001b[2K\u001b[1G\u001b[A\u001b[2K\u001b[1G\u001b[A\u001b[2K\u001b[1G\u001b[A\u001b[2K\u001b[1Gpulling manifest \n",
      "pulling 8eeb52dfb3bb... 100% ▕▏ 4.7 GB                         \n",
      "pulling 73b313b5552d... 100% ▕▏ 1.4 KB                         \n",
      "pulling 0ba8f0e314b4... 100% ▕▏  12 KB                         \n",
      "pulling 56bb8bd477a5... 100% ▕▏   96 B                         \n",
      "pulling 1a4c3c319823... 100% ▕▏  485 B                         \n",
      "verifying sha256 digest ⠏ \u001b[?25h\u001b[?25l\u001b[2K\u001b[1G\u001b[A\u001b[2K\u001b[1G\u001b[A\u001b[2K\u001b[1G\u001b[A\u001b[2K\u001b[1G\u001b[A\u001b[2K\u001b[1G\u001b[A\u001b[2K\u001b[1G\u001b[A\u001b[2K\u001b[1Gpulling manifest \n",
      "pulling 8eeb52dfb3bb... 100% ▕▏ 4.7 GB                         \n",
      "pulling 73b313b5552d... 100% ▕▏ 1.4 KB                         \n",
      "pulling 0ba8f0e314b4... 100% ▕▏  12 KB                         \n",
      "pulling 56bb8bd477a5... 100% ▕▏   96 B                         \n",
      "pulling 1a4c3c319823... 100% ▕▏  485 B                         \n",
      "verifying sha256 digest ⠋ \u001b[?25h\u001b[?25l\u001b[2K\u001b[1G\u001b[A\u001b[2K\u001b[1G\u001b[A\u001b[2K\u001b[1G\u001b[A\u001b[2K\u001b[1G\u001b[A\u001b[2K\u001b[1G\u001b[A\u001b[2K\u001b[1G\u001b[A\u001b[2K\u001b[1Gpulling manifest \n",
      "pulling 8eeb52dfb3bb... 100% ▕▏ 4.7 GB                         \n",
      "pulling 73b313b5552d... 100% ▕▏ 1.4 KB                         \n",
      "pulling 0ba8f0e314b4... 100% ▕▏  12 KB                         \n",
      "pulling 56bb8bd477a5... 100% ▕▏   96 B                         \n",
      "pulling 1a4c3c319823... 100% ▕▏  485 B                         \n",
      "verifying sha256 digest ⠙ \u001b[?25h\u001b[?25l\u001b[2K\u001b[1G\u001b[A\u001b[2K\u001b[1G\u001b[A\u001b[2K\u001b[1G\u001b[A\u001b[2K\u001b[1G\u001b[A\u001b[2K\u001b[1G\u001b[A\u001b[2K\u001b[1G\u001b[A\u001b[2K\u001b[1Gpulling manifest \n",
      "pulling 8eeb52dfb3bb... 100% ▕▏ 4.7 GB                         \n",
      "pulling 73b313b5552d... 100% ▕▏ 1.4 KB                         \n",
      "pulling 0ba8f0e314b4... 100% ▕▏  12 KB                         \n",
      "pulling 56bb8bd477a5... 100% ▕▏   96 B                         \n",
      "pulling 1a4c3c319823... 100% ▕▏  485 B                         \n",
      "verifying sha256 digest ⠹ \u001b[?25h\u001b[?25l\u001b[2K\u001b[1G\u001b[A\u001b[2K\u001b[1G\u001b[A\u001b[2K\u001b[1G\u001b[A\u001b[2K\u001b[1G\u001b[A\u001b[2K\u001b[1G\u001b[A\u001b[2K\u001b[1G\u001b[A\u001b[2K\u001b[1Gpulling manifest \n",
      "pulling 8eeb52dfb3bb... 100% ▕▏ 4.7 GB                         \n",
      "pulling 73b313b5552d... 100% ▕▏ 1.4 KB                         \n",
      "pulling 0ba8f0e314b4... 100% ▕▏  12 KB                         \n",
      "pulling 56bb8bd477a5... 100% ▕▏   96 B                         \n",
      "pulling 1a4c3c319823... 100% ▕▏  485 B                         \n",
      "verifying sha256 digest ⠸ \u001b[?25h\u001b[?25l\u001b[2K\u001b[1G\u001b[A\u001b[2K\u001b[1G\u001b[A\u001b[2K\u001b[1G\u001b[A\u001b[2K\u001b[1G\u001b[A\u001b[2K\u001b[1G\u001b[A\u001b[2K\u001b[1G\u001b[A\u001b[2K\u001b[1Gpulling manifest \n",
      "pulling 8eeb52dfb3bb... 100% ▕▏ 4.7 GB                         \n",
      "pulling 73b313b5552d... 100% ▕▏ 1.4 KB                         \n",
      "pulling 0ba8f0e314b4... 100% ▕▏  12 KB                         \n",
      "pulling 56bb8bd477a5... 100% ▕▏   96 B                         \n",
      "pulling 1a4c3c319823... 100% ▕▏  485 B                         \n",
      "verifying sha256 digest ⠼ \u001b[?25h\u001b[?25l\u001b[2K\u001b[1G\u001b[A\u001b[2K\u001b[1G\u001b[A\u001b[2K\u001b[1G\u001b[A\u001b[2K\u001b[1G\u001b[A\u001b[2K\u001b[1G\u001b[A\u001b[2K\u001b[1G\u001b[A\u001b[2K\u001b[1Gpulling manifest \n",
      "pulling 8eeb52dfb3bb... 100% ▕▏ 4.7 GB                         \n",
      "pulling 73b313b5552d... 100% ▕▏ 1.4 KB                         \n",
      "pulling 0ba8f0e314b4... 100% ▕▏  12 KB                         \n",
      "pulling 56bb8bd477a5... 100% ▕▏   96 B                         \n",
      "pulling 1a4c3c319823... 100% ▕▏  485 B                         \n",
      "verifying sha256 digest ⠴ \u001b[?25h\u001b[?25l\u001b[2K\u001b[1G\u001b[A\u001b[2K\u001b[1G\u001b[A\u001b[2K\u001b[1G\u001b[A\u001b[2K\u001b[1G\u001b[A\u001b[2K\u001b[1G\u001b[A\u001b[2K\u001b[1G\u001b[A\u001b[2K\u001b[1Gpulling manifest \n",
      "pulling 8eeb52dfb3bb... 100% ▕▏ 4.7 GB                         \n",
      "pulling 73b313b5552d... 100% ▕▏ 1.4 KB                         \n",
      "pulling 0ba8f0e314b4... 100% ▕▏  12 KB                         \n",
      "pulling 56bb8bd477a5... 100% ▕▏   96 B                         \n",
      "pulling 1a4c3c319823... 100% ▕▏  485 B                         \n",
      "verifying sha256 digest ⠦ \u001b[?25h\u001b[?25l\u001b[2K\u001b[1G\u001b[A\u001b[2K\u001b[1G\u001b[A\u001b[2K\u001b[1G\u001b[A\u001b[2K\u001b[1G\u001b[A\u001b[2K\u001b[1G\u001b[A\u001b[2K\u001b[1G\u001b[A\u001b[2K\u001b[1Gpulling manifest \n",
      "pulling 8eeb52dfb3bb... 100% ▕▏ 4.7 GB                         \n",
      "pulling 73b313b5552d... 100% ▕▏ 1.4 KB                         \n",
      "pulling 0ba8f0e314b4... 100% ▕▏  12 KB                         \n",
      "pulling 56bb8bd477a5... 100% ▕▏   96 B                         \n",
      "pulling 1a4c3c319823... 100% ▕▏  485 B                         \n",
      "verifying sha256 digest ⠧ \u001b[?25h\u001b[?25l\u001b[2K\u001b[1G\u001b[A\u001b[2K\u001b[1G\u001b[A\u001b[2K\u001b[1G\u001b[A\u001b[2K\u001b[1G\u001b[A\u001b[2K\u001b[1G\u001b[A\u001b[2K\u001b[1G\u001b[A\u001b[2K\u001b[1Gpulling manifest \n",
      "pulling 8eeb52dfb3bb... 100% ▕▏ 4.7 GB                         \n",
      "pulling 73b313b5552d... 100% ▕▏ 1.4 KB                         \n",
      "pulling 0ba8f0e314b4... 100% ▕▏  12 KB                         \n",
      "pulling 56bb8bd477a5... 100% ▕▏   96 B                         \n",
      "pulling 1a4c3c319823... 100% ▕▏  485 B                         \n",
      "verifying sha256 digest ⠇ \u001b[?25h\u001b[?25l\u001b[2K\u001b[1G\u001b[A\u001b[2K\u001b[1G\u001b[A\u001b[2K\u001b[1G\u001b[A\u001b[2K\u001b[1G\u001b[A\u001b[2K\u001b[1G\u001b[A\u001b[2K\u001b[1G\u001b[A\u001b[2K\u001b[1Gpulling manifest \n",
      "pulling 8eeb52dfb3bb... 100% ▕▏ 4.7 GB                         \n",
      "pulling 73b313b5552d... 100% ▕▏ 1.4 KB                         \n",
      "pulling 0ba8f0e314b4... 100% ▕▏  12 KB                         \n",
      "pulling 56bb8bd477a5... 100% ▕▏   96 B                         \n",
      "pulling 1a4c3c319823... 100% ▕▏  485 B                         \n",
      "verifying sha256 digest ⠏ \u001b[?25h\u001b[?25l\u001b[2K\u001b[1G\u001b[A\u001b[2K\u001b[1G\u001b[A\u001b[2K\u001b[1G\u001b[A\u001b[2K\u001b[1G\u001b[A\u001b[2K\u001b[1G\u001b[A\u001b[2K\u001b[1G\u001b[A\u001b[2K\u001b[1Gpulling manifest \n",
      "pulling 8eeb52dfb3bb... 100% ▕▏ 4.7 GB                         \n",
      "pulling 73b313b5552d... 100% ▕▏ 1.4 KB                         \n",
      "pulling 0ba8f0e314b4... 100% ▕▏  12 KB                         \n",
      "pulling 56bb8bd477a5... 100% ▕▏   96 B                         \n",
      "pulling 1a4c3c319823... 100% ▕▏  485 B                         \n",
      "verifying sha256 digest ⠋ \u001b[?25h\u001b[?25l\u001b[2K\u001b[1G\u001b[A\u001b[2K\u001b[1G\u001b[A\u001b[2K\u001b[1G\u001b[A\u001b[2K\u001b[1G\u001b[A\u001b[2K\u001b[1G\u001b[A\u001b[2K\u001b[1G\u001b[A\u001b[2K\u001b[1Gpulling manifest \n",
      "pulling 8eeb52dfb3bb... 100% ▕▏ 4.7 GB                         \n",
      "pulling 73b313b5552d... 100% ▕▏ 1.4 KB                         \n",
      "pulling 0ba8f0e314b4... 100% ▕▏  12 KB                         \n",
      "pulling 56bb8bd477a5... 100% ▕▏   96 B                         \n",
      "pulling 1a4c3c319823... 100% ▕▏  485 B                         \n",
      "verifying sha256 digest ⠙ \u001b[?25h\u001b[?25l\u001b[2K\u001b[1G\u001b[A\u001b[2K\u001b[1G\u001b[A\u001b[2K\u001b[1G\u001b[A\u001b[2K\u001b[1G\u001b[A\u001b[2K\u001b[1G\u001b[A\u001b[2K\u001b[1G\u001b[A\u001b[2K\u001b[1Gpulling manifest \n",
      "pulling 8eeb52dfb3bb... 100% ▕▏ 4.7 GB                         \n",
      "pulling 73b313b5552d... 100% ▕▏ 1.4 KB                         \n",
      "pulling 0ba8f0e314b4... 100% ▕▏  12 KB                         \n",
      "pulling 56bb8bd477a5... 100% ▕▏   96 B                         \n",
      "pulling 1a4c3c319823... 100% ▕▏  485 B                         \n",
      "verifying sha256 digest ⠹ \u001b[?25h\u001b[?25l\u001b[2K\u001b[1G\u001b[A\u001b[2K\u001b[1G\u001b[A\u001b[2K\u001b[1G\u001b[A\u001b[2K\u001b[1G\u001b[A\u001b[2K\u001b[1G\u001b[A\u001b[2K\u001b[1G\u001b[A\u001b[2K\u001b[1Gpulling manifest \n",
      "pulling 8eeb52dfb3bb... 100% ▕▏ 4.7 GB                         \n",
      "pulling 73b313b5552d... 100% ▕▏ 1.4 KB                         \n",
      "pulling 0ba8f0e314b4... 100% ▕▏  12 KB                         \n",
      "pulling 56bb8bd477a5... 100% ▕▏   96 B                         \n",
      "pulling 1a4c3c319823... 100% ▕▏  485 B                         \n",
      "verifying sha256 digest ⠸ \u001b[?25h\u001b[?25l\u001b[2K\u001b[1G\u001b[A\u001b[2K\u001b[1G\u001b[A\u001b[2K\u001b[1G\u001b[A\u001b[2K\u001b[1G\u001b[A\u001b[2K\u001b[1G\u001b[A\u001b[2K\u001b[1G\u001b[A\u001b[2K\u001b[1Gpulling manifest \n",
      "pulling 8eeb52dfb3bb... 100% ▕▏ 4.7 GB                         \n",
      "pulling 73b313b5552d... 100% ▕▏ 1.4 KB                         \n",
      "pulling 0ba8f0e314b4... 100% ▕▏  12 KB                         \n",
      "pulling 56bb8bd477a5... 100% ▕▏   96 B                         \n",
      "pulling 1a4c3c319823... 100% ▕▏  485 B                         \n",
      "verifying sha256 digest ⠼ \u001b[?25h\u001b[?25l\u001b[2K\u001b[1G\u001b[A\u001b[2K\u001b[1G\u001b[A\u001b[2K\u001b[1G\u001b[A\u001b[2K\u001b[1G\u001b[A\u001b[2K\u001b[1G\u001b[A\u001b[2K\u001b[1G\u001b[A\u001b[2K\u001b[1Gpulling manifest \n",
      "pulling 8eeb52dfb3bb... 100% ▕▏ 4.7 GB                         \n",
      "pulling 73b313b5552d... 100% ▕▏ 1.4 KB                         \n",
      "pulling 0ba8f0e314b4... 100% ▕▏  12 KB                         \n",
      "pulling 56bb8bd477a5... 100% ▕▏   96 B                         \n",
      "pulling 1a4c3c319823... 100% ▕▏  485 B                         \n",
      "verifying sha256 digest ⠴ \u001b[?25h\u001b[?25l\u001b[2K\u001b[1G\u001b[A\u001b[2K\u001b[1G\u001b[A\u001b[2K\u001b[1G\u001b[A\u001b[2K\u001b[1G\u001b[A\u001b[2K\u001b[1G\u001b[A\u001b[2K\u001b[1G\u001b[A\u001b[2K\u001b[1Gpulling manifest \n",
      "pulling 8eeb52dfb3bb... 100% ▕▏ 4.7 GB                         \n",
      "pulling 73b313b5552d... 100% ▕▏ 1.4 KB                         \n",
      "pulling 0ba8f0e314b4... 100% ▕▏  12 KB                         \n",
      "pulling 56bb8bd477a5... 100% ▕▏   96 B                         \n",
      "pulling 1a4c3c319823... 100% ▕▏  485 B                         \n",
      "verifying sha256 digest ⠦ \u001b[?25h\u001b[?25l\u001b[2K\u001b[1G\u001b[A\u001b[2K\u001b[1G\u001b[A\u001b[2K\u001b[1G\u001b[A\u001b[2K\u001b[1G\u001b[A\u001b[2K\u001b[1G\u001b[A\u001b[2K\u001b[1G\u001b[A\u001b[2K\u001b[1Gpulling manifest \n",
      "pulling 8eeb52dfb3bb... 100% ▕▏ 4.7 GB                         \n",
      "pulling 73b313b5552d... 100% ▕▏ 1.4 KB                         \n",
      "pulling 0ba8f0e314b4... 100% ▕▏  12 KB                         \n",
      "pulling 56bb8bd477a5... 100% ▕▏   96 B                         \n",
      "pulling 1a4c3c319823... 100% ▕▏  485 B                         \n",
      "verifying sha256 digest ⠧ \u001b[?25h\u001b[?25l\u001b[2K\u001b[1G\u001b[A\u001b[2K\u001b[1G\u001b[A\u001b[2K\u001b[1G\u001b[A\u001b[2K\u001b[1G\u001b[A\u001b[2K\u001b[1G\u001b[A\u001b[2K\u001b[1G\u001b[A\u001b[2K\u001b[1Gpulling manifest \n",
      "pulling 8eeb52dfb3bb... 100% ▕▏ 4.7 GB                         \n",
      "pulling 73b313b5552d... 100% ▕▏ 1.4 KB                         \n",
      "pulling 0ba8f0e314b4... 100% ▕▏  12 KB                         \n",
      "pulling 56bb8bd477a5... 100% ▕▏   96 B                         \n",
      "pulling 1a4c3c319823... 100% ▕▏  485 B                         \n",
      "verifying sha256 digest ⠇ \u001b[?25h\u001b[?25l\u001b[2K\u001b[1G\u001b[A\u001b[2K\u001b[1G\u001b[A\u001b[2K\u001b[1G\u001b[A\u001b[2K\u001b[1G\u001b[A\u001b[2K\u001b[1G\u001b[A\u001b[2K\u001b[1G\u001b[A\u001b[2K\u001b[1Gpulling manifest \n",
      "pulling 8eeb52dfb3bb... 100% ▕▏ 4.7 GB                         \n",
      "pulling 73b313b5552d... 100% ▕▏ 1.4 KB                         \n",
      "pulling 0ba8f0e314b4... 100% ▕▏  12 KB                         \n",
      "pulling 56bb8bd477a5... 100% ▕▏   96 B                         \n",
      "pulling 1a4c3c319823... 100% ▕▏  485 B                         \n",
      "verifying sha256 digest ⠏ \u001b[?25h\u001b[?25l\u001b[2K\u001b[1G\u001b[A\u001b[2K\u001b[1G\u001b[A\u001b[2K\u001b[1G\u001b[A\u001b[2K\u001b[1G\u001b[A\u001b[2K\u001b[1G\u001b[A\u001b[2K\u001b[1G\u001b[A\u001b[2K\u001b[1Gpulling manifest \n",
      "pulling 8eeb52dfb3bb... 100% ▕▏ 4.7 GB                         \n",
      "pulling 73b313b5552d... 100% ▕▏ 1.4 KB                         \n",
      "pulling 0ba8f0e314b4... 100% ▕▏  12 KB                         \n",
      "pulling 56bb8bd477a5... 100% ▕▏   96 B                         \n",
      "pulling 1a4c3c319823... 100% ▕▏  485 B                         \n",
      "verifying sha256 digest ⠋ \u001b[?25h\u001b[?25l\u001b[2K\u001b[1G\u001b[A\u001b[2K\u001b[1G\u001b[A\u001b[2K\u001b[1G\u001b[A\u001b[2K\u001b[1G\u001b[A\u001b[2K\u001b[1G\u001b[A\u001b[2K\u001b[1G\u001b[A\u001b[2K\u001b[1Gpulling manifest \n",
      "pulling 8eeb52dfb3bb... 100% ▕▏ 4.7 GB                         \n",
      "pulling 73b313b5552d... 100% ▕▏ 1.4 KB                         \n",
      "pulling 0ba8f0e314b4... 100% ▕▏  12 KB                         \n",
      "pulling 56bb8bd477a5... 100% ▕▏   96 B                         \n",
      "pulling 1a4c3c319823... 100% ▕▏  485 B                         \n",
      "verifying sha256 digest ⠙ \u001b[?25h\u001b[?25l\u001b[2K\u001b[1G\u001b[A\u001b[2K\u001b[1G\u001b[A\u001b[2K\u001b[1G\u001b[A\u001b[2K\u001b[1G\u001b[A\u001b[2K\u001b[1G\u001b[A\u001b[2K\u001b[1G\u001b[A\u001b[2K\u001b[1Gpulling manifest \n",
      "pulling 8eeb52dfb3bb... 100% ▕▏ 4.7 GB                         \n",
      "pulling 73b313b5552d... 100% ▕▏ 1.4 KB                         \n",
      "pulling 0ba8f0e314b4... 100% ▕▏  12 KB                         \n",
      "pulling 56bb8bd477a5... 100% ▕▏   96 B                         \n",
      "pulling 1a4c3c319823... 100% ▕▏  485 B                         \n",
      "verifying sha256 digest ⠹ \u001b[?25h\u001b[?25l\u001b[2K\u001b[1G\u001b[A\u001b[2K\u001b[1G\u001b[A\u001b[2K\u001b[1G\u001b[A\u001b[2K\u001b[1G\u001b[A\u001b[2K\u001b[1G\u001b[A\u001b[2K\u001b[1G\u001b[A\u001b[2K\u001b[1Gpulling manifest \n",
      "pulling 8eeb52dfb3bb... 100% ▕▏ 4.7 GB                         \n",
      "pulling 73b313b5552d... 100% ▕▏ 1.4 KB                         \n",
      "pulling 0ba8f0e314b4... 100% ▕▏  12 KB                         \n",
      "pulling 56bb8bd477a5... 100% ▕▏   96 B                         \n",
      "pulling 1a4c3c319823... 100% ▕▏  485 B                         \n",
      "verifying sha256 digest ⠸ \u001b[?25h\u001b[?25l\u001b[2K\u001b[1G\u001b[A\u001b[2K\u001b[1G\u001b[A\u001b[2K\u001b[1G\u001b[A\u001b[2K\u001b[1G\u001b[A\u001b[2K\u001b[1G\u001b[A\u001b[2K\u001b[1G\u001b[A\u001b[2K\u001b[1Gpulling manifest \n",
      "pulling 8eeb52dfb3bb... 100% ▕▏ 4.7 GB                         \n",
      "pulling 73b313b5552d... 100% ▕▏ 1.4 KB                         \n",
      "pulling 0ba8f0e314b4... 100% ▕▏  12 KB                         \n",
      "pulling 56bb8bd477a5... 100% ▕▏   96 B                         \n",
      "pulling 1a4c3c319823... 100% ▕▏  485 B                         \n",
      "verifying sha256 digest ⠼ \u001b[?25h\u001b[?25l\u001b[2K\u001b[1G\u001b[A\u001b[2K\u001b[1G\u001b[A\u001b[2K\u001b[1G\u001b[A\u001b[2K\u001b[1G\u001b[A\u001b[2K\u001b[1G\u001b[A\u001b[2K\u001b[1G\u001b[A\u001b[2K\u001b[1Gpulling manifest \n",
      "pulling 8eeb52dfb3bb... 100% ▕▏ 4.7 GB                         \n",
      "pulling 73b313b5552d... 100% ▕▏ 1.4 KB                         \n",
      "pulling 0ba8f0e314b4... 100% ▕▏  12 KB                         \n",
      "pulling 56bb8bd477a5... 100% ▕▏   96 B                         \n",
      "pulling 1a4c3c319823... 100% ▕▏  485 B                         \n",
      "verifying sha256 digest ⠴ \u001b[?25h\u001b[?25l\u001b[2K\u001b[1G\u001b[A\u001b[2K\u001b[1G\u001b[A\u001b[2K\u001b[1G\u001b[A\u001b[2K\u001b[1G\u001b[A\u001b[2K\u001b[1G\u001b[A\u001b[2K\u001b[1G\u001b[A\u001b[2K\u001b[1Gpulling manifest \n",
      "pulling 8eeb52dfb3bb... 100% ▕▏ 4.7 GB                         \n",
      "pulling 73b313b5552d... 100% ▕▏ 1.4 KB                         \n",
      "pulling 0ba8f0e314b4... 100% ▕▏  12 KB                         \n",
      "pulling 56bb8bd477a5... 100% ▕▏   96 B                         \n",
      "pulling 1a4c3c319823... 100% ▕▏  485 B                         \n",
      "verifying sha256 digest ⠦ \u001b[?25h\u001b[?25l\u001b[2K\u001b[1G\u001b[A\u001b[2K\u001b[1G\u001b[A\u001b[2K\u001b[1G\u001b[A\u001b[2K\u001b[1G\u001b[A\u001b[2K\u001b[1G\u001b[A\u001b[2K\u001b[1G\u001b[A\u001b[2K\u001b[1Gpulling manifest \n",
      "pulling 8eeb52dfb3bb... 100% ▕▏ 4.7 GB                         \n",
      "pulling 73b313b5552d... 100% ▕▏ 1.4 KB                         \n",
      "pulling 0ba8f0e314b4... 100% ▕▏  12 KB                         \n",
      "pulling 56bb8bd477a5... 100% ▕▏   96 B                         \n",
      "pulling 1a4c3c319823... 100% ▕▏  485 B                         \n",
      "verifying sha256 digest ⠧ \u001b[?25h\u001b[?25l\u001b[2K\u001b[1G\u001b[A\u001b[2K\u001b[1G\u001b[A\u001b[2K\u001b[1G\u001b[A\u001b[2K\u001b[1G\u001b[A\u001b[2K\u001b[1G\u001b[A\u001b[2K\u001b[1G\u001b[A\u001b[2K\u001b[1Gpulling manifest \n",
      "pulling 8eeb52dfb3bb... 100% ▕▏ 4.7 GB                         \n",
      "pulling 73b313b5552d... 100% ▕▏ 1.4 KB                         \n",
      "pulling 0ba8f0e314b4... 100% ▕▏  12 KB                         \n",
      "pulling 56bb8bd477a5... 100% ▕▏   96 B                         \n",
      "pulling 1a4c3c319823... 100% ▕▏  485 B                         \n",
      "verifying sha256 digest ⠇ \u001b[?25h\u001b[?25l\u001b[2K\u001b[1G\u001b[A\u001b[2K\u001b[1G\u001b[A\u001b[2K\u001b[1G\u001b[A\u001b[2K\u001b[1G\u001b[A\u001b[2K\u001b[1G\u001b[A\u001b[2K\u001b[1G\u001b[A\u001b[2K\u001b[1Gpulling manifest \n",
      "pulling 8eeb52dfb3bb... 100% ▕▏ 4.7 GB                         \n",
      "pulling 73b313b5552d... 100% ▕▏ 1.4 KB                         \n",
      "pulling 0ba8f0e314b4... 100% ▕▏  12 KB                         \n",
      "pulling 56bb8bd477a5... 100% ▕▏   96 B                         \n",
      "pulling 1a4c3c319823... 100% ▕▏  485 B                         \n",
      "verifying sha256 digest ⠏ \u001b[?25h\u001b[?25l\u001b[2K\u001b[1G\u001b[A\u001b[2K\u001b[1G\u001b[A\u001b[2K\u001b[1G\u001b[A\u001b[2K\u001b[1G\u001b[A\u001b[2K\u001b[1G\u001b[A\u001b[2K\u001b[1G\u001b[A\u001b[2K\u001b[1Gpulling manifest \n",
      "pulling 8eeb52dfb3bb... 100% ▕▏ 4.7 GB                         \n",
      "pulling 73b313b5552d... 100% ▕▏ 1.4 KB                         \n",
      "pulling 0ba8f0e314b4... 100% ▕▏  12 KB                         \n",
      "pulling 56bb8bd477a5... 100% ▕▏   96 B                         \n",
      "pulling 1a4c3c319823... 100% ▕▏  485 B                         \n",
      "verifying sha256 digest ⠋ \u001b[?25h\u001b[?25l\u001b[2K\u001b[1G\u001b[A\u001b[2K\u001b[1G\u001b[A\u001b[2K\u001b[1G\u001b[A\u001b[2K\u001b[1G\u001b[A\u001b[2K\u001b[1G\u001b[A\u001b[2K\u001b[1G\u001b[A\u001b[2K\u001b[1Gpulling manifest \n",
      "pulling 8eeb52dfb3bb... 100% ▕▏ 4.7 GB                         \n",
      "pulling 73b313b5552d... 100% ▕▏ 1.4 KB                         \n",
      "pulling 0ba8f0e314b4... 100% ▕▏  12 KB                         \n",
      "pulling 56bb8bd477a5... 100% ▕▏   96 B                         \n",
      "pulling 1a4c3c319823... 100% ▕▏  485 B                         \n",
      "verifying sha256 digest ⠙ \u001b[?25h\u001b[?25l\u001b[2K\u001b[1G\u001b[A\u001b[2K\u001b[1G\u001b[A\u001b[2K\u001b[1G\u001b[A\u001b[2K\u001b[1G\u001b[A\u001b[2K\u001b[1G\u001b[A\u001b[2K\u001b[1G\u001b[A\u001b[2K\u001b[1Gpulling manifest \n",
      "pulling 8eeb52dfb3bb... 100% ▕▏ 4.7 GB                         \n",
      "pulling 73b313b5552d... 100% ▕▏ 1.4 KB                         \n",
      "pulling 0ba8f0e314b4... 100% ▕▏  12 KB                         \n",
      "pulling 56bb8bd477a5... 100% ▕▏   96 B                         \n",
      "pulling 1a4c3c319823... 100% ▕▏  485 B                         \n",
      "verifying sha256 digest ⠹ \u001b[?25h\u001b[?25l\u001b[2K\u001b[1G\u001b[A\u001b[2K\u001b[1G\u001b[A\u001b[2K\u001b[1G\u001b[A\u001b[2K\u001b[1G\u001b[A\u001b[2K\u001b[1G\u001b[A\u001b[2K\u001b[1G\u001b[A\u001b[2K\u001b[1Gpulling manifest \n",
      "pulling 8eeb52dfb3bb... 100% ▕▏ 4.7 GB                         \n",
      "pulling 73b313b5552d... 100% ▕▏ 1.4 KB                         \n",
      "pulling 0ba8f0e314b4... 100% ▕▏  12 KB                         \n",
      "pulling 56bb8bd477a5... 100% ▕▏   96 B                         \n",
      "pulling 1a4c3c319823... 100% ▕▏  485 B                         \n",
      "verifying sha256 digest ⠸ \u001b[?25h\u001b[?25l\u001b[2K\u001b[1G\u001b[A\u001b[2K\u001b[1G\u001b[A\u001b[2K\u001b[1G\u001b[A\u001b[2K\u001b[1G\u001b[A\u001b[2K\u001b[1G\u001b[A\u001b[2K\u001b[1G\u001b[A\u001b[2K\u001b[1Gpulling manifest \n",
      "pulling 8eeb52dfb3bb... 100% ▕▏ 4.7 GB                         \n",
      "pulling 73b313b5552d... 100% ▕▏ 1.4 KB                         \n",
      "pulling 0ba8f0e314b4... 100% ▕▏  12 KB                         \n",
      "pulling 56bb8bd477a5... 100% ▕▏   96 B                         \n",
      "pulling 1a4c3c319823... 100% ▕▏  485 B                         \n",
      "verifying sha256 digest ⠼ \u001b[?25h\u001b[?25l\u001b[2K\u001b[1G\u001b[A\u001b[2K\u001b[1G\u001b[A\u001b[2K\u001b[1G\u001b[A\u001b[2K\u001b[1G\u001b[A\u001b[2K\u001b[1G\u001b[A\u001b[2K\u001b[1G\u001b[A\u001b[2K\u001b[1Gpulling manifest \n",
      "pulling 8eeb52dfb3bb... 100% ▕▏ 4.7 GB                         \n",
      "pulling 73b313b5552d... 100% ▕▏ 1.4 KB                         \n",
      "pulling 0ba8f0e314b4... 100% ▕▏  12 KB                         \n",
      "pulling 56bb8bd477a5... 100% ▕▏   96 B                         \n",
      "pulling 1a4c3c319823... 100% ▕▏  485 B                         \n",
      "verifying sha256 digest ⠴ \u001b[?25h\u001b[?25l\u001b[2K\u001b[1G\u001b[A\u001b[2K\u001b[1G\u001b[A\u001b[2K\u001b[1G\u001b[A\u001b[2K\u001b[1G\u001b[A\u001b[2K\u001b[1G\u001b[A\u001b[2K\u001b[1G\u001b[A\u001b[2K\u001b[1Gpulling manifest \n",
      "pulling 8eeb52dfb3bb... 100% ▕▏ 4.7 GB                         \n",
      "pulling 73b313b5552d... 100% ▕▏ 1.4 KB                         \n",
      "pulling 0ba8f0e314b4... 100% ▕▏  12 KB                         \n",
      "pulling 56bb8bd477a5... 100% ▕▏   96 B                         \n",
      "pulling 1a4c3c319823... 100% ▕▏  485 B                         \n",
      "verifying sha256 digest ⠦ \u001b[?25h\u001b[?25l\u001b[2K\u001b[1G\u001b[A\u001b[2K\u001b[1G\u001b[A\u001b[2K\u001b[1G\u001b[A\u001b[2K\u001b[1G\u001b[A\u001b[2K\u001b[1G\u001b[A\u001b[2K\u001b[1G\u001b[A\u001b[2K\u001b[1Gpulling manifest \n",
      "pulling 8eeb52dfb3bb... 100% ▕▏ 4.7 GB                         \n",
      "pulling 73b313b5552d... 100% ▕▏ 1.4 KB                         \n",
      "pulling 0ba8f0e314b4... 100% ▕▏  12 KB                         \n",
      "pulling 56bb8bd477a5... 100% ▕▏   96 B                         \n",
      "pulling 1a4c3c319823... 100% ▕▏  485 B                         \n",
      "verifying sha256 digest ⠧ \u001b[?25h\u001b[?25l\u001b[2K\u001b[1G\u001b[A\u001b[2K\u001b[1G\u001b[A\u001b[2K\u001b[1G\u001b[A\u001b[2K\u001b[1G\u001b[A\u001b[2K\u001b[1G\u001b[A\u001b[2K\u001b[1G\u001b[A\u001b[2K\u001b[1Gpulling manifest \n",
      "pulling 8eeb52dfb3bb... 100% ▕▏ 4.7 GB                         \n",
      "pulling 73b313b5552d... 100% ▕▏ 1.4 KB                         \n",
      "pulling 0ba8f0e314b4... 100% ▕▏  12 KB                         \n",
      "pulling 56bb8bd477a5... 100% ▕▏   96 B                         \n",
      "pulling 1a4c3c319823... 100% ▕▏  485 B                         \n",
      "verifying sha256 digest ⠇ \u001b[?25h\u001b[?25l\u001b[2K\u001b[1G\u001b[A\u001b[2K\u001b[1G\u001b[A\u001b[2K\u001b[1G\u001b[A\u001b[2K\u001b[1G\u001b[A\u001b[2K\u001b[1G\u001b[A\u001b[2K\u001b[1G\u001b[A\u001b[2K\u001b[1Gpulling manifest \n",
      "pulling 8eeb52dfb3bb... 100% ▕▏ 4.7 GB                         \n",
      "pulling 73b313b5552d... 100% ▕▏ 1.4 KB                         \n",
      "pulling 0ba8f0e314b4... 100% ▕▏  12 KB                         \n",
      "pulling 56bb8bd477a5... 100% ▕▏   96 B                         \n",
      "pulling 1a4c3c319823... 100% ▕▏  485 B                         \n",
      "verifying sha256 digest ⠏ \u001b[?25h\u001b[?25l\u001b[2K\u001b[1G\u001b[A\u001b[2K\u001b[1G\u001b[A\u001b[2K\u001b[1G\u001b[A\u001b[2K\u001b[1G\u001b[A\u001b[2K\u001b[1G\u001b[A\u001b[2K\u001b[1G\u001b[A\u001b[2K\u001b[1Gpulling manifest \n",
      "pulling 8eeb52dfb3bb... 100% ▕▏ 4.7 GB                         \n",
      "pulling 73b313b5552d... 100% ▕▏ 1.4 KB                         \n",
      "pulling 0ba8f0e314b4... 100% ▕▏  12 KB                         \n",
      "pulling 56bb8bd477a5... 100% ▕▏   96 B                         \n",
      "pulling 1a4c3c319823... 100% ▕▏  485 B                         \n",
      "verifying sha256 digest ⠋ \u001b[?25h\u001b[?25l\u001b[2K\u001b[1G\u001b[A\u001b[2K\u001b[1G\u001b[A\u001b[2K\u001b[1G\u001b[A\u001b[2K\u001b[1G\u001b[A\u001b[2K\u001b[1G\u001b[A\u001b[2K\u001b[1G\u001b[A\u001b[2K\u001b[1Gpulling manifest \n",
      "pulling 8eeb52dfb3bb... 100% ▕▏ 4.7 GB                         \n",
      "pulling 73b313b5552d... 100% ▕▏ 1.4 KB                         \n",
      "pulling 0ba8f0e314b4... 100% ▕▏  12 KB                         \n",
      "pulling 56bb8bd477a5... 100% ▕▏   96 B                         \n",
      "pulling 1a4c3c319823... 100% ▕▏  485 B                         \n",
      "verifying sha256 digest ⠙ \u001b[?25h\u001b[?25l\u001b[2K\u001b[1G\u001b[A\u001b[2K\u001b[1G\u001b[A\u001b[2K\u001b[1G\u001b[A\u001b[2K\u001b[1G\u001b[A\u001b[2K\u001b[1G\u001b[A\u001b[2K\u001b[1G\u001b[A\u001b[2K\u001b[1Gpulling manifest \n",
      "pulling 8eeb52dfb3bb... 100% ▕▏ 4.7 GB                         \n",
      "pulling 73b313b5552d... 100% ▕▏ 1.4 KB                         \n",
      "pulling 0ba8f0e314b4... 100% ▕▏  12 KB                         \n",
      "pulling 56bb8bd477a5... 100% ▕▏   96 B                         \n",
      "pulling 1a4c3c319823... 100% ▕▏  485 B                         \n",
      "verifying sha256 digest ⠹ \u001b[?25h\u001b[?25l\u001b[2K\u001b[1G\u001b[A\u001b[2K\u001b[1G\u001b[A\u001b[2K\u001b[1G\u001b[A\u001b[2K\u001b[1G\u001b[A\u001b[2K\u001b[1G\u001b[A\u001b[2K\u001b[1G\u001b[A\u001b[2K\u001b[1Gpulling manifest \n",
      "pulling 8eeb52dfb3bb... 100% ▕▏ 4.7 GB                         \n",
      "pulling 73b313b5552d... 100% ▕▏ 1.4 KB                         \n",
      "pulling 0ba8f0e314b4... 100% ▕▏  12 KB                         \n",
      "pulling 56bb8bd477a5... 100% ▕▏   96 B                         \n",
      "pulling 1a4c3c319823... 100% ▕▏  485 B                         \n",
      "verifying sha256 digest ⠸ \u001b[?25h\u001b[?25l\u001b[2K\u001b[1G\u001b[A\u001b[2K\u001b[1G\u001b[A\u001b[2K\u001b[1G\u001b[A\u001b[2K\u001b[1G\u001b[A\u001b[2K\u001b[1G\u001b[A\u001b[2K\u001b[1G\u001b[A\u001b[2K\u001b[1Gpulling manifest \n",
      "pulling 8eeb52dfb3bb... 100% ▕▏ 4.7 GB                         \n",
      "pulling 73b313b5552d... 100% ▕▏ 1.4 KB                         \n",
      "pulling 0ba8f0e314b4... 100% ▕▏  12 KB                         \n",
      "pulling 56bb8bd477a5... 100% ▕▏   96 B                         \n",
      "pulling 1a4c3c319823... 100% ▕▏  485 B                         \n",
      "verifying sha256 digest ⠼ \u001b[?25h\u001b[?25l\u001b[2K\u001b[1G\u001b[A\u001b[2K\u001b[1G\u001b[A\u001b[2K\u001b[1G\u001b[A\u001b[2K\u001b[1G\u001b[A\u001b[2K\u001b[1G\u001b[A\u001b[2K\u001b[1G\u001b[A\u001b[2K\u001b[1Gpulling manifest \n",
      "pulling 8eeb52dfb3bb... 100% ▕▏ 4.7 GB                         \n",
      "pulling 73b313b5552d... 100% ▕▏ 1.4 KB                         \n",
      "pulling 0ba8f0e314b4... 100% ▕▏  12 KB                         \n",
      "pulling 56bb8bd477a5... 100% ▕▏   96 B                         \n",
      "pulling 1a4c3c319823... 100% ▕▏  485 B                         \n",
      "verifying sha256 digest ⠴ \u001b[?25h\u001b[?25l\u001b[2K\u001b[1G\u001b[A\u001b[2K\u001b[1G\u001b[A\u001b[2K\u001b[1G\u001b[A\u001b[2K\u001b[1G\u001b[A\u001b[2K\u001b[1G\u001b[A\u001b[2K\u001b[1G\u001b[A\u001b[2K\u001b[1Gpulling manifest \n",
      "pulling 8eeb52dfb3bb... 100% ▕▏ 4.7 GB                         \n",
      "pulling 73b313b5552d... 100% ▕▏ 1.4 KB                         \n",
      "pulling 0ba8f0e314b4... 100% ▕▏  12 KB                         \n",
      "pulling 56bb8bd477a5... 100% ▕▏   96 B                         \n",
      "pulling 1a4c3c319823... 100% ▕▏  485 B                         \n",
      "verifying sha256 digest ⠦ \u001b[?25h\u001b[?25l\u001b[2K\u001b[1G\u001b[A\u001b[2K\u001b[1G\u001b[A\u001b[2K\u001b[1G\u001b[A\u001b[2K\u001b[1G\u001b[A\u001b[2K\u001b[1G\u001b[A\u001b[2K\u001b[1G\u001b[A\u001b[2K\u001b[1Gpulling manifest \n",
      "pulling 8eeb52dfb3bb... 100% ▕▏ 4.7 GB                         \n",
      "pulling 73b313b5552d... 100% ▕▏ 1.4 KB                         \n",
      "pulling 0ba8f0e314b4... 100% ▕▏  12 KB                         \n",
      "pulling 56bb8bd477a5... 100% ▕▏   96 B                         \n",
      "pulling 1a4c3c319823... 100% ▕▏  485 B                         \n",
      "verifying sha256 digest ⠧ \u001b[?25h\u001b[?25l\u001b[2K\u001b[1G\u001b[A\u001b[2K\u001b[1G\u001b[A\u001b[2K\u001b[1G\u001b[A\u001b[2K\u001b[1G\u001b[A\u001b[2K\u001b[1G\u001b[A\u001b[2K\u001b[1G\u001b[A\u001b[2K\u001b[1Gpulling manifest \n",
      "pulling 8eeb52dfb3bb... 100% ▕▏ 4.7 GB                         \n",
      "pulling 73b313b5552d... 100% ▕▏ 1.4 KB                         \n",
      "pulling 0ba8f0e314b4... 100% ▕▏  12 KB                         \n",
      "pulling 56bb8bd477a5... 100% ▕▏   96 B                         \n",
      "pulling 1a4c3c319823... 100% ▕▏  485 B                         \n",
      "verifying sha256 digest ⠇ \u001b[?25h\u001b[?25l\u001b[2K\u001b[1G\u001b[A\u001b[2K\u001b[1G\u001b[A\u001b[2K\u001b[1G\u001b[A\u001b[2K\u001b[1G\u001b[A\u001b[2K\u001b[1G\u001b[A\u001b[2K\u001b[1G\u001b[A\u001b[2K\u001b[1Gpulling manifest \n",
      "pulling 8eeb52dfb3bb... 100% ▕▏ 4.7 GB                         \n",
      "pulling 73b313b5552d... 100% ▕▏ 1.4 KB                         \n",
      "pulling 0ba8f0e314b4... 100% ▕▏  12 KB                         \n",
      "pulling 56bb8bd477a5... 100% ▕▏   96 B                         \n",
      "pulling 1a4c3c319823... 100% ▕▏  485 B                         \n",
      "verifying sha256 digest ⠏ \u001b[?25h\u001b[?25l\u001b[2K\u001b[1G\u001b[A\u001b[2K\u001b[1G\u001b[A\u001b[2K\u001b[1G\u001b[A\u001b[2K\u001b[1G\u001b[A\u001b[2K\u001b[1G\u001b[A\u001b[2K\u001b[1G\u001b[A\u001b[2K\u001b[1Gpulling manifest \n",
      "pulling 8eeb52dfb3bb... 100% ▕▏ 4.7 GB                         \n",
      "pulling 73b313b5552d... 100% ▕▏ 1.4 KB                         \n",
      "pulling 0ba8f0e314b4... 100% ▕▏  12 KB                         \n",
      "pulling 56bb8bd477a5... 100% ▕▏   96 B                         \n",
      "pulling 1a4c3c319823... 100% ▕▏  485 B                         \n",
      "verifying sha256 digest ⠋ \u001b[?25h\u001b[?25l\u001b[2K\u001b[1G\u001b[A\u001b[2K\u001b[1G\u001b[A\u001b[2K\u001b[1G\u001b[A\u001b[2K\u001b[1G\u001b[A\u001b[2K\u001b[1G\u001b[A\u001b[2K\u001b[1G\u001b[A\u001b[2K\u001b[1Gpulling manifest \n",
      "pulling 8eeb52dfb3bb... 100% ▕▏ 4.7 GB                         \n",
      "pulling 73b313b5552d... 100% ▕▏ 1.4 KB                         \n",
      "pulling 0ba8f0e314b4... 100% ▕▏  12 KB                         \n",
      "pulling 56bb8bd477a5... 100% ▕▏   96 B                         \n",
      "pulling 1a4c3c319823... 100% ▕▏  485 B                         \n",
      "verifying sha256 digest ⠙ \u001b[?25h\u001b[?25l\u001b[2K\u001b[1G\u001b[A\u001b[2K\u001b[1G\u001b[A\u001b[2K\u001b[1G\u001b[A\u001b[2K\u001b[1G\u001b[A\u001b[2K\u001b[1G\u001b[A\u001b[2K\u001b[1G\u001b[A\u001b[2K\u001b[1Gpulling manifest \n",
      "pulling 8eeb52dfb3bb... 100% ▕▏ 4.7 GB                         \n",
      "pulling 73b313b5552d... 100% ▕▏ 1.4 KB                         \n",
      "pulling 0ba8f0e314b4... 100% ▕▏  12 KB                         \n",
      "pulling 56bb8bd477a5... 100% ▕▏   96 B                         \n",
      "pulling 1a4c3c319823... 100% ▕▏  485 B                         \n",
      "verifying sha256 digest ⠹ \u001b[?25h\u001b[?25l\u001b[2K\u001b[1G\u001b[A\u001b[2K\u001b[1G\u001b[A\u001b[2K\u001b[1G\u001b[A\u001b[2K\u001b[1G\u001b[A\u001b[2K\u001b[1G\u001b[A\u001b[2K\u001b[1G\u001b[A\u001b[2K\u001b[1Gpulling manifest \n",
      "pulling 8eeb52dfb3bb... 100% ▕▏ 4.7 GB                         \n",
      "pulling 73b313b5552d... 100% ▕▏ 1.4 KB                         \n",
      "pulling 0ba8f0e314b4... 100% ▕▏  12 KB                         \n",
      "pulling 56bb8bd477a5... 100% ▕▏   96 B                         \n",
      "pulling 1a4c3c319823... 100% ▕▏  485 B                         \n",
      "verifying sha256 digest ⠸ \u001b[?25h\u001b[?25l\u001b[2K\u001b[1G\u001b[A\u001b[2K\u001b[1G\u001b[A\u001b[2K\u001b[1G\u001b[A\u001b[2K\u001b[1G\u001b[A\u001b[2K\u001b[1G\u001b[A\u001b[2K\u001b[1G\u001b[A\u001b[2K\u001b[1Gpulling manifest \n",
      "pulling 8eeb52dfb3bb... 100% ▕▏ 4.7 GB                         \n",
      "pulling 73b313b5552d... 100% ▕▏ 1.4 KB                         \n",
      "pulling 0ba8f0e314b4... 100% ▕▏  12 KB                         \n",
      "pulling 56bb8bd477a5... 100% ▕▏   96 B                         \n",
      "pulling 1a4c3c319823... 100% ▕▏  485 B                         \n",
      "verifying sha256 digest ⠼ \u001b[?25h\u001b[?25l\u001b[2K\u001b[1G\u001b[A\u001b[2K\u001b[1G\u001b[A\u001b[2K\u001b[1G\u001b[A\u001b[2K\u001b[1G\u001b[A\u001b[2K\u001b[1G\u001b[A\u001b[2K\u001b[1G\u001b[A\u001b[2K\u001b[1Gpulling manifest \n",
      "pulling 8eeb52dfb3bb... 100% ▕▏ 4.7 GB                         \n",
      "pulling 73b313b5552d... 100% ▕▏ 1.4 KB                         \n",
      "pulling 0ba8f0e314b4... 100% ▕▏  12 KB                         \n",
      "pulling 56bb8bd477a5... 100% ▕▏   96 B                         \n",
      "pulling 1a4c3c319823... 100% ▕▏  485 B                         \n",
      "verifying sha256 digest ⠴ \u001b[?25h\u001b[?25l\u001b[2K\u001b[1G\u001b[A\u001b[2K\u001b[1G\u001b[A\u001b[2K\u001b[1G\u001b[A\u001b[2K\u001b[1G\u001b[A\u001b[2K\u001b[1G\u001b[A\u001b[2K\u001b[1G\u001b[A\u001b[2K\u001b[1Gpulling manifest \n",
      "pulling 8eeb52dfb3bb... 100% ▕▏ 4.7 GB                         \n",
      "pulling 73b313b5552d... 100% ▕▏ 1.4 KB                         \n",
      "pulling 0ba8f0e314b4... 100% ▕▏  12 KB                         \n",
      "pulling 56bb8bd477a5... 100% ▕▏   96 B                         \n",
      "pulling 1a4c3c319823... 100% ▕▏  485 B                         \n",
      "verifying sha256 digest ⠦ \u001b[?25h\u001b[?25l\u001b[2K\u001b[1G\u001b[A\u001b[2K\u001b[1G\u001b[A\u001b[2K\u001b[1G\u001b[A\u001b[2K\u001b[1G\u001b[A\u001b[2K\u001b[1G\u001b[A\u001b[2K\u001b[1G\u001b[A\u001b[2K\u001b[1Gpulling manifest \n",
      "pulling 8eeb52dfb3bb... 100% ▕▏ 4.7 GB                         \n",
      "pulling 73b313b5552d... 100% ▕▏ 1.4 KB                         \n",
      "pulling 0ba8f0e314b4... 100% ▕▏  12 KB                         \n",
      "pulling 56bb8bd477a5... 100% ▕▏   96 B                         \n",
      "pulling 1a4c3c319823... 100% ▕▏  485 B                         \n",
      "verifying sha256 digest ⠧ \u001b[?25h\u001b[?25l\u001b[2K\u001b[1G\u001b[A\u001b[2K\u001b[1G\u001b[A\u001b[2K\u001b[1G\u001b[A\u001b[2K\u001b[1G\u001b[A\u001b[2K\u001b[1G\u001b[A\u001b[2K\u001b[1G\u001b[A\u001b[2K\u001b[1Gpulling manifest \n",
      "pulling 8eeb52dfb3bb... 100% ▕▏ 4.7 GB                         \n",
      "pulling 73b313b5552d... 100% ▕▏ 1.4 KB                         \n",
      "pulling 0ba8f0e314b4... 100% ▕▏  12 KB                         \n",
      "pulling 56bb8bd477a5... 100% ▕▏   96 B                         \n",
      "pulling 1a4c3c319823... 100% ▕▏  485 B                         \n",
      "verifying sha256 digest ⠇ \u001b[?25h\u001b[?25l\u001b[2K\u001b[1G\u001b[A\u001b[2K\u001b[1G\u001b[A\u001b[2K\u001b[1G\u001b[A\u001b[2K\u001b[1G\u001b[A\u001b[2K\u001b[1G\u001b[A\u001b[2K\u001b[1G\u001b[A\u001b[2K\u001b[1Gpulling manifest \n",
      "pulling 8eeb52dfb3bb... 100% ▕▏ 4.7 GB                         \n",
      "pulling 73b313b5552d... 100% ▕▏ 1.4 KB                         \n",
      "pulling 0ba8f0e314b4... 100% ▕▏  12 KB                         \n",
      "pulling 56bb8bd477a5... 100% ▕▏   96 B                         \n",
      "pulling 1a4c3c319823... 100% ▕▏  485 B                         \n",
      "verifying sha256 digest ⠏ \u001b[?25h\u001b[?25l\u001b[2K\u001b[1G\u001b[A\u001b[2K\u001b[1G\u001b[A\u001b[2K\u001b[1G\u001b[A\u001b[2K\u001b[1G\u001b[A\u001b[2K\u001b[1G\u001b[A\u001b[2K\u001b[1G\u001b[A\u001b[2K\u001b[1Gpulling manifest \n",
      "pulling 8eeb52dfb3bb... 100% ▕▏ 4.7 GB                         \n",
      "pulling 73b313b5552d... 100% ▕▏ 1.4 KB                         \n",
      "pulling 0ba8f0e314b4... 100% ▕▏  12 KB                         \n",
      "pulling 56bb8bd477a5... 100% ▕▏   96 B                         \n",
      "pulling 1a4c3c319823... 100% ▕▏  485 B                         \n",
      "verifying sha256 digest ⠋ \u001b[?25h\u001b[?25l\u001b[2K\u001b[1G\u001b[A\u001b[2K\u001b[1G\u001b[A\u001b[2K\u001b[1G\u001b[A\u001b[2K\u001b[1G\u001b[A\u001b[2K\u001b[1G\u001b[A\u001b[2K\u001b[1G\u001b[A\u001b[2K\u001b[1Gpulling manifest \n",
      "pulling 8eeb52dfb3bb... 100% ▕▏ 4.7 GB                         \n",
      "pulling 73b313b5552d... 100% ▕▏ 1.4 KB                         \n",
      "pulling 0ba8f0e314b4... 100% ▕▏  12 KB                         \n",
      "pulling 56bb8bd477a5... 100% ▕▏   96 B                         \n",
      "pulling 1a4c3c319823... 100% ▕▏  485 B                         \n",
      "verifying sha256 digest ⠙ \u001b[?25h\u001b[?25l\u001b[2K\u001b[1G\u001b[A\u001b[2K\u001b[1G\u001b[A\u001b[2K\u001b[1G\u001b[A\u001b[2K\u001b[1G\u001b[A\u001b[2K\u001b[1G\u001b[A\u001b[2K\u001b[1G\u001b[A\u001b[2K\u001b[1Gpulling manifest \n",
      "pulling 8eeb52dfb3bb... 100% ▕▏ 4.7 GB                         \n",
      "pulling 73b313b5552d... 100% ▕▏ 1.4 KB                         \n",
      "pulling 0ba8f0e314b4... 100% ▕▏  12 KB                         \n",
      "pulling 56bb8bd477a5... 100% ▕▏   96 B                         \n",
      "pulling 1a4c3c319823... 100% ▕▏  485 B                         \n",
      "verifying sha256 digest ⠹ \u001b[?25h\u001b[?25l\u001b[2K\u001b[1G\u001b[A\u001b[2K\u001b[1G\u001b[A\u001b[2K\u001b[1G\u001b[A\u001b[2K\u001b[1G\u001b[A\u001b[2K\u001b[1G\u001b[A\u001b[2K\u001b[1G\u001b[A\u001b[2K\u001b[1Gpulling manifest \n",
      "pulling 8eeb52dfb3bb... 100% ▕▏ 4.7 GB                         \n",
      "pulling 73b313b5552d... 100% ▕▏ 1.4 KB                         \n",
      "pulling 0ba8f0e314b4... 100% ▕▏  12 KB                         \n",
      "pulling 56bb8bd477a5... 100% ▕▏   96 B                         \n",
      "pulling 1a4c3c319823... 100% ▕▏  485 B                         \n",
      "verifying sha256 digest ⠸ \u001b[?25h\u001b[?25l\u001b[2K\u001b[1G\u001b[A\u001b[2K\u001b[1G\u001b[A\u001b[2K\u001b[1G\u001b[A\u001b[2K\u001b[1G\u001b[A\u001b[2K\u001b[1G\u001b[A\u001b[2K\u001b[1G\u001b[A\u001b[2K\u001b[1Gpulling manifest \n",
      "pulling 8eeb52dfb3bb... 100% ▕▏ 4.7 GB                         \n",
      "pulling 73b313b5552d... 100% ▕▏ 1.4 KB                         \n",
      "pulling 0ba8f0e314b4... 100% ▕▏  12 KB                         \n",
      "pulling 56bb8bd477a5... 100% ▕▏   96 B                         \n",
      "pulling 1a4c3c319823... 100% ▕▏  485 B                         \n",
      "verifying sha256 digest ⠼ \u001b[?25h\u001b[?25l\u001b[2K\u001b[1G\u001b[A\u001b[2K\u001b[1G\u001b[A\u001b[2K\u001b[1G\u001b[A\u001b[2K\u001b[1G\u001b[A\u001b[2K\u001b[1G\u001b[A\u001b[2K\u001b[1G\u001b[A\u001b[2K\u001b[1Gpulling manifest \n",
      "pulling 8eeb52dfb3bb... 100% ▕▏ 4.7 GB                         \n",
      "pulling 73b313b5552d... 100% ▕▏ 1.4 KB                         \n",
      "pulling 0ba8f0e314b4... 100% ▕▏  12 KB                         \n",
      "pulling 56bb8bd477a5... 100% ▕▏   96 B                         \n",
      "pulling 1a4c3c319823... 100% ▕▏  485 B                         \n",
      "verifying sha256 digest ⠴ \u001b[?25h\u001b[?25l\u001b[2K\u001b[1G\u001b[A\u001b[2K\u001b[1G\u001b[A\u001b[2K\u001b[1G\u001b[A\u001b[2K\u001b[1G\u001b[A\u001b[2K\u001b[1G\u001b[A\u001b[2K\u001b[1G\u001b[A\u001b[2K\u001b[1Gpulling manifest \n",
      "pulling 8eeb52dfb3bb... 100% ▕▏ 4.7 GB                         \n",
      "pulling 73b313b5552d... 100% ▕▏ 1.4 KB                         \n",
      "pulling 0ba8f0e314b4... 100% ▕▏  12 KB                         \n",
      "pulling 56bb8bd477a5... 100% ▕▏   96 B                         \n",
      "pulling 1a4c3c319823... 100% ▕▏  485 B                         \n",
      "verifying sha256 digest ⠦ \u001b[?25h\u001b[?25l\u001b[2K\u001b[1G\u001b[A\u001b[2K\u001b[1G\u001b[A\u001b[2K\u001b[1G\u001b[A\u001b[2K\u001b[1G\u001b[A\u001b[2K\u001b[1G\u001b[A\u001b[2K\u001b[1G\u001b[A\u001b[2K\u001b[1Gpulling manifest \n",
      "pulling 8eeb52dfb3bb... 100% ▕▏ 4.7 GB                         \n",
      "pulling 73b313b5552d... 100% ▕▏ 1.4 KB                         \n",
      "pulling 0ba8f0e314b4... 100% ▕▏  12 KB                         \n",
      "pulling 56bb8bd477a5... 100% ▕▏   96 B                         \n",
      "pulling 1a4c3c319823... 100% ▕▏  485 B                         \n",
      "verifying sha256 digest ⠧ \u001b[?25h\u001b[?25l\u001b[2K\u001b[1G\u001b[A\u001b[2K\u001b[1G\u001b[A\u001b[2K\u001b[1G\u001b[A\u001b[2K\u001b[1G\u001b[A\u001b[2K\u001b[1G\u001b[A\u001b[2K\u001b[1G\u001b[A\u001b[2K\u001b[1Gpulling manifest \n",
      "pulling 8eeb52dfb3bb... 100% ▕▏ 4.7 GB                         \n",
      "pulling 73b313b5552d... 100% ▕▏ 1.4 KB                         \n",
      "pulling 0ba8f0e314b4... 100% ▕▏  12 KB                         \n",
      "pulling 56bb8bd477a5... 100% ▕▏   96 B                         \n",
      "pulling 1a4c3c319823... 100% ▕▏  485 B                         \n",
      "verifying sha256 digest ⠇ \u001b[?25h\u001b[?25l\u001b[2K\u001b[1G\u001b[A\u001b[2K\u001b[1G\u001b[A\u001b[2K\u001b[1G\u001b[A\u001b[2K\u001b[1G\u001b[A\u001b[2K\u001b[1G\u001b[A\u001b[2K\u001b[1G\u001b[A\u001b[2K\u001b[1Gpulling manifest \n",
      "pulling 8eeb52dfb3bb... 100% ▕▏ 4.7 GB                         \n",
      "pulling 73b313b5552d... 100% ▕▏ 1.4 KB                         \n",
      "pulling 0ba8f0e314b4... 100% ▕▏  12 KB                         \n",
      "pulling 56bb8bd477a5... 100% ▕▏   96 B                         \n",
      "pulling 1a4c3c319823... 100% ▕▏  485 B                         \n",
      "verifying sha256 digest ⠏ \u001b[?25h\u001b[?25l\u001b[2K\u001b[1G\u001b[A\u001b[2K\u001b[1G\u001b[A\u001b[2K\u001b[1G\u001b[A\u001b[2K\u001b[1G\u001b[A\u001b[2K\u001b[1G\u001b[A\u001b[2K\u001b[1G\u001b[A\u001b[2K\u001b[1Gpulling manifest \n",
      "pulling 8eeb52dfb3bb... 100% ▕▏ 4.7 GB                         \n",
      "pulling 73b313b5552d... 100% ▕▏ 1.4 KB                         \n",
      "pulling 0ba8f0e314b4... 100% ▕▏  12 KB                         \n",
      "pulling 56bb8bd477a5... 100% ▕▏   96 B                         \n",
      "pulling 1a4c3c319823... 100% ▕▏  485 B                         \n",
      "verifying sha256 digest ⠋ \u001b[?25h\u001b[?25l\u001b[2K\u001b[1G\u001b[A\u001b[2K\u001b[1G\u001b[A\u001b[2K\u001b[1G\u001b[A\u001b[2K\u001b[1G\u001b[A\u001b[2K\u001b[1G\u001b[A\u001b[2K\u001b[1G\u001b[A\u001b[2K\u001b[1Gpulling manifest \n",
      "pulling 8eeb52dfb3bb... 100% ▕▏ 4.7 GB                         \n",
      "pulling 73b313b5552d... 100% ▕▏ 1.4 KB                         \n",
      "pulling 0ba8f0e314b4... 100% ▕▏  12 KB                         \n",
      "pulling 56bb8bd477a5... 100% ▕▏   96 B                         \n",
      "pulling 1a4c3c319823... 100% ▕▏  485 B                         \n",
      "verifying sha256 digest ⠙ \u001b[?25h\u001b[?25l\u001b[2K\u001b[1G\u001b[A\u001b[2K\u001b[1G\u001b[A\u001b[2K\u001b[1G\u001b[A\u001b[2K\u001b[1G\u001b[A\u001b[2K\u001b[1G\u001b[A\u001b[2K\u001b[1G\u001b[A\u001b[2K\u001b[1Gpulling manifest \n",
      "pulling 8eeb52dfb3bb... 100% ▕▏ 4.7 GB                         \n",
      "pulling 73b313b5552d... 100% ▕▏ 1.4 KB                         \n",
      "pulling 0ba8f0e314b4... 100% ▕▏  12 KB                         \n",
      "pulling 56bb8bd477a5... 100% ▕▏   96 B                         \n",
      "pulling 1a4c3c319823... 100% ▕▏  485 B                         \n",
      "verifying sha256 digest ⠹ \u001b[?25h\u001b[?25l\u001b[2K\u001b[1G\u001b[A\u001b[2K\u001b[1G\u001b[A\u001b[2K\u001b[1G\u001b[A\u001b[2K\u001b[1G\u001b[A\u001b[2K\u001b[1G\u001b[A\u001b[2K\u001b[1G\u001b[A\u001b[2K\u001b[1Gpulling manifest \n",
      "pulling 8eeb52dfb3bb... 100% ▕▏ 4.7 GB                         \n",
      "pulling 73b313b5552d... 100% ▕▏ 1.4 KB                         \n",
      "pulling 0ba8f0e314b4... 100% ▕▏  12 KB                         \n",
      "pulling 56bb8bd477a5... 100% ▕▏   96 B                         \n",
      "pulling 1a4c3c319823... 100% ▕▏  485 B                         \n",
      "verifying sha256 digest ⠸ \u001b[?25h\u001b[?25l\u001b[2K\u001b[1G\u001b[A\u001b[2K\u001b[1G\u001b[A\u001b[2K\u001b[1G\u001b[A\u001b[2K\u001b[1G\u001b[A\u001b[2K\u001b[1G\u001b[A\u001b[2K\u001b[1G\u001b[A\u001b[2K\u001b[1Gpulling manifest \n",
      "pulling 8eeb52dfb3bb... 100% ▕▏ 4.7 GB                         \n",
      "pulling 73b313b5552d... 100% ▕▏ 1.4 KB                         \n",
      "pulling 0ba8f0e314b4... 100% ▕▏  12 KB                         \n",
      "pulling 56bb8bd477a5... 100% ▕▏   96 B                         \n",
      "pulling 1a4c3c319823... 100% ▕▏  485 B                         \n",
      "verifying sha256 digest ⠼ \u001b[?25h\u001b[?25l\u001b[2K\u001b[1G\u001b[A\u001b[2K\u001b[1G\u001b[A\u001b[2K\u001b[1G\u001b[A\u001b[2K\u001b[1G\u001b[A\u001b[2K\u001b[1G\u001b[A\u001b[2K\u001b[1G\u001b[A\u001b[2K\u001b[1Gpulling manifest \n",
      "pulling 8eeb52dfb3bb... 100% ▕▏ 4.7 GB                         \n",
      "pulling 73b313b5552d... 100% ▕▏ 1.4 KB                         \n",
      "pulling 0ba8f0e314b4... 100% ▕▏  12 KB                         \n",
      "pulling 56bb8bd477a5... 100% ▕▏   96 B                         \n",
      "pulling 1a4c3c319823... 100% ▕▏  485 B                         \n",
      "verifying sha256 digest ⠴ \u001b[?25h\u001b[?25l\u001b[2K\u001b[1G\u001b[A\u001b[2K\u001b[1G\u001b[A\u001b[2K\u001b[1G\u001b[A\u001b[2K\u001b[1G\u001b[A\u001b[2K\u001b[1G\u001b[A\u001b[2K\u001b[1G\u001b[A\u001b[2K\u001b[1Gpulling manifest \n",
      "pulling 8eeb52dfb3bb... 100% ▕▏ 4.7 GB                         \n",
      "pulling 73b313b5552d... 100% ▕▏ 1.4 KB                         \n",
      "pulling 0ba8f0e314b4... 100% ▕▏  12 KB                         \n",
      "pulling 56bb8bd477a5... 100% ▕▏   96 B                         \n",
      "pulling 1a4c3c319823... 100% ▕▏  485 B                         \n",
      "verifying sha256 digest ⠦ \u001b[?25h\u001b[?25l\u001b[2K\u001b[1G\u001b[A\u001b[2K\u001b[1G\u001b[A\u001b[2K\u001b[1G\u001b[A\u001b[2K\u001b[1G\u001b[A\u001b[2K\u001b[1G\u001b[A\u001b[2K\u001b[1G\u001b[A\u001b[2K\u001b[1Gpulling manifest \n",
      "pulling 8eeb52dfb3bb... 100% ▕▏ 4.7 GB                         \n",
      "pulling 73b313b5552d... 100% ▕▏ 1.4 KB                         \n",
      "pulling 0ba8f0e314b4... 100% ▕▏  12 KB                         \n",
      "pulling 56bb8bd477a5... 100% ▕▏   96 B                         \n",
      "pulling 1a4c3c319823... 100% ▕▏  485 B                         \n",
      "verifying sha256 digest ⠧ \u001b[?25h\u001b[?25l\u001b[2K\u001b[1G\u001b[A\u001b[2K\u001b[1G\u001b[A\u001b[2K\u001b[1G\u001b[A\u001b[2K\u001b[1G\u001b[A\u001b[2K\u001b[1G\u001b[A\u001b[2K\u001b[1G\u001b[A\u001b[2K\u001b[1Gpulling manifest \n",
      "pulling 8eeb52dfb3bb... 100% ▕▏ 4.7 GB                         \n",
      "pulling 73b313b5552d... 100% ▕▏ 1.4 KB                         \n",
      "pulling 0ba8f0e314b4... 100% ▕▏  12 KB                         \n",
      "pulling 56bb8bd477a5... 100% ▕▏   96 B                         \n",
      "pulling 1a4c3c319823... 100% ▕▏  485 B                         \n",
      "verifying sha256 digest ⠇ \u001b[?25h\u001b[?25l\u001b[2K\u001b[1G\u001b[A\u001b[2K\u001b[1G\u001b[A\u001b[2K\u001b[1G\u001b[A\u001b[2K\u001b[1G\u001b[A\u001b[2K\u001b[1G\u001b[A\u001b[2K\u001b[1G\u001b[A\u001b[2K\u001b[1Gpulling manifest \n",
      "pulling 8eeb52dfb3bb... 100% ▕▏ 4.7 GB                         \n",
      "pulling 73b313b5552d... 100% ▕▏ 1.4 KB                         \n",
      "pulling 0ba8f0e314b4... 100% ▕▏  12 KB                         \n",
      "pulling 56bb8bd477a5... 100% ▕▏   96 B                         \n",
      "pulling 1a4c3c319823... 100% ▕▏  485 B                         \n",
      "verifying sha256 digest ⠏ \u001b[?25h\u001b[?25l\u001b[2K\u001b[1G\u001b[A\u001b[2K\u001b[1G\u001b[A\u001b[2K\u001b[1G\u001b[A\u001b[2K\u001b[1G\u001b[A\u001b[2K\u001b[1G\u001b[A\u001b[2K\u001b[1G\u001b[A\u001b[2K\u001b[1Gpulling manifest \n",
      "pulling 8eeb52dfb3bb... 100% ▕▏ 4.7 GB                         \n",
      "pulling 73b313b5552d... 100% ▕▏ 1.4 KB                         \n",
      "pulling 0ba8f0e314b4... 100% ▕▏  12 KB                         \n",
      "pulling 56bb8bd477a5... 100% ▕▏   96 B                         \n",
      "pulling 1a4c3c319823... 100% ▕▏  485 B                         \n",
      "verifying sha256 digest ⠋ \u001b[?25h\u001b[?25l\u001b[2K\u001b[1G\u001b[A\u001b[2K\u001b[1G\u001b[A\u001b[2K\u001b[1G\u001b[A\u001b[2K\u001b[1G\u001b[A\u001b[2K\u001b[1G\u001b[A\u001b[2K\u001b[1G\u001b[A\u001b[2K\u001b[1Gpulling manifest \n",
      "pulling 8eeb52dfb3bb... 100% ▕▏ 4.7 GB                         \n",
      "pulling 73b313b5552d... 100% ▕▏ 1.4 KB                         \n",
      "pulling 0ba8f0e314b4... 100% ▕▏  12 KB                         \n",
      "pulling 56bb8bd477a5... 100% ▕▏   96 B                         \n",
      "pulling 1a4c3c319823... 100% ▕▏  485 B                         \n",
      "verifying sha256 digest ⠙ \u001b[?25h\u001b[?25l\u001b[2K\u001b[1G\u001b[A\u001b[2K\u001b[1G\u001b[A\u001b[2K\u001b[1G\u001b[A\u001b[2K\u001b[1G\u001b[A\u001b[2K\u001b[1G\u001b[A\u001b[2K\u001b[1G\u001b[A\u001b[2K\u001b[1Gpulling manifest \n",
      "pulling 8eeb52dfb3bb... 100% ▕▏ 4.7 GB                         \n",
      "pulling 73b313b5552d... 100% ▕▏ 1.4 KB                         \n",
      "pulling 0ba8f0e314b4... 100% ▕▏  12 KB                         \n",
      "pulling 56bb8bd477a5... 100% ▕▏   96 B                         \n",
      "pulling 1a4c3c319823... 100% ▕▏  485 B                         \n",
      "verifying sha256 digest \n",
      "writing manifest \n",
      "success \u001b[?25h\n"
     ]
    }
   ],
   "source": [
    "!curl -fsSL https://ollama.com/install.sh | sh\n",
    "!ollama serve > server.log 2>&1 &\n",
    "!ollama pull nomic-embed-text\n",
    "!ollama pull llama3.1"
   ]
  },
  {
   "cell_type": "code",
   "execution_count": null,
   "id": "de043a8a-7587-4615-b051-ba821be34e53",
   "metadata": {
    "colab": {
     "base_uri": "https://localhost:8080/"
    },
    "id": "de043a8a-7587-4615-b051-ba821be34e53",
    "outputId": "26800b42-923f-4b79-ace3-ea0f7458388a"
   },
   "outputs": [
    {
     "name": "stdout",
     "output_type": "stream",
     "text": [
      "\u001b[2K   \u001b[90m━━━━━━━━━━━━━━━━━━━━━━━━━━━━━━━━━━━━━━━━\u001b[0m \u001b[32m294.6/294.6 kB\u001b[0m \u001b[31m5.7 MB/s\u001b[0m eta \u001b[36m0:00:00\u001b[0ma \u001b[36m0:00:01\u001b[0m\n",
      "\u001b[?25h\u001b[31mERROR: pip's dependency resolver does not currently take into account all the packages that are installed. This behaviour is the source of the following dependency conflicts.\n",
      "tensorflow-metadata 1.15.0 requires protobuf<4.21,>=3.20.3; python_version < \"3.11\", but you have protobuf 4.25.4 which is incompatible.\u001b[0m\u001b[31m\n",
      "\u001b[2K     \u001b[90m━━━━━━━━━━━━━━━━━━━━━━━━━━━━━━━━━━━━━━━━\u001b[0m \u001b[32m67.3/67.3 kB\u001b[0m \u001b[31m4.5 MB/s\u001b[0m eta \u001b[36m0:00:00\u001b[0m\n",
      "\u001b[?25h  Installing build dependencies ... \u001b[?25l\u001b[?25hdone\n",
      "  Getting requirements to build wheel ... \u001b[?25l\u001b[?25hdone\n",
      "  Preparing metadata (pyproject.toml) ... \u001b[?25l\u001b[?25hdone\n",
      "\u001b[2K     \u001b[90m━━━━━━━━━━━━━━━━━━━━━━━━━━━━━━━━━━━━━━━━\u001b[0m \u001b[32m50.4/50.4 kB\u001b[0m \u001b[31m3.7 MB/s\u001b[0m eta \u001b[36m0:00:00\u001b[0m\n",
      "\u001b[2K   \u001b[90m━━━━━━━━━━━━━━━━━━━━━━━━━━━━━━━━━━━━━━━━\u001b[0m \u001b[32m525.5/525.5 kB\u001b[0m \u001b[31m17.4 MB/s\u001b[0m eta \u001b[36m0:00:00\u001b[0m\n",
      "\u001b[2K   \u001b[90m━━━━━━━━━━━━━━━━━━━━━━━━━━━━━━━━━━━━━━━━\u001b[0m \u001b[32m2.4/2.4 MB\u001b[0m \u001b[31m60.7 MB/s\u001b[0m eta \u001b[36m0:00:00\u001b[0m\n",
      "\u001b[2K   \u001b[90m━━━━━━━━━━━━━━━━━━━━━━━━━━━━━━━━━━━━━━━━\u001b[0m \u001b[32m273.8/273.8 kB\u001b[0m \u001b[31m22.3 MB/s\u001b[0m eta \u001b[36m0:00:00\u001b[0m\n",
      "\u001b[2K   \u001b[90m━━━━━━━━━━━━━━━━━━━━━━━━━━━━━━━━━━━━━━━━\u001b[0m \u001b[32m93.5/93.5 kB\u001b[0m \u001b[31m8.5 MB/s\u001b[0m eta \u001b[36m0:00:00\u001b[0m\n",
      "\u001b[2K   \u001b[90m━━━━━━━━━━━━━━━━━━━━━━━━━━━━━━━━━━━━━━━━\u001b[0m \u001b[32m1.7/1.7 MB\u001b[0m \u001b[31m76.2 MB/s\u001b[0m eta \u001b[36m0:00:00\u001b[0m\n",
      "\u001b[2K   \u001b[90m━━━━━━━━━━━━━━━━━━━━━━━━━━━━━━━━━━━━━━━━\u001b[0m \u001b[32m67.6/67.6 kB\u001b[0m \u001b[31m5.7 MB/s\u001b[0m eta \u001b[36m0:00:00\u001b[0m\n",
      "\u001b[2K   \u001b[90m━━━━━━━━━━━━━━━━━━━━━━━━━━━━━━━━━━━━━━━━\u001b[0m \u001b[32m13.2/13.2 MB\u001b[0m \u001b[31m97.3 MB/s\u001b[0m eta \u001b[36m0:00:00\u001b[0m\n",
      "\u001b[2K   \u001b[90m━━━━━━━━━━━━━━━━━━━━━━━━━━━━━━━━━━━━━━━━\u001b[0m \u001b[32m61.5/61.5 kB\u001b[0m \u001b[31m5.1 MB/s\u001b[0m eta \u001b[36m0:00:00\u001b[0m\n",
      "\u001b[2K   \u001b[90m━━━━━━━━━━━━━━━━━━━━━━━━━━━━━━━━━━━━━━━━\u001b[0m \u001b[32m52.5/52.5 kB\u001b[0m \u001b[31m4.2 MB/s\u001b[0m eta \u001b[36m0:00:00\u001b[0m\n",
      "\u001b[2K   \u001b[90m━━━━━━━━━━━━━━━━━━━━━━━━━━━━━━━━━━━━━━━━\u001b[0m \u001b[32m138.0/138.0 kB\u001b[0m \u001b[31m12.6 MB/s\u001b[0m eta \u001b[36m0:00:00\u001b[0m\n",
      "\u001b[2K   \u001b[90m━━━━━━━━━━━━━━━━━━━━━━━━━━━━━━━━━━━━━━━━\u001b[0m \u001b[32m109.5/109.5 kB\u001b[0m \u001b[31m9.3 MB/s\u001b[0m eta \u001b[36m0:00:00\u001b[0m\n",
      "\u001b[2K   \u001b[90m━━━━━━━━━━━━━━━━━━━━━━━━━━━━━━━━━━━━━━━━\u001b[0m \u001b[32m141.9/141.9 kB\u001b[0m \u001b[31m13.0 MB/s\u001b[0m eta \u001b[36m0:00:00\u001b[0m\n",
      "\u001b[2K   \u001b[90m━━━━━━━━━━━━━━━━━━━━━━━━━━━━━━━━━━━━━━━━\u001b[0m \u001b[32m50.6/50.6 kB\u001b[0m \u001b[31m4.2 MB/s\u001b[0m eta \u001b[36m0:00:00\u001b[0m\n",
      "\u001b[2K   \u001b[90m━━━━━━━━━━━━━━━━━━━━━━━━━━━━━━━━━━━━━━━━\u001b[0m \u001b[32m5.4/5.4 MB\u001b[0m \u001b[31m103.4 MB/s\u001b[0m eta \u001b[36m0:00:00\u001b[0m\n",
      "\u001b[2K   \u001b[90m━━━━━━━━━━━━━━━━━━━━━━━━━━━━━━━━━━━━━━━━\u001b[0m \u001b[32m62.8/62.8 kB\u001b[0m \u001b[31m5.4 MB/s\u001b[0m eta \u001b[36m0:00:00\u001b[0m\n",
      "\u001b[2K   \u001b[90m━━━━━━━━━━━━━━━━━━━━━━━━━━━━━━━━━━━━━━━━\u001b[0m \u001b[32m58.3/58.3 kB\u001b[0m \u001b[31m4.7 MB/s\u001b[0m eta \u001b[36m0:00:00\u001b[0m\n",
      "\u001b[2K   \u001b[90m━━━━━━━━━━━━━━━━━━━━━━━━━━━━━━━━━━━━━━━━\u001b[0m \u001b[32m341.4/341.4 kB\u001b[0m \u001b[31m28.0 MB/s\u001b[0m eta \u001b[36m0:00:00\u001b[0m\n",
      "\u001b[2K   \u001b[90m━━━━━━━━━━━━━━━━━━━━━━━━━━━━━━━━━━━━━━━━\u001b[0m \u001b[32m72.0/72.0 kB\u001b[0m \u001b[31m5.0 MB/s\u001b[0m eta \u001b[36m0:00:00\u001b[0m\n",
      "\u001b[2K   \u001b[90m━━━━━━━━━━━━━━━━━━━━━━━━━━━━━━━━━━━━━━━━\u001b[0m \u001b[32m3.4/3.4 MB\u001b[0m \u001b[31m89.6 MB/s\u001b[0m eta \u001b[36m0:00:00\u001b[0m\n",
      "\u001b[2K   \u001b[90m━━━━━━━━━━━━━━━━━━━━━━━━━━━━━━━━━━━━━━━━\u001b[0m \u001b[32m427.7/427.7 kB\u001b[0m \u001b[31m24.2 MB/s\u001b[0m eta \u001b[36m0:00:00\u001b[0m\n",
      "\u001b[2K   \u001b[90m━━━━━━━━━━━━━━━━━━━━━━━━━━━━━━━━━━━━━━━━\u001b[0m \u001b[32m157.2/157.2 kB\u001b[0m \u001b[31m14.5 MB/s\u001b[0m eta \u001b[36m0:00:00\u001b[0m\n",
      "\u001b[2K   \u001b[90m━━━━━━━━━━━━━━━━━━━━━━━━━━━━━━━━━━━━━━━━\u001b[0m \u001b[32m46.0/46.0 kB\u001b[0m \u001b[31m3.8 MB/s\u001b[0m eta \u001b[36m0:00:00\u001b[0m\n",
      "\u001b[2K   \u001b[90m━━━━━━━━━━━━━━━━━━━━━━━━━━━━━━━━━━━━━━━━\u001b[0m \u001b[32m86.8/86.8 kB\u001b[0m \u001b[31m7.8 MB/s\u001b[0m eta \u001b[36m0:00:00\u001b[0m\n",
      "\u001b[?25h  Building wheel for pypika (pyproject.toml) ... \u001b[?25l\u001b[?25hdone\n",
      "\u001b[2K   \u001b[90m━━━━━━━━━━━━━━━━━━━━━━━━━━━━━━━━━━━━━━━━\u001b[0m \u001b[32m15.9/15.9 MB\u001b[0m \u001b[31m73.1 MB/s\u001b[0m eta \u001b[36m0:00:00\u001b[0m\n",
      "\u001b[2K   \u001b[90m━━━━━━━━━━━━━━━━━━━━━━━━━━━━━━━━━━━━━━━━\u001b[0m \u001b[32m6.8/6.8 MB\u001b[0m \u001b[31m66.9 MB/s\u001b[0m eta \u001b[36m0:00:00\u001b[0m\n",
      "\u001b[2K   \u001b[90m━━━━━━━━━━━━━━━━━━━━━━━━━━━━━━━━━━━━━━━━\u001b[0m \u001b[32m192.1/192.1 MB\u001b[0m \u001b[31m6.2 MB/s\u001b[0m eta \u001b[36m0:00:00\u001b[0m\n",
      "\u001b[2K   \u001b[90m━━━━━━━━━━━━━━━━━━━━━━━━━━━━━━━━━━━━━━━━\u001b[0m \u001b[32m14.9/14.9 MB\u001b[0m \u001b[31m78.6 MB/s\u001b[0m eta \u001b[36m0:00:00\u001b[0m\n",
      "\u001b[2K   \u001b[90m━━━━━━━━━━━━━━━━━━━━━━━━━━━━━━━━━━━━━━━━\u001b[0m \u001b[32m908.3/908.3 kB\u001b[0m \u001b[31m41.3 MB/s\u001b[0m eta \u001b[36m0:00:00\u001b[0m\n",
      "\u001b[2K   \u001b[90m━━━━━━━━━━━━━━━━━━━━━━━━━━━━━━━━━━━━━━━━\u001b[0m \u001b[32m510.5/510.5 kB\u001b[0m \u001b[31m15.5 MB/s\u001b[0m eta \u001b[36m0:00:00\u001b[0m\n",
      "\u001b[2K   \u001b[90m━━━━━━━━━━━━━━━━━━━━━━━━━━━━━━━━━━━━━━━━\u001b[0m \u001b[32m116.3/116.3 kB\u001b[0m \u001b[31m9.8 MB/s\u001b[0m eta \u001b[36m0:00:00\u001b[0m\n",
      "\u001b[2K   \u001b[90m━━━━━━━━━━━━━━━━━━━━━━━━━━━━━━━━━━━━━━━━\u001b[0m \u001b[32m170.9/170.9 kB\u001b[0m \u001b[31m14.5 MB/s\u001b[0m eta \u001b[36m0:00:00\u001b[0m\n",
      "\u001b[2K   \u001b[90m━━━━━━━━━━━━━━━━━━━━━━━━━━━━━━━━━━━━━━━━\u001b[0m \u001b[32m134.8/134.8 kB\u001b[0m \u001b[31m11.8 MB/s\u001b[0m eta \u001b[36m0:00:00\u001b[0m\n",
      "\u001b[2K   \u001b[90m━━━━━━━━━━━━━━━━━━━━━━━━━━━━━━━━━━━━━━━━\u001b[0m \u001b[32m194.1/194.1 kB\u001b[0m \u001b[31m14.7 MB/s\u001b[0m eta \u001b[36m0:00:00\u001b[0m\n",
      "\u001b[?25h\u001b[31mERROR: pip's dependency resolver does not currently take into account all the packages that are installed. This behaviour is the source of the following dependency conflicts.\n",
      "gcsfs 2024.6.1 requires fsspec==2024.6.1, but you have fsspec 2024.2.0 which is incompatible.\u001b[0m\u001b[31m\n",
      "\u001b[2K   \u001b[90m━━━━━━━━━━━━━━━━━━━━━━━━━━━━━━━━━━━━━━━━\u001b[0m \u001b[32m1.5/1.5 MB\u001b[0m \u001b[31m26.7 MB/s\u001b[0m eta \u001b[36m0:00:00\u001b[0m\n",
      "\u001b[2K   \u001b[90m━━━━━━━━━━━━━━━━━━━━━━━━━━━━━━━━━━━━━━━━\u001b[0m \u001b[32m1.0/1.0 MB\u001b[0m \u001b[31m20.6 MB/s\u001b[0m eta \u001b[36m0:00:00\u001b[0m\n",
      "\u001b[2K   \u001b[90m━━━━━━━━━━━━━━━━━━━━━━━━━━━━━━━━━━━━━━━━\u001b[0m \u001b[32m394.9/394.9 kB\u001b[0m \u001b[31m27.2 MB/s\u001b[0m eta \u001b[36m0:00:00\u001b[0m\n",
      "\u001b[2K   \u001b[90m━━━━━━━━━━━━━━━━━━━━━━━━━━━━━━━━━━━━━━━━\u001b[0m \u001b[32m2.3/2.3 MB\u001b[0m \u001b[31m63.9 MB/s\u001b[0m eta \u001b[36m0:00:00\u001b[0m\n",
      "\u001b[2K   \u001b[90m━━━━━━━━━━━━━━━━━━━━━━━━━━━━━━━━━━━━━━━━\u001b[0m \u001b[32m150.6/150.6 kB\u001b[0m \u001b[31m12.6 MB/s\u001b[0m eta \u001b[36m0:00:00\u001b[0m\n",
      "\u001b[2K   \u001b[90m━━━━━━━━━━━━━━━━━━━━━━━━━━━━━━━━━━━━━━━━\u001b[0m \u001b[32m76.4/76.4 kB\u001b[0m \u001b[31m5.9 MB/s\u001b[0m eta \u001b[36m0:00:00\u001b[0m\n",
      "\u001b[2K   \u001b[90m━━━━━━━━━━━━━━━━━━━━━━━━━━━━━━━━━━━━━━━━\u001b[0m \u001b[32m77.9/77.9 kB\u001b[0m \u001b[31m6.4 MB/s\u001b[0m eta \u001b[36m0:00:00\u001b[0m\n",
      "\u001b[2K   \u001b[90m━━━━━━━━━━━━━━━━━━━━━━━━━━━━━━━━━━━━━━━━\u001b[0m \u001b[32m49.3/49.3 kB\u001b[0m \u001b[31m3.8 MB/s\u001b[0m eta \u001b[36m0:00:00\u001b[0m\n",
      "\u001b[2K   \u001b[90m━━━━━━━━━━━━━━━━━━━━━━━━━━━━━━━━━━━━━━━━\u001b[0m \u001b[32m1.2/1.2 MB\u001b[0m \u001b[31m25.0 MB/s\u001b[0m eta \u001b[36m0:00:00\u001b[0m\n",
      "\u001b[2K   \u001b[90m━━━━━━━━━━━━━━━━━━━━━━━━━━━━━━━━━━━━━━━━\u001b[0m \u001b[32m227.1/227.1 kB\u001b[0m \u001b[31m19.0 MB/s\u001b[0m eta \u001b[36m0:00:00\u001b[0m\n",
      "\u001b[2K     \u001b[90m━━━━━━━━━━━━━━━━━━━━━━━━━━━━━━━━━━━━━━━━\u001b[0m \u001b[32m981.5/981.5 kB\u001b[0m \u001b[31m19.2 MB/s\u001b[0m eta \u001b[36m0:00:00\u001b[0m\n",
      "\u001b[?25h  Preparing metadata (setup.py) ... \u001b[?25l\u001b[?25hdone\n",
      "\u001b[2K     \u001b[90m━━━━━━━━━━━━━━━━━━━━━━━━━━━━━━━━━━━━━━━━\u001b[0m \u001b[32m42.4/42.4 kB\u001b[0m \u001b[31m3.3 MB/s\u001b[0m eta \u001b[36m0:00:00\u001b[0m\n",
      "\u001b[2K     \u001b[90m━━━━━━━━━━━━━━━━━━━━━━━━━━━━━━━━━━━━━━━━\u001b[0m \u001b[32m117.0/117.0 kB\u001b[0m \u001b[31m7.4 MB/s\u001b[0m eta \u001b[36m0:00:00\u001b[0m\n",
      "\u001b[?25h  Preparing metadata (setup.py) ... \u001b[?25l\u001b[?25hdone\n",
      "\u001b[2K     \u001b[90m━━━━━━━━━━━━━━━━━━━━━━━━━━━━━━━━━━━━━━━━\u001b[0m \u001b[32m42.2/42.2 kB\u001b[0m \u001b[31m3.0 MB/s\u001b[0m eta \u001b[36m0:00:00\u001b[0m\n",
      "\u001b[?25h  Preparing metadata (setup.py) ... \u001b[?25l\u001b[?25hdone\n",
      "\u001b[2K     \u001b[90m━━━━━━━━━━━━━━━━━━━━━━━━━━━━━━━━━━━━━━━━\u001b[0m \u001b[32m42.0/42.0 kB\u001b[0m \u001b[31m3.2 MB/s\u001b[0m eta \u001b[36m0:00:00\u001b[0m\n",
      "\u001b[2K     \u001b[90m━━━━━━━━━━━━━━━━━━━━━━━━━━━━━━━━━━━━━━━━\u001b[0m \u001b[32m48.5/48.5 kB\u001b[0m \u001b[31m3.7 MB/s\u001b[0m eta \u001b[36m0:00:00\u001b[0m\n",
      "\u001b[2K   \u001b[90m━━━━━━━━━━━━━━━━━━━━━━━━━━━━━━━━━━━━━━━━\u001b[0m \u001b[32m41.9/41.9 kB\u001b[0m \u001b[31m3.4 MB/s\u001b[0m eta \u001b[36m0:00:00\u001b[0m\n",
      "\u001b[2K   \u001b[90m━━━━━━━━━━━━━━━━━━━━━━━━━━━━━━━━━━━━━━━━\u001b[0m \u001b[32m2.1/2.1 MB\u001b[0m \u001b[31m66.3 MB/s\u001b[0m eta \u001b[36m0:00:00\u001b[0m\n",
      "\u001b[2K   \u001b[90m━━━━━━━━━━━━━━━━━━━━━━━━━━━━━━━━━━━━━━━━\u001b[0m \u001b[32m56.4/56.4 kB\u001b[0m \u001b[31m4.8 MB/s\u001b[0m eta \u001b[36m0:00:00\u001b[0m\n",
      "\u001b[2K   \u001b[90m━━━━━━━━━━━━━━━━━━━━━━━━━━━━━━━━━━━━━━━━\u001b[0m \u001b[32m5.0/5.0 MB\u001b[0m \u001b[31m80.8 MB/s\u001b[0m eta \u001b[36m0:00:00\u001b[0m\n",
      "\u001b[2K   \u001b[90m━━━━━━━━━━━━━━━━━━━━━━━━━━━━━━━━━━━━━━━━\u001b[0m \u001b[32m295.8/295.8 kB\u001b[0m \u001b[31m19.0 MB/s\u001b[0m eta \u001b[36m0:00:00\u001b[0m\n",
      "\u001b[2K   \u001b[90m━━━━━━━━━━━━━━━━━━━━━━━━━━━━━━━━━━━━━━━━\u001b[0m \u001b[32m3.5/3.5 MB\u001b[0m \u001b[31m71.3 MB/s\u001b[0m eta \u001b[36m0:00:00\u001b[0m\n",
      "\u001b[2K   \u001b[90m━━━━━━━━━━━━━━━━━━━━━━━━━━━━━━━━━━━━━━━━\u001b[0m \u001b[32m15.9/15.9 MB\u001b[0m \u001b[31m58.0 MB/s\u001b[0m eta \u001b[36m0:00:00\u001b[0m\n",
      "\u001b[2K   \u001b[90m━━━━━━━━━━━━━━━━━━━━━━━━━━━━━━━━━━━━━━━━\u001b[0m \u001b[32m82.7/82.7 kB\u001b[0m \u001b[31m7.8 MB/s\u001b[0m eta \u001b[36m0:00:00\u001b[0m\n",
      "\u001b[2K   \u001b[90m━━━━━━━━━━━━━━━━━━━━━━━━━━━━━━━━━━━━━━━━\u001b[0m \u001b[32m244.3/244.3 kB\u001b[0m \u001b[31m19.8 MB/s\u001b[0m eta \u001b[36m0:00:00\u001b[0m\n",
      "\u001b[2K   \u001b[90m━━━━━━━━━━━━━━━━━━━━━━━━━━━━━━━━━━━━━━━━\u001b[0m \u001b[32m472.8/472.8 kB\u001b[0m \u001b[31m30.6 MB/s\u001b[0m eta \u001b[36m0:00:00\u001b[0m\n",
      "\u001b[2K   \u001b[90m━━━━━━━━━━━━━━━━━━━━━━━━━━━━━━━━━━━━━━━━\u001b[0m \u001b[32m54.5/54.5 kB\u001b[0m \u001b[31m4.9 MB/s\u001b[0m eta \u001b[36m0:00:00\u001b[0m\n",
      "\u001b[2K   \u001b[90m━━━━━━━━━━━━━━━━━━━━━━━━━━━━━━━━━━━━━━━━\u001b[0m \u001b[32m112.5/112.5 kB\u001b[0m \u001b[31m9.4 MB/s\u001b[0m eta \u001b[36m0:00:00\u001b[0m\n",
      "\u001b[2K   \u001b[90m━━━━━━━━━━━━━━━━━━━━━━━━━━━━━━━━━━━━━━━━\u001b[0m \u001b[32m431.4/431.4 kB\u001b[0m \u001b[31m30.7 MB/s\u001b[0m eta \u001b[36m0:00:00\u001b[0m\n",
      "\u001b[2K   \u001b[90m━━━━━━━━━━━━━━━━━━━━━━━━━━━━━━━━━━━━━━━━\u001b[0m \u001b[32m467.5/467.5 kB\u001b[0m \u001b[31m30.4 MB/s\u001b[0m eta \u001b[36m0:00:00\u001b[0m\n",
      "\u001b[2K   \u001b[90m━━━━━━━━━━━━━━━━━━━━━━━━━━━━━━━━━━━━━━━━\u001b[0m \u001b[32m984.8/984.8 kB\u001b[0m \u001b[31m44.1 MB/s\u001b[0m eta \u001b[36m0:00:00\u001b[0m\n",
      "\u001b[2K   \u001b[90m━━━━━━━━━━━━━━━━━━━━━━━━━━━━━━━━━━━━━━━━\u001b[0m \u001b[32m2.4/2.4 MB\u001b[0m \u001b[31m66.3 MB/s\u001b[0m eta \u001b[36m0:00:00\u001b[0m\n",
      "\u001b[2K   \u001b[90m━━━━━━━━━━━━━━━━━━━━━━━━━━━━━━━━━━━━━━━━\u001b[0m \u001b[32m274.7/274.7 kB\u001b[0m \u001b[31m22.1 MB/s\u001b[0m eta \u001b[36m0:00:00\u001b[0m\n",
      "\u001b[2K   \u001b[90m━━━━━━━━━━━━━━━━━━━━━━━━━━━━━━━━━━━━━━━━\u001b[0m \u001b[32m3.4/3.4 MB\u001b[0m \u001b[31m80.4 MB/s\u001b[0m eta \u001b[36m0:00:00\u001b[0m\n",
      "\u001b[2K   \u001b[90m━━━━━━━━━━━━━━━━━━━━━━━━━━━━━━━━━━━━━━━━\u001b[0m \u001b[32m79.5/79.5 kB\u001b[0m \u001b[31m6.8 MB/s\u001b[0m eta \u001b[36m0:00:00\u001b[0m\n",
      "\u001b[2K   \u001b[90m━━━━━━━━━━━━━━━━━━━━━━━━━━━━━━━━━━━━━━━━\u001b[0m \u001b[32m4.5/4.5 MB\u001b[0m \u001b[31m71.1 MB/s\u001b[0m eta \u001b[36m0:00:00\u001b[0m\n",
      "\u001b[2K   \u001b[90m━━━━━━━━━━━━━━━━━━━━━━━━━━━━━━━━━━━━━━━━\u001b[0m \u001b[32m2.3/2.3 MB\u001b[0m \u001b[31m55.1 MB/s\u001b[0m eta \u001b[36m0:00:00\u001b[0m\n",
      "\u001b[2K   \u001b[90m━━━━━━━━━━━━━━━━━━━━━━━━━━━━━━━━━━━━━━━━\u001b[0m \u001b[32m159.9/159.9 kB\u001b[0m \u001b[31m13.7 MB/s\u001b[0m eta \u001b[36m0:00:00\u001b[0m\n",
      "\u001b[2K   \u001b[90m━━━━━━━━━━━━━━━━━━━━━━━━━━━━━━━━━━━━━━━━\u001b[0m \u001b[32m19.2/19.2 MB\u001b[0m \u001b[31m63.1 MB/s\u001b[0m eta \u001b[36m0:00:00\u001b[0m\n",
      "\u001b[2K   \u001b[90m━━━━━━━━━━━━━━━━━━━━━━━━━━━━━━━━━━━━━━━━\u001b[0m \u001b[32m114.6/114.6 kB\u001b[0m \u001b[31m9.6 MB/s\u001b[0m eta \u001b[36m0:00:00\u001b[0m\n",
      "\u001b[2K   \u001b[90m━━━━━━━━━━━━━━━━━━━━━━━━━━━━━━━━━━━━━━━━\u001b[0m \u001b[32m59.2/59.2 kB\u001b[0m \u001b[31m4.8 MB/s\u001b[0m eta \u001b[36m0:00:00\u001b[0m\n",
      "\u001b[2K   \u001b[90m━━━━━━━━━━━━━━━━━━━━━━━━━━━━━━━━━━━━━━━━\u001b[0m \u001b[32m5.6/5.6 MB\u001b[0m \u001b[31m73.0 MB/s\u001b[0m eta \u001b[36m0:00:00\u001b[0m\n",
      "\u001b[2K   \u001b[90m━━━━━━━━━━━━━━━━━━━━━━━━━━━━━━━━━━━━━━━━\u001b[0m \u001b[32m2.8/2.8 MB\u001b[0m \u001b[31m65.2 MB/s\u001b[0m eta \u001b[36m0:00:00\u001b[0m\n",
      "\u001b[?25h  Building wheel for langdetect (setup.py) ... \u001b[?25l\u001b[?25hdone\n",
      "  Building wheel for antlr4-python3-runtime (setup.py) ... \u001b[?25l\u001b[?25hdone\n",
      "  Building wheel for iopath (setup.py) ... \u001b[?25l\u001b[?25hdone\n",
      "\u001b[2K   \u001b[90m━━━━━━━━━━━━━━━━━━━━━━━━━━━━━━━━━━━━━━━━\u001b[0m \u001b[32m168.5/168.5 kB\u001b[0m \u001b[31m7.5 MB/s\u001b[0m eta \u001b[36m0:00:00\u001b[0m\n",
      "\u001b[2K   \u001b[90m━━━━━━━━━━━━━━━━━━━━━━━━━━━━━━━━━━━━━━━━\u001b[0m \u001b[32m362.9/362.9 kB\u001b[0m \u001b[31m19.7 MB/s\u001b[0m eta \u001b[36m0:00:00\u001b[0m\n",
      "\u001b[2K   \u001b[90m━━━━━━━━━━━━━━━━━━━━━━━━━━━━━━━━━━━━━━━━\u001b[0m \u001b[32m71.1/71.1 kB\u001b[0m \u001b[31m5.8 MB/s\u001b[0m eta \u001b[36m0:00:00\u001b[0m\n",
      "\u001b[2K   \u001b[90m━━━━━━━━━━━━━━━━━━━━━━━━━━━━━━━━━━━━━━━━\u001b[0m \u001b[32m52.0/52.0 kB\u001b[0m \u001b[31m3.9 MB/s\u001b[0m eta \u001b[36m0:00:00\u001b[0m\n",
      "\u001b[2K   \u001b[90m━━━━━━━━━━━━━━━━━━━━━━━━━━━━━━━━━━━━━━━━\u001b[0m \u001b[32m1.1/1.1 MB\u001b[0m \u001b[31m46.8 MB/s\u001b[0m eta \u001b[36m0:00:00\u001b[0m\n",
      "\u001b[2K   \u001b[90m━━━━━━━━━━━━━━━━━━━━━━━━━━━━━━━━━━━━━━━━\u001b[0m \u001b[32m318.9/318.9 kB\u001b[0m \u001b[31m18.8 MB/s\u001b[0m eta \u001b[36m0:00:00\u001b[0m\n",
      "\u001b[?25h"
     ]
    }
   ],
   "source": [
    "!pip install -q numpy==1.26.4\n",
    "!pip install -q protobuf==4.25.4\n",
    "!pip install -q chromadb==0.4.24\n",
    "!pip install -q onnx==1.16.1\n",
    "!pip install -q onnxruntime==1.17.1 onnxruntime-gpu==1.17.1\n",
    "!pip install -q rapidocr-onnxruntime\n",
    "!pip install -q datasets==2.18.0\n",
    "!pip install -q pytesseract\n",
    "!pip install -U -q nltk\n",
    "!pip install -U -q langchain langchain-core langchain-community\n",
    "!pip install -U -q langchain-chroma langchain-ollama langchain-huggingface langchainhub langserve langsmith\n",
    "!pip install -U -q langchain-unstructured unstructured-client unstructured \"unstructured[all-docs]\" python-magic pydantic lxml pypdf pymupdf\n",
    "!pip install -U -q ragas"
   ]
  },
  {
   "cell_type": "code",
   "execution_count": null,
   "id": "XoJkYdYkRgkq",
   "metadata": {
    "colab": {
     "base_uri": "https://localhost:8080/"
    },
    "id": "XoJkYdYkRgkq",
    "outputId": "0e2dcabf-3d03-4fc1-f7bc-2eac757637e1"
   },
   "outputs": [
    {
     "name": "stdout",
     "output_type": "stream",
     "text": [
      "--2024-08-28 14:31:04--  https://proceedings.neurips.cc/paper_files/paper/2017/file/3f5ee243547dee91fbd053c1c4a845aa-Paper.pdf\n",
      "Resolving proceedings.neurips.cc (proceedings.neurips.cc)... 198.202.70.94\n",
      "Connecting to proceedings.neurips.cc (proceedings.neurips.cc)|198.202.70.94|:443... connected.\n",
      "HTTP request sent, awaiting response... 200 OK\n",
      "Length: 569417 (556K) [application/pdf]\n",
      "Saving to: ‘Attention-is-all-you-need.pdf’\n",
      "\n",
      "Attention-is-all-yo 100%[===================>] 556.07K  --.-KB/s    in 0.1s    \n",
      "\n",
      "2024-08-28 14:31:05 (3.94 MB/s) - ‘Attention-is-all-you-need.pdf’ saved [569417/569417]\n",
      "\n"
     ]
    }
   ],
   "source": [
    "!wget -O Attention-is-all-you-need.pdf \"https://proceedings.neurips.cc/paper_files/paper/2017/file/3f5ee243547dee91fbd053c1c4a845aa-Paper.pdf\""
   ]
  },
  {
   "cell_type": "code",
   "execution_count": null,
   "id": "jvarsY2lUess",
   "metadata": {
    "colab": {
     "base_uri": "https://localhost:8080/"
    },
    "id": "jvarsY2lUess",
    "outputId": "4e423645-fb95-4d40-930f-ea58c099eb9d"
   },
   "outputs": [
    {
     "name": "stderr",
     "output_type": "stream",
     "text": [
      "[nltk_data] Downloading package punkt to /root/nltk_data...\n",
      "[nltk_data]   Unzipping tokenizers/punkt.zip.\n",
      "[nltk_data] Downloading package punkt_tab to /root/nltk_data...\n",
      "[nltk_data]   Unzipping tokenizers/punkt_tab.zip.\n"
     ]
    },
    {
     "data": {
      "text/plain": [
       "True"
      ]
     },
     "execution_count": 7,
     "metadata": {},
     "output_type": "execute_result"
    }
   ],
   "source": [
    "import nltk\n",
    "nltk.download('punkt')\n",
    "nltk.download('punkt_tab')"
   ]
  },
  {
   "cell_type": "markdown",
   "id": "dd0daa64-7114-4666-a329-320eba96105a",
   "metadata": {
    "id": "dd0daa64-7114-4666-a329-320eba96105a"
   },
   "source": [
    "### Table of Contents\n",
    "1. Data Preprocessing\n",
    "2. Retrieval Strategy\n",
    "3. Model Selection\n",
    "4. Evaluation Dataset Creation\n",
    "5. Evaluation\n",
    "6. Recommendation"
   ]
  },
  {
   "cell_type": "markdown",
   "id": "a8b0ef91-dcf5-4b0a-bd38-7774709a69df",
   "metadata": {
    "id": "a8b0ef91-dcf5-4b0a-bd38-7774709a69df"
   },
   "source": [
    "### 1. Data Preprocessing\n",
    "Here we are preparing the required libraries and load the PDF with `UnstructuredPDFLoader`"
   ]
  },
  {
   "cell_type": "markdown",
   "id": "ef37cd52-9ed5-4a62-8de0-5af07b1f476c",
   "metadata": {
    "id": "ef37cd52-9ed5-4a62-8de0-5af07b1f476c"
   },
   "source": [
    "<b>Import the required libraries</b><br>\n",
    "- Langchain: main library/tools for RAG\n",
    "- Chroma: for storing vector databases that generated from Embeddings\n",
    "- RecursiveCharacterSplitter: use the recursive text splitter for splitting documents\n",
    "- UnstructurdPDFLoader: for loading unstructured documents like PDFs.\n",
    "- ChatOllama: use open-source Ollama for Chat LLMs.\n",
    "- Ollama Embeddings: use open-source Ollama for Embeddings.\n",
    "- ChatPromptTemplate and PromptTemplate: template for inserting the prompts.\n",
    "- StrOutputParser: string output parsers.\n",
    "- RunnablePassthrough: runnable for passing the question inputs from the user.\n",
    "- MultiQueryRetriever: the main Retrieval method that we want to use."
   ]
  },
  {
   "cell_type": "code",
   "execution_count": null,
   "id": "c4b1237d-57d4-4094-a9d8-0cb9d764e68f",
   "metadata": {
    "id": "c4b1237d-57d4-4094-a9d8-0cb9d764e68f"
   },
   "outputs": [],
   "source": [
    "from langchain_core.messages import (\n",
    "    AIMessage,\n",
    "    HumanMessage,\n",
    "    SystemMessage\n",
    ")\n",
    "from langchain_text_splitters import RecursiveCharacterTextSplitter\n",
    "from langchain_community.document_loaders import UnstructuredPDFLoader\n",
    "from langchain_community.document_loaders import PyPDFLoader\n",
    "\n",
    "from langchain_chroma import Chroma\n",
    "from langchain_community.chat_models import ChatOllama\n",
    "from langchain_community.embeddings import OllamaEmbeddings\n",
    "from langchain.prompts import ChatPromptTemplate, PromptTemplate\n",
    "from langchain_core.output_parsers import StrOutputParser\n",
    "from langchain_core.runnables import RunnablePassthrough\n",
    "from langchain.retrievers.multi_query import MultiQueryRetriever"
   ]
  },
  {
   "cell_type": "markdown",
   "id": "bd741702-dcb4-4777-be44-a14283ceac18",
   "metadata": {
    "id": "bd741702-dcb4-4777-be44-a14283ceac18"
   },
   "source": [
    "<b>Load the document</b><br>\n",
    "Let's load the paper"
   ]
  },
  {
   "cell_type": "code",
   "execution_count": null,
   "id": "7aa31770-a569-4048-8a95-fb35b730ba77",
   "metadata": {
    "id": "7aa31770-a569-4048-8a95-fb35b730ba77",
    "tags": []
   },
   "outputs": [],
   "source": [
    "loader = UnstructuredPDFLoader('./Attention-is-all-you-need.pdf')\n",
    "data = loader.load()"
   ]
  },
  {
   "cell_type": "markdown",
   "id": "45537625-d24c-4637-9c53-7cd3fa719be5",
   "metadata": {
    "id": "45537625-d24c-4637-9c53-7cd3fa719be5"
   },
   "source": [
    "Display head of paper"
   ]
  },
  {
   "cell_type": "code",
   "execution_count": null,
   "id": "1be4beb0-4997-49ee-bfbd-74a4039d6fe8",
   "metadata": {
    "colab": {
     "base_uri": "https://localhost:8080/"
    },
    "id": "1be4beb0-4997-49ee-bfbd-74a4039d6fe8",
    "outputId": "67e8f23c-45db-48a4-c488-b7b3e87a5ee1",
    "tags": []
   },
   "outputs": [
    {
     "name": "stdout",
     "output_type": "stream",
     "text": [
      "Attention Is All You Need\n",
      "\n",
      "Ashish Vaswani∗ Google Brain avaswani@google.com\n",
      "\n",
      "Noam Shazeer∗ Google Brain noam@google.com\n",
      "\n",
      "Niki Parmar∗ Google Research nikip@google.com\n",
      "\n",
      "Jakob Uszkoreit∗ Google Research usz@google.com\n",
      "\n",
      "Llion Jones∗ Google Research llion@google.com\n",
      "\n",
      "Aidan N. Gomez∗ † University of Toronto aidan@cs.toronto.edu\n",
      "\n",
      "Łukasz Kaiser∗ Google Brain lukaszkaiser@google.com\n",
      "\n",
      "Illia Polosukhin∗ ‡ illia.polosukhin@gmail.com\n",
      "\n",
      "Abstract\n",
      "\n",
      "The dominant sequence transduction models are based on complex recurrent or convolutional neural networks that include an encoder and a decoder. The best performing models also connect the encoder and decoder through an attention mechanism. We propose a new simple network architecture, the Transformer, based solely on attention mechanisms, dispensing with recurrence and convolutions entirely. Experiments on two machine translation tasks show these models to be superior in quality while being more parallelizable and requiring signiﬁcantly less time to train.\n"
     ]
    }
   ],
   "source": [
    "print(data[0].page_content[:1000])"
   ]
  },
  {
   "cell_type": "markdown",
   "id": "4b95f8b1-1108-4c39-ad94-f6c7f2cfff67",
   "metadata": {
    "id": "4b95f8b1-1108-4c39-ad94-f6c7f2cfff67"
   },
   "source": [
    "<b>Splitting document</b>"
   ]
  },
  {
   "cell_type": "markdown",
   "id": "37bde021-fef8-4a77-80fe-0e43287ff14a",
   "metadata": {
    "id": "37bde021-fef8-4a77-80fe-0e43287ff14a"
   },
   "source": [
    "For Splitting documents, there is two known method from Langchain:\n",
    "- `CharacterTextSplitter`: This is a simpler method that splits the text based on a specified character, such as spaces or newlines.\n",
    "- `RecursiveCharacterTextSplitter`: This method is more advanced and versatile. It attempts to split the text using a series of separators in a hierarchical or recursive manner. For example, it might first try to split the text at paragraph breaks (\\n\\n), and if the resulting chunks are too large, it then tries to split by single newlines (\\n), and if necessary, by spaces, and finally by individual characters."
   ]
  },
  {
   "cell_type": "code",
   "execution_count": null,
   "id": "4df78aee-98ca-4636-b5d1-bf63e0543d75",
   "metadata": {
    "id": "4df78aee-98ca-4636-b5d1-bf63e0543d75",
    "tags": []
   },
   "outputs": [],
   "source": [
    "# Split and chunk\n",
    "text_splitter = RecursiveCharacterTextSplitter(chunk_size=1000, chunk_overlap=200)\n",
    "chunks = text_splitter.split_documents(data)"
   ]
  },
  {
   "cell_type": "markdown",
   "id": "dd30db3b-7494-4244-b180-9c053b7a7d40",
   "metadata": {
    "id": "dd30db3b-7494-4244-b180-9c053b7a7d40"
   },
   "source": [
    "### 2. Retrieval Strategy\n",
    "For Retrieval Strategy: here we will be using Dense Retrieval (Embedding Vectors) and `MultiQueryRetriever`, it can send multiple queries at one time and one prompt."
   ]
  },
  {
   "cell_type": "markdown",
   "id": "cb84bb07-2288-49fc-af9b-64f349af606a",
   "metadata": {
    "id": "cb84bb07-2288-49fc-af9b-64f349af606a"
   },
   "source": [
    "<b>Adding Vector Databases to ChromaDB</b><br>\n",
    "We will using `OllamaEmbeddings` with model: `nomic-embed-text`<br>(open-source Embedding model that claimed surpasses OpenAI `text-embedding-ada-002` and `text-embedding-3-small`, <a href=\"https://ollama.com/library/nomic-embed-text\">[source]</a>)\n",
    "<br>\n",
    "Then we need to store the Embedding vectors into Vector Database from ChromaDB"
   ]
  },
  {
   "cell_type": "code",
   "execution_count": null,
   "id": "5e5e371c-8de5-438e-9fbb-2f3f5c754b69",
   "metadata": {
    "colab": {
     "base_uri": "https://localhost:8080/"
    },
    "id": "5e5e371c-8de5-438e-9fbb-2f3f5c754b69",
    "outputId": "609a1278-2308-4318-85ca-a62d9e948c97",
    "tags": []
   },
   "outputs": [
    {
     "name": "stderr",
     "output_type": "stream",
     "text": [
      "OllamaEmbeddings: 100%|██████████| 42/42 [00:07<00:00,  5.77it/s]\n"
     ]
    }
   ],
   "source": [
    "# Add to vector database\n",
    "vector_db = Chroma.from_documents(\n",
    "    documents=chunks,\n",
    "    embedding=OllamaEmbeddings(model=\"nomic-embed-text\",show_progress=True),\n",
    "    collection_name=\"attention-paper-rag\",\n",
    "    persist_directory=\"./local-rag-attention\"\n",
    ")"
   ]
  },
  {
   "cell_type": "markdown",
   "id": "434a9d88-63a6-42f9-8b27-6afa00c25acc",
   "metadata": {
    "id": "434a9d88-63a6-42f9-8b27-6afa00c25acc"
   },
   "source": [
    "### 3. Model Selection\n",
    "Load the LLM Chat model, we will be using the latest Llama3.1: open-source LLM that improved from Llama3.<br>\n",
    "For detailed bechmarks and comparisons, here: https://blog.gopenai.com/llama-3-1-vs-llama-3-differences-d3d23e09607f\n",
    "\n",
    "Why use open-source LLMs? Well, there's several reasons:\n",
    "- Deployment can be local and anywhere\n",
    "- No need to pay or subscription services\n",
    "- Privacy matters, as open-source LLMs runs on local, privacy stays on local machine\n",
    "- Open-source models has worldwide contributions unlike closed-source is classified contributions\n",
    "- Open-source has massive support of community developers like HuggingFace, llama.cpp, Ollama, Langchain, etc."
   ]
  },
  {
   "cell_type": "code",
   "execution_count": null,
   "id": "b16d066a-7e06-4aa3-a554-545159d48848",
   "metadata": {
    "id": "b16d066a-7e06-4aa3-a554-545159d48848",
    "tags": []
   },
   "outputs": [],
   "source": [
    "llm = ChatOllama(model='llama3.1')"
   ]
  },
  {
   "cell_type": "markdown",
   "id": "16da44cb-3125-466e-bef3-d3b2c48455b0",
   "metadata": {
    "id": "16da44cb-3125-466e-bef3-d3b2c48455b0"
   },
   "source": [
    "Define the Query Prompt Template"
   ]
  },
  {
   "cell_type": "code",
   "execution_count": null,
   "id": "8c545fbd-e713-4163-87e8-d6d721152e49",
   "metadata": {
    "id": "8c545fbd-e713-4163-87e8-d6d721152e49",
    "tags": []
   },
   "outputs": [],
   "source": [
    "QUERY_PROMPT = PromptTemplate(\n",
    "    input_variables=[\"question\"],\n",
    "    template=\"\"\"You are an AI language model assistant. Your task is to generate five\n",
    "    different versions of the given user question to retrieve relevant documents from\n",
    "    a vector database. By generating multiple perspectives on the user question, your\n",
    "    goal is to help the user overcome some of the limitations of the distance-based\n",
    "    similarity search. Provide these alternative questions separated by newlines.\n",
    "    Original question: {question}\"\"\",\n",
    ")"
   ]
  },
  {
   "cell_type": "markdown",
   "id": "ec7db72f-cb84-41a5-8c24-31d1c127ad04",
   "metadata": {
    "id": "ec7db72f-cb84-41a5-8c24-31d1c127ad04",
    "tags": []
   },
   "source": [
    "<b>Still about Retrieval Strategy</b>"
   ]
  },
  {
   "cell_type": "markdown",
   "id": "f4c0dfca-443c-4fc0-8eaf-f079a1028cfb",
   "metadata": {
    "id": "f4c0dfca-443c-4fc0-8eaf-f079a1028cfb"
   },
   "source": [
    "We will be using `MultiQueryRetriever` for main strategy, as it can send multiple queries at one time and one prompt."
   ]
  },
  {
   "cell_type": "code",
   "execution_count": null,
   "id": "2ef1c21e-e39f-4b31-a561-daf8dcedcc2a",
   "metadata": {
    "id": "2ef1c21e-e39f-4b31-a561-daf8dcedcc2a",
    "tags": []
   },
   "outputs": [],
   "source": [
    "retriever = MultiQueryRetriever.from_llm(\n",
    "    vector_db.as_retriever(),\n",
    "    llm,\n",
    "    prompt=QUERY_PROMPT\n",
    ")\n",
    "\n",
    "# RAG prompt\n",
    "template = \"\"\"Answer the question based ONLY on the following context:\n",
    "{context}\n",
    "Question: {question}\n",
    "\"\"\"\n",
    "\n",
    "prompt = ChatPromptTemplate.from_template(template)"
   ]
  },
  {
   "cell_type": "markdown",
   "id": "1ad54b4b-5bc2-4776-8d1b-200df347dddb",
   "metadata": {
    "id": "1ad54b4b-5bc2-4776-8d1b-200df347dddb"
   },
   "source": [
    "Create the Retrieval Chains"
   ]
  },
  {
   "cell_type": "code",
   "execution_count": null,
   "id": "5e2c0ec5-373a-4fcc-b3ad-7600e442f4b7",
   "metadata": {
    "id": "5e2c0ec5-373a-4fcc-b3ad-7600e442f4b7",
    "tags": []
   },
   "outputs": [],
   "source": [
    "chain = (\n",
    "    {\"context\": retriever, \"question\": RunnablePassthrough()}\n",
    "    | prompt\n",
    "    | llm\n",
    "    | StrOutputParser()\n",
    ")"
   ]
  },
  {
   "cell_type": "markdown",
   "id": "9ea17868-c004-4afd-a7ea-087230ea86e2",
   "metadata": {
    "id": "9ea17868-c004-4afd-a7ea-087230ea86e2"
   },
   "source": [
    "### 4. Evaluation Dataset Creation\n",
    "Develop an evaluation dataset that reflects realistic queries researchers might have. Include both simple and complex queries (multi-hop, comparing two things, multiple questions in one prompt) that test the system's ability to retrieve and generate accurate information. Around 20 questions should be enough."
   ]
  },
  {
   "cell_type": "code",
   "execution_count": null,
   "id": "a04f280a-ffb6-40ad-aa9c-65e33057198a",
   "metadata": {
    "id": "a04f280a-ffb6-40ad-aa9c-65e33057198a",
    "tags": []
   },
   "outputs": [],
   "source": [
    "queries = [\n",
    "    \"What is the main contribution of the Transformer model?\",\n",
    "    \"What does the Scaled Dot-Product Attention mechanism do?\",\n",
    "    \"How many layers are there in the encoder stack of the Transformer?\",\n",
    "    \"Explain the architecture of the Transformer model?\",\n",
    "    \"What tasks were used to evaluate the Transformer model?\",\n",
    "    \"What are the differences between the encoder and decoder stacks in the Transformer model?\",\n",
    "    \"What are the advantages of using self-attention in the Transformer model?\",\n",
    "    \"How does the Transformer model handle positional information in sequences?\",\n",
    "    \"Explain the regularization techniques used in training the Transformer\",\n",
    "    \"How do the training schedules differ between the base and big Transformer models?\",\n",
    "    \"Compare the training efficiency of the Transformer with RNN-based models\",\n",
    "    \"How does the positional encoding in the Transformer differ from other models?\",\n",
    "    \"How does the Transformer handle long-range dependencies compared to convolutional networks?\",\n",
    "    \"What is the purpose of the positional encoding in the Transformer?\",\n",
    "    \"What hardware was used to train the Transformer models?\",\n",
    "    \"How many attention heads are used in the Transformer?\",\n",
    "    \"What is the main challenge that self-attention addresses in sequence modeling?\",\n",
    "    \"What is the effect of using multi-head attention as shown in the paper?\",\n",
    "    \"Describe the key components of the Transformer's encoder and decoder stacks\",\n",
    "    \"What training data was used for the Transformer model?\",\n",
    "]\n",
    "ground_truths = [\n",
    "    \"The Transformer have ability to achieve state-of-the-art results without relying on recurrent neural networks (RNNs) or convolutional layers, relying only on attention mechanisms\",\n",
    "    \"The Scaled Dot-Product Attention maps a query and a set of key K and value V pairs to an output, computed as a weighted sum of the values.\",\n",
    "    \"The encoder stack consists of 6 identical layers.\",\n",
    "    \"The Transformer model consists of an encoder-decoder architecture, with each having a stack of 6 identical layers utilizing self-attention and fully connected feed-forward network.\",\n",
    "    \"The Transformer model was evaluated on two machine translation tasks: WMT 2014 English-to-German and WMT 2014 English-to-French.\",\n",
    "    \"The encoder consists of two sub-layers: self-attention and a feed-forward network. The decoder includes an additional third sub-layer for encoder-decoder attention.\",\n",
    "    \"Self-attention allows for parallelization, reduces path lengths, and enables the model to learn long-range dependencies effectively.\",\n",
    "    \"The Transformer uses positional encodings based on sine and cosine functions to inject positional information into the sequence.\",\n",
    "    \"Regularization techniques include residual dropout, label smoothing, and weight sharing across embedding layers.\",\n",
    "    \"The base model is trained for 12 hours, and the big model for 3.5 days, with corresponding increases in training steps.\",\n",
    "    \"The Transformer is significantly more parallelizable and trains faster than recurrent-based models, achieving better and faster performance with less computational resources.\",\n",
    "    \"The Transformer uses fixed sine and cosine functions, whereas other models might use learned positional embeddings.\",\n",
    "    \"The Transformer’s self-attention mechanism allows it to capture long-range dependencies with a constant number of sequential operations, unlike convolutional networks that are limited to a local window and require stacking multiple layers.\",\n",
    "    \"Positional encoding is used to inject information about the relative or absolute position of the tokens in the sequence.\",\n",
    "    \"The Transformer models were trained using 8 NVIDIA P100 GPUs.\",\n",
    "    \"The Transformer employs 8 parallel attention heads in its multi-head attention mechanism.\",\n",
    "    \"Self-attention addresses the challenge of modeling dependencies without requiring their distance in the input or output sequences.\",\n",
    "    \"Multi-head attention allows the model to focus on different positions within the sequence, providing a more nuanced understanding by attending to different subspaces.\",\n",
    "    \"The encoder consists of two sub-layers: self-attention and position-wise feed-forward networks, while the decoder adds encoder-decoder attention to these components.\",\n",
    "    \"The WMT 2014 English-to-German and English-to-French datasets were used for training the Transformer.\"\n",
    "]\n",
    "contexts = []\n",
    "answers = []"
   ]
  },
  {
   "cell_type": "markdown",
   "id": "b1166c79-5a91-4e34-a9ff-c9d2e3a4b1cd",
   "metadata": {
    "id": "b1166c79-5a91-4e34-a9ff-c9d2e3a4b1cd"
   },
   "source": [
    "<b>Question no.1</b><br>\n",
    "Simple Queries with MultiQueryRetriever: \"What is the main contribution of the Transformer model?\""
   ]
  },
  {
   "cell_type": "code",
   "execution_count": null,
   "id": "97468c7b-62e9-4974-a6cd-b3246f65c575",
   "metadata": {
    "id": "97468c7b-62e9-4974-a6cd-b3246f65c575",
    "outputId": "4c1bc906-b09a-4b20-9dea-75fc29e81dfe",
    "tags": []
   },
   "outputs": [
    {
     "name": "stderr",
     "output_type": "stream",
     "text": [
      "OllamaEmbeddings: 100%|██████████████████████████████████████████████████████████████████| 1/1 [00:03<00:00,  3.92s/it]\n",
      "OllamaEmbeddings: 100%|██████████████████████████████████████████████████████████████████| 1/1 [00:02<00:00,  2.04s/it]\n",
      "OllamaEmbeddings: 100%|██████████████████████████████████████████████████████████████████| 1/1 [00:02<00:00,  2.06s/it]\n",
      "OllamaEmbeddings: 100%|██████████████████████████████████████████████████████████████████| 1/1 [00:02<00:00,  2.10s/it]\n",
      "OllamaEmbeddings: 100%|██████████████████████████████████████████████████████████████████| 1/1 [00:02<00:00,  2.12s/it]\n",
      "OllamaEmbeddings: 100%|██████████████████████████████████████████████████████████████████| 1/1 [00:02<00:00,  2.09s/it]\n"
     ]
    }
   ],
   "source": [
    "content = []\n",
    "retrieval = retriever.invoke(\"What is the main contribution of the Transformer model?\")\n",
    "\n",
    "for item in retrieval:\n",
    "    content.append(item.page_content)\n",
    "contexts.append(content)"
   ]
  },
  {
   "cell_type": "code",
   "execution_count": null,
   "id": "2bb4e6e2-4321-4923-8f66-a28156f3850c",
   "metadata": {
    "id": "2bb4e6e2-4321-4923-8f66-a28156f3850c",
    "outputId": "1988c37f-5a9b-4ee1-b2fd-bb29f789e649",
    "tags": []
   },
   "outputs": [
    {
     "name": "stderr",
     "output_type": "stream",
     "text": [
      "OllamaEmbeddings: 100%|██████████████████████████████████████████████████████████████████| 1/1 [00:03<00:00,  3.89s/it]\n",
      "OllamaEmbeddings: 100%|██████████████████████████████████████████████████████████████████| 1/1 [00:02<00:00,  2.05s/it]\n",
      "OllamaEmbeddings: 100%|██████████████████████████████████████████████████████████████████| 1/1 [00:02<00:00,  2.05s/it]\n",
      "OllamaEmbeddings: 100%|██████████████████████████████████████████████████████████████████| 1/1 [00:02<00:00,  2.09s/it]\n",
      "OllamaEmbeddings: 100%|██████████████████████████████████████████████████████████████████| 1/1 [00:02<00:00,  2.10s/it]\n",
      "OllamaEmbeddings: 100%|██████████████████████████████████████████████████████████████████| 1/1 [00:02<00:00,  2.08s/it]\n"
     ]
    },
    {
     "data": {
      "text/plain": [
       "'The main contribution of the Transformer model is its ability to achieve state-of-the-art results in machine translation tasks without relying on recurrent neural networks (RNNs) or convolutional layers, instead using only self-attention mechanisms and fully connected feed-forward networks. This allows for more parallelization and faster training times, while still achieving superior performance compared to previous models.'"
      ]
     },
     "execution_count": 12,
     "metadata": {},
     "output_type": "execute_result"
    }
   ],
   "source": [
    "answer = chain.invoke(\"What is the main contribution of the Transformer model?\")\n",
    "answers.append(answer)\n",
    "answer"
   ]
  },
  {
   "cell_type": "markdown",
   "id": "f09f2e96-5b13-4548-86b0-e2633e54503f",
   "metadata": {
    "id": "f09f2e96-5b13-4548-86b0-e2633e54503f"
   },
   "source": [
    "<b>Question no.2</b><br>\n",
    "Simple Queries with MultiQueryRetriever: \"What does the Scaled Dot-Product Attention mechanism do?\""
   ]
  },
  {
   "cell_type": "code",
   "execution_count": null,
   "id": "fcbc8d48-0636-4288-a3f3-d447deb9e6de",
   "metadata": {
    "id": "fcbc8d48-0636-4288-a3f3-d447deb9e6de",
    "outputId": "b0fa143c-ede0-4379-a00c-dde7fee9de3d",
    "tags": []
   },
   "outputs": [
    {
     "name": "stderr",
     "output_type": "stream",
     "text": [
      "OllamaEmbeddings: 100%|██████████████████████████████████████████████████████████████████| 1/1 [00:03<00:00,  3.67s/it]\n",
      "OllamaEmbeddings: 100%|██████████████████████████████████████████████████████████████████| 1/1 [00:02<00:00,  2.05s/it]\n",
      "OllamaEmbeddings: 100%|██████████████████████████████████████████████████████████████████| 1/1 [00:02<00:00,  2.04s/it]\n",
      "OllamaEmbeddings: 100%|██████████████████████████████████████████████████████████████████| 1/1 [00:02<00:00,  2.08s/it]\n",
      "OllamaEmbeddings: 100%|██████████████████████████████████████████████████████████████████| 1/1 [00:02<00:00,  2.09s/it]\n",
      "OllamaEmbeddings: 100%|██████████████████████████████████████████████████████████████████| 1/1 [00:02<00:00,  2.09s/it]\n",
      "OllamaEmbeddings: 100%|██████████████████████████████████████████████████████████████████| 1/1 [00:02<00:00,  2.09s/it]\n",
      "OllamaEmbeddings: 100%|██████████████████████████████████████████████████████████████████| 1/1 [00:02<00:00,  2.10s/it]\n",
      "OllamaEmbeddings: 100%|██████████████████████████████████████████████████████████████████| 1/1 [00:02<00:00,  2.08s/it]\n",
      "OllamaEmbeddings: 100%|██████████████████████████████████████████████████████████████████| 1/1 [00:02<00:00,  2.08s/it]\n",
      "OllamaEmbeddings: 100%|██████████████████████████████████████████████████████████████████| 1/1 [00:02<00:00,  2.11s/it]\n",
      "OllamaEmbeddings: 100%|██████████████████████████████████████████████████████████████████| 1/1 [00:02<00:00,  2.08s/it]\n"
     ]
    }
   ],
   "source": [
    "content = []\n",
    "retrieval = retriever.invoke(\"What does the Scaled Dot-Product Attention mechanism do?\")\n",
    "\n",
    "for item in retrieval:\n",
    "    content.append(item.page_content)\n",
    "contexts.append(content)"
   ]
  },
  {
   "cell_type": "code",
   "execution_count": null,
   "id": "aca8289a-5583-4589-a11b-d579d23e5fee",
   "metadata": {
    "id": "aca8289a-5583-4589-a11b-d579d23e5fee",
    "outputId": "1d2ecfa8-7a46-442e-dac8-90172d353dcd",
    "tags": []
   },
   "outputs": [
    {
     "name": "stderr",
     "output_type": "stream",
     "text": [
      "OllamaEmbeddings: 100%|██████████████████████████████████████████████████████████████████| 1/1 [00:03<00:00,  3.65s/it]\n",
      "OllamaEmbeddings: 100%|██████████████████████████████████████████████████████████████████| 1/1 [00:02<00:00,  2.05s/it]\n",
      "OllamaEmbeddings: 100%|██████████████████████████████████████████████████████████████████| 1/1 [00:02<00:00,  2.05s/it]\n",
      "OllamaEmbeddings: 100%|██████████████████████████████████████████████████████████████████| 1/1 [00:02<00:00,  2.09s/it]\n",
      "OllamaEmbeddings: 100%|██████████████████████████████████████████████████████████████████| 1/1 [00:02<00:00,  2.11s/it]\n",
      "OllamaEmbeddings: 100%|██████████████████████████████████████████████████████████████████| 1/1 [00:02<00:00,  2.09s/it]\n"
     ]
    },
    {
     "data": {
      "text/plain": [
       "'The Scaled Dot-Product Attention mechanism computes a weighted sum of the values matrix V, where the weights are determined by the softmax function applied to the dot product of the query Q and key K matrices, scaled by the square root of the dimensionality of the keys dk. This is expressed as:\\n\\nsoftmax(QK^T / sqrt(dk)) * V\\n\\nThis mechanism allows each position in the input sequence to attend to every other position in the same sequence, and compute a weighted sum of the values at those positions, with the weights determined by the similarity between the query and key vectors.'"
      ]
     },
     "execution_count": 13,
     "metadata": {},
     "output_type": "execute_result"
    }
   ],
   "source": [
    "answer = chain.invoke(\"What does the Scaled Dot-Product Attention mechanism do?\")\n",
    "answers.append(answer)\n",
    "answer"
   ]
  },
  {
   "cell_type": "markdown",
   "id": "ebc35642-5119-4c9c-b8ee-03141478cc00",
   "metadata": {
    "id": "ebc35642-5119-4c9c-b8ee-03141478cc00",
    "tags": []
   },
   "source": [
    "<b>Question no.3</b><br>\n",
    "Simple Queries with MultiQueryRetriever: \"How many layers are there in the encoder stack of the Transformer?\""
   ]
  },
  {
   "cell_type": "code",
   "execution_count": null,
   "id": "14ff58f2-a780-4367-a394-d1099a6433ca",
   "metadata": {
    "id": "14ff58f2-a780-4367-a394-d1099a6433ca",
    "outputId": "3298b596-dc1e-49e9-b347-5c76443863da",
    "tags": []
   },
   "outputs": [
    {
     "name": "stderr",
     "output_type": "stream",
     "text": [
      "OllamaEmbeddings: 100%|██████████████████████████████████████████████████████████████████| 1/1 [00:03<00:00,  3.89s/it]\n",
      "OllamaEmbeddings: 100%|██████████████████████████████████████████████████████████████████| 1/1 [00:02<00:00,  2.04s/it]\n",
      "OllamaEmbeddings: 100%|██████████████████████████████████████████████████████████████████| 1/1 [00:02<00:00,  2.05s/it]\n",
      "OllamaEmbeddings: 100%|██████████████████████████████████████████████████████████████████| 1/1 [00:02<00:00,  2.08s/it]\n",
      "OllamaEmbeddings: 100%|██████████████████████████████████████████████████████████████████| 1/1 [00:02<00:00,  2.09s/it]\n",
      "OllamaEmbeddings: 100%|██████████████████████████████████████████████████████████████████| 1/1 [00:02<00:00,  2.07s/it]\n"
     ]
    }
   ],
   "source": [
    "content = []\n",
    "retrieval = retriever.invoke(\"How many layers are there in the encoder stack of the Transformer?\")\n",
    "\n",
    "for item in retrieval:\n",
    "    content.append(item.page_content)\n",
    "contexts.append(content)"
   ]
  },
  {
   "cell_type": "code",
   "execution_count": null,
   "id": "2c36b78b-82c7-4e28-bab8-13f5aeb2471d",
   "metadata": {
    "id": "2c36b78b-82c7-4e28-bab8-13f5aeb2471d",
    "outputId": "54b1858a-e746-44aa-dd72-febffd1ce81d",
    "tags": []
   },
   "outputs": [
    {
     "name": "stderr",
     "output_type": "stream",
     "text": [
      "OllamaEmbeddings: 100%|██████████████████████████████████████████████████████████████████| 1/1 [00:03<00:00,  3.92s/it]\n",
      "OllamaEmbeddings: 100%|██████████████████████████████████████████████████████████████████| 1/1 [00:02<00:00,  2.05s/it]\n",
      "OllamaEmbeddings: 100%|██████████████████████████████████████████████████████████████████| 1/1 [00:02<00:00,  2.05s/it]\n",
      "OllamaEmbeddings: 100%|██████████████████████████████████████████████████████████████████| 1/1 [00:02<00:00,  2.08s/it]\n",
      "OllamaEmbeddings: 100%|██████████████████████████████████████████████████████████████████| 1/1 [00:02<00:00,  2.08s/it]\n",
      "OllamaEmbeddings: 100%|██████████████████████████████████████████████████████████████████| 1/1 [00:02<00:00,  2.07s/it]\n"
     ]
    },
    {
     "data": {
      "text/plain": [
       "'According to the provided text, the encoder stack of the Transformer has 6 identical layers.'"
      ]
     },
     "execution_count": 14,
     "metadata": {},
     "output_type": "execute_result"
    }
   ],
   "source": [
    "answer = chain.invoke(\"How many layers are there in the encoder stack of the Transformer?\")\n",
    "answers.append(answer)\n",
    "answer"
   ]
  },
  {
   "cell_type": "markdown",
   "id": "67ed68df-c456-41a8-9fd8-e61fa4282a13",
   "metadata": {
    "id": "67ed68df-c456-41a8-9fd8-e61fa4282a13"
   },
   "source": [
    "<b>Question no.4</b><br>\n",
    "Complex Queries with MultiQueryRetriever: \"Explain the architecture of the Transformer model?\""
   ]
  },
  {
   "cell_type": "code",
   "execution_count": null,
   "id": "5a7b09cd-fc38-4b86-9857-980ea84620fd",
   "metadata": {
    "id": "5a7b09cd-fc38-4b86-9857-980ea84620fd",
    "outputId": "77e25fa7-81c4-4a06-971a-7d94b2c74f22",
    "tags": []
   },
   "outputs": [
    {
     "name": "stderr",
     "output_type": "stream",
     "text": [
      "OllamaEmbeddings: 100%|██████████████████████████████████████████████████████████████████| 1/1 [00:03<00:00,  3.65s/it]\n",
      "OllamaEmbeddings: 100%|██████████████████████████████████████████████████████████████████| 1/1 [00:02<00:00,  2.05s/it]\n",
      "OllamaEmbeddings: 100%|██████████████████████████████████████████████████████████████████| 1/1 [00:02<00:00,  2.04s/it]\n",
      "OllamaEmbeddings: 100%|██████████████████████████████████████████████████████████████████| 1/1 [00:02<00:00,  2.08s/it]\n",
      "OllamaEmbeddings: 100%|██████████████████████████████████████████████████████████████████| 1/1 [00:02<00:00,  2.08s/it]\n",
      "OllamaEmbeddings: 100%|██████████████████████████████████████████████████████████████████| 1/1 [00:02<00:00,  2.09s/it]\n",
      "OllamaEmbeddings: 100%|██████████████████████████████████████████████████████████████████| 1/1 [00:02<00:00,  2.08s/it]\n"
     ]
    }
   ],
   "source": [
    "content = []\n",
    "retrieval = retriever.invoke(\"Explain the architecture of the Transformer model?\")\n",
    "\n",
    "for item in retrieval:\n",
    "    content.append(item.page_content)\n",
    "contexts.append(content)"
   ]
  },
  {
   "cell_type": "code",
   "execution_count": null,
   "id": "a0447af3-dbed-487e-8af2-c63a5ce12c33",
   "metadata": {
    "id": "a0447af3-dbed-487e-8af2-c63a5ce12c33",
    "outputId": "be99fc9b-9507-40c2-cf8d-39e1ed3eea81",
    "tags": []
   },
   "outputs": [
    {
     "name": "stderr",
     "output_type": "stream",
     "text": [
      "OllamaEmbeddings: 100%|██████████████████████████████████████████████████████████████████| 1/1 [00:03<00:00,  3.93s/it]\n",
      "OllamaEmbeddings: 100%|██████████████████████████████████████████████████████████████████| 1/1 [00:02<00:00,  2.06s/it]\n",
      "OllamaEmbeddings: 100%|██████████████████████████████████████████████████████████████████| 1/1 [00:02<00:00,  2.04s/it]\n",
      "OllamaEmbeddings: 100%|██████████████████████████████████████████████████████████████████| 1/1 [00:02<00:00,  2.10s/it]\n",
      "OllamaEmbeddings: 100%|██████████████████████████████████████████████████████████████████| 1/1 [00:02<00:00,  2.09s/it]\n",
      "OllamaEmbeddings: 100%|██████████████████████████████████████████████████████████████████| 1/1 [00:02<00:00,  2.08s/it]\n"
     ]
    },
    {
     "data": {
      "text/plain": [
       "\"The Transformer model architecture consists of two main components: the encoder and the decoder. Both the encoder and decoder are composed of multiple layers, each containing two sub-layers: a self-attention mechanism and a position-wise fully connected feed-forward network.\\n\\nIn the encoder, each layer applies self-attention to all positions in the input sequence, allowing each position to attend to all other positions in the sequence. This is done using multi-head attention, which allows the model to jointly attend to information from different representations of the input sequence. The output of this sub-layer is then processed by a position-wise fully connected feed-forward network.\\n\\nIn the decoder, the first sub-layer uses self-attention on all positions up to and including that position in the decoder's output sequence, followed by another self-attention sub-layer that attends to all positions in the input sequence. This allows the model to attend to information from the entire input sequence when generating its output. The second sub-layer is similar to that used in the encoder.\\n\\nBoth the encoder and decoder also employ residual connections around each of these two sub-layers, followed by layer normalization. Additionally, the embedding layers produce outputs of dimension dmodel = 512 to facilitate these residual connections.\\n\\nThe Transformer model does not use sequence-aligned RNNs or convolutional neural networks as basic building blocks, unlike other models such as Extended Neural GPU, ByteNet, and ConvS2S. Instead, it relies entirely on self-attention to compute representations of its input and output without using sequence-aligned recurrence. This allows the model to reduce sequential computation and process long-range dependencies in a more efficient way.\""
      ]
     },
     "execution_count": 15,
     "metadata": {},
     "output_type": "execute_result"
    }
   ],
   "source": [
    "answer = chain.invoke(\"Explain the architecture of the Transformer model?\")\n",
    "answers.append(answer)\n",
    "answer"
   ]
  },
  {
   "cell_type": "markdown",
   "id": "68097429-34b4-484b-9bd7-1f037536ce71",
   "metadata": {
    "id": "68097429-34b4-484b-9bd7-1f037536ce71",
    "tags": []
   },
   "source": [
    "<b>Question no.5</b><br>\n",
    "Simple Queries with MultiQueryRetriever: \"What tasks were used to evaluate the Transformer model?\""
   ]
  },
  {
   "cell_type": "code",
   "execution_count": null,
   "id": "9b149c31-7bd9-41bb-9f3b-a653eaa576ab",
   "metadata": {
    "id": "9b149c31-7bd9-41bb-9f3b-a653eaa576ab",
    "outputId": "f1a929d6-e4ce-479e-c542-b1cf55988737",
    "tags": []
   },
   "outputs": [
    {
     "name": "stderr",
     "output_type": "stream",
     "text": [
      "OllamaEmbeddings: 100%|██████████████████████████████████████████████████████████████████| 1/1 [00:03<00:00,  3.69s/it]\n",
      "OllamaEmbeddings: 100%|██████████████████████████████████████████████████████████████████| 1/1 [00:02<00:00,  2.06s/it]\n",
      "OllamaEmbeddings: 100%|██████████████████████████████████████████████████████████████████| 1/1 [00:02<00:00,  2.06s/it]\n",
      "OllamaEmbeddings: 100%|██████████████████████████████████████████████████████████████████| 1/1 [00:02<00:00,  2.11s/it]\n",
      "OllamaEmbeddings: 100%|██████████████████████████████████████████████████████████████████| 1/1 [00:02<00:00,  2.08s/it]\n",
      "OllamaEmbeddings: 100%|██████████████████████████████████████████████████████████████████| 1/1 [00:02<00:00,  2.09s/it]\n"
     ]
    }
   ],
   "source": [
    "content = []\n",
    "retrieval = retriever.invoke(\"What tasks were used to evaluate the Transformer model?\")\n",
    "\n",
    "for item in retrieval:\n",
    "    content.append(item.page_content)\n",
    "contexts.append(content)"
   ]
  },
  {
   "cell_type": "code",
   "execution_count": null,
   "id": "cbe2e178-3294-4509-ac25-7c7f41f74d37",
   "metadata": {
    "id": "cbe2e178-3294-4509-ac25-7c7f41f74d37",
    "outputId": "c53380ce-4f16-4a5e-b430-09d543050f73",
    "tags": []
   },
   "outputs": [
    {
     "name": "stderr",
     "output_type": "stream",
     "text": [
      "OllamaEmbeddings: 100%|██████████████████████████████████████████████████████████████████| 1/1 [00:03<00:00,  3.90s/it]\n",
      "OllamaEmbeddings: 100%|██████████████████████████████████████████████████████████████████| 1/1 [00:02<00:00,  2.04s/it]\n",
      "OllamaEmbeddings: 100%|██████████████████████████████████████████████████████████████████| 1/1 [00:02<00:00,  2.06s/it]\n",
      "OllamaEmbeddings: 100%|██████████████████████████████████████████████████████████████████| 1/1 [00:02<00:00,  2.11s/it]\n",
      "OllamaEmbeddings: 100%|██████████████████████████████████████████████████████████████████| 1/1 [00:02<00:00,  2.08s/it]\n",
      "OllamaEmbeddings: 100%|██████████████████████████████████████████████████████████████████| 1/1 [00:02<00:00,  2.10s/it]\n"
     ]
    },
    {
     "data": {
      "text/plain": [
       "'The Transformer model was evaluated on two machine translation tasks:\\n\\n1. WMT 2014 English-to-German translation task\\n2. WMT 2014 English-to-French translation task\\n\\nThese tasks were used to assess the performance of the Transformer model in terms of BLEU score, a metric that measures the quality of translations.'"
      ]
     },
     "execution_count": 16,
     "metadata": {},
     "output_type": "execute_result"
    }
   ],
   "source": [
    "answer = chain.invoke(\"What tasks were used to evaluate the Transformer model?\")\n",
    "answers.append(answer)\n",
    "answer"
   ]
  },
  {
   "cell_type": "markdown",
   "id": "d445ebb9-be74-4172-a5c1-f18da5737fce",
   "metadata": {
    "id": "d445ebb9-be74-4172-a5c1-f18da5737fce"
   },
   "source": [
    "<b>Question no.6</b><br>\n",
    "Multi-Hop Queries with MultiQueryRetriever: \"What are the differences between the encoder and decoder stacks in the Transformer model?\""
   ]
  },
  {
   "cell_type": "code",
   "execution_count": null,
   "id": "a53660fe-352b-44d2-b735-64900c58a421",
   "metadata": {
    "id": "a53660fe-352b-44d2-b735-64900c58a421",
    "outputId": "c3e46dc7-5d6a-4a8a-e018-4455d3cdc6df",
    "tags": []
   },
   "outputs": [
    {
     "name": "stderr",
     "output_type": "stream",
     "text": [
      "OllamaEmbeddings: 100%|██████████████████████████████████████████████████████████████████| 1/1 [00:03<00:00,  3.66s/it]\n",
      "OllamaEmbeddings: 100%|██████████████████████████████████████████████████████████████████| 1/1 [00:02<00:00,  2.05s/it]\n",
      "OllamaEmbeddings: 100%|██████████████████████████████████████████████████████████████████| 1/1 [00:02<00:00,  2.04s/it]\n",
      "OllamaEmbeddings: 100%|██████████████████████████████████████████████████████████████████| 1/1 [00:02<00:00,  2.07s/it]\n",
      "OllamaEmbeddings: 100%|██████████████████████████████████████████████████████████████████| 1/1 [00:02<00:00,  2.08s/it]\n",
      "OllamaEmbeddings: 100%|██████████████████████████████████████████████████████████████████| 1/1 [00:02<00:00,  2.06s/it]\n",
      "OllamaEmbeddings: 100%|██████████████████████████████████████████████████████████████████| 1/1 [00:02<00:00,  2.08s/it]\n",
      "OllamaEmbeddings: 100%|██████████████████████████████████████████████████████████████████| 1/1 [00:02<00:00,  2.07s/it]\n",
      "OllamaEmbeddings: 100%|██████████████████████████████████████████████████████████████████| 1/1 [00:02<00:00,  2.09s/it]\n",
      "OllamaEmbeddings: 100%|██████████████████████████████████████████████████████████████████| 1/1 [00:02<00:00,  2.08s/it]\n",
      "OllamaEmbeddings: 100%|██████████████████████████████████████████████████████████████████| 1/1 [00:02<00:00,  2.08s/it]\n"
     ]
    }
   ],
   "source": [
    "content = []\n",
    "retrieval = retriever.invoke(\"What are the differences between the encoder and decoder stacks in the Transformer model?\")\n",
    "\n",
    "for item in retrieval:\n",
    "    content.append(item.page_content)\n",
    "contexts.append(content)"
   ]
  },
  {
   "cell_type": "code",
   "execution_count": null,
   "id": "7a938266-5a5b-48ee-8917-fa48e5feb31b",
   "metadata": {
    "id": "7a938266-5a5b-48ee-8917-fa48e5feb31b",
    "outputId": "6f9de695-2ade-408d-b038-e610cad6a0d2",
    "tags": []
   },
   "outputs": [
    {
     "name": "stderr",
     "output_type": "stream",
     "text": [
      "OllamaEmbeddings: 100%|██████████████████████████████████████████████████████████████████| 1/1 [00:03<00:00,  3.91s/it]\n",
      "OllamaEmbeddings: 100%|██████████████████████████████████████████████████████████████████| 1/1 [00:02<00:00,  2.06s/it]\n",
      "OllamaEmbeddings: 100%|██████████████████████████████████████████████████████████████████| 1/1 [00:02<00:00,  2.06s/it]\n",
      "OllamaEmbeddings: 100%|██████████████████████████████████████████████████████████████████| 1/1 [00:02<00:00,  2.08s/it]\n",
      "OllamaEmbeddings: 100%|██████████████████████████████████████████████████████████████████| 1/1 [00:02<00:00,  2.08s/it]\n",
      "OllamaEmbeddings: 100%|██████████████████████████████████████████████████████████████████| 1/1 [00:02<00:00,  2.08s/it]\n"
     ]
    },
    {
     "data": {
      "text/plain": [
       "\"According to Document(metadata={'source': 'Attention-is-all-you-need.pdf'}, page_content='3 Model Architecture\\\\n\\\\nMost competitive neural sequence transduction models have an encoder-decoder structure [5, 2, 29]. Here, the encoder maps an input sequence of symbol representations (x1, ..., xn) to a sequence of continuous representations z = (z1, ..., zn). Given z, the decoder then generates an output sequence (y1, ..., ym) of symbols one element at a time. At each step the model is auto-regressive [9], consuming the previously generated symbols as additional input when generating the next.\\\\n\\\\nThe Transformer follows this overall architecture using stacked self-attention and point-wise, fully connected layers for both the encoder and decoder, shown in the left and right halves of Figure 1, respectively.' ), \\n\\nthe main differences between the encoder and decoder stacks in the Transformer model are:\\n\\n* The number of sub-layers in each stack: The encoder has two sub-layers per layer, while the decoder has only one additional sub-layer after the multi-head self-attention mechanism.\\n* The type of sub-layer in the decoder: After the multi-head self-attention mechanism, the decoder has a simple, position-wise fully connected layer, whereas the encoder also contains another simple, position-wise fully connected layer.\\n\\nHowever, the primary difference between them lies in their functionality. The encoder's job is to transform the input sequence into a sequence of continuous representations (z), while the decoder generates an output sequence one element at a time based on z and previously generated symbols.\""
      ]
     },
     "execution_count": 18,
     "metadata": {},
     "output_type": "execute_result"
    }
   ],
   "source": [
    "answer = chain.invoke(\"What are the differences between the encoder and decoder stacks in the Transformer model?\")\n",
    "answers.append(answer)\n",
    "answer"
   ]
  },
  {
   "cell_type": "markdown",
   "id": "4c431514-f14e-41cc-8107-d2f580ffdab5",
   "metadata": {
    "id": "4c431514-f14e-41cc-8107-d2f580ffdab5"
   },
   "source": [
    "<b>Question no.7</b><br>\n",
    "Multi-Hop Queries with MultiQueryRetriever: \"What are the advantages of using self-attention in the Transformer model?\""
   ]
  },
  {
   "cell_type": "code",
   "execution_count": null,
   "id": "1c07e22d-bfba-45c5-b5ea-4ff10e849e99",
   "metadata": {
    "id": "1c07e22d-bfba-45c5-b5ea-4ff10e849e99",
    "outputId": "a961e156-b24a-49d5-c45d-43ec9ac08f21",
    "tags": []
   },
   "outputs": [
    {
     "name": "stderr",
     "output_type": "stream",
     "text": [
      "\n",
      "OllamaEmbeddings:   0%|                                                                          | 0/1 [00:00<?, ?it/s]\u001b[A\n",
      "OllamaEmbeddings: 100%|██████████████████████████████████████████████████████████████████| 1/1 [00:03<00:00,  3.94s/it]\u001b[A\n",
      "\n",
      "OllamaEmbeddings:   0%|                                                                          | 0/1 [00:00<?, ?it/s]\u001b[A\n",
      "OllamaEmbeddings: 100%|██████████████████████████████████████████████████████████████████| 1/1 [00:02<00:00,  2.06s/it]\u001b[A\n",
      "\n",
      "OllamaEmbeddings:   0%|                                                                          | 0/1 [00:00<?, ?it/s]\u001b[A\n",
      "OllamaEmbeddings: 100%|██████████████████████████████████████████████████████████████████| 1/1 [00:02<00:00,  2.05s/it]\u001b[A\n",
      "\n",
      "OllamaEmbeddings:   0%|                                                                          | 0/1 [00:00<?, ?it/s]\u001b[A\n",
      "OllamaEmbeddings: 100%|██████████████████████████████████████████████████████████████████| 1/1 [00:02<00:00,  2.09s/it]\u001b[A\n",
      "\n",
      "OllamaEmbeddings:   0%|                                                                          | 0/1 [00:00<?, ?it/s]\u001b[A\n",
      "OllamaEmbeddings: 100%|██████████████████████████████████████████████████████████████████| 1/1 [00:02<00:00,  2.10s/it]\u001b[A\n",
      "\n",
      "OllamaEmbeddings:   0%|                                                                          | 0/1 [00:00<?, ?it/s]\u001b[A\n",
      "OllamaEmbeddings: 100%|██████████████████████████████████████████████████████████████████| 1/1 [00:02<00:00,  2.09s/it]\u001b[A\n"
     ]
    }
   ],
   "source": [
    "content = []\n",
    "retrieval = retriever.invoke(\"What are the advantages of using self-attention in the Transformer model?\")\n",
    "\n",
    "for item in retrieval:\n",
    "    content.append(item.page_content)\n",
    "contexts.append(content)"
   ]
  },
  {
   "cell_type": "code",
   "execution_count": null,
   "id": "42c782d5-6f33-47c3-9a81-4df513be9f95",
   "metadata": {
    "id": "42c782d5-6f33-47c3-9a81-4df513be9f95",
    "outputId": "bbb0815f-8abe-44ba-a95a-daa8f7e4f1b2",
    "tags": []
   },
   "outputs": [
    {
     "name": "stderr",
     "output_type": "stream",
     "text": [
      "OllamaEmbeddings: 100%|██████████████████████████████████████████████████████████████████| 1/1 [00:03<00:00,  3.67s/it]\n",
      "OllamaEmbeddings: 100%|██████████████████████████████████████████████████████████████████| 1/1 [00:02<00:00,  2.04s/it]\n",
      "OllamaEmbeddings: 100%|██████████████████████████████████████████████████████████████████| 1/1 [00:02<00:00,  2.04s/it]\n",
      "OllamaEmbeddings: 100%|██████████████████████████████████████████████████████████████████| 1/1 [00:02<00:00,  2.11s/it]\n",
      "OllamaEmbeddings: 100%|██████████████████████████████████████████████████████████████████| 1/1 [00:02<00:00,  2.10s/it]\n",
      "OllamaEmbeddings: 100%|██████████████████████████████████████████████████████████████████| 1/1 [00:02<00:00,  2.10s/it]\n"
     ]
    },
    {
     "data": {
      "text/plain": [
       "'According to the text, the advantages of using self-attention in the Transformer model include:\\n\\n* Significantly more parallelization, allowing for faster training times\\n* Ability to reach a new state of the art in translation quality after being trained for as little as twelve hours on eight P100 GPUs\\n* No need to use sequence-aligned RNNs or convolution, making it a more efficient and scalable model\\n\\nAdditionally, self-attention is described as yielding more interpretable models, allowing researchers to inspect attention distributions and understand how individual attention heads learn to perform different tasks.'"
      ]
     },
     "execution_count": 19,
     "metadata": {},
     "output_type": "execute_result"
    }
   ],
   "source": [
    "answer = chain.invoke(\"What are the advantages of using self-attention in the Transformer model?\")\n",
    "answers.append(answer)\n",
    "answer"
   ]
  },
  {
   "cell_type": "markdown",
   "id": "c78b3ca3-2307-4e01-8e62-72c9a536cef5",
   "metadata": {
    "id": "c78b3ca3-2307-4e01-8e62-72c9a536cef5"
   },
   "source": [
    "<b>Question no.8</b><br>\n",
    "Multi-Hop Queries with MultiQueryRetriever: \"How does the Transformer model handle positional information in sequences?\""
   ]
  },
  {
   "cell_type": "code",
   "execution_count": null,
   "id": "532b80aa-4649-40f8-90a8-4d0134f27cac",
   "metadata": {
    "id": "532b80aa-4649-40f8-90a8-4d0134f27cac",
    "outputId": "86ddd9ca-4961-4d49-dcb3-44591200d4e2",
    "tags": []
   },
   "outputs": [
    {
     "name": "stderr",
     "output_type": "stream",
     "text": [
      "\n",
      "OllamaEmbeddings:   0%|                                                                          | 0/1 [00:00<?, ?it/s]\u001b[A\n",
      "OllamaEmbeddings: 100%|██████████████████████████████████████████████████████████████████| 1/1 [00:03<00:00,  3.92s/it]\u001b[A\n",
      "\n",
      "OllamaEmbeddings:   0%|                                                                          | 0/1 [00:00<?, ?it/s]\u001b[A\n",
      "OllamaEmbeddings: 100%|██████████████████████████████████████████████████████████████████| 1/1 [00:02<00:00,  2.06s/it]\u001b[A\n",
      "\n",
      "OllamaEmbeddings:   0%|                                                                          | 0/1 [00:00<?, ?it/s]\u001b[A\n",
      "OllamaEmbeddings: 100%|██████████████████████████████████████████████████████████████████| 1/1 [00:02<00:00,  2.05s/it]\u001b[A\n",
      "\n",
      "OllamaEmbeddings:   0%|                                                                          | 0/1 [00:00<?, ?it/s]\u001b[A\n",
      "OllamaEmbeddings: 100%|██████████████████████████████████████████████████████████████████| 1/1 [00:02<00:00,  2.08s/it]\u001b[A\n",
      "\n",
      "OllamaEmbeddings:   0%|                                                                          | 0/1 [00:00<?, ?it/s]\u001b[A\n",
      "OllamaEmbeddings: 100%|██████████████████████████████████████████████████████████████████| 1/1 [00:02<00:00,  2.09s/it]\u001b[A\n",
      "\n",
      "OllamaEmbeddings:   0%|                                                                          | 0/1 [00:00<?, ?it/s]\u001b[A\n",
      "OllamaEmbeddings: 100%|██████████████████████████████████████████████████████████████████| 1/1 [00:02<00:00,  2.09s/it]\u001b[A\n"
     ]
    }
   ],
   "source": [
    "content = []\n",
    "retrieval = retriever.invoke(\"How does the Transformer model handle positional information in sequences?\")\n",
    "\n",
    "for item in retrieval:\n",
    "    content.append(item.page_content)\n",
    "contexts.append(content)"
   ]
  },
  {
   "cell_type": "code",
   "execution_count": null,
   "id": "21afb707-adcd-44d0-a16e-30c9d130b842",
   "metadata": {
    "id": "21afb707-adcd-44d0-a16e-30c9d130b842",
    "outputId": "f2e6df3e-35b1-4e1e-840c-420bddcfcc3f",
    "tags": []
   },
   "outputs": [
    {
     "name": "stderr",
     "output_type": "stream",
     "text": [
      "OllamaEmbeddings: 100%|██████████████████████████████████████████████████████████████████| 1/1 [00:03<00:00,  3.63s/it]\n",
      "OllamaEmbeddings: 100%|██████████████████████████████████████████████████████████████████| 1/1 [00:02<00:00,  2.06s/it]\n",
      "OllamaEmbeddings: 100%|██████████████████████████████████████████████████████████████████| 1/1 [00:02<00:00,  2.04s/it]\n",
      "OllamaEmbeddings: 100%|██████████████████████████████████████████████████████████████████| 1/1 [00:02<00:00,  2.07s/it]\n",
      "OllamaEmbeddings: 100%|██████████████████████████████████████████████████████████████████| 1/1 [00:02<00:00,  2.11s/it]\n",
      "OllamaEmbeddings: 100%|██████████████████████████████████████████████████████████████████| 1/1 [00:02<00:00,  2.10s/it]\n"
     ]
    },
    {
     "data": {
      "text/plain": [
       "'The Transformer model handles positional information in sequences by injecting positional encodings into the input embeddings at each position. This allows the model to make use of the order of the sequence without relying on recurrence or convolution, which are not used in the Transformer architecture. The positional encodings are added to the input embeddings as a way to provide information about the relative or absolute position of the tokens in the sequence.'"
      ]
     },
     "execution_count": 20,
     "metadata": {},
     "output_type": "execute_result"
    }
   ],
   "source": [
    "answer = chain.invoke(\"How does the Transformer model handle positional information in sequences?\")\n",
    "answers.append(answer)\n",
    "answer"
   ]
  },
  {
   "cell_type": "markdown",
   "id": "3cf6eb99-84ab-4849-aecb-fc1794062464",
   "metadata": {
    "id": "3cf6eb99-84ab-4849-aecb-fc1794062464",
    "tags": []
   },
   "source": [
    "<b>Question no.9</b><br>\n",
    "Multi-Hop Queries with MultiQueryRetriever: \"Explain the regularization techniques used in training the Transformer\""
   ]
  },
  {
   "cell_type": "code",
   "execution_count": null,
   "id": "32fcf7a3-cc00-4f51-8c42-3e7f8e35eb37",
   "metadata": {
    "id": "32fcf7a3-cc00-4f51-8c42-3e7f8e35eb37",
    "outputId": "2af6d7c1-11e1-4cd2-b2be-dd5228c9c3c6",
    "tags": []
   },
   "outputs": [
    {
     "name": "stderr",
     "output_type": "stream",
     "text": [
      "\n",
      "OllamaEmbeddings:   0%|                                                                          | 0/1 [00:00<?, ?it/s]\u001b[A\n",
      "OllamaEmbeddings: 100%|██████████████████████████████████████████████████████████████████| 1/1 [00:03<00:00,  3.94s/it]\u001b[A\n",
      "\n",
      "OllamaEmbeddings:   0%|                                                                          | 0/1 [00:00<?, ?it/s]\u001b[A\n",
      "OllamaEmbeddings: 100%|██████████████████████████████████████████████████████████████████| 1/1 [00:02<00:00,  2.03s/it]\u001b[A\n",
      "\n",
      "OllamaEmbeddings:   0%|                                                                          | 0/1 [00:00<?, ?it/s]\u001b[A\n",
      "OllamaEmbeddings: 100%|██████████████████████████████████████████████████████████████████| 1/1 [00:02<00:00,  2.04s/it]\u001b[A\n",
      "\n",
      "OllamaEmbeddings:   0%|                                                                          | 0/1 [00:00<?, ?it/s]\u001b[A\n",
      "OllamaEmbeddings: 100%|██████████████████████████████████████████████████████████████████| 1/1 [00:02<00:00,  2.08s/it]\u001b[A\n",
      "\n",
      "OllamaEmbeddings:   0%|                                                                          | 0/1 [00:00<?, ?it/s]\u001b[A\n",
      "OllamaEmbeddings: 100%|██████████████████████████████████████████████████████████████████| 1/1 [00:02<00:00,  2.08s/it]\u001b[A\n",
      "\n",
      "OllamaEmbeddings:   0%|                                                                          | 0/1 [00:00<?, ?it/s]\u001b[A\n",
      "OllamaEmbeddings: 100%|██████████████████████████████████████████████████████████████████| 1/1 [00:02<00:00,  2.08s/it]\u001b[A\n"
     ]
    }
   ],
   "source": [
    "content = []\n",
    "retrieval = retriever.invoke(\"Explain the regularization techniques used in training the Transformer\")\n",
    "\n",
    "for item in retrieval:\n",
    "    content.append(item.page_content)\n",
    "contexts.append(content)"
   ]
  },
  {
   "cell_type": "code",
   "execution_count": null,
   "id": "866c12c6-46cd-4f23-964a-f3adff0c470d",
   "metadata": {
    "id": "866c12c6-46cd-4f23-964a-f3adff0c470d",
    "outputId": "93068997-6d17-4313-84e9-d3a5133f2b74",
    "tags": []
   },
   "outputs": [
    {
     "name": "stderr",
     "output_type": "stream",
     "text": [
      "OllamaEmbeddings: 100%|██████████████████████████████████████████████████████████████████| 1/1 [00:03<00:00,  3.94s/it]\n",
      "OllamaEmbeddings: 100%|██████████████████████████████████████████████████████████████████| 1/1 [00:02<00:00,  2.04s/it]\n",
      "OllamaEmbeddings: 100%|██████████████████████████████████████████████████████████████████| 1/1 [00:02<00:00,  2.05s/it]\n",
      "OllamaEmbeddings: 100%|██████████████████████████████████████████████████████████████████| 1/1 [00:02<00:00,  2.10s/it]\n",
      "OllamaEmbeddings: 100%|██████████████████████████████████████████████████████████████████| 1/1 [00:02<00:00,  2.10s/it]\n",
      "OllamaEmbeddings: 100%|██████████████████████████████████████████████████████████████████| 1/1 [00:02<00:00,  2.09s/it]\n"
     ]
    },
    {
     "data": {
      "text/plain": [
       "\"According to Document(metadata={'source': 'Attention-is-all-you-need.pdf'}, page_content='5.4 Regularization'), the Transformer model employs three types of regularization during training:\\n\\n1. Residual Dropout: This involves applying dropout [27] to the output of each sub-layer, before it is added to the sub-layer input and normalized. Additionally, dropout is applied to the sums of the embeddings and the positional encodings in both the encoder and decoder stacks.\\n2. (Implicitly mentioned as a separate regularization technique) The model also uses dropout with a rate of Pdrop = 0.1 for the base model.\\n\\nNote: There are no other regularization techniques explicitly mentioned in this context, so it seems that these two are the only ones used in training the Transformer model.\""
      ]
     },
     "execution_count": 21,
     "metadata": {},
     "output_type": "execute_result"
    }
   ],
   "source": [
    "answer = chain.invoke(\"Explain the regularization techniques used in training the Transformer\")\n",
    "answers.append(answer)\n",
    "answer"
   ]
  },
  {
   "cell_type": "markdown",
   "id": "fe1eb21f-b170-4deb-9473-68f9455b6a0e",
   "metadata": {
    "id": "fe1eb21f-b170-4deb-9473-68f9455b6a0e",
    "tags": []
   },
   "source": [
    "<b>Question no.10</b><br>\n",
    "Multi-Hop Queries with MultiQueryRetriever: \"How do the training schedules differ between the base and big Transformer models?\""
   ]
  },
  {
   "cell_type": "code",
   "execution_count": null,
   "id": "2a7f9f0e-c2f9-4c1b-bb70-51c4e35cb9bc",
   "metadata": {
    "id": "2a7f9f0e-c2f9-4c1b-bb70-51c4e35cb9bc",
    "outputId": "2d508a77-eed5-436f-8b29-280f2714511b",
    "tags": []
   },
   "outputs": [
    {
     "name": "stderr",
     "output_type": "stream",
     "text": [
      "\n",
      "OllamaEmbeddings:   0%|                                                                          | 0/1 [00:00<?, ?it/s]\u001b[A\n",
      "OllamaEmbeddings: 100%|██████████████████████████████████████████████████████████████████| 1/1 [00:03<00:00,  3.65s/it]\u001b[A\n",
      "\n",
      "OllamaEmbeddings:   0%|                                                                          | 0/1 [00:00<?, ?it/s]\u001b[A\n",
      "OllamaEmbeddings: 100%|██████████████████████████████████████████████████████████████████| 1/1 [00:02<00:00,  2.04s/it]\u001b[A\n",
      "\n",
      "OllamaEmbeddings:   0%|                                                                          | 0/1 [00:00<?, ?it/s]\u001b[A\n",
      "OllamaEmbeddings: 100%|██████████████████████████████████████████████████████████████████| 1/1 [00:02<00:00,  2.04s/it]\u001b[A\n",
      "\n",
      "OllamaEmbeddings:   0%|                                                                          | 0/1 [00:00<?, ?it/s]\u001b[A\n",
      "OllamaEmbeddings: 100%|██████████████████████████████████████████████████████████████████| 1/1 [00:02<00:00,  2.10s/it]\u001b[A\n",
      "\n",
      "OllamaEmbeddings:   0%|                                                                          | 0/1 [00:00<?, ?it/s]\u001b[A\n",
      "OllamaEmbeddings: 100%|██████████████████████████████████████████████████████████████████| 1/1 [00:02<00:00,  2.09s/it]\u001b[A\n",
      "\n",
      "OllamaEmbeddings:   0%|                                                                          | 0/1 [00:00<?, ?it/s]\u001b[A\n",
      "OllamaEmbeddings: 100%|██████████████████████████████████████████████████████████████████| 1/1 [00:02<00:00,  2.10s/it]\u001b[A\n"
     ]
    }
   ],
   "source": [
    "content = []\n",
    "retrieval = retriever.invoke(\"How do the training schedules differ between the base and big Transformer models?\")\n",
    "\n",
    "for item in retrieval:\n",
    "    content.append(item.page_content)\n",
    "contexts.append(content)"
   ]
  },
  {
   "cell_type": "code",
   "execution_count": null,
   "id": "2548c8d8-cb38-470a-990f-4de17127af42",
   "metadata": {
    "id": "2548c8d8-cb38-470a-990f-4de17127af42",
    "outputId": "50fe8c3a-d39a-41a3-c915-e16d65e55176",
    "tags": []
   },
   "outputs": [
    {
     "name": "stderr",
     "output_type": "stream",
     "text": [
      "OllamaEmbeddings: 100%|██████████████████████████████████████████████████████████████████| 1/1 [00:03<00:00,  3.65s/it]\n",
      "OllamaEmbeddings: 100%|██████████████████████████████████████████████████████████████████| 1/1 [00:02<00:00,  2.06s/it]\n",
      "OllamaEmbeddings: 100%|██████████████████████████████████████████████████████████████████| 1/1 [00:02<00:00,  2.06s/it]\n",
      "OllamaEmbeddings: 100%|██████████████████████████████████████████████████████████████████| 1/1 [00:02<00:00,  2.07s/it]\n",
      "OllamaEmbeddings: 100%|██████████████████████████████████████████████████████████████████| 1/1 [00:02<00:00,  2.10s/it]\n",
      "OllamaEmbeddings: 100%|██████████████████████████████████████████████████████████████████| 1/1 [00:02<00:00,  2.08s/it]\n"
     ]
    },
    {
     "data": {
      "text/plain": [
       "\"According to Table 2 in the provided text, the main difference in the training schedules between the base and big Transformer models is that the big model (Transformer (big)) took longer to train than the base model, specifically:\\n\\n* On the WMT 2014 English-to-German translation task: The base model's training time is not explicitly stated, but the big model took 3.5 days on 8 P100 GPUs.\\n* On the WMT 2014 English-to-French translation task: There is no mention of a difference in training schedule between the base and big models.\\n\\nIt appears that the main difference lies in the computational resources (number of GPUs) used for the big model, which indicates a potential increase in computing power to train the more complex big Transformer model.\""
      ]
     },
     "execution_count": 23,
     "metadata": {},
     "output_type": "execute_result"
    }
   ],
   "source": [
    "answer = chain.invoke(\"How do the training schedules differ between the base and big Transformer models?\")\n",
    "answers.append(answer)\n",
    "answer"
   ]
  },
  {
   "cell_type": "markdown",
   "id": "1273a57f-1bf1-4116-807d-273eb6f504f8",
   "metadata": {
    "id": "1273a57f-1bf1-4116-807d-273eb6f504f8"
   },
   "source": [
    "<b>Question no.11</b><br>\n",
    "Comparison Queries with MultiQueryRetriever: \"Compare the training efficiency of the Transformer with RNN-based models\""
   ]
  },
  {
   "cell_type": "code",
   "execution_count": null,
   "id": "9487364f-4b6e-4fd7-945f-f1868ecc9b14",
   "metadata": {
    "id": "9487364f-4b6e-4fd7-945f-f1868ecc9b14",
    "outputId": "8233d271-425d-47a1-ed2b-596ab0ec0b47",
    "tags": []
   },
   "outputs": [
    {
     "name": "stderr",
     "output_type": "stream",
     "text": [
      "\n",
      "OllamaEmbeddings:   0%|                                                                          | 0/1 [00:00<?, ?it/s]\u001b[A\n",
      "OllamaEmbeddings: 100%|██████████████████████████████████████████████████████████████████| 1/1 [00:03<00:00,  3.96s/it]\u001b[A\n",
      "\n",
      "OllamaEmbeddings:   0%|                                                                          | 0/1 [00:00<?, ?it/s]\u001b[A\n",
      "OllamaEmbeddings: 100%|██████████████████████████████████████████████████████████████████| 1/1 [00:02<00:00,  2.05s/it]\u001b[A\n",
      "\n",
      "OllamaEmbeddings:   0%|                                                                          | 0/1 [00:00<?, ?it/s]\u001b[A\n",
      "OllamaEmbeddings: 100%|██████████████████████████████████████████████████████████████████| 1/1 [00:02<00:00,  2.03s/it]\u001b[A\n",
      "\n",
      "OllamaEmbeddings:   0%|                                                                          | 0/1 [00:00<?, ?it/s]\u001b[A\n",
      "OllamaEmbeddings: 100%|██████████████████████████████████████████████████████████████████| 1/1 [00:02<00:00,  2.08s/it]\u001b[A\n",
      "\n",
      "OllamaEmbeddings:   0%|                                                                          | 0/1 [00:00<?, ?it/s]\u001b[A\n",
      "OllamaEmbeddings: 100%|██████████████████████████████████████████████████████████████████| 1/1 [00:02<00:00,  2.09s/it]\u001b[A\n",
      "\n",
      "OllamaEmbeddings:   0%|                                                                          | 0/1 [00:00<?, ?it/s]\u001b[A\n",
      "OllamaEmbeddings: 100%|██████████████████████████████████████████████████████████████████| 1/1 [00:02<00:00,  2.07s/it]\u001b[A\n"
     ]
    }
   ],
   "source": [
    "content = []\n",
    "retrieval = retriever.invoke(\"Compare the training efficiency of the Transformer with RNN-based models\")\n",
    "\n",
    "for item in retrieval:\n",
    "    content.append(item.page_content)\n",
    "contexts.append(content)"
   ]
  },
  {
   "cell_type": "code",
   "execution_count": null,
   "id": "50afa6d0-1e65-43e7-9d7d-2bd85e6b0efb",
   "metadata": {
    "id": "50afa6d0-1e65-43e7-9d7d-2bd85e6b0efb",
    "outputId": "bc26d689-92e5-461f-e894-1a39582619f4",
    "tags": []
   },
   "outputs": [
    {
     "name": "stderr",
     "output_type": "stream",
     "text": [
      "OllamaEmbeddings: 100%|██████████████████████████████████████████████████████████████████| 1/1 [00:03<00:00,  3.66s/it]\n",
      "OllamaEmbeddings: 100%|██████████████████████████████████████████████████████████████████| 1/1 [00:02<00:00,  2.03s/it]\n",
      "OllamaEmbeddings: 100%|██████████████████████████████████████████████████████████████████| 1/1 [00:02<00:00,  2.03s/it]\n",
      "OllamaEmbeddings: 100%|██████████████████████████████████████████████████████████████████| 1/1 [00:02<00:00,  2.10s/it]\n",
      "OllamaEmbeddings: 100%|██████████████████████████████████████████████████████████████████| 1/1 [00:02<00:00,  2.09s/it]\n",
      "OllamaEmbeddings: 100%|██████████████████████████████████████████████████████████████████| 1/1 [00:02<00:00,  2.09s/it]\n"
     ]
    },
    {
     "data": {
      "text/plain": [
       "'The Transformer model achieves significantly faster training compared to architectures based on recurrent or convolutional layers. According to Table 2 in the paper, the Transformer requires only a fraction of the training cost (in terms of FLOPs) compared to other state-of-the-art models such as ByteNet, Deep-Att + PosUnk, GNMT + RL, ConvS2S, MoE, and their respective ensembles. Specifically:\\n\\n* On the EN-DE translation task, the Transformer requires 2.3 · 10^19 FLOPs, which is significantly less than the other models:\\n\\t+ ByteNet: 9.6 · 10^18 FLOPs\\n\\t+ Deep-Att + PosUnk: 2.0 · 10^19 FLOPs (similar to Transformer)\\n* On the EN-FR translation task, the Transformer requires 5.1 · 10^19 FLOPs, which is still significantly less than the other models:\\n\\t+ ByteNet: 9.6 · 10^18 FLOPs\\n\\t+ Deep-Att + PosUnk: 2.0 · 10^19 FLOPs (similar to Transformer)\\n\\nThis indicates that the Transformer model can be trained much faster and with less computational resources compared to RNN-based models, making it a more efficient choice for sequence modeling and transduction tasks.'"
      ]
     },
     "execution_count": 24,
     "metadata": {},
     "output_type": "execute_result"
    }
   ],
   "source": [
    "answer = chain.invoke(\"Compare the training efficiency of the Transformer with RNN-based models\")\n",
    "answers.append(answer)\n",
    "answer"
   ]
  },
  {
   "cell_type": "markdown",
   "id": "af44ce41-2a3b-44bf-b38e-35996163941f",
   "metadata": {
    "id": "af44ce41-2a3b-44bf-b38e-35996163941f"
   },
   "source": [
    "<b>Question no.12</b><br>\n",
    "Comparison Queries with MultiQueryRetriever: \"How does the positional encoding in the Transformer differ from other models?\""
   ]
  },
  {
   "cell_type": "code",
   "execution_count": null,
   "id": "b0397e5d-d88c-4216-912d-84902277c598",
   "metadata": {
    "id": "b0397e5d-d88c-4216-912d-84902277c598",
    "outputId": "0c5c34df-cb36-4f5d-b634-71ff03bd63d8",
    "tags": []
   },
   "outputs": [
    {
     "name": "stderr",
     "output_type": "stream",
     "text": [
      "\n",
      "OllamaEmbeddings:   0%|                                                                          | 0/1 [00:00<?, ?it/s]\u001b[A\n",
      "OllamaEmbeddings: 100%|██████████████████████████████████████████████████████████████████| 1/1 [00:03<00:00,  3.72s/it]\u001b[A\n",
      "\n",
      "OllamaEmbeddings:   0%|                                                                          | 0/1 [00:00<?, ?it/s]\u001b[A\n",
      "OllamaEmbeddings: 100%|██████████████████████████████████████████████████████████████████| 1/1 [00:02<00:00,  2.04s/it]\u001b[A\n",
      "\n",
      "OllamaEmbeddings:   0%|                                                                          | 0/1 [00:00<?, ?it/s]\u001b[A\n",
      "OllamaEmbeddings: 100%|██████████████████████████████████████████████████████████████████| 1/1 [00:02<00:00,  2.04s/it]\u001b[A\n",
      "\n",
      "OllamaEmbeddings:   0%|                                                                          | 0/1 [00:00<?, ?it/s]\u001b[A\n",
      "OllamaEmbeddings: 100%|██████████████████████████████████████████████████████████████████| 1/1 [00:02<00:00,  2.08s/it]\u001b[A\n",
      "\n",
      "OllamaEmbeddings:   0%|                                                                          | 0/1 [00:00<?, ?it/s]\u001b[A\n",
      "OllamaEmbeddings: 100%|██████████████████████████████████████████████████████████████████| 1/1 [00:02<00:00,  2.09s/it]\u001b[A\n",
      "\n",
      "OllamaEmbeddings:   0%|                                                                          | 0/1 [00:00<?, ?it/s]\u001b[A\n",
      "OllamaEmbeddings: 100%|██████████████████████████████████████████████████████████████████| 1/1 [00:02<00:00,  2.10s/it]\u001b[A\n"
     ]
    }
   ],
   "source": [
    "content = []\n",
    "retrieval = retriever.invoke(\"How does the positional encoding in the Transformer differ from other models?\")\n",
    "\n",
    "for item in retrieval:\n",
    "    content.append(item.page_content)\n",
    "contexts.append(content)"
   ]
  },
  {
   "cell_type": "code",
   "execution_count": null,
   "id": "2b8c37bb-560b-459a-b555-7d1b6430459e",
   "metadata": {
    "id": "2b8c37bb-560b-459a-b555-7d1b6430459e",
    "outputId": "342919d0-c2c5-4040-d159-5e60b4876234",
    "tags": []
   },
   "outputs": [
    {
     "name": "stderr",
     "output_type": "stream",
     "text": [
      "OllamaEmbeddings: 100%|██████████████████████████████████████████████████████████████████| 1/1 [00:03<00:00,  3.71s/it]\n",
      "OllamaEmbeddings: 100%|██████████████████████████████████████████████████████████████████| 1/1 [00:02<00:00,  2.07s/it]\n",
      "OllamaEmbeddings: 100%|██████████████████████████████████████████████████████████████████| 1/1 [00:02<00:00,  2.06s/it]\n",
      "OllamaEmbeddings: 100%|██████████████████████████████████████████████████████████████████| 1/1 [00:02<00:00,  2.07s/it]\n",
      "OllamaEmbeddings: 100%|██████████████████████████████████████████████████████████████████| 1/1 [00:02<00:00,  2.10s/it]\n",
      "OllamaEmbeddings: 100%|██████████████████████████████████████████████████████████████████| 1/1 [00:02<00:00,  2.09s/it]\n"
     ]
    },
    {
     "data": {
      "text/plain": [
       "'The positional encoding in the Transformer differs from other models by being injected into the input embeddings, as opposed to being computed based on the distance between positions. This is stated in Section 3.5 of \"Attention-is-all-you-need.pdf\", where it says: \"To this end, we add \\'positional encodings\\' to the input embeddings at the input layer\".'"
      ]
     },
     "execution_count": 26,
     "metadata": {},
     "output_type": "execute_result"
    }
   ],
   "source": [
    "answer = chain.invoke(\"How does the positional encoding in the Transformer differ from other models?\")\n",
    "answers.append(answer)\n",
    "answer"
   ]
  },
  {
   "cell_type": "markdown",
   "id": "a8f07e7d-2969-4c2d-a022-0ed08d3a8d01",
   "metadata": {
    "id": "a8f07e7d-2969-4c2d-a022-0ed08d3a8d01"
   },
   "source": [
    "<b>Question no.13</b><br>\n",
    "Comparison Queries with MultiQueryRetriever: \"How does the Transformer handle long-range dependencies compared to convolutional networks?\""
   ]
  },
  {
   "cell_type": "code",
   "execution_count": null,
   "id": "e30a1c1b-0807-46fe-ba6e-af443b3cb5bc",
   "metadata": {
    "id": "e30a1c1b-0807-46fe-ba6e-af443b3cb5bc",
    "outputId": "06915b05-ae13-47cd-bd78-b2afe3f1cc53",
    "tags": []
   },
   "outputs": [
    {
     "name": "stderr",
     "output_type": "stream",
     "text": [
      "\n",
      "OllamaEmbeddings:   0%|                                                                          | 0/1 [00:00<?, ?it/s]\u001b[A\n",
      "OllamaEmbeddings: 100%|██████████████████████████████████████████████████████████████████| 1/1 [00:03<00:00,  3.69s/it]\u001b[A\n",
      "\n",
      "OllamaEmbeddings:   0%|                                                                          | 0/1 [00:00<?, ?it/s]\u001b[A\n",
      "OllamaEmbeddings: 100%|██████████████████████████████████████████████████████████████████| 1/1 [00:02<00:00,  2.06s/it]\u001b[A\n",
      "\n",
      "OllamaEmbeddings:   0%|                                                                          | 0/1 [00:00<?, ?it/s]\u001b[A\n",
      "OllamaEmbeddings: 100%|██████████████████████████████████████████████████████████████████| 1/1 [00:02<00:00,  2.03s/it]\u001b[A\n",
      "\n",
      "OllamaEmbeddings:   0%|                                                                          | 0/1 [00:00<?, ?it/s]\u001b[A\n",
      "OllamaEmbeddings: 100%|██████████████████████████████████████████████████████████████████| 1/1 [00:02<00:00,  2.09s/it]\u001b[A\n",
      "\n",
      "OllamaEmbeddings:   0%|                                                                          | 0/1 [00:00<?, ?it/s]\u001b[A\n",
      "OllamaEmbeddings: 100%|██████████████████████████████████████████████████████████████████| 1/1 [00:02<00:00,  2.08s/it]\u001b[A\n",
      "\n",
      "OllamaEmbeddings:   0%|                                                                          | 0/1 [00:00<?, ?it/s]\u001b[A\n",
      "OllamaEmbeddings: 100%|██████████████████████████████████████████████████████████████████| 1/1 [00:02<00:00,  2.08s/it]\u001b[A\n"
     ]
    }
   ],
   "source": [
    "content = []\n",
    "retrieval = retriever.invoke(\"How does the Transformer handle long-range dependencies compared to convolutional networks?\")\n",
    "\n",
    "for item in retrieval:\n",
    "    content.append(item.page_content)\n",
    "contexts.append(content)"
   ]
  },
  {
   "cell_type": "code",
   "execution_count": null,
   "id": "1d902112-99ad-4b23-b67d-112ec5d3a5c1",
   "metadata": {
    "id": "1d902112-99ad-4b23-b67d-112ec5d3a5c1",
    "outputId": "51405491-1081-4c54-d032-e5e7784024f6",
    "tags": []
   },
   "outputs": [
    {
     "name": "stderr",
     "output_type": "stream",
     "text": [
      "OllamaEmbeddings: 100%|██████████████████████████████████████████████████████████████████| 1/1 [00:03<00:00,  3.91s/it]\n",
      "OllamaEmbeddings: 100%|██████████████████████████████████████████████████████████████████| 1/1 [00:02<00:00,  2.05s/it]\n",
      "OllamaEmbeddings: 100%|██████████████████████████████████████████████████████████████████| 1/1 [00:02<00:00,  2.04s/it]\n",
      "OllamaEmbeddings: 100%|██████████████████████████████████████████████████████████████████| 1/1 [00:02<00:00,  2.08s/it]\n",
      "OllamaEmbeddings: 100%|██████████████████████████████████████████████████████████████████| 1/1 [00:02<00:00,  2.09s/it]\n",
      "OllamaEmbeddings: 100%|██████████████████████████████████████████████████████████████████| 1/1 [00:02<00:00,  2.08s/it]\n"
     ]
    },
    {
     "data": {
      "text/plain": [
       "'The Transformer handles long-range dependencies by using multi-head attention, which allows it to attend over all positions in the input sequence. This is different from convolutional networks, where dependencies are limited to a local window around each position. By attending over the entire sequence, the Transformer can capture longer-range dependencies and make more informed decisions about which information to use.'"
      ]
     },
     "execution_count": 27,
     "metadata": {},
     "output_type": "execute_result"
    }
   ],
   "source": [
    "answer = chain.invoke(\"How does the Transformer handle long-range dependencies compared to convolutional networks?\")\n",
    "answers.append(answer)\n",
    "answer"
   ]
  },
  {
   "cell_type": "markdown",
   "id": "d0af3dea-899c-4c60-81df-5c5b832f5578",
   "metadata": {
    "id": "d0af3dea-899c-4c60-81df-5c5b832f5578"
   },
   "source": [
    "<b>Question no.14</b><br>\n",
    "Simple Queries with MultiQueryRetriever: \"What is the purpose of the positional encoding in the Transformer?\""
   ]
  },
  {
   "cell_type": "code",
   "execution_count": null,
   "id": "c29201e8-189f-4797-b706-0dd0239ba737",
   "metadata": {
    "id": "c29201e8-189f-4797-b706-0dd0239ba737",
    "outputId": "4742b67c-9f0e-46b1-b8a6-a754af9ba8f0",
    "tags": []
   },
   "outputs": [
    {
     "name": "stderr",
     "output_type": "stream",
     "text": [
      "\n",
      "OllamaEmbeddings:   0%|                                                                          | 0/1 [00:00<?, ?it/s]\u001b[A\n",
      "OllamaEmbeddings: 100%|██████████████████████████████████████████████████████████████████| 1/1 [00:03<00:00,  3.66s/it]\u001b[A\n",
      "\n",
      "OllamaEmbeddings:   0%|                                                                          | 0/1 [00:00<?, ?it/s]\u001b[A\n",
      "OllamaEmbeddings: 100%|██████████████████████████████████████████████████████████████████| 1/1 [00:02<00:00,  2.04s/it]\u001b[A\n",
      "\n",
      "OllamaEmbeddings:   0%|                                                                          | 0/1 [00:00<?, ?it/s]\u001b[A\n",
      "OllamaEmbeddings: 100%|██████████████████████████████████████████████████████████████████| 1/1 [00:02<00:00,  2.04s/it]\u001b[A\n",
      "\n",
      "OllamaEmbeddings:   0%|                                                                          | 0/1 [00:00<?, ?it/s]\u001b[A\n",
      "OllamaEmbeddings: 100%|██████████████████████████████████████████████████████████████████| 1/1 [00:02<00:00,  2.08s/it]\u001b[A\n",
      "\n",
      "OllamaEmbeddings:   0%|                                                                          | 0/1 [00:00<?, ?it/s]\u001b[A\n",
      "OllamaEmbeddings: 100%|██████████████████████████████████████████████████████████████████| 1/1 [00:02<00:00,  2.09s/it]\u001b[A\n",
      "\n",
      "OllamaEmbeddings:   0%|                                                                          | 0/1 [00:00<?, ?it/s]\u001b[A\n",
      "OllamaEmbeddings: 100%|██████████████████████████████████████████████████████████████████| 1/1 [00:02<00:00,  2.10s/it]\u001b[A\n"
     ]
    }
   ],
   "source": [
    "content = []\n",
    "retrieval = retriever.invoke(\"What is the purpose of the positional encoding in the Transformer?\")\n",
    "\n",
    "for item in retrieval:\n",
    "    content.append(item.page_content)\n",
    "contexts.append(content)"
   ]
  },
  {
   "cell_type": "code",
   "execution_count": null,
   "id": "bfbf4fe4-d9cb-4af0-bfe4-2de2f42f936c",
   "metadata": {
    "id": "bfbf4fe4-d9cb-4af0-bfe4-2de2f42f936c",
    "outputId": "cc48e08e-a3ba-4ea8-a8c6-e18a8621e241",
    "tags": []
   },
   "outputs": [
    {
     "name": "stderr",
     "output_type": "stream",
     "text": [
      "OllamaEmbeddings: 100%|██████████████████████████████████████████████████████████████████| 1/1 [00:03<00:00,  3.68s/it]\n",
      "OllamaEmbeddings: 100%|██████████████████████████████████████████████████████████████████| 1/1 [00:02<00:00,  2.06s/it]\n",
      "OllamaEmbeddings: 100%|██████████████████████████████████████████████████████████████████| 1/1 [00:02<00:00,  2.05s/it]\n",
      "OllamaEmbeddings: 100%|██████████████████████████████████████████████████████████████████| 1/1 [00:02<00:00,  2.06s/it]\n",
      "OllamaEmbeddings: 100%|██████████████████████████████████████████████████████████████████| 1/1 [00:02<00:00,  2.10s/it]\n",
      "OllamaEmbeddings: 100%|██████████████████████████████████████████████████████████████████| 1/1 [00:02<00:00,  2.09s/it]\n"
     ]
    },
    {
     "data": {
      "text/plain": [
       "'The purpose of the positional encoding in the Transformer is to inject information about the relative or absolute position of tokens in the sequence, since the model contains no recurrence and no convolution. This allows the model to make use of the order of the sequence.'"
      ]
     },
     "execution_count": 28,
     "metadata": {},
     "output_type": "execute_result"
    }
   ],
   "source": [
    "answer = chain.invoke(\"What is the purpose of the positional encoding in the Transformer?\")\n",
    "answers.append(answer)\n",
    "answer"
   ]
  },
  {
   "cell_type": "markdown",
   "id": "15ce9e18-ad27-4bd8-8358-0d1778559c9a",
   "metadata": {
    "id": "15ce9e18-ad27-4bd8-8358-0d1778559c9a"
   },
   "source": [
    "<b>Question no.15</b><br>\n",
    "Simple Queries with MultiQueryRetriever: \"What hardware was used to train the Transformer models?\""
   ]
  },
  {
   "cell_type": "code",
   "execution_count": null,
   "id": "a14f797e-8ac0-4345-9285-917e584e9906",
   "metadata": {
    "id": "a14f797e-8ac0-4345-9285-917e584e9906",
    "outputId": "206eaf45-ef13-4ede-d218-034a2890b670",
    "tags": []
   },
   "outputs": [
    {
     "name": "stderr",
     "output_type": "stream",
     "text": [
      "\n",
      "OllamaEmbeddings:   0%|                                                                          | 0/1 [00:00<?, ?it/s]\u001b[A\n",
      "OllamaEmbeddings: 100%|██████████████████████████████████████████████████████████████████| 1/1 [00:03<00:00,  3.68s/it]\u001b[A\n",
      "\n",
      "OllamaEmbeddings:   0%|                                                                          | 0/1 [00:00<?, ?it/s]\u001b[A\n",
      "OllamaEmbeddings: 100%|██████████████████████████████████████████████████████████████████| 1/1 [00:02<00:00,  2.04s/it]\u001b[A\n",
      "\n",
      "OllamaEmbeddings:   0%|                                                                          | 0/1 [00:00<?, ?it/s]\u001b[A\n",
      "OllamaEmbeddings: 100%|██████████████████████████████████████████████████████████████████| 1/1 [00:02<00:00,  2.05s/it]\u001b[A\n",
      "\n",
      "OllamaEmbeddings:   0%|                                                                          | 0/1 [00:00<?, ?it/s]\u001b[A\n",
      "OllamaEmbeddings: 100%|██████████████████████████████████████████████████████████████████| 1/1 [00:02<00:00,  2.08s/it]\u001b[A\n",
      "\n",
      "OllamaEmbeddings:   0%|                                                                          | 0/1 [00:00<?, ?it/s]\u001b[A\n",
      "OllamaEmbeddings: 100%|██████████████████████████████████████████████████████████████████| 1/1 [00:02<00:00,  2.08s/it]\u001b[A\n",
      "\n",
      "OllamaEmbeddings:   0%|                                                                          | 0/1 [00:00<?, ?it/s]\u001b[A\n",
      "OllamaEmbeddings: 100%|██████████████████████████████████████████████████████████████████| 1/1 [00:02<00:00,  2.08s/it]\u001b[A\n"
     ]
    }
   ],
   "source": [
    "content = []\n",
    "retrieval = retriever.invoke(\"What hardware was used to train the Transformer models?\")\n",
    "\n",
    "for item in retrieval:\n",
    "    content.append(item.page_content)\n",
    "contexts.append(content)"
   ]
  },
  {
   "cell_type": "code",
   "execution_count": null,
   "id": "826d0719-1e1c-4ffd-8e85-033fb1027ea8",
   "metadata": {
    "id": "826d0719-1e1c-4ffd-8e85-033fb1027ea8",
    "outputId": "735ee583-9d39-4ab7-82a2-83c7abc5e53f",
    "tags": []
   },
   "outputs": [
    {
     "name": "stderr",
     "output_type": "stream",
     "text": [
      "OllamaEmbeddings: 100%|██████████████████████████████████████████████████████████████████| 1/1 [00:03<00:00,  3.90s/it]\n",
      "OllamaEmbeddings: 100%|██████████████████████████████████████████████████████████████████| 1/1 [00:02<00:00,  2.06s/it]\n",
      "OllamaEmbeddings: 100%|██████████████████████████████████████████████████████████████████| 1/1 [00:02<00:00,  2.04s/it]\n",
      "OllamaEmbeddings: 100%|██████████████████████████████████████████████████████████████████| 1/1 [00:02<00:00,  2.07s/it]\n",
      "OllamaEmbeddings: 100%|██████████████████████████████████████████████████████████████████| 1/1 [00:02<00:00,  2.09s/it]\n",
      "OllamaEmbeddings: 100%|██████████████████████████████████████████████████████████████████| 1/1 [00:02<00:00,  2.08s/it]\n"
     ]
    },
    {
     "data": {
      "text/plain": [
       "'One machine with 8 NVIDIA P100 GPUs.'"
      ]
     },
     "execution_count": 31,
     "metadata": {},
     "output_type": "execute_result"
    }
   ],
   "source": [
    "answer = chain.invoke(\"What hardware was used to train the Transformer models?\")\n",
    "answers.append(answer)\n",
    "answer"
   ]
  },
  {
   "cell_type": "markdown",
   "id": "f0194c97-736b-4973-85bb-f17dbbdacd59",
   "metadata": {
    "id": "f0194c97-736b-4973-85bb-f17dbbdacd59"
   },
   "source": [
    "<b>Question no.16</b><br>\n",
    "Simple Queries with MultiQueryRetriever: \"How many attention heads are used in the Transformer?\""
   ]
  },
  {
   "cell_type": "code",
   "execution_count": null,
   "id": "39f7f3c2-1332-4226-94c4-fa484b6c45e2",
   "metadata": {
    "id": "39f7f3c2-1332-4226-94c4-fa484b6c45e2",
    "outputId": "d4b18c56-594f-4af3-e407-9fb36c18143a",
    "tags": []
   },
   "outputs": [
    {
     "name": "stderr",
     "output_type": "stream",
     "text": [
      "\n",
      "OllamaEmbeddings:   0%|                                                                          | 0/1 [00:00<?, ?it/s]\u001b[A\n",
      "OllamaEmbeddings: 100%|██████████████████████████████████████████████████████████████████| 1/1 [00:03<00:00,  3.68s/it]\u001b[A\n",
      "\n",
      "OllamaEmbeddings:   0%|                                                                          | 0/1 [00:00<?, ?it/s]\u001b[A\n",
      "OllamaEmbeddings: 100%|██████████████████████████████████████████████████████████████████| 1/1 [00:02<00:00,  2.05s/it]\u001b[A\n",
      "\n",
      "OllamaEmbeddings:   0%|                                                                          | 0/1 [00:00<?, ?it/s]\u001b[A\n",
      "OllamaEmbeddings: 100%|██████████████████████████████████████████████████████████████████| 1/1 [00:02<00:00,  2.05s/it]\u001b[A\n",
      "\n",
      "OllamaEmbeddings:   0%|                                                                          | 0/1 [00:00<?, ?it/s]\u001b[A\n",
      "OllamaEmbeddings: 100%|██████████████████████████████████████████████████████████████████| 1/1 [00:02<00:00,  2.07s/it]\u001b[A\n",
      "\n",
      "OllamaEmbeddings:   0%|                                                                          | 0/1 [00:00<?, ?it/s]\u001b[A\n",
      "OllamaEmbeddings: 100%|██████████████████████████████████████████████████████████████████| 1/1 [00:02<00:00,  2.08s/it]\u001b[A\n",
      "\n",
      "OllamaEmbeddings:   0%|                                                                          | 0/1 [00:00<?, ?it/s]\u001b[A\n",
      "OllamaEmbeddings: 100%|██████████████████████████████████████████████████████████████████| 1/1 [00:02<00:00,  2.09s/it]\u001b[A\n"
     ]
    }
   ],
   "source": [
    "content = []\n",
    "retrieval = retriever.invoke(\"How many attention heads are used in the Transformer?\")\n",
    "\n",
    "for item in retrieval:\n",
    "    content.append(item.page_content)\n",
    "contexts.append(content)"
   ]
  },
  {
   "cell_type": "code",
   "execution_count": null,
   "id": "c5edc4ff-5355-4247-bf72-cac3c029358e",
   "metadata": {
    "id": "c5edc4ff-5355-4247-bf72-cac3c029358e",
    "outputId": "34f05d70-9fbb-4efe-a140-e37fe8cc87dd",
    "tags": []
   },
   "outputs": [
    {
     "name": "stderr",
     "output_type": "stream",
     "text": [
      "OllamaEmbeddings: 100%|██████████████████████████████████████████████████████████████████| 1/1 [00:03<00:00,  3.66s/it]\n",
      "OllamaEmbeddings: 100%|██████████████████████████████████████████████████████████████████| 1/1 [00:02<00:00,  2.04s/it]\n",
      "OllamaEmbeddings: 100%|██████████████████████████████████████████████████████████████████| 1/1 [00:02<00:00,  2.04s/it]\n",
      "OllamaEmbeddings: 100%|██████████████████████████████████████████████████████████████████| 1/1 [00:02<00:00,  2.08s/it]\n",
      "OllamaEmbeddings: 100%|██████████████████████████████████████████████████████████████████| 1/1 [00:02<00:00,  2.08s/it]\n",
      "OllamaEmbeddings: 100%|██████████████████████████████████████████████████████████████████| 1/1 [00:02<00:00,  2.11s/it]\n"
     ]
    },
    {
     "data": {
      "text/plain": [
       "'According to the text, 8 parallel attention layers, or \"heads\", are employed in the Transformer. This is stated in section 3.2.3 of the document.'"
      ]
     },
     "execution_count": 33,
     "metadata": {},
     "output_type": "execute_result"
    }
   ],
   "source": [
    "answer = chain.invoke(\"How many attention heads are used in the Transformer?\")\n",
    "answers.append(answer)\n",
    "answer"
   ]
  },
  {
   "cell_type": "markdown",
   "id": "4f6c8ffe-a43c-49eb-8bd3-b94402cd8e1d",
   "metadata": {
    "id": "4f6c8ffe-a43c-49eb-8bd3-b94402cd8e1d"
   },
   "source": [
    "<b>Question no.17</b><br>\n",
    "Simple Queries with MultiQueryRetriever: \"What is the main challenge that self-attention addresses in sequence modeling?\""
   ]
  },
  {
   "cell_type": "code",
   "execution_count": null,
   "id": "17183999-87ae-40b7-8f9f-f9e42cf41c05",
   "metadata": {
    "id": "17183999-87ae-40b7-8f9f-f9e42cf41c05",
    "outputId": "4f4a9d2d-26a5-4f4f-ffbd-80c550d785b3",
    "tags": []
   },
   "outputs": [
    {
     "name": "stderr",
     "output_type": "stream",
     "text": [
      "\n",
      "OllamaEmbeddings:   0%|                                                                          | 0/1 [00:00<?, ?it/s]\u001b[A\n",
      "OllamaEmbeddings: 100%|██████████████████████████████████████████████████████████████████| 1/1 [00:03<00:00,  3.67s/it]\u001b[A\n",
      "\n",
      "OllamaEmbeddings:   0%|                                                                          | 0/1 [00:00<?, ?it/s]\u001b[A\n",
      "OllamaEmbeddings: 100%|██████████████████████████████████████████████████████████████████| 1/1 [00:02<00:00,  2.04s/it]\u001b[A\n",
      "\n",
      "OllamaEmbeddings:   0%|                                                                          | 0/1 [00:00<?, ?it/s]\u001b[A\n",
      "OllamaEmbeddings: 100%|██████████████████████████████████████████████████████████████████| 1/1 [00:02<00:00,  2.03s/it]\u001b[A\n",
      "\n",
      "OllamaEmbeddings:   0%|                                                                          | 0/1 [00:00<?, ?it/s]\u001b[A\n",
      "OllamaEmbeddings: 100%|██████████████████████████████████████████████████████████████████| 1/1 [00:02<00:00,  2.09s/it]\u001b[A\n",
      "\n",
      "OllamaEmbeddings:   0%|                                                                          | 0/1 [00:00<?, ?it/s]\u001b[A\n",
      "OllamaEmbeddings: 100%|██████████████████████████████████████████████████████████████████| 1/1 [00:02<00:00,  2.11s/it]\u001b[A\n",
      "\n",
      "OllamaEmbeddings:   0%|                                                                          | 0/1 [00:00<?, ?it/s]\u001b[A\n",
      "OllamaEmbeddings: 100%|██████████████████████████████████████████████████████████████████| 1/1 [00:02<00:00,  2.11s/it]\u001b[A\n",
      "\n",
      "OllamaEmbeddings:   0%|                                                                          | 0/1 [00:00<?, ?it/s]\u001b[A\n",
      "OllamaEmbeddings: 100%|██████████████████████████████████████████████████████████████████| 1/1 [00:02<00:00,  2.10s/it]\u001b[A\n",
      "\n",
      "OllamaEmbeddings:   0%|                                                                          | 0/1 [00:00<?, ?it/s]\u001b[A\n",
      "OllamaEmbeddings: 100%|██████████████████████████████████████████████████████████████████| 1/1 [00:02<00:00,  2.08s/it]\u001b[A\n",
      "\n",
      "OllamaEmbeddings:   0%|                                                                          | 0/1 [00:00<?, ?it/s]\u001b[A\n",
      "OllamaEmbeddings: 100%|██████████████████████████████████████████████████████████████████| 1/1 [00:02<00:00,  2.08s/it]\u001b[A\n",
      "\n",
      "OllamaEmbeddings:   0%|                                                                          | 0/1 [00:00<?, ?it/s]\u001b[A\n",
      "OllamaEmbeddings: 100%|██████████████████████████████████████████████████████████████████| 1/1 [00:02<00:00,  2.10s/it]\u001b[A\n",
      "\n",
      "OllamaEmbeddings:   0%|                                                                          | 0/1 [00:00<?, ?it/s]\u001b[A\n",
      "OllamaEmbeddings: 100%|██████████████████████████████████████████████████████████████████| 1/1 [00:02<00:00,  2.10s/it]\u001b[A\n"
     ]
    }
   ],
   "source": [
    "content = []\n",
    "retrieval = retriever.invoke(\"What is the main challenge that self-attention addresses in sequence modeling?\")\n",
    "\n",
    "for item in retrieval:\n",
    "    content.append(item.page_content)\n",
    "contexts.append(content)"
   ]
  },
  {
   "cell_type": "code",
   "execution_count": null,
   "id": "50be9519-7257-40cb-a6bf-ffc7c02c82bd",
   "metadata": {
    "id": "50be9519-7257-40cb-a6bf-ffc7c02c82bd",
    "outputId": "3ed6f8c9-90df-4d8f-a19e-ce2458a16261",
    "tags": []
   },
   "outputs": [
    {
     "name": "stderr",
     "output_type": "stream",
     "text": [
      "OllamaEmbeddings: 100%|██████████████████████████████████████████████████████████████████| 1/1 [00:03<00:00,  3.91s/it]\n",
      "OllamaEmbeddings: 100%|██████████████████████████████████████████████████████████████████| 1/1 [00:02<00:00,  2.07s/it]\n",
      "OllamaEmbeddings: 100%|██████████████████████████████████████████████████████████████████| 1/1 [00:02<00:00,  2.03s/it]\n",
      "OllamaEmbeddings: 100%|██████████████████████████████████████████████████████████████████| 1/1 [00:02<00:00,  2.08s/it]\n",
      "OllamaEmbeddings: 100%|██████████████████████████████████████████████████████████████████| 1/1 [00:02<00:00,  2.09s/it]\n",
      "OllamaEmbeddings: 100%|██████████████████████████████████████████████████████████████████| 1/1 [00:02<00:00,  2.08s/it]\n"
     ]
    },
    {
     "data": {
      "text/plain": [
       "\"The main challenge that self-attention addresses in sequence modeling is the need for a mechanism that can relate different positions of a single sequence, without requiring sequential operations or recurrence. This is stated explicitly in Document 8 (metadata={'source': 'Attention-is-all-you-need.pdf'}, page_content='...As noted in Table 1, a self-attention layer connects all positions with a constant number of sequentially executed operations, whereas a recurrent layer requires O(n) sequential operations.')\""
      ]
     },
     "execution_count": 34,
     "metadata": {},
     "output_type": "execute_result"
    }
   ],
   "source": [
    "answer = chain.invoke(\"What is the main challenge that self-attention addresses in sequence modeling?\")\n",
    "answers.append(answer)\n",
    "answer"
   ]
  },
  {
   "cell_type": "markdown",
   "id": "a7726f3f-b41c-4612-8b5d-e4b72230e8e7",
   "metadata": {
    "id": "a7726f3f-b41c-4612-8b5d-e4b72230e8e7",
    "tags": []
   },
   "source": [
    "<b>Question no.18</b><br>\n",
    "Complex Queries with MultiQueryRetriever: \"What is the effect of using multi-head attention as shown in the paper?\""
   ]
  },
  {
   "cell_type": "code",
   "execution_count": null,
   "id": "d48c9295-6685-477a-b51e-d4a6150afbd5",
   "metadata": {
    "id": "d48c9295-6685-477a-b51e-d4a6150afbd5",
    "outputId": "1e2104b6-b644-411c-a0ab-8dfa3e1caa45",
    "tags": []
   },
   "outputs": [
    {
     "name": "stderr",
     "output_type": "stream",
     "text": [
      "\n",
      "OllamaEmbeddings:   0%|                                                                          | 0/1 [00:00<?, ?it/s]\u001b[A\n",
      "OllamaEmbeddings: 100%|██████████████████████████████████████████████████████████████████| 1/1 [00:03<00:00,  3.64s/it]\u001b[A\n",
      "\n",
      "OllamaEmbeddings:   0%|                                                                          | 0/1 [00:00<?, ?it/s]\u001b[A\n",
      "OllamaEmbeddings: 100%|██████████████████████████████████████████████████████████████████| 1/1 [00:02<00:00,  2.04s/it]\u001b[A\n",
      "\n",
      "OllamaEmbeddings:   0%|                                                                          | 0/1 [00:00<?, ?it/s]\u001b[A\n",
      "OllamaEmbeddings: 100%|██████████████████████████████████████████████████████████████████| 1/1 [00:02<00:00,  2.03s/it]\u001b[A\n",
      "\n",
      "OllamaEmbeddings:   0%|                                                                          | 0/1 [00:00<?, ?it/s]\u001b[A\n",
      "OllamaEmbeddings: 100%|██████████████████████████████████████████████████████████████████| 1/1 [00:02<00:00,  2.08s/it]\u001b[A\n",
      "\n",
      "OllamaEmbeddings:   0%|                                                                          | 0/1 [00:00<?, ?it/s]\u001b[A\n",
      "OllamaEmbeddings: 100%|██████████████████████████████████████████████████████████████████| 1/1 [00:02<00:00,  2.07s/it]\u001b[A\n",
      "\n",
      "OllamaEmbeddings:   0%|                                                                          | 0/1 [00:00<?, ?it/s]\u001b[A\n",
      "OllamaEmbeddings: 100%|██████████████████████████████████████████████████████████████████| 1/1 [00:02<00:00,  2.09s/it]\u001b[A\n"
     ]
    }
   ],
   "source": [
    "content = []\n",
    "retrieval = retriever.invoke(\"What is the effect of using multi-head attention as shown in the paper?\")\n",
    "\n",
    "for item in retrieval:\n",
    "    content.append(item.page_content)\n",
    "contexts.append(content)"
   ]
  },
  {
   "cell_type": "code",
   "execution_count": null,
   "id": "d3c2c4aa-f2ff-4138-bf03-2c9c285ec8d7",
   "metadata": {
    "id": "d3c2c4aa-f2ff-4138-bf03-2c9c285ec8d7",
    "outputId": "00c1c8a9-0b0a-410b-c809-0440aec3e768",
    "tags": []
   },
   "outputs": [
    {
     "name": "stderr",
     "output_type": "stream",
     "text": [
      "OllamaEmbeddings: 100%|██████████████████████████████████████████████████████████████████| 1/1 [00:03<00:00,  3.69s/it]\n",
      "OllamaEmbeddings: 100%|██████████████████████████████████████████████████████████████████| 1/1 [00:02<00:00,  2.03s/it]\n",
      "OllamaEmbeddings: 100%|██████████████████████████████████████████████████████████████████| 1/1 [00:02<00:00,  2.05s/it]\n",
      "OllamaEmbeddings: 100%|██████████████████████████████████████████████████████████████████| 1/1 [00:02<00:00,  2.08s/it]\n",
      "OllamaEmbeddings: 100%|██████████████████████████████████████████████████████████████████| 1/1 [00:02<00:00,  2.09s/it]\n",
      "OllamaEmbeddings: 100%|██████████████████████████████████████████████████████████████████| 1/1 [00:02<00:00,  2.09s/it]\n"
     ]
    },
    {
     "data": {
      "text/plain": [
       "'According to the text, the use of multi-head attention has two effects:\\n\\n1. It reduces the effective resolution due to averaging attention-weighted positions, but this effect is counteracted by the multi-head attention mechanism itself.\\n2. As a side benefit, self-attention with multi-head attention can yield more interpretable models, as individual attention heads learn to perform different tasks and may exhibit behavior related to syntactic and semantic structure of sentences.\\n\\nOverall, the use of multi-head attention appears to be beneficial for improving the performance and interpretability of the model.'"
      ]
     },
     "execution_count": 35,
     "metadata": {},
     "output_type": "execute_result"
    }
   ],
   "source": [
    "answer = chain.invoke(\"What is the effect of using multi-head attention as shown in the paper?\")\n",
    "answers.append(answer)\n",
    "answer"
   ]
  },
  {
   "cell_type": "markdown",
   "id": "b7d910c8-6001-408b-b7d9-99f64ae3791a",
   "metadata": {
    "id": "b7d910c8-6001-408b-b7d9-99f64ae3791a"
   },
   "source": [
    "<b>Question no.19</b><br>\n",
    "Complex Queries with MultiQueryRetriever: \"Describe the key components of the Transformer's encoder and decoder stacks\""
   ]
  },
  {
   "cell_type": "code",
   "execution_count": null,
   "id": "28d08e6a-a82d-485d-8e06-fcc73642c3ab",
   "metadata": {
    "id": "28d08e6a-a82d-485d-8e06-fcc73642c3ab",
    "outputId": "e0de9c9e-dec1-44a4-c195-4d75028246d2",
    "tags": []
   },
   "outputs": [
    {
     "name": "stderr",
     "output_type": "stream",
     "text": [
      "\n",
      "OllamaEmbeddings:   0%|                                                                          | 0/1 [00:00<?, ?it/s]\u001b[A\n",
      "OllamaEmbeddings: 100%|██████████████████████████████████████████████████████████████████| 1/1 [00:03<00:00,  3.95s/it]\u001b[A\n",
      "\n",
      "OllamaEmbeddings:   0%|                                                                          | 0/1 [00:00<?, ?it/s]\u001b[A\n",
      "OllamaEmbeddings: 100%|██████████████████████████████████████████████████████████████████| 1/1 [00:02<00:00,  2.04s/it]\u001b[A\n",
      "\n",
      "OllamaEmbeddings:   0%|                                                                          | 0/1 [00:00<?, ?it/s]\u001b[A\n",
      "OllamaEmbeddings: 100%|██████████████████████████████████████████████████████████████████| 1/1 [00:02<00:00,  2.05s/it]\u001b[A\n",
      "\n",
      "OllamaEmbeddings:   0%|                                                                          | 0/1 [00:00<?, ?it/s]\u001b[A\n",
      "OllamaEmbeddings: 100%|██████████████████████████████████████████████████████████████████| 1/1 [00:02<00:00,  2.10s/it]\u001b[A\n",
      "\n",
      "OllamaEmbeddings:   0%|                                                                          | 0/1 [00:00<?, ?it/s]\u001b[A\n",
      "OllamaEmbeddings: 100%|██████████████████████████████████████████████████████████████████| 1/1 [00:02<00:00,  2.09s/it]\u001b[A\n",
      "\n",
      "OllamaEmbeddings:   0%|                                                                          | 0/1 [00:00<?, ?it/s]\u001b[A\n",
      "OllamaEmbeddings: 100%|██████████████████████████████████████████████████████████████████| 1/1 [00:02<00:00,  2.08s/it]\u001b[A\n"
     ]
    }
   ],
   "source": [
    "content = []\n",
    "retrieval = retriever.invoke(\"Describe the key components of the Transformer's encoder and decoder stacks\")\n",
    "\n",
    "for item in retrieval:\n",
    "    content.append(item.page_content)\n",
    "contexts.append(content)"
   ]
  },
  {
   "cell_type": "code",
   "execution_count": null,
   "id": "3ea1eabf-3bb0-4b45-b30a-ed30656b35ef",
   "metadata": {
    "id": "3ea1eabf-3bb0-4b45-b30a-ed30656b35ef",
    "outputId": "01472b61-efcd-4261-fdb7-e0779e7cacd3",
    "tags": []
   },
   "outputs": [
    {
     "name": "stderr",
     "output_type": "stream",
     "text": [
      "OllamaEmbeddings: 100%|██████████████████████████████████████████████████████████████████| 1/1 [00:03<00:00,  3.69s/it]\n",
      "OllamaEmbeddings: 100%|██████████████████████████████████████████████████████████████████| 1/1 [00:02<00:00,  2.05s/it]\n",
      "OllamaEmbeddings: 100%|██████████████████████████████████████████████████████████████████| 1/1 [00:02<00:00,  2.04s/it]\n",
      "OllamaEmbeddings: 100%|██████████████████████████████████████████████████████████████████| 1/1 [00:02<00:00,  2.06s/it]\n",
      "OllamaEmbeddings: 100%|██████████████████████████████████████████████████████████████████| 1/1 [00:02<00:00,  2.11s/it]\n",
      "OllamaEmbeddings: 100%|██████████████████████████████████████████████████████████████████| 1/1 [00:02<00:00,  2.10s/it]\n",
      "OllamaEmbeddings: 100%|██████████████████████████████████████████████████████████████████| 1/1 [00:02<00:00,  2.12s/it]\n",
      "OllamaEmbeddings: 100%|██████████████████████████████████████████████████████████████████| 1/1 [00:02<00:00,  2.09s/it]\n",
      "OllamaEmbeddings: 100%|██████████████████████████████████████████████████████████████████| 1/1 [00:02<00:00,  2.09s/it]\n",
      "OllamaEmbeddings: 100%|██████████████████████████████████████████████████████████████████| 1/1 [00:02<00:00,  2.10s/it]\n",
      "OllamaEmbeddings: 100%|██████████████████████████████████████████████████████████████████| 1/1 [00:02<00:00,  2.10s/it]\n"
     ]
    },
    {
     "data": {
      "text/plain": [
       "\"The Transformer's encoder and decoder stacks consist of two sub-layers:\\n\\n1. **Self-Attention Mechanism**: This mechanism allows the model to attend to all positions in the input sequence simultaneously and weigh their importance. It is applied multiple times with different representations, allowing the model to model complex interactions between different parts of the sequence.\\n\\n2. **Position-wise Feed-Forward Networks (FFN)**: In addition to self-attention, each layer also includes a position-wise fully connected feed-forward network. This consists of two linear transformations with a ReLU activation in between. The FFN is applied separately to each position and identically across different positions.\\n\\nBoth sub-layers are followed by residual connections and layer normalization to facilitate the information flow and improve training stability.\\n\\nIt's worth noting that the self-attention mechanism has some modifications inside, such as masking out (setting to −∞) all values in the input of the softmax which correspond to illegal connections, to preserve the auto-regressive property.\""
      ]
     },
     "execution_count": 36,
     "metadata": {},
     "output_type": "execute_result"
    }
   ],
   "source": [
    "answer = chain.invoke(\"Describe the key components of the Transformer's encoder and decoder stacks\")\n",
    "answers.append(answer)\n",
    "answer"
   ]
  },
  {
   "cell_type": "markdown",
   "id": "ff19eead-e804-47ba-b31a-8f2f96606ff9",
   "metadata": {
    "id": "ff19eead-e804-47ba-b31a-8f2f96606ff9",
    "tags": []
   },
   "source": [
    "<b>Question no.20</b><br>\n",
    "Simple Queries with MultiQueryRetriever: \"What training data was used for the Transformer model?\""
   ]
  },
  {
   "cell_type": "code",
   "execution_count": null,
   "id": "e26410ee-0936-4c89-a37f-20287d67dca7",
   "metadata": {
    "id": "e26410ee-0936-4c89-a37f-20287d67dca7",
    "outputId": "66d7fecb-a759-4523-fd84-2423c59fed9f",
    "tags": []
   },
   "outputs": [
    {
     "name": "stderr",
     "output_type": "stream",
     "text": [
      "\n",
      "OllamaEmbeddings:   0%|                                                                          | 0/1 [00:00<?, ?it/s]\u001b[A\n",
      "OllamaEmbeddings: 100%|██████████████████████████████████████████████████████████████████| 1/1 [00:03<00:00,  3.92s/it]\u001b[A\n",
      "\n",
      "OllamaEmbeddings:   0%|                                                                          | 0/1 [00:00<?, ?it/s]\u001b[A\n",
      "OllamaEmbeddings: 100%|██████████████████████████████████████████████████████████████████| 1/1 [00:02<00:00,  2.06s/it]\u001b[A\n",
      "\n",
      "OllamaEmbeddings:   0%|                                                                          | 0/1 [00:00<?, ?it/s]\u001b[A\n",
      "OllamaEmbeddings: 100%|██████████████████████████████████████████████████████████████████| 1/1 [00:02<00:00,  2.07s/it]\u001b[A\n",
      "\n",
      "OllamaEmbeddings:   0%|                                                                          | 0/1 [00:00<?, ?it/s]\u001b[A\n",
      "OllamaEmbeddings: 100%|██████████████████████████████████████████████████████████████████| 1/1 [00:02<00:00,  2.09s/it]\u001b[A\n",
      "\n",
      "OllamaEmbeddings:   0%|                                                                          | 0/1 [00:00<?, ?it/s]\u001b[A\n",
      "OllamaEmbeddings: 100%|██████████████████████████████████████████████████████████████████| 1/1 [00:02<00:00,  2.09s/it]\u001b[A\n",
      "\n",
      "OllamaEmbeddings:   0%|                                                                          | 0/1 [00:00<?, ?it/s]\u001b[A\n",
      "OllamaEmbeddings: 100%|██████████████████████████████████████████████████████████████████| 1/1 [00:02<00:00,  2.09s/it]\u001b[A\n"
     ]
    }
   ],
   "source": [
    "content = []\n",
    "retrieval = retriever.invoke(\"What training data was used for the Transformer model?\")\n",
    "\n",
    "for item in retrieval:\n",
    "    content.append(item.page_content)\n",
    "contexts.append(content)"
   ]
  },
  {
   "cell_type": "code",
   "execution_count": null,
   "id": "8a187e46-53c2-45e9-8619-55f682c611e0",
   "metadata": {
    "id": "8a187e46-53c2-45e9-8619-55f682c611e0",
    "outputId": "96268096-856b-4ef6-fb06-231ba963c830",
    "tags": []
   },
   "outputs": [
    {
     "name": "stderr",
     "output_type": "stream",
     "text": [
      "OllamaEmbeddings: 100%|██████████████████████████████████████████████████████████████████| 1/1 [00:03<00:00,  3.71s/it]\n",
      "OllamaEmbeddings: 100%|██████████████████████████████████████████████████████████████████| 1/1 [00:02<00:00,  2.05s/it]\n",
      "OllamaEmbeddings: 100%|██████████████████████████████████████████████████████████████████| 1/1 [00:02<00:00,  2.05s/it]\n",
      "OllamaEmbeddings: 100%|██████████████████████████████████████████████████████████████████| 1/1 [00:02<00:00,  2.08s/it]\n",
      "OllamaEmbeddings: 100%|██████████████████████████████████████████████████████████████████| 1/1 [00:02<00:00,  2.10s/it]\n",
      "OllamaEmbeddings: 100%|██████████████████████████████████████████████████████████████████| 1/1 [00:02<00:00,  2.10s/it]\n"
     ]
    },
    {
     "data": {
      "text/plain": [
       "'The WMT 2014 English-German dataset consisting of about 4.5 million sentence pairs was used for training the Transformer model. For the English-French task, the WMT 2014 English-French dataset consisting of 36M sentences was used.'"
      ]
     },
     "execution_count": 38,
     "metadata": {},
     "output_type": "execute_result"
    }
   ],
   "source": [
    "answer = chain.invoke(\"What training data was used for the Transformer model?\")\n",
    "answers.append(answer)\n",
    "answer"
   ]
  },
  {
   "cell_type": "markdown",
   "id": "35157cb1-af7a-44da-909c-b9665c9116b1",
   "metadata": {
    "id": "35157cb1-af7a-44da-909c-b9665c9116b1"
   },
   "source": [
    "### 5. Evaluation\n",
    "Here we will be using RAGAS evaluation metrics for evaluating RAG results.<br>\n",
    "There are several RAGAS metrics:<br>\n",
    "1. Faithfullness: Faithfulness measures how factually consistent the generated answer is with the provided context. It ensures that the claims made in the answer can be directly inferred from the given context. A faithful answer means that all statements in the answer are supported by the context.<br>(Example: If the context states that \"Einstein was born on March 14, 1879,\" an answer saying he was born on March 20, 1879, would have low faithfulness.)<br>\n",
    "2. Answer Relevancy: This metric assesses how relevant the generated answer is to the original question. It focuses on whether the answer addresses the query directly and avoids unnecessary or unrelated information. Relevance is often measured by generating variations of the question based on the answer and comparing them to the original question using cosine similarity.<br>(Example: For a question asking \"What is the capital of France?\", an answer stating \"Paris is the capital of France\" is highly relevant, while an answer discussing French cuisine would score lower.).<br>\n",
    "3. Context Precision: Context precision evaluates how accurately the retrieved context provides the necessary information to answer the question. It measures whether the relevant information is ranked higher among the retrieved documents, focusing on the signal-to-noise ratio in the retrieval process.<br>(Example: If the context retrieved is directly related to the query without much irrelevant information, the precision is high.).<br>\n",
    "4. Context Recall: Context recall measures how much of the relevant information from the ground truth is included in the retrieved context. It compares the retrieved context with the expected answer to see if all necessary details are captured.<br>(Example: If the ground truth for a question includes multiple details, and the retrieved context covers most of these, the recall would be high.).<br>\n",
    "5. Context Entity Recall: This metric is similar to context recall but focuses specifically on entities mentioned in the context. It checks if the retrieved context includes all the entities that are crucial to answering the question.<br>(Example: If a query is about \"Albert Einstein,\" the context entity recall checks if the retrieved documents mention Einstein.).<br>\n",
    "6. Answer Similarity: Answer similarity assesses how close the generated answer is to the ground truth by comparing the semantic similarity between the two. This metric ensures that even if different words are used, the meaning conveyed is similar.<br>(Example: If the ground truth answer is \"Paris is the capital of France,\" and the generated answer is \"The capital of France is Paris,\" the similarity would be high.).<br>\n",
    "7. Answer Correctness: This metric evaluates the factual correctness of the generated answer by comparing it to the ground truth. It considers both the factuality and the semantic similarity of the answer to ensure it is correct.<br>(Example: If the ground truth states \"Paris is the capital of France,\" and the answer says \"London is the capital of France,\" the correctness would be low.)."
   ]
  },
  {
   "cell_type": "code",
   "execution_count": null,
   "id": "8027e0d7-101a-4823-ae13-e1f89c530c82",
   "metadata": {
    "id": "8027e0d7-101a-4823-ae13-e1f89c530c82",
    "tags": []
   },
   "outputs": [],
   "source": [
    "from ragas import evaluate\n",
    "from ragas.metrics import (\n",
    "    faithfulness,\n",
    "    answer_relevancy,\n",
    "    context_precision,\n",
    "    context_recall,\n",
    "    context_entity_recall,\n",
    "    answer_similarity,\n",
    "    answer_correctness,\n",
    ")\n",
    "from datasets import Dataset\n",
    "\n",
    "d = {\n",
    "    \"question\": queries,\n",
    "    \"answer\": answers,\n",
    "    \"contexts\": contexts,\n",
    "    \"ground_truth\": ground_truths\n",
    "}\n",
    "dataset = Dataset.from_dict(d)"
   ]
  },
  {
   "cell_type": "code",
   "execution_count": null,
   "id": "6174ce12-1e2e-4450-acb8-3485e98574a6",
   "metadata": {
    "id": "6174ce12-1e2e-4450-acb8-3485e98574a6",
    "tags": []
   },
   "outputs": [],
   "source": [
    "score = evaluate(dataset,\n",
    "                 metrics=[faithfulness, answer_relevancy, context_precision, context_recall, context_entity_recall, answer_similarity, answer_correctness],\n",
    "                 llm=ChatOllama(model='llama3.1'),\n",
    "                 embeddings=OllamaEmbeddings(model='nomic-embed-text'))\n",
    "score_df = score.to_pandas()\n",
    "score_df"
   ]
  },
  {
   "cell_type": "markdown",
   "id": "54891b06-8809-4c40-b15e-3384fdedcc92",
   "metadata": {
    "id": "54891b06-8809-4c40-b15e-3384fdedcc92"
   },
   "source": [
    "The evaluation scores can be exported to CSV format if decided"
   ]
  },
  {
   "cell_type": "code",
   "execution_count": null,
   "id": "04b3bd05-85b6-453d-bd32-0300acbc102a",
   "metadata": {
    "id": "04b3bd05-85b6-453d-bd32-0300acbc102a"
   },
   "outputs": [],
   "source": [
    "score_df.to_csv(\"EvaluationScores.csv\", encoding=\"utf-8\", index=False)"
   ]
  },
  {
   "cell_type": "markdown",
   "id": "a39d5c51-d864-45db-afc6-3f5905effddd",
   "metadata": {
    "id": "a39d5c51-d864-45db-afc6-3f5905effddd"
   },
   "source": [
    "### 6. Recommendation\n",
    "From the Evaluation Dataset Creation result, it seems the strategy needs to be improved. As the answers from LLMs there is correct information but also there is some hallucination and over-typing the messages. Also, the Document PDF Loader needs to be improved too, as another approach (Semi-Structurd PDF Loader <a href=\"https://github.com/langchain-ai/langchain/blob/master/cookbook/Semi_Structured_RAG.ipynb\">from here</a>) will be better preprocessing the documents (but i'm facing issues installing Semi-Structued PDF Loader on my machine, so i used `UnstructuredPDFLoader` instead).<br>\n",
    "There are also wide of Retrieval Strategies (<a href=\"https://medium.com/@rajan.sethi36/retrieval-strategies-that-can-be-helpful-in-retrieval-augmented-generation-72e5856112ee\">as shown on this medium blog</a>, <a href=\"https://generativeai.pub/rag-value-chain-retrieval-strategies-in-information-augmentation-for-large-language-models-3a44845e1e26\">and this blog</a>) than only Multi-Query Retrieval alone, it is good to explore all of Retrieval technique for comparing and testing RAG results. Finally the RAGAS evaluation is also needs to be improved on open-source LLMs (as i'm facing issue generating the eval scores)."
   ]
  },
  {
   "cell_type": "code",
   "execution_count": null,
   "id": "2001f36b-70fb-4fa3-a7a0-7e56c13e65ef",
   "metadata": {
    "id": "2001f36b-70fb-4fa3-a7a0-7e56c13e65ef"
   },
   "outputs": [],
   "source": []
  }
 ],
 "metadata": {
  "accelerator": "GPU",
  "colab": {
   "gpuType": "T4",
   "provenance": []
  },
  "kernelspec": {
   "display_name": "Python 3 (ipykernel)",
   "language": "python",
   "name": "python3"
  },
  "language_info": {
   "codemirror_mode": {
    "name": "ipython",
    "version": 3
   },
   "file_extension": ".py",
   "mimetype": "text/x-python",
   "name": "python",
   "nbconvert_exporter": "python",
   "pygments_lexer": "ipython3",
   "version": "3.10.11"
  }
 },
 "nbformat": 4,
 "nbformat_minor": 5
}
